{
  "nbformat": 4,
  "nbformat_minor": 0,
  "metadata": {
    "colab": {
      "name": "LDATopicModeling.ipynb",
      "provenance": [],
      "collapsed_sections": [],
      "machine_shape": "hm",
      "mount_file_id": "1kL5f0iuYg9YNipn74ytavqBuy3GX19yx",
      "authorship_tag": "ABX9TyP+w3/KRbW3DwhE5mbUeFvo",
      "include_colab_link": true
    },
    "kernelspec": {
      "name": "python3",
      "display_name": "Python 3"
    },
    "accelerator": "TPU"
  },
  "cells": [
    {
      "cell_type": "markdown",
      "metadata": {
        "id": "view-in-github",
        "colab_type": "text"
      },
      "source": [
        "<a href=\"https://colab.research.google.com/github/abhilashhn1993/Sentiment_Analysis_of_Tweets/blob/master/LDATopicModeling.ipynb\" target=\"_parent\"><img src=\"https://colab.research.google.com/assets/colab-badge.svg\" alt=\"Open In Colab\"/></a>"
      ]
    },
    {
      "cell_type": "code",
      "metadata": {
        "id": "uwmDAHAdJ2xh",
        "colab_type": "code",
        "outputId": "98add593-c7be-485e-9508-584c5152f474",
        "colab": {
          "base_uri": "https://localhost:8080/",
          "height": 68
        }
      },
      "source": [
        "import nltk; \n",
        "nltk.download('stopwords')"
      ],
      "execution_count": 22,
      "outputs": [
        {
          "output_type": "stream",
          "text": [
            "[nltk_data] Downloading package stopwords to /root/nltk_data...\n",
            "[nltk_data]   Package stopwords is already up-to-date!\n"
          ],
          "name": "stdout"
        },
        {
          "output_type": "execute_result",
          "data": {
            "text/plain": [
              "True"
            ]
          },
          "metadata": {
            "tags": []
          },
          "execution_count": 22
        }
      ]
    },
    {
      "cell_type": "code",
      "metadata": {
        "id": "tD602dH7KV9I",
        "colab_type": "code",
        "outputId": "4054ae8b-ab01-460f-9a15-f8f901d0092c",
        "colab": {
          "base_uri": "https://localhost:8080/",
          "height": 952
        }
      },
      "source": [
        "!pip install spacy\n",
        "!pip install pyLDAvis"
      ],
      "execution_count": 6,
      "outputs": [
        {
          "output_type": "stream",
          "text": [
            "Requirement already satisfied: spacy in /usr/local/lib/python3.6/dist-packages (2.2.4)\n",
            "Requirement already satisfied: catalogue<1.1.0,>=0.0.7 in /usr/local/lib/python3.6/dist-packages (from spacy) (1.0.0)\n",
            "Requirement already satisfied: tqdm<5.0.0,>=4.38.0 in /usr/local/lib/python3.6/dist-packages (from spacy) (4.38.0)\n",
            "Requirement already satisfied: cymem<2.1.0,>=2.0.2 in /usr/local/lib/python3.6/dist-packages (from spacy) (2.0.3)\n",
            "Requirement already satisfied: wasabi<1.1.0,>=0.4.0 in /usr/local/lib/python3.6/dist-packages (from spacy) (0.6.0)\n",
            "Requirement already satisfied: requests<3.0.0,>=2.13.0 in /usr/local/lib/python3.6/dist-packages (from spacy) (2.21.0)\n",
            "Requirement already satisfied: preshed<3.1.0,>=3.0.2 in /usr/local/lib/python3.6/dist-packages (from spacy) (3.0.2)\n",
            "Requirement already satisfied: srsly<1.1.0,>=1.0.2 in /usr/local/lib/python3.6/dist-packages (from spacy) (1.0.2)\n",
            "Requirement already satisfied: setuptools in /usr/local/lib/python3.6/dist-packages (from spacy) (46.1.3)\n",
            "Requirement already satisfied: thinc==7.4.0 in /usr/local/lib/python3.6/dist-packages (from spacy) (7.4.0)\n",
            "Requirement already satisfied: numpy>=1.15.0 in /usr/local/lib/python3.6/dist-packages (from spacy) (1.18.2)\n",
            "Requirement already satisfied: plac<1.2.0,>=0.9.6 in /usr/local/lib/python3.6/dist-packages (from spacy) (1.1.3)\n",
            "Requirement already satisfied: blis<0.5.0,>=0.4.0 in /usr/local/lib/python3.6/dist-packages (from spacy) (0.4.1)\n",
            "Requirement already satisfied: murmurhash<1.1.0,>=0.28.0 in /usr/local/lib/python3.6/dist-packages (from spacy) (1.0.2)\n",
            "Requirement already satisfied: importlib-metadata>=0.20; python_version < \"3.8\" in /usr/local/lib/python3.6/dist-packages (from catalogue<1.1.0,>=0.0.7->spacy) (1.6.0)\n",
            "Requirement already satisfied: certifi>=2017.4.17 in /usr/local/lib/python3.6/dist-packages (from requests<3.0.0,>=2.13.0->spacy) (2020.4.5.1)\n",
            "Requirement already satisfied: chardet<3.1.0,>=3.0.2 in /usr/local/lib/python3.6/dist-packages (from requests<3.0.0,>=2.13.0->spacy) (3.0.4)\n",
            "Requirement already satisfied: urllib3<1.25,>=1.21.1 in /usr/local/lib/python3.6/dist-packages (from requests<3.0.0,>=2.13.0->spacy) (1.24.3)\n",
            "Requirement already satisfied: idna<2.9,>=2.5 in /usr/local/lib/python3.6/dist-packages (from requests<3.0.0,>=2.13.0->spacy) (2.8)\n",
            "Requirement already satisfied: zipp>=0.5 in /usr/local/lib/python3.6/dist-packages (from importlib-metadata>=0.20; python_version < \"3.8\"->catalogue<1.1.0,>=0.0.7->spacy) (3.1.0)\n",
            "Collecting pyLDAvis\n",
            "\u001b[?25l  Downloading https://files.pythonhosted.org/packages/a5/3a/af82e070a8a96e13217c8f362f9a73e82d61ac8fff3a2561946a97f96266/pyLDAvis-2.1.2.tar.gz (1.6MB)\n",
            "\u001b[K     |████████████████████████████████| 1.6MB 2.6MB/s \n",
            "\u001b[?25hRequirement already satisfied: wheel>=0.23.0 in /usr/local/lib/python3.6/dist-packages (from pyLDAvis) (0.34.2)\n",
            "Requirement already satisfied: numpy>=1.9.2 in /usr/local/lib/python3.6/dist-packages (from pyLDAvis) (1.18.2)\n",
            "Requirement already satisfied: scipy>=0.18.0 in /usr/local/lib/python3.6/dist-packages (from pyLDAvis) (1.4.1)\n",
            "Requirement already satisfied: pandas>=0.17.0 in /usr/local/lib/python3.6/dist-packages (from pyLDAvis) (1.0.3)\n",
            "Requirement already satisfied: joblib>=0.8.4 in /usr/local/lib/python3.6/dist-packages (from pyLDAvis) (0.14.1)\n",
            "Requirement already satisfied: jinja2>=2.7.2 in /usr/local/lib/python3.6/dist-packages (from pyLDAvis) (2.11.2)\n",
            "Requirement already satisfied: numexpr in /usr/local/lib/python3.6/dist-packages (from pyLDAvis) (2.7.1)\n",
            "Requirement already satisfied: pytest in /usr/local/lib/python3.6/dist-packages (from pyLDAvis) (3.6.4)\n",
            "Requirement already satisfied: future in /usr/local/lib/python3.6/dist-packages (from pyLDAvis) (0.16.0)\n",
            "Collecting funcy\n",
            "\u001b[?25l  Downloading https://files.pythonhosted.org/packages/ce/4b/6ffa76544e46614123de31574ad95758c421aae391a1764921b8a81e1eae/funcy-1.14.tar.gz (548kB)\n",
            "\u001b[K     |████████████████████████████████| 552kB 12.2MB/s \n",
            "\u001b[?25hRequirement already satisfied: pytz>=2017.2 in /usr/local/lib/python3.6/dist-packages (from pandas>=0.17.0->pyLDAvis) (2018.9)\n",
            "Requirement already satisfied: python-dateutil>=2.6.1 in /usr/local/lib/python3.6/dist-packages (from pandas>=0.17.0->pyLDAvis) (2.8.1)\n",
            "Requirement already satisfied: MarkupSafe>=0.23 in /usr/local/lib/python3.6/dist-packages (from jinja2>=2.7.2->pyLDAvis) (1.1.1)\n",
            "Requirement already satisfied: more-itertools>=4.0.0 in /usr/local/lib/python3.6/dist-packages (from pytest->pyLDAvis) (8.2.0)\n",
            "Requirement already satisfied: atomicwrites>=1.0 in /usr/local/lib/python3.6/dist-packages (from pytest->pyLDAvis) (1.3.0)\n",
            "Requirement already satisfied: setuptools in /usr/local/lib/python3.6/dist-packages (from pytest->pyLDAvis) (46.1.3)\n",
            "Requirement already satisfied: six>=1.10.0 in /usr/local/lib/python3.6/dist-packages (from pytest->pyLDAvis) (1.12.0)\n",
            "Requirement already satisfied: attrs>=17.4.0 in /usr/local/lib/python3.6/dist-packages (from pytest->pyLDAvis) (19.3.0)\n",
            "Requirement already satisfied: py>=1.5.0 in /usr/local/lib/python3.6/dist-packages (from pytest->pyLDAvis) (1.8.1)\n",
            "Requirement already satisfied: pluggy<0.8,>=0.5 in /usr/local/lib/python3.6/dist-packages (from pytest->pyLDAvis) (0.7.1)\n",
            "Building wheels for collected packages: pyLDAvis, funcy\n",
            "  Building wheel for pyLDAvis (setup.py) ... \u001b[?25l\u001b[?25hdone\n",
            "  Created wheel for pyLDAvis: filename=pyLDAvis-2.1.2-py2.py3-none-any.whl size=97711 sha256=f89bd768f1c9a076178bff6301a183d81f2e163186a4f1bd1e339f34e68a5b3d\n",
            "  Stored in directory: /root/.cache/pip/wheels/98/71/24/513a99e58bb6b8465bae4d2d5e9dba8f0bef8179e3051ac414\n",
            "  Building wheel for funcy (setup.py) ... \u001b[?25l\u001b[?25hdone\n",
            "  Created wheel for funcy: filename=funcy-1.14-py2.py3-none-any.whl size=32042 sha256=e227251226bc8d664ac213c566add940f7902abb4645ca183d09ce8386c3a2b3\n",
            "  Stored in directory: /root/.cache/pip/wheels/20/5a/d8/1d875df03deae6f178dfdf70238cca33f948ef8a6f5209f2eb\n",
            "Successfully built pyLDAvis funcy\n",
            "Installing collected packages: funcy, pyLDAvis\n",
            "Successfully installed funcy-1.14 pyLDAvis-2.1.2\n"
          ],
          "name": "stdout"
        }
      ]
    },
    {
      "cell_type": "code",
      "metadata": {
        "id": "LQXdMnw2KXJz",
        "colab_type": "code",
        "colab": {}
      },
      "source": [
        "import re\n",
        "import numpy as np\n",
        "import pandas as pd\n",
        "from pprint import pprint\n",
        "import gensim\n",
        "import gensim.corpora as corpora\n",
        "from gensim.utils import simple_preprocess\n",
        "from gensim.models import CoherenceModel\n",
        "import spacy\n",
        "import pyLDAvis\n",
        "import pyLDAvis.gensim\n",
        "import matplotlib.pyplot as plt\n",
        "%matplotlib inline\n",
        "import logging\n",
        "logging.basicConfig(format='%(asctime)s : %(levelname)s : %(message)s', level=logging.ERROR)\n",
        "import warnings\n",
        "warnings.filterwarnings(\"ignore\",category=DeprecationWarning)"
      ],
      "execution_count": 0,
      "outputs": []
    },
    {
      "cell_type": "code",
      "metadata": {
        "id": "EGktk9HDVa2D",
        "colab_type": "code",
        "outputId": "8d5da95d-88c7-4f3a-9748-0be4f9a3059a",
        "colab": {
          "base_uri": "https://localhost:8080/",
          "height": 68
        }
      },
      "source": [
        "nltk.download('wordnet')"
      ],
      "execution_count": 8,
      "outputs": [
        {
          "output_type": "stream",
          "text": [
            "[nltk_data] Downloading package wordnet to /root/nltk_data...\n",
            "[nltk_data]   Unzipping corpora/wordnet.zip.\n"
          ],
          "name": "stdout"
        },
        {
          "output_type": "execute_result",
          "data": {
            "text/plain": [
              "True"
            ]
          },
          "metadata": {
            "tags": []
          },
          "execution_count": 8
        }
      ]
    },
    {
      "cell_type": "code",
      "metadata": {
        "id": "BBa8g6yjVdiK",
        "colab_type": "code",
        "colab": {}
      },
      "source": [
        "from nltk.corpus import stopwords\n",
        "stop_words = stopwords.words('english')"
      ],
      "execution_count": 0,
      "outputs": []
    },
    {
      "cell_type": "code",
      "metadata": {
        "id": "-g4P8RyAawi6",
        "colab_type": "code",
        "colab": {}
      },
      "source": [
        "#remove been, being, haven't, don't, couldn't, didn't\n",
        "stop_words.remove(\"don't\")\n",
        "stop_words.remove(\"been\")\n",
        "stop_words.remove(\"being\")\n",
        "stop_words.remove(\"haven't\")\n",
        "stop_words.remove(\"couldn't\")\n",
        "stop_words.remove(\"didn't\")"
      ],
      "execution_count": 0,
      "outputs": []
    },
    {
      "cell_type": "code",
      "metadata": {
        "id": "eBwLKdpri4T2",
        "colab_type": "code",
        "colab": {}
      },
      "source": [
        "#Adding Extra Stopwords to be removed from the dataset\n",
        "stop_words.extend(['http', 'https', 'twitter', 'www', 'instagram', 'zsgdbw', 'tmblr', 'co', 'twitch','facebook', 'snapchat'])"
      ],
      "execution_count": 0,
      "outputs": []
    },
    {
      "cell_type": "code",
      "metadata": {
        "id": "BbkSuluWFy1I",
        "colab_type": "code",
        "colab": {
          "base_uri": "https://localhost:8080/",
          "height": 34
        },
        "outputId": "a7f37ef0-da97-41b4-c3b0-cb810836fd37"
      },
      "source": [
        "len(stop_words)"
      ],
      "execution_count": 13,
      "outputs": [
        {
          "output_type": "execute_result",
          "data": {
            "text/plain": [
              "184"
            ]
          },
          "metadata": {
            "tags": []
          },
          "execution_count": 13
        }
      ]
    },
    {
      "cell_type": "code",
      "metadata": {
        "id": "FhTelWhw-wMX",
        "colab_type": "code",
        "colab": {}
      },
      "source": [
        "stop_words.extend(['make','really','see','go','would','even','get','com','be','year','still','do','know','actually','much', 'let','s','have','name','photo'])"
      ],
      "execution_count": 0,
      "outputs": []
    },
    {
      "cell_type": "code",
      "metadata": {
        "id": "1BlXJ3xewZpf",
        "colab_type": "code",
        "colab": {}
      },
      "source": [
        "stop_words.extend(['back','today','day','last','thing','kit','stream','amp'])"
      ],
      "execution_count": 0,
      "outputs": []
    },
    {
      "cell_type": "code",
      "metadata": {
        "id": "E3WCG1mdS_CV",
        "colab_type": "code",
        "colab": {}
      },
      "source": [
        "stop_words.extend(['trinawolfy','trinawolfy','riyenrootsmusic'])"
      ],
      "execution_count": 0,
      "outputs": []
    },
    {
      "cell_type": "code",
      "metadata": {
        "id": "Yon56v-oWPQq",
        "colab_type": "code",
        "colab": {
          "base_uri": "https://localhost:8080/",
          "height": 34
        },
        "outputId": "e18517b3-a906-49d1-e789-45f7b2f76d31"
      },
      "source": [
        "len(stop_words)"
      ],
      "execution_count": 19,
      "outputs": [
        {
          "output_type": "execute_result",
          "data": {
            "text/plain": [
              "226"
            ]
          },
          "metadata": {
            "tags": []
          },
          "execution_count": 19
        }
      ]
    },
    {
      "cell_type": "code",
      "metadata": {
        "id": "uIe4emv11klW",
        "colab_type": "code",
        "colab": {
          "base_uri": "https://localhost:8080/",
          "height": 54
        },
        "outputId": "8bd05b5f-04ed-419d-8e15-21660792aaaf"
      },
      "source": [
        "print(stop_words)"
      ],
      "execution_count": 20,
      "outputs": [
        {
          "output_type": "stream",
          "text": [
            "['i', 'me', 'my', 'myself', 'we', 'our', 'ours', 'ourselves', 'you', \"you're\", \"you've\", \"you'll\", \"you'd\", 'your', 'yours', 'yourself', 'yourselves', 'he', 'him', 'his', 'himself', 'she', \"she's\", 'her', 'hers', 'herself', 'it', \"it's\", 'its', 'itself', 'they', 'them', 'their', 'theirs', 'themselves', 'what', 'which', 'who', 'whom', 'this', 'that', \"that'll\", 'these', 'those', 'am', 'is', 'are', 'was', 'were', 'be', 'have', 'has', 'had', 'having', 'do', 'does', 'did', 'doing', 'a', 'an', 'the', 'and', 'but', 'if', 'or', 'because', 'as', 'until', 'while', 'of', 'at', 'by', 'for', 'with', 'about', 'against', 'between', 'into', 'through', 'during', 'before', 'after', 'above', 'below', 'to', 'from', 'up', 'down', 'in', 'out', 'on', 'off', 'over', 'under', 'again', 'further', 'then', 'once', 'here', 'there', 'when', 'where', 'why', 'how', 'all', 'any', 'both', 'each', 'few', 'more', 'most', 'other', 'some', 'such', 'no', 'nor', 'not', 'only', 'own', 'same', 'so', 'than', 'too', 'very', 's', 't', 'can', 'will', 'just', 'don', 'should', \"should've\", 'now', 'd', 'll', 'm', 'o', 're', 've', 'y', 'ain', 'aren', \"aren't\", 'couldn', 'didn', 'doesn', \"doesn't\", 'hadn', \"hadn't\", 'hasn', \"hasn't\", 'haven', 'isn', \"isn't\", 'ma', 'mightn', \"mightn't\", 'mustn', \"mustn't\", 'needn', \"needn't\", 'shan', \"shan't\", 'shouldn', \"shouldn't\", 'wasn', \"wasn't\", 'weren', \"weren't\", 'won', \"won't\", 'wouldn', \"wouldn't\", 'http', 'https', 'twitter', 'www', 'instagram', 'zsgdbw', 'tmblr', 'co', 'twitch', 'facebook', 'snapchat', 'make', 'really', 'see', 'go', 'would', 'even', 'get', 'com', 'be', 'year', 'still', 'do', 'know', 'actually', 'much', 'let', 's', 'have', 'name', 'photo', 'back', 'today', 'day', 'last', 'thing', 'kit', 'stream', 'amp', 'back', 'today', 'day', 'last', 'thing', 'kit', 'stream', 'amp', 'trinawolfy', 'trinawolfy', 'riyenrootsmusic', 'trinawolfy', 'trinawolfy', 'riyenrootsmusic']\n"
          ],
          "name": "stdout"
        }
      ]
    },
    {
      "cell_type": "code",
      "metadata": {
        "id": "jKQWgzXyK1Tx",
        "colab_type": "code",
        "outputId": "6eb326c2-e4de-4242-a1b5-6ec2ddcb4722",
        "colab": {
          "resources": {
            "http://localhost:8080/nbextensions/google.colab/files.js": {
              "data": "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",
              "ok": true,
              "headers": [
                [
                  "content-type",
                  "application/javascript"
                ]
              ],
              "status": 200,
              "status_text": ""
            }
          },
          "base_uri": "https://localhost:8080/",
          "height": 40
        }
      },
      "source": [
        "from google.colab import files\n",
        "uploaded = files.upload()"
      ],
      "execution_count": 21,
      "outputs": [
        {
          "output_type": "display_data",
          "data": {
            "text/html": [
              "\n",
              "     <input type=\"file\" id=\"files-e262c021-2842-4bab-8a47-38d518a1af37\" name=\"files[]\" multiple disabled />\n",
              "     <output id=\"result-e262c021-2842-4bab-8a47-38d518a1af37\">\n",
              "      Upload widget is only available when the cell has been executed in the\n",
              "      current browser session. Please rerun this cell to enable.\n",
              "      </output>\n",
              "      <script src=\"/nbextensions/google.colab/files.js\"></script> "
            ],
            "text/plain": [
              "<IPython.core.display.HTML object>"
            ]
          },
          "metadata": {
            "tags": []
          }
        }
      ]
    },
    {
      "cell_type": "code",
      "metadata": {
        "id": "xUxzS5LgLC7D",
        "colab_type": "code",
        "colab": {}
      },
      "source": [
        "import io\n",
        "df_post = pd.read_csv(io.BytesIO(uploaded['tweets_PostDiagnosis.csv']))\n",
        "df_pre = pd.read_csv(io.BytesIO(uploaded['tweets_PreDiagnosis.csv']))"
      ],
      "execution_count": 0,
      "outputs": []
    },
    {
      "cell_type": "code",
      "metadata": {
        "id": "QsmOQduOKc7t",
        "colab_type": "code",
        "colab": {}
      },
      "source": [
        "df_post_data = df_post\n",
        "df_pre_data = df_pre"
      ],
      "execution_count": 0,
      "outputs": []
    },
    {
      "cell_type": "code",
      "metadata": {
        "id": "fh634D5yVjY6",
        "colab_type": "code",
        "colab": {}
      },
      "source": [
        "from nltk.corpus import stopwords \n",
        "from nltk.stem.wordnet import WordNetLemmatizer\n",
        "import string\n",
        "\n",
        "stopwords = set(stopwords.words('english'))\n",
        "punctuation = set(string.punctuation) \n",
        "lemmatize = WordNetLemmatizer()\n",
        "\n",
        "def cleaning(article):\n",
        "    one = \" \".join([i for i in article.lower().split() if i not in stopwords])\n",
        "    two = \"\".join(i for i in one if i not in punctuation)\n",
        "    three = \" \".join(lemmatize.lemmatize(i) for i in two.split())\n",
        "    return three"
      ],
      "execution_count": 0,
      "outputs": []
    },
    {
      "cell_type": "code",
      "metadata": {
        "id": "ozYgdLVLVjb3",
        "colab_type": "code",
        "outputId": "fe2f03d8-752a-4e0b-daca-14ed8fc9a1fe",
        "colab": {
          "base_uri": "https://localhost:8080/",
          "height": 197
        }
      },
      "source": [
        "pre_data = df_pre.applymap(cleaning)['Tweets']\n",
        "text_list = [i.split() for i in pre_data]\n",
        "len(text_list)"
      ],
      "execution_count": 82,
      "outputs": [
        {
          "output_type": "error",
          "ename": "NameError",
          "evalue": "ignored",
          "traceback": [
            "\u001b[0;31m---------------------------------------------------------------------------\u001b[0m",
            "\u001b[0;31mNameError\u001b[0m                                 Traceback (most recent call last)",
            "\u001b[0;32m<ipython-input-82-fd2b8d23d398>\u001b[0m in \u001b[0;36m<module>\u001b[0;34m()\u001b[0m\n\u001b[0;32m----> 1\u001b[0;31m \u001b[0mpre_data\u001b[0m \u001b[0;34m=\u001b[0m \u001b[0mdf_pre\u001b[0m\u001b[0;34m.\u001b[0m\u001b[0mapplymap\u001b[0m\u001b[0;34m(\u001b[0m\u001b[0mcleaning\u001b[0m\u001b[0;34m)\u001b[0m\u001b[0;34m[\u001b[0m\u001b[0;34m'Tweets'\u001b[0m\u001b[0;34m]\u001b[0m\u001b[0;34m\u001b[0m\u001b[0;34m\u001b[0m\u001b[0m\n\u001b[0m\u001b[1;32m      2\u001b[0m \u001b[0mtext_list\u001b[0m \u001b[0;34m=\u001b[0m \u001b[0;34m[\u001b[0m\u001b[0mi\u001b[0m\u001b[0;34m.\u001b[0m\u001b[0msplit\u001b[0m\u001b[0;34m(\u001b[0m\u001b[0;34m)\u001b[0m \u001b[0;32mfor\u001b[0m \u001b[0mi\u001b[0m \u001b[0;32min\u001b[0m \u001b[0mpre_data\u001b[0m\u001b[0;34m]\u001b[0m\u001b[0;34m\u001b[0m\u001b[0;34m\u001b[0m\u001b[0m\n\u001b[1;32m      3\u001b[0m \u001b[0mlen\u001b[0m\u001b[0;34m(\u001b[0m\u001b[0mtext_list\u001b[0m\u001b[0;34m)\u001b[0m\u001b[0;34m\u001b[0m\u001b[0;34m\u001b[0m\u001b[0m\n",
            "\u001b[0;31mNameError\u001b[0m: name 'cleaning' is not defined"
          ]
        }
      ]
    },
    {
      "cell_type": "code",
      "metadata": {
        "id": "6Qyd_IeiVjeg",
        "colab_type": "code",
        "outputId": "1d7d3733-b942-4282-efbe-cdbc649d19ea",
        "colab": {
          "base_uri": "https://localhost:8080/",
          "height": 119
        }
      },
      "source": [
        "pre_data.head()"
      ],
      "execution_count": 15,
      "outputs": [
        {
          "output_type": "execute_result",
          "data": {
            "text/plain": [
              "0             damn read bucky lucky thought hell lucky\n",
              "1                          good luck sends support ray\n",
              "2    well im kpop stan stans stan stan little boy t...\n",
              "3                             mega deleted folder year\n",
              "4      wearing shoe cause lazy put kid tip tap tip tap\n",
              "Name: Tweets, dtype: object"
            ]
          },
          "metadata": {
            "tags": []
          },
          "execution_count": 15
        }
      ]
    },
    {
      "cell_type": "code",
      "metadata": {
        "id": "gVPutEqJVjmz",
        "colab_type": "code",
        "colab": {
          "base_uri": "https://localhost:8080/",
          "height": 34
        },
        "outputId": "86e3c3a0-9578-4e5c-bdfe-2ffba4bdc430"
      },
      "source": [
        "type(pre_data)"
      ],
      "execution_count": 16,
      "outputs": [
        {
          "output_type": "execute_result",
          "data": {
            "text/plain": [
              "pandas.core.series.Series"
            ]
          },
          "metadata": {
            "tags": []
          },
          "execution_count": 16
        }
      ]
    },
    {
      "cell_type": "code",
      "metadata": {
        "id": "Yxo_HZINLpTN",
        "colab_type": "code",
        "colab": {}
      },
      "source": [
        "# Convert to list\n",
        "pre_data = df_pre.Tweets.values.tolist()"
      ],
      "execution_count": 0,
      "outputs": []
    },
    {
      "cell_type": "code",
      "metadata": {
        "id": "flaH6lBoL21h",
        "colab_type": "code",
        "colab": {}
      },
      "source": [
        "# Remove Emails\n",
        "pre_data = [re.sub('\\S*@\\S*\\s?', '', sent) for sent in pre_data]"
      ],
      "execution_count": 0,
      "outputs": []
    },
    {
      "cell_type": "code",
      "metadata": {
        "id": "rk_4RpnzL5Ak",
        "colab_type": "code",
        "colab": {}
      },
      "source": [
        "# Remove new line characters\n",
        "pre_data = [re.sub('\\s+', ' ', sent) for sent in pre_data]"
      ],
      "execution_count": 0,
      "outputs": []
    },
    {
      "cell_type": "code",
      "metadata": {
        "id": "uyw0CwM1L5DR",
        "colab_type": "code",
        "outputId": "611e9bfb-13e0-4891-9e13-3a8170921a2c",
        "colab": {
          "base_uri": "https://localhost:8080/",
          "height": 34
        }
      },
      "source": [
        "# Remove distracting single quotes\n",
        "pre_data = [re.sub(\"\\'\", \"\", sent) for sent in pre_data]\n",
        "\n",
        "pprint(pre_data[:1])"
      ],
      "execution_count": 86,
      "outputs": [
        {
          "output_type": "stream",
          "text": [
            "['damn I just read Bucky as lucky and thought WHO THE HELL IS LUCKY?!..']\n"
          ],
          "name": "stdout"
        }
      ]
    },
    {
      "cell_type": "code",
      "metadata": {
        "id": "aTIRiGC-L5F2",
        "colab_type": "code",
        "colab": {}
      },
      "source": [
        "def sent_to_words(sentences):\n",
        "    for sentence in sentences:\n",
        "        yield(gensim.utils.simple_preprocess(str(sentence), deacc=True))"
      ],
      "execution_count": 0,
      "outputs": []
    },
    {
      "cell_type": "code",
      "metadata": {
        "id": "hGUVtLkbMIoi",
        "colab_type": "code",
        "outputId": "4ed6dc40-e8d2-4bda-fa0b-a1b4cba31b0e",
        "colab": {
          "base_uri": "https://localhost:8080/",
          "height": 34
        }
      },
      "source": [
        "pre_data_words = list(sent_to_words(pre_data))\n",
        "print(pre_data_words[:1])"
      ],
      "execution_count": 88,
      "outputs": [
        {
          "output_type": "stream",
          "text": [
            "[['damn', 'just', 'read', 'bucky', 'as', 'lucky', 'and', 'thought', 'who', 'the', 'hell', 'is', 'lucky']]\n"
          ],
          "name": "stdout"
        }
      ]
    },
    {
      "cell_type": "code",
      "metadata": {
        "id": "S7G_3848MKES",
        "colab_type": "code",
        "colab": {}
      },
      "source": [
        "# Define functions for stopwords, bigrams, trigrams and lemmatization\n",
        "def remove_stopwords(texts):\n",
        "    return [[word for word in simple_preprocess(str(doc)) if word not in stop_words] for doc in texts]"
      ],
      "execution_count": 0,
      "outputs": []
    },
    {
      "cell_type": "code",
      "metadata": {
        "id": "ksW4_Qa6M4DR",
        "colab_type": "code",
        "colab": {}
      },
      "source": [
        "def lemmatization(texts, allowed_postags=['NOUN', 'ADJ', 'VERB', 'ADV']):\n",
        "    texts_out = []\n",
        "    for sent in texts:\n",
        "        doc = nlp(\" \".join(sent)) \n",
        "        texts_out.append([token.lemma_ for token in doc if token.pos_ in allowed_postags])\n",
        "    return texts_out"
      ],
      "execution_count": 0,
      "outputs": []
    },
    {
      "cell_type": "code",
      "metadata": {
        "id": "soeJqnMa7iri",
        "colab_type": "code",
        "colab": {
          "base_uri": "https://localhost:8080/",
          "height": 34
        },
        "outputId": "724e6580-6170-4dac-9fd0-93fd6184e306"
      },
      "source": [
        "len(pre_data_words[13])"
      ],
      "execution_count": 28,
      "outputs": [
        {
          "output_type": "execute_result",
          "data": {
            "text/plain": [
              "13"
            ]
          },
          "metadata": {
            "tags": []
          },
          "execution_count": 28
        }
      ]
    },
    {
      "cell_type": "code",
      "metadata": {
        "id": "SIeFUaLVM-6x",
        "colab_type": "code",
        "colab": {}
      },
      "source": [
        "# Remove Stop Words\n",
        "pre_data_words_nostops = remove_stopwords(pre_data_words)"
      ],
      "execution_count": 0,
      "outputs": []
    },
    {
      "cell_type": "code",
      "metadata": {
        "id": "DT6k8Q9k8y4M",
        "colab_type": "code",
        "colab": {
          "base_uri": "https://localhost:8080/",
          "height": 34
        },
        "outputId": "237dde81-3dd6-437f-be3a-079e4db0e006"
      },
      "source": [
        "len(pre_data_words_nostops[13])"
      ],
      "execution_count": 67,
      "outputs": [
        {
          "output_type": "execute_result",
          "data": {
            "text/plain": [
              "7"
            ]
          },
          "metadata": {
            "tags": []
          },
          "execution_count": 67
        }
      ]
    },
    {
      "cell_type": "code",
      "metadata": {
        "id": "b1YetproONB8",
        "colab_type": "code",
        "colab": {}
      },
      "source": [
        "# Initialize spacy 'en' model, keeping only tagger component (for efficiency)\n",
        "# python3 -m spacy download en\n",
        "nlp = spacy.load('en', disable=['parser', 'ner'])"
      ],
      "execution_count": 0,
      "outputs": []
    },
    {
      "cell_type": "code",
      "metadata": {
        "id": "BGYZjADgNBKx",
        "colab_type": "code",
        "colab": {}
      },
      "source": [
        "# Do lemmatization keeping only noun, adj, vb, adv\n",
        "pre_data_lemmatized = lemmatization(pre_data_words_nostops, allowed_postags=['NOUN','ADJ','VERB','ADV'])"
      ],
      "execution_count": 0,
      "outputs": []
    },
    {
      "cell_type": "code",
      "metadata": {
        "id": "zv1iDKJ97KFx",
        "colab_type": "code",
        "colab": {}
      },
      "source": [
        "pre_data_lemmatized = remove_stopwords(pre_data_lemmatized)"
      ],
      "execution_count": 0,
      "outputs": []
    },
    {
      "cell_type": "code",
      "metadata": {
        "id": "XIGCrYmZfelt",
        "colab_type": "code",
        "colab": {
          "base_uri": "https://localhost:8080/",
          "height": 34
        },
        "outputId": "5dc02a0d-dc5a-4180-86e1-0c26c356d12d"
      },
      "source": [
        "len(pre_data_lemmatized)"
      ],
      "execution_count": 95,
      "outputs": [
        {
          "output_type": "execute_result",
          "data": {
            "text/plain": [
              "26083"
            ]
          },
          "metadata": {
            "tags": []
          },
          "execution_count": 95
        }
      ]
    },
    {
      "cell_type": "code",
      "metadata": {
        "id": "sqoDJniKZ-aR",
        "colab_type": "code",
        "colab": {}
      },
      "source": [
        "#Exporting the lammatized into a csv file\n",
        "import csv\n",
        "with open('/content/pre_lammetized.csv', 'a') as csvFile:\n",
        "  fieldnames = ['Tweets']\n",
        "  writer = csv.DictWriter(csvFile, fieldnames=fieldnames)\n",
        "  writer.writeheader()\n",
        "  for word in pre_data_lemmatized[:len(pre_data_lemmatized)]:\n",
        "    if len(word) != 0:\n",
        "      writer.writerow({'Tweets': ' '.join(word)})"
      ],
      "execution_count": 0,
      "outputs": []
    },
    {
      "cell_type": "code",
      "metadata": {
        "id": "-NHx6XE5fKpB",
        "colab_type": "code",
        "colab": {}
      },
      "source": [
        "files.download('pre_lammetized.csv')"
      ],
      "execution_count": 0,
      "outputs": []
    },
    {
      "cell_type": "markdown",
      "metadata": {
        "id": "cCLw_jtOghZf",
        "colab_type": "text"
      },
      "source": [
        "**For Post Diagnosis Data**"
      ]
    },
    {
      "cell_type": "code",
      "metadata": {
        "id": "iBtiDKiTgz6y",
        "colab_type": "code",
        "colab": {
          "base_uri": "https://localhost:8080/",
          "height": 34
        },
        "outputId": "9537e241-c424-437e-c2c2-b51ada541d6a"
      },
      "source": [
        "# Convert to list\n",
        "post_data = df_post.Tweets.values.tolist()\n",
        "# Remove Emails\n",
        "post_data = [re.sub('\\S*@\\S*\\s?', '', sent) for sent in post_data]\n",
        "# Remove new line characters\n",
        "post_data = [re.sub('\\s+', ' ', sent) for sent in post_data]\n",
        "# Remove distracting single quotes\n",
        "post_data = [re.sub(\"\\'\", \"\", sent) for sent in post_data]\n",
        "\n",
        "pprint(post_data[:1])"
      ],
      "execution_count": 98,
      "outputs": [
        {
          "output_type": "stream",
          "text": [
            "['oh my gawd I see RUUUUSSSIIIIIAAAONN here']\n"
          ],
          "name": "stdout"
        }
      ]
    },
    {
      "cell_type": "code",
      "metadata": {
        "id": "PbWzZfnYhRqx",
        "colab_type": "code",
        "colab": {
          "base_uri": "https://localhost:8080/",
          "height": 34
        },
        "outputId": "29d857bf-9828-47df-dcf4-a04c1abc6996"
      },
      "source": [
        "post_data_words = list(sent_to_words(post_data))\n",
        "print(post_data_words[:1])"
      ],
      "execution_count": 99,
      "outputs": [
        {
          "output_type": "stream",
          "text": [
            "[['oh', 'my', 'gawd', 'see', 'here']]\n"
          ],
          "name": "stdout"
        }
      ]
    },
    {
      "cell_type": "code",
      "metadata": {
        "id": "1MMRReHlhRtr",
        "colab_type": "code",
        "colab": {}
      },
      "source": [
        "# Remove Stop Words\n",
        "post_data_words_nostops = remove_stopwords(post_data_words)\n",
        "\n",
        "# Do lemmatization keeping only noun, adj, vb, adv\n",
        "post_data_lemmatized = lemmatization(post_data_words_nostops, allowed_postags=['NOUN', 'ADJ', 'VERB', 'ADV'])"
      ],
      "execution_count": 0,
      "outputs": []
    },
    {
      "cell_type": "code",
      "metadata": {
        "id": "a1jvrVWRCvUP",
        "colab_type": "code",
        "colab": {}
      },
      "source": [
        "post_data_lemmatized = remove_stopwords(post_data_lemmatized)"
      ],
      "execution_count": 0,
      "outputs": []
    },
    {
      "cell_type": "code",
      "metadata": {
        "id": "2ux351KihR5m",
        "colab_type": "code",
        "colab": {}
      },
      "source": [
        "#Exporting the lammatized into a csv file\n",
        "import csv\n",
        "with open('/content/post_lammetized.csv', 'a') as csvFile:\n",
        "  fieldnames = ['Tweets']\n",
        "  writer = csv.DictWriter(csvFile, fieldnames=fieldnames)\n",
        "  writer.writeheader()\n",
        "  for words in post_data_lemmatized[:len(post_data_lemmatized)]:\n",
        "    if len(words) != 0:\n",
        "      writer.writerow({'Tweets': ' '.join(words)})"
      ],
      "execution_count": 0,
      "outputs": []
    },
    {
      "cell_type": "code",
      "metadata": {
        "id": "qKJCBcJshRwd",
        "colab_type": "code",
        "colab": {}
      },
      "source": [
        "files.download('post_lammetized.csv')"
      ],
      "execution_count": 0,
      "outputs": []
    },
    {
      "cell_type": "code",
      "metadata": {
        "id": "fXA4GJU9loHb",
        "colab_type": "code",
        "colab": {}
      },
      "source": [
        "data_lemmatized = pre_data_lemmatized\n",
        "#data_lemmatized = post_data_lemmatized"
      ],
      "execution_count": 0,
      "outputs": []
    },
    {
      "cell_type": "markdown",
      "metadata": {
        "id": "FhwiW2KKlh4T",
        "colab_type": "text"
      },
      "source": [
        "**Creating Dictionary and LDA Modeling**"
      ]
    },
    {
      "cell_type": "code",
      "metadata": {
        "id": "f53wZO7lNEKh",
        "colab_type": "code",
        "outputId": "5d5bf4b2-ae7a-4cf5-a8f8-2974edd1c1f8",
        "colab": {
          "base_uri": "https://localhost:8080/",
          "height": 34
        }
      },
      "source": [
        "id2word = corpora.Dictionary(data_lemmatized)\n",
        "\n",
        "# Create Corpus\n",
        "texts = data_lemmatized\n",
        "\n",
        "# Term Document Frequency\n",
        "corpus = [id2word.doc2bow(text) for text in texts]\n",
        "\n",
        "# View\n",
        "print(corpus[:1])"
      ],
      "execution_count": 174,
      "outputs": [
        {
          "output_type": "stream",
          "text": [
            "[[(0, 1), (1, 1), (2, 2)]]\n"
          ],
          "name": "stdout"
        }
      ]
    },
    {
      "cell_type": "code",
      "metadata": {
        "id": "jOR8jiypPZuJ",
        "colab_type": "code",
        "outputId": "c7282eb7-4cec-47bd-e17c-44aada8f4378",
        "colab": {
          "base_uri": "https://localhost:8080/",
          "height": 34
        }
      },
      "source": [
        "[[(id2word[id], freq) for id, freq in cp] for cp in corpus[:1]]"
      ],
      "execution_count": 175,
      "outputs": [
        {
          "output_type": "execute_result",
          "data": {
            "text/plain": [
              "[[('damn', 1), ('hell', 1), ('lucky', 2)]]"
            ]
          },
          "metadata": {
            "tags": []
          },
          "execution_count": 175
        }
      ]
    },
    {
      "cell_type": "code",
      "metadata": {
        "id": "sT8Ij_4DPbr6",
        "colab_type": "code",
        "colab": {}
      },
      "source": [
        "# Build LDA model\n",
        "lda_model = gensim.models.ldamodel.LdaModel(corpus=corpus,\n",
        "                                           id2word=id2word,\n",
        "                                           num_topics=4, \n",
        "                                           random_state=100,\n",
        "                                           update_every=1,\n",
        "                                           chunksize=100,\n",
        "                                           passes=10,\n",
        "                                           alpha='auto',\n",
        "                                           per_word_topics=True)"
      ],
      "execution_count": 0,
      "outputs": []
    },
    {
      "cell_type": "code",
      "metadata": {
        "id": "Aely9lnRPgE6",
        "colab_type": "code",
        "outputId": "edd22f52-0256-4055-f302-64031be4e459",
        "colab": {
          "base_uri": "https://localhost:8080/",
          "height": 289
        }
      },
      "source": [
        "pprint(lda_model.print_topics())\n",
        "doc_lda = lda_model[corpus]"
      ],
      "execution_count": 177,
      "outputs": [
        {
          "output_type": "stream",
          "text": [
            "[(0,\n",
            "  '0.044*\"time\" + 0.039*\"love\" + 0.029*\"bad\" + 0.018*\"shit\" + 0.014*\"man\" + '\n",
            "  '0.013*\"ill\" + 0.012*\"pretty\" + 0.012*\"already\" + 0.011*\"body\" + '\n",
            "  '0.011*\"happy\"'),\n",
            " (1,\n",
            "  '0.057*\"good\" + 0.022*\"always\" + 0.021*\"honestly\" + 0.017*\"literally\" + '\n",
            "  '0.016*\"hard\" + 0.014*\"daddy\" + 0.013*\"work\" + 0.013*\"first\" + '\n",
            "  '0.012*\"chroniclife\" + 0.012*\"home\"'),\n",
            " (2,\n",
            "  '0.041*\"people\" + 0.031*\"day\" + 0.028*\"life\" + 0.017*\"never\" + '\n",
            "  '0.016*\"fucking\" + 0.016*\"person\" + 0.015*\"hour\" + 0.015*\"chroniclife\" + '\n",
            "  '0.015*\"girl\" + 0.013*\"last\"'),\n",
            " (3,\n",
            "  '0.025*\"thing\" + 0.021*\"today\" + 0.018*\"friend\" + 0.017*\"year\" + '\n",
            "  '0.014*\"ever\" + 0.014*\"back\" + 0.014*\"chroniclife\" + 0.012*\"right\" + '\n",
            "  '0.011*\"well\" + 0.011*\"little\"')]\n"
          ],
          "name": "stdout"
        }
      ]
    },
    {
      "cell_type": "code",
      "metadata": {
        "id": "pLrSLIbpQut8",
        "colab_type": "code",
        "outputId": "a1a7f8f8-2e05-4f37-9a56-5e11d198c95c",
        "colab": {
          "base_uri": "https://localhost:8080/",
          "height": 85
        }
      },
      "source": [
        "# Compute Perplexity\n",
        "print('\\nPerplexity: ', lda_model.log_perplexity(corpus))  # a measure of how good the model is. lower the better.\n",
        "\n",
        "# Compute Coherence Score\n",
        "coherence_model_lda = CoherenceModel(model=lda_model, texts=data_lemmatized, dictionary=id2word, coherence='c_v')\n",
        "coherence_lda = coherence_model_lda.get_coherence()\n",
        "print('\\nCoherence Score: ', coherence_lda)"
      ],
      "execution_count": 93,
      "outputs": [
        {
          "output_type": "stream",
          "text": [
            "\n",
            "Perplexity:  -8.174682612763313\n",
            "\n",
            "Coherence Score:  0.24894337524243323\n"
          ],
          "name": "stdout"
        }
      ]
    },
    {
      "cell_type": "code",
      "metadata": {
        "id": "BcLZvkfqRnJJ",
        "colab_type": "code",
        "outputId": "e2979cc1-28c1-4793-8733-a0bd6d9f75b1",
        "colab": {
          "base_uri": "https://localhost:8080/",
          "height": 861
        }
      },
      "source": [
        "# Visualize the topics\n",
        "pyLDAvis.enable_notebook()\n",
        "vis = pyLDAvis.gensim.prepare(lda_model, corpus, id2word)\n",
        "vis"
      ],
      "execution_count": 178,
      "outputs": [
        {
          "output_type": "execute_result",
          "data": {
            "text/html": [
              "\n",
              "<link rel=\"stylesheet\" type=\"text/css\" href=\"https://cdn.rawgit.com/bmabey/pyLDAvis/files/ldavis.v1.0.0.css\">\n",
              "\n",
              "\n",
              "<div id=\"ldavis_el1221406956511668723161216134\"></div>\n",
              "<script type=\"text/javascript\">\n",
              "\n",
              "var ldavis_el1221406956511668723161216134_data = {\"mdsDat\": {\"x\": [0.28035958413432155, -0.13391984777386626, -0.0812624592697487, -0.06517727709070671], \"y\": [0.037918279507588595, 0.23324341337629886, -0.18225398467142115, -0.08890770821246666], \"topics\": [1, 2, 3, 4], \"cluster\": [1, 1, 1, 1], \"Freq\": [32.55394744873047, 24.961328506469727, 21.679676055908203, 20.805044174194336]}, \"tinfo\": {\"Term\": [\"good\", \"time\", \"people\", \"love\", \"day\", \"life\", \"bad\", \"thing\", \"today\", \"always\", \"honestly\", \"friend\", \"year\", \"shit\", \"never\", \"literally\", \"fucking\", \"person\", \"hour\", \"ever\", \"back\", \"hard\", \"girl\", \"man\", \"daddy\", \"ill\", \"right\", \"last\", \"work\", \"also\", \"thing\", \"today\", \"friend\", \"year\", \"back\", \"ever\", \"right\", \"well\", \"little\", \"week\", \"pain\", \"big\", \"mom\", \"baby\", \"bitch\", \"help\", \"way\", \"wrong\", \"better\", \"next\", \"food\", \"guy\", \"sad\", \"anxiety\", \"head\", \"ready\", \"least\", \"weight\", \"kid\", \"heart\", \"omg\", \"pound\", \"chroniclife\", \"people\", \"day\", \"life\", \"never\", \"hour\", \"person\", \"fucking\", \"girl\", \"last\", \"also\", \"long\", \"night\", \"school\", \"great\", \"lot\", \"enough\", \"able\", \"ass\", \"hot\", \"family\", \"fat\", \"nice\", \"money\", \"later\", \"lol\", \"else\", \"full\", \"tonight\", \"amazing\", \"live\", \"truly\", \"chroniclife\", \"time\", \"love\", \"bad\", \"shit\", \"man\", \"ill\", \"already\", \"pretty\", \"happy\", \"body\", \"sleep\", \"probably\", \"month\", \"thank\", \"favorite\", \"point\", \"maybe\", \"depression\", \"finally\", \"whole\", \"sometimes\", \"didna\", \"phone\", \"mental\", \"need\", \"story\", \"self\", \"half\", \"definitely\", \"far\", \"chroniclife\", \"good\", \"always\", \"honestly\", \"literally\", \"hard\", \"work\", \"first\", \"new\", \"home\", \"picture\", \"many\", \"hate\", \"morning\", \"tired\", \"hand\", \"child\", \"old\", \"almost\", \"sorry\", \"away\", \"movie\", \"problem\", \"cool\", \"proud\", \"care\", \"car\", \"issue\", \"daddy\", \"boy\", \"sick\", \"couple\", \"user\", \"chroniclife\"], \"Freq\": [990.0, 796.0, 850.0, 713.0, 643.0, 593.0, 530.0, 679.0, 564.0, 385.0, 360.0, 503.0, 468.0, 334.0, 366.0, 300.0, 339.0, 325.0, 323.0, 386.0, 384.0, 272.0, 306.0, 249.0, 242.0, 243.0, 333.0, 266.0, 227.0, 256.0, 679.3026123046875, 563.5971069335938, 502.9505615234375, 468.254638671875, 383.9944763183594, 385.63189697265625, 333.2304382324219, 298.5352783203125, 291.5140075683594, 279.38360595703125, 220.44700622558594, 222.43450927734375, 216.03045654296875, 212.8517303466797, 207.29266357421875, 194.47512817382812, 188.40521240234375, 203.82627868652344, 188.51951599121094, 176.85284423828125, 176.54820251464844, 174.9329376220703, 173.504150390625, 170.9974365234375, 164.5004425048828, 162.9069366455078, 162.2338104248047, 211.60458374023438, 154.86770629882812, 151.0088653564453, 175.0966339111328, 191.55010986328125, 380.3310546875, 850.01611328125, 642.6575317382812, 592.3714599609375, 366.15484619140625, 323.1746826171875, 325.1835632324219, 338.59674072265625, 305.3211975097656, 265.8467712402344, 256.0604553222656, 229.87208557128906, 220.32666015625, 240.96681213378906, 218.51071166992188, 198.4525146484375, 192.1055145263672, 203.31666564941406, 193.52415466308594, 190.14471435546875, 181.3163299560547, 199.61868286132812, 145.42591857910156, 144.68548583984375, 138.29310607910156, 132.62045288085938, 138.77081298828125, 135.42584228515625, 126.05309295654297, 122.68037414550781, 114.11634826660156, 120.8853530883789, 305.3574523925781, 795.3720092773438, 713.1726684570312, 529.6734619140625, 334.1744689941406, 248.70672607421875, 243.15869140625, 222.46258544921875, 223.20455932617188, 205.3887481689453, 206.68028259277344, 192.71998596191406, 188.34857177734375, 177.2157440185547, 169.4697723388672, 178.84573364257812, 175.5308074951172, 158.4802703857422, 138.46588134765625, 125.33255004882812, 124.39057922363281, 120.040283203125, 170.3668670654297, 123.66172790527344, 124.68980407714844, 111.09825897216797, 116.7955093383789, 113.31736755371094, 112.93083190917969, 113.77730560302734, 100.33756256103516, 201.7089080810547, 989.3057250976562, 384.86199951171875, 359.58001708984375, 299.99267578125, 271.6172180175781, 226.33050537109375, 219.2843780517578, 204.2707977294922, 206.7048797607422, 177.61512756347656, 161.84849548339844, 165.2917022705078, 155.2245635986328, 155.8289337158203, 148.9808349609375, 150.2536163330078, 141.52259826660156, 139.61175537109375, 144.728759765625, 136.42652893066406, 114.47469329833984, 110.35275268554688, 119.02235412597656, 115.34660339355469, 104.24057006835938, 101.53677368164062, 104.9464111328125, 241.14764404296875, 92.12682342529297, 92.6085433959961, 96.59874725341797, 127.88426971435547, 208.8582763671875], \"Total\": [990.0, 796.0, 850.0, 713.0, 643.0, 593.0, 530.0, 679.0, 564.0, 385.0, 360.0, 503.0, 468.0, 334.0, 366.0, 300.0, 339.0, 325.0, 323.0, 386.0, 384.0, 272.0, 306.0, 249.0, 242.0, 243.0, 333.0, 266.0, 227.0, 256.0, 679.9962768554688, 564.2809448242188, 503.6747131347656, 468.9487609863281, 384.6891174316406, 386.3336181640625, 333.91876220703125, 299.2240905761719, 292.1983947753906, 280.0885314941406, 221.13009643554688, 223.12939453125, 216.73094177246094, 213.55397033691406, 208.0185089111328, 195.17750549316406, 189.08888244628906, 204.58038330078125, 189.2380828857422, 177.55039978027344, 177.2540740966797, 175.6367645263672, 174.21424865722656, 171.70533752441406, 165.20394897460938, 163.6063690185547, 162.93357849121094, 212.54510498046875, 155.57284545898438, 151.71627807617188, 175.91729736328125, 192.72747802734375, 1096.255615234375, 850.721923828125, 643.3594970703125, 593.1007690429688, 366.86968994140625, 323.89727783203125, 325.9173583984375, 339.3739929199219, 306.0388488769531, 266.543701171875, 256.77044677734375, 230.59739685058594, 221.02857971191406, 241.7372283935547, 219.2153778076172, 199.1632843017578, 192.83253479003906, 204.0892333984375, 194.27700805664062, 190.88601684570312, 182.06253051757812, 200.4613037109375, 146.14859008789062, 145.43612670898438, 139.02427673339844, 133.32310485839844, 139.5072784423828, 136.16552734375, 126.7452163696289, 123.37838745117188, 114.83335876464844, 121.7887191772461, 1096.255615234375, 796.0916137695312, 713.8919677734375, 530.398193359375, 334.9057312011719, 249.4277801513672, 243.8979034423828, 223.18109130859375, 223.95220947265625, 206.10166931152344, 207.40492248535156, 193.45559692382812, 189.0947723388672, 177.93301391601562, 170.18478393554688, 179.6119842529297, 176.2965087890625, 159.21463012695312, 139.213623046875, 126.05252838134766, 125.13006591796875, 120.7555923461914, 171.3828582763672, 124.40654754638672, 125.44977569580078, 111.81499481201172, 117.55420684814453, 114.05966186523438, 113.6792984008789, 114.54104614257812, 101.07735443115234, 1096.255615234375, 990.0387573242188, 385.5794982910156, 360.3995666503906, 300.7522888183594, 272.3418884277344, 227.031982421875, 219.99765014648438, 204.9666748046875, 207.412109375, 178.3688507080078, 162.55760192871094, 166.03289794921875, 155.92213439941406, 156.5672607421875, 149.6965789794922, 151.00189208984375, 142.2367706298828, 140.3318634033203, 145.48037719726562, 137.15855407714844, 115.20262145996094, 111.06265258789062, 119.7957763671875, 116.12199401855469, 104.95760345458984, 102.25536346435547, 105.70454406738281, 242.93170166015625, 92.82876586914062, 93.31503295898438, 97.36027526855469, 131.62619018554688, 1096.255615234375], \"Category\": [\"Default\", \"Default\", \"Default\", \"Default\", \"Default\", \"Default\", \"Default\", \"Default\", \"Default\", \"Default\", \"Default\", \"Default\", \"Default\", \"Default\", \"Default\", \"Default\", \"Default\", \"Default\", \"Default\", \"Default\", \"Default\", \"Default\", \"Default\", \"Default\", \"Default\", \"Default\", \"Default\", \"Default\", \"Default\", \"Default\", \"Topic1\", \"Topic1\", \"Topic1\", \"Topic1\", \"Topic1\", \"Topic1\", \"Topic1\", \"Topic1\", \"Topic1\", \"Topic1\", \"Topic1\", \"Topic1\", \"Topic1\", \"Topic1\", \"Topic1\", \"Topic1\", \"Topic1\", \"Topic1\", \"Topic1\", \"Topic1\", \"Topic1\", \"Topic1\", \"Topic1\", \"Topic1\", \"Topic1\", \"Topic1\", \"Topic1\", \"Topic1\", \"Topic1\", \"Topic1\", \"Topic1\", \"Topic1\", \"Topic1\", \"Topic2\", \"Topic2\", \"Topic2\", \"Topic2\", \"Topic2\", \"Topic2\", \"Topic2\", \"Topic2\", \"Topic2\", \"Topic2\", \"Topic2\", \"Topic2\", \"Topic2\", \"Topic2\", \"Topic2\", \"Topic2\", \"Topic2\", \"Topic2\", \"Topic2\", \"Topic2\", \"Topic2\", \"Topic2\", \"Topic2\", \"Topic2\", \"Topic2\", \"Topic2\", \"Topic2\", \"Topic2\", \"Topic2\", \"Topic2\", \"Topic2\", \"Topic2\", \"Topic3\", \"Topic3\", \"Topic3\", \"Topic3\", \"Topic3\", \"Topic3\", \"Topic3\", \"Topic3\", \"Topic3\", \"Topic3\", \"Topic3\", \"Topic3\", \"Topic3\", \"Topic3\", \"Topic3\", \"Topic3\", \"Topic3\", \"Topic3\", \"Topic3\", \"Topic3\", \"Topic3\", \"Topic3\", \"Topic3\", \"Topic3\", \"Topic3\", \"Topic3\", \"Topic3\", \"Topic3\", \"Topic3\", \"Topic3\", \"Topic3\", \"Topic4\", \"Topic4\", \"Topic4\", \"Topic4\", \"Topic4\", \"Topic4\", \"Topic4\", \"Topic4\", \"Topic4\", \"Topic4\", \"Topic4\", \"Topic4\", \"Topic4\", \"Topic4\", \"Topic4\", \"Topic4\", \"Topic4\", \"Topic4\", \"Topic4\", \"Topic4\", \"Topic4\", \"Topic4\", \"Topic4\", \"Topic4\", \"Topic4\", \"Topic4\", \"Topic4\", \"Topic4\", \"Topic4\", \"Topic4\", \"Topic4\", \"Topic4\", \"Topic4\"], \"logprob\": [30.0, 29.0, 28.0, 27.0, 26.0, 25.0, 24.0, 23.0, 22.0, 21.0, 20.0, 19.0, 18.0, 17.0, 16.0, 15.0, 14.0, 13.0, 12.0, 11.0, 10.0, 9.0, 8.0, 7.0, 6.0, 5.0, 4.0, 3.0, 2.0, 1.0, -3.6951000690460205, -3.8817999362945557, -3.995699882507324, -4.067200183868408, -4.265500068664551, -4.261300086975098, -4.407299995422363, -4.517300128936768, -4.541100025177002, -4.583600044250488, -4.820499897003174, -4.811500072479248, -4.840799808502197, -4.855599880218506, -4.881999969482422, -4.945899963378906, -4.97760009765625, -4.898900032043457, -4.9770002365112305, -5.040900230407715, -5.042600154876709, -5.051799774169922, -5.059999942779541, -5.07450008392334, -5.11329984664917, -5.123000144958496, -5.127099990844727, -4.861499786376953, -5.173600196838379, -5.198800086975098, -5.05079984664917, -4.960999965667725, -4.275100231170654, -3.2053000926971436, -3.484999895095825, -3.566499948501587, -4.047500133514404, -4.172399997711182, -4.166200160980225, -4.125800132751465, -4.2291998863220215, -4.367700099945068, -4.405200004577637, -4.5131001472473145, -4.555500030517578, -4.46589994430542, -4.563799858093262, -4.660099983215332, -4.692599773406982, -4.635799884796143, -4.685200214385986, -4.7027997970581055, -4.750400066375732, -4.654200077056885, -4.970900058746338, -4.97599983215332, -5.021200180053711, -5.0630998611450195, -5.0177998542785645, -5.042200088500977, -5.113900184631348, -5.140999794006348, -5.213399887084961, -5.155799865722656, -4.229100227355957, -3.1308000087738037, -3.2399001121520996, -3.537400007247925, -3.997999906539917, -4.293399810791016, -4.315899848937988, -4.404900074005127, -4.401599884033203, -4.4847002029418945, -4.478499889373779, -4.548399925231934, -4.571400165557861, -4.632299900054932, -4.677000045776367, -4.6230998039245605, -4.6417999267578125, -4.74399995803833, -4.879000186920166, -4.978700160980225, -4.986199855804443, -5.0218000411987305, -4.6717000007629395, -4.992099761962891, -4.983799934387207, -5.0991997718811035, -5.049200057983398, -5.079500198364258, -5.082900047302246, -5.075399875640869, -5.201099872589111, -4.502799987792969, -2.871500015258789, -3.8155999183654785, -3.883500099182129, -4.064700126647949, -4.164100170135498, -4.346499919891357, -4.3780999183654785, -4.448999881744385, -4.43720006942749, -4.588900089263916, -4.68179988861084, -4.660799980163574, -4.723599910736084, -4.719699859619141, -4.764699935913086, -4.756100177764893, -4.815999984741211, -4.829599857330322, -4.793600082397461, -4.852700233459473, -5.02810001373291, -5.064799785614014, -4.989200115203857, -5.020500183105469, -5.121799945831299, -5.148099899291992, -5.114999771118164, -4.283100128173828, -5.245299816131592, -5.240099906921387, -5.19789981842041, -4.917300224304199, -4.426799774169922], \"loglift\": [30.0, 29.0, 28.0, 27.0, 26.0, 25.0, 24.0, 23.0, 22.0, 21.0, 20.0, 19.0, 18.0, 17.0, 16.0, 15.0, 14.0, 13.0, 12.0, 11.0, 10.0, 9.0, 8.0, 7.0, 6.0, 5.0, 4.0, 3.0, 2.0, 1.0, 1.1212999820709229, 1.1210999488830566, 1.1208000183105469, 1.1208000183105469, 1.1204999685287476, 1.1204999685287476, 1.1202000379562378, 1.1200000047683716, 1.1198999881744385, 1.1197999715805054, 1.1191999912261963, 1.1191999912261963, 1.11899995803833, 1.11899995803833, 1.1188000440597534, 1.1187000274658203, 1.1186000108718872, 1.1186000108718872, 1.118499994277954, 1.118299961090088, 1.118299961090088, 1.118299961090088, 1.1181999444961548, 1.1181000471115112, 1.1180000305175781, 1.1180000305175781, 1.1180000305175781, 1.117799997329712, 1.1176999807357788, 1.1175999641418457, 1.1175999641418457, 1.1160999536514282, 0.06369999796152115, 1.3869999647140503, 1.3868000507354736, 1.3866000175476074, 1.3859000205993652, 1.385599970817566, 1.385599970817566, 1.3854999542236328, 1.3854999542236328, 1.385200023651123, 1.38510000705719, 1.3846999406814575, 1.3846999406814575, 1.3846999406814575, 1.384600043296814, 1.3842999935150146, 1.3840999603271484, 1.3839999437332153, 1.3839999437332153, 1.3839999437332153, 1.3837000131607056, 1.3835999965667725, 1.3828999996185303, 1.382699966430664, 1.382599949836731, 1.382599949836731, 1.3825000524520874, 1.3824000358581543, 1.3824000358581543, 1.382200002670288, 1.381600022315979, 1.3803999423980713, 0.10970000177621841, 1.527899980545044, 1.5277999639511108, 1.527400016784668, 1.5266000032424927, 1.5259000062942505, 1.5257999897003174, 1.5255999565124512, 1.5255000591278076, 1.5253000259399414, 1.5253000259399414, 1.524999976158142, 1.5247999429702759, 1.5247999429702759, 1.5246000289916992, 1.5245000123977661, 1.524399995803833, 1.5241999626159668, 1.5233999490737915, 1.5231000185012817, 1.5228999853134155, 1.5228999853134155, 1.5227999687194824, 1.5227999687194824, 1.5226999521255493, 1.5224000215530396, 1.5223000049591064, 1.5223000049591064, 1.5221999883651733, 1.5220999717712402, 1.521399974822998, -0.164000004529953, 1.569200038909912, 1.5680999755859375, 1.5677000284194946, 1.5673999786376953, 1.5672999620437622, 1.5669000148773193, 1.5666999816894531, 1.56659996509552, 1.56659996509552, 1.5657000541687012, 1.565600037574768, 1.565500020980835, 1.565500020980835, 1.5651999711990356, 1.5651999711990356, 1.565000057220459, 1.5649000406265259, 1.5648000240325928, 1.5648000240325928, 1.5645999908447266, 1.563599944114685, 1.563599944114685, 1.5635000467300415, 1.5633000135421753, 1.563099980354309, 1.5628999471664429, 1.5628000497817993, 1.562600016593933, 1.562399983406067, 1.562399983406067, 1.5621000528335571, 1.541100025177002, -0.08799999952316284]}, \"token.table\": {\"Topic\": [2, 4, 3, 2, 4, 2, 1, 2, 4, 1, 1, 3, 1, 1, 1, 3, 4, 4, 4, 4, 1, 2, 3, 4, 4, 4, 1, 2, 3, 4, 2, 3, 3, 3, 2, 2, 1, 2, 3, 2, 3, 3, 4, 1, 1, 2, 2, 2, 4, 2, 1, 3, 4, 3, 4, 4, 1, 1, 1, 4, 4, 2, 2, 3, 4, 1, 2, 2, 1, 2, 4, 1, 2, 2, 2, 2, 3, 3, 4, 3, 3, 1, 2, 3, 4, 4, 3, 2, 4, 1, 2, 2, 4, 1, 1, 2, 2, 3, 4, 3, 1, 3, 3, 4, 4, 1, 1, 1, 2, 3, 3, 4, 3, 3, 4, 3, 3, 1, 3, 4, 1, 2, 2, 1, 2, 3, 4, 1, 1, 1, 1, 3, 4, 1, 1], \"Freq\": [0.9946629405021667, 0.9976351261138916, 0.9947079420089722, 0.9969995021820068, 0.9984970688819885, 0.996933102607727, 0.9958921670913696, 0.9985741376876831, 0.9915531873703003, 0.9974059462547302, 0.9982086420059204, 0.999249279499054, 0.998741865158081, 0.9949383735656738, 0.9951037764549255, 0.9980476498603821, 0.9910721182823181, 0.9975026845932007, 0.9908762574195862, 0.9933650493621826, 0.34663447737693787, 0.2782197892665863, 0.18426358699798584, 0.19064897298812866, 0.993357241153717, 0.9962995648384094, 0.004116383381187916, 0.004116383381187916, 0.004116383381187916, 0.9920483827590942, 0.9994412064552307, 0.9952763915061951, 0.9912822842597961, 0.9919312000274658, 0.9963637590408325, 0.9956825971603394, 0.9991364479064941, 0.9941639304161072, 0.9893412590026855, 0.9976987838745117, 0.9965927600860596, 0.9916501045227051, 0.9954651594161987, 0.9985666275024414, 0.9986604452133179, 0.9988979697227478, 0.9914403557777405, 0.9966055154800415, 0.9989507794380188, 0.9990174770355225, 0.9963745474815369, 0.9940244555473328, 0.99534672498703, 0.9946547150611877, 0.9987446069717407, 0.9937789440155029, 0.9987654685974121, 0.9952788352966309, 0.9939669966697693, 0.9980130791664124, 0.998891294002533, 0.995358407497406, 0.9972297549247742, 0.996318519115448, 0.9933347702026367, 0.9963178038597107, 0.9979601502418518, 0.9926323890686035, 0.9942702054977417, 0.9981440305709839, 0.997498631477356, 0.9993210434913635, 0.9927428960800171, 0.9975765347480774, 0.9974093437194824, 0.9941591620445251, 0.9987505674362183, 0.9982849359512329, 0.996569812297821, 0.992371141910553, 0.9964147210121155, 0.9966274499893188, 0.9970012307167053, 0.9947564005851746, 0.9940859079360962, 0.9895608425140381, 0.9927112460136414, 0.9976294040679932, 0.9952837228775024, 0.9969000220298767, 0.9921409487724304, 0.9953463673591614, 0.9983353614807129, 0.9947856068611145, 0.9948894381523132, 0.9991514086723328, 0.9971852898597717, 0.9967321157455444, 0.9979320764541626, 0.9983181357383728, 0.9962253570556641, 0.9957481622695923, 0.9942104816436768, 0.9904319643974304, 0.9903377890586853, 0.9962937235832214, 0.9972485303878784, 0.9987701773643494, 0.9969502687454224, 0.9907096028327942, 0.9972955584526062, 0.9966239929199219, 0.9976449608802795, 0.993742823600769, 0.9966980218887329, 0.9952855110168457, 0.9930382370948792, 0.9985348582267761, 0.9986287951469421, 0.9963768720626831, 0.9995021224021912, 0.9941203594207764, 0.993523895740509, 0.015194544568657875, 0.0075972722843289375, 0.0075972722843289375, 0.972450852394104, 0.9942414164543152, 0.9961135983467102, 0.9974353313446045, 0.9992510676383972, 0.9909688830375671, 0.9954544901847839, 0.9971630573272705, 0.9979768395423889], \"Term\": [\"able\", \"almost\", \"already\", \"also\", \"always\", \"amazing\", \"anxiety\", \"ass\", \"away\", \"baby\", \"back\", \"bad\", \"better\", \"big\", \"bitch\", \"body\", \"boy\", \"car\", \"care\", \"child\", \"chroniclife\", \"chroniclife\", \"chroniclife\", \"chroniclife\", \"cool\", \"couple\", \"daddy\", \"daddy\", \"daddy\", \"daddy\", \"day\", \"definitely\", \"depression\", \"didna\", \"else\", \"enough\", \"ever\", \"family\", \"far\", \"fat\", \"favorite\", \"finally\", \"first\", \"food\", \"friend\", \"fucking\", \"full\", \"girl\", \"good\", \"great\", \"guy\", \"half\", \"hand\", \"happy\", \"hard\", \"hate\", \"head\", \"heart\", \"help\", \"home\", \"honestly\", \"hot\", \"hour\", \"ill\", \"issue\", \"kid\", \"last\", \"later\", \"least\", \"life\", \"literally\", \"little\", \"live\", \"lol\", \"long\", \"lot\", \"love\", \"man\", \"many\", \"maybe\", \"mental\", \"mom\", \"money\", \"month\", \"morning\", \"movie\", \"need\", \"never\", \"new\", \"next\", \"nice\", \"night\", \"old\", \"omg\", \"pain\", \"people\", \"person\", \"phone\", \"picture\", \"point\", \"pound\", \"pretty\", \"probably\", \"problem\", \"proud\", \"ready\", \"right\", \"sad\", \"school\", \"self\", \"shit\", \"sick\", \"sleep\", \"sometimes\", \"sorry\", \"story\", \"thank\", \"thing\", \"time\", \"tired\", \"today\", \"tonight\", \"truly\", \"user\", \"user\", \"user\", \"user\", \"way\", \"week\", \"weight\", \"well\", \"whole\", \"work\", \"wrong\", \"year\"]}, \"R\": 30, \"lambda.step\": 0.01, \"plot.opts\": {\"xlab\": \"PC1\", \"ylab\": \"PC2\"}, \"topic.order\": [4, 3, 1, 2]};\n",
              "\n",
              "function LDAvis_load_lib(url, callback){\n",
              "  var s = document.createElement('script');\n",
              "  s.src = url;\n",
              "  s.async = true;\n",
              "  s.onreadystatechange = s.onload = callback;\n",
              "  s.onerror = function(){console.warn(\"failed to load library \" + url);};\n",
              "  document.getElementsByTagName(\"head\")[0].appendChild(s);\n",
              "}\n",
              "\n",
              "if(typeof(LDAvis) !== \"undefined\"){\n",
              "   // already loaded: just create the visualization\n",
              "   !function(LDAvis){\n",
              "       new LDAvis(\"#\" + \"ldavis_el1221406956511668723161216134\", ldavis_el1221406956511668723161216134_data);\n",
              "   }(LDAvis);\n",
              "}else if(typeof define === \"function\" && define.amd){\n",
              "   // require.js is available: use it to load d3/LDAvis\n",
              "   require.config({paths: {d3: \"https://cdnjs.cloudflare.com/ajax/libs/d3/3.5.5/d3.min\"}});\n",
              "   require([\"d3\"], function(d3){\n",
              "      window.d3 = d3;\n",
              "      LDAvis_load_lib(\"https://cdn.rawgit.com/bmabey/pyLDAvis/files/ldavis.v1.0.0.js\", function(){\n",
              "        new LDAvis(\"#\" + \"ldavis_el1221406956511668723161216134\", ldavis_el1221406956511668723161216134_data);\n",
              "      });\n",
              "    });\n",
              "}else{\n",
              "    // require.js not available: dynamically load d3 & LDAvis\n",
              "    LDAvis_load_lib(\"https://cdnjs.cloudflare.com/ajax/libs/d3/3.5.5/d3.min.js\", function(){\n",
              "         LDAvis_load_lib(\"https://cdn.rawgit.com/bmabey/pyLDAvis/files/ldavis.v1.0.0.js\", function(){\n",
              "                 new LDAvis(\"#\" + \"ldavis_el1221406956511668723161216134\", ldavis_el1221406956511668723161216134_data);\n",
              "            })\n",
              "         });\n",
              "}\n",
              "</script>"
            ],
            "text/plain": [
              "PreparedData(topic_coordinates=              x         y  topics  cluster       Freq\n",
              "topic                                                \n",
              "3      0.280360  0.037918       1        1  32.553947\n",
              "2     -0.133920  0.233243       2        1  24.961329\n",
              "0     -0.081262 -0.182254       3        1  21.679676\n",
              "1     -0.065177 -0.088908       4        1  20.805044, topic_info=             Term        Freq        Total Category  logprob  loglift\n",
              "3            good  990.000000   990.000000  Default  30.0000  30.0000\n",
              "154          time  796.000000   796.000000  Default  29.0000  29.0000\n",
              "100        people  850.000000   850.000000  Default  28.0000  28.0000\n",
              "168          love  713.000000   713.000000  Default  27.0000  27.0000\n",
              "36            day  643.000000   643.000000  Default  26.0000  26.0000\n",
              "...           ...         ...          ...      ...      ...      ...\n",
              "8             boy   92.126823    92.828766   Topic4  -5.2453   1.5624\n",
              "1010         sick   92.608543    93.315033   Topic4  -5.2401   1.5624\n",
              "2366       couple   96.598747    97.360275   Topic4  -5.1979   1.5621\n",
              "282          user  127.884270   131.626190   Topic4  -4.9173   1.5411\n",
              "9014  chroniclife  208.858276  1096.255615   Topic4  -4.4268  -0.0880\n",
              "\n",
              "[159 rows x 6 columns], token_table=      Topic      Freq     Term\n",
              "term                          \n",
              "386       2  0.994663     able\n",
              "102       4  0.997635   almost\n",
              "190       3  0.994708  already\n",
              "47        2  0.997000     also\n",
              "7         4  0.998497   always\n",
              "...     ...       ...      ...\n",
              "246       1  0.999251     well\n",
              "1224      3  0.990969    whole\n",
              "91        4  0.995454     work\n",
              "229       1  0.997163    wrong\n",
              "19        1  0.997977     year\n",
              "\n",
              "[135 rows x 3 columns], R=30, lambda_step=0.01, plot_opts={'xlab': 'PC1', 'ylab': 'PC2'}, topic_order=[4, 3, 1, 2])"
            ]
          },
          "metadata": {
            "tags": []
          },
          "execution_count": 178
        }
      ]
    },
    {
      "cell_type": "markdown",
      "metadata": {
        "id": "jqdYRA0dYpZh",
        "colab_type": "text"
      },
      "source": [
        "**Finding Optimal Topic number**"
      ]
    },
    {
      "cell_type": "code",
      "metadata": {
        "id": "8ruVcWZ9Rzry",
        "colab_type": "code",
        "colab": {}
      },
      "source": [
        "def compute_coherence_values(dictionary, corpus, texts, limit, start=2, step=3):\n",
        "    \"\"\"\n",
        "    Compute c_v coherence for various number of topics\n",
        "\n",
        "    Parameters:\n",
        "    ----------\n",
        "    dictionary : Gensim dictionary\n",
        "    corpus : Gensim corpus\n",
        "    texts : List of input texts\n",
        "    limit : Max num of topics\n",
        "\n",
        "    Returns:\n",
        "    -------\n",
        "    model_list : List of LDA topic models\n",
        "    coherence_values : Coherence values corresponding to the LDA model with respective number of topics\n",
        "    \"\"\"\n",
        "    coherence_values = []\n",
        "    model_list = []\n",
        "    for num_topics in range(start, limit, step):\n",
        "        model = gensim.models.ldamodel.LdaModel(corpus=corpus, num_topics=num_topics, id2word=id2word)\n",
        "        model_list.append(model)\n",
        "        coherencemodel = CoherenceModel(model=model, texts=texts, dictionary=dictionary, coherence='c_v')\n",
        "        coherence_values.append(coherencemodel.get_coherence())\n",
        "\n",
        "    return model_list, coherence_values"
      ],
      "execution_count": 0,
      "outputs": []
    },
    {
      "cell_type": "code",
      "metadata": {
        "id": "tlhwoIEPYv3x",
        "colab_type": "code",
        "colab": {}
      },
      "source": [
        "# Can take a long time to run.\n",
        "model_list, coherence_values = compute_coherence_values(dictionary=id2word, corpus=corpus, texts=data_lemmatized, start=2, limit=40, step=6)"
      ],
      "execution_count": 0,
      "outputs": []
    },
    {
      "cell_type": "code",
      "metadata": {
        "id": "eJn9VXZfYzOZ",
        "colab_type": "code",
        "outputId": "d04cc1b2-82e2-4f58-adad-693fe7c44532",
        "colab": {
          "base_uri": "https://localhost:8080/",
          "height": 279
        }
      },
      "source": [
        "# Show graph\n",
        "limit=40; start=2; step=6;\n",
        "x = range(start, limit, step)\n",
        "plt.plot(x, coherence_values)\n",
        "plt.xlabel(\"Num Topics\")\n",
        "plt.ylabel(\"Coherence score\")\n",
        "plt.legend((\"coherence_values\"), loc='best')\n",
        "plt.show()"
      ],
      "execution_count": 0,
      "outputs": [
        {
          "output_type": "display_data",
          "data": {
            "image/png": "[encoded data removed]",
            "text/plain": [
              "<Figure size 432x288 with 1 Axes>"
            ]
          },
          "metadata": {
            "tags": [],
            "needs_background": "light"
          }
        }
      ]
    },
    {
      "cell_type": "code",
      "metadata": {
        "id": "MaQ4pXehZVm4",
        "colab_type": "code",
        "colab": {}
      },
      "source": [
        "# Build LDA model\n",
        "lda_model = gensim.models.ldamodel.LdaModel(corpus=corpus,\n",
        "                                           id2word=id2word,\n",
        "                                           num_topics=20, \n",
        "                                           random_state=100,\n",
        "                                           update_every=1,\n",
        "                                           chunksize=100,\n",
        "                                           passes=10,\n",
        "                                           alpha='auto',\n",
        "                                           per_word_topics=True)"
      ],
      "execution_count": 0,
      "outputs": []
    },
    {
      "cell_type": "code",
      "metadata": {
        "id": "ZjIv_ln5ZbaY",
        "colab_type": "code",
        "outputId": "7aa655e3-ee02-4e6a-8ab2-54eae3c88941",
        "colab": {
          "base_uri": "https://localhost:8080/",
          "height": 1000
        }
      },
      "source": [
        "pprint(lda_model.print_topics())\n",
        "doc_lda = lda_model[corpus]"
      ],
      "execution_count": 0,
      "outputs": [
        {
          "output_type": "stream",
          "text": [
            "[(0,\n",
            "  '0.150*\"make\" + 0.088*\"see\" + 0.082*\"day\" + 0.053*\"help\" + 0.047*\"ever\" + '\n",
            "  '0.036*\"lol\" + 0.033*\"also\" + 0.027*\"happy\" + 0.024*\"hope\" + 0.021*\"step\"'),\n",
            " (1,\n",
            "  '0.094*\"really\" + 0.094*\"take\" + 0.070*\"fuck\" + 0.065*\"let\" + 0.040*\"care\" + '\n",
            "  '0.031*\"hot\" + 0.028*\"sad\" + 0.028*\"show\" + 0.024*\"die\" + 0.021*\"whole\"'),\n",
            " (2,\n",
            "  '0.297*\"be\" + 0.080*\"today\" + 0.034*\"pain\" + 0.031*\"able\" + 0.025*\"guy\" + '\n",
            "  '0.023*\"ready\" + 0.021*\"heart\" + 0.015*\"update\" + 0.014*\"moment\" + '\n",
            "  '0.012*\"push\"'),\n",
            " (3,\n",
            "  '0.072*\"s\" + 0.043*\"long\" + 0.037*\"bitch\" + 0.037*\"ass\" + 0.031*\"omg\" + '\n",
            "  '0.027*\"sorry\" + 0.026*\"else\" + 0.026*\"anymore\" + 0.025*\"bed\" + '\n",
            "  '0.022*\"isna\"'),\n",
            " (4,\n",
            "  '0.147*\"think\" + 0.079*\"could\" + 0.038*\"hurt\" + 0.028*\"run\" + 0.026*\"truly\" '\n",
            "  '+ 0.023*\"note\" + 0.021*\"wish\" + 0.019*\"water\" + 0.014*\"especially\" + '\n",
            "  '0.014*\"clean\"'),\n",
            " (5,\n",
            "  '0.075*\"year\" + 0.054*\"well\" + 0.046*\"put\" + 0.045*\"ask\" + 0.035*\"big\" + '\n",
            "  '0.032*\"probably\" + 0.030*\"kid\" + 0.023*\"sure\" + 0.021*\"early\" + '\n",
            "  '0.020*\"gain\"'),\n",
            " (6,\n",
            "  '0.106*\"look\" + 0.075*\"fucking\" + 0.046*\"new\" + 0.044*\"mom\" + 0.043*\"fat\" + '\n",
            "  '0.032*\"hand\" + 0.029*\"place\" + 0.026*\"amazing\" + 0.021*\"learn\" + '\n",
            "  '0.016*\"stress\"'),\n",
            " (7,\n",
            "  '0.247*\"get\" + 0.077*\"life\" + 0.057*\"back\" + 0.039*\"literally\" + '\n",
            "  '0.034*\"school\" + 0.028*\"night\" + 0.025*\"enough\" + 0.023*\"picture\" + '\n",
            "  '0.018*\"money\" + 0.014*\"face\"'),\n",
            " (8,\n",
            "  '0.283*\"go\" + 0.104*\"people\" + 0.056*\"hate\" + 0.024*\"happen\" + 0.024*\"didna\" '\n",
            "  '+ 0.017*\"travel\" + 0.017*\"away\" + 0.016*\"parent\" + 0.015*\"follow\" + '\n",
            "  '0.012*\"seem\"'),\n",
            " (9,\n",
            "  '0.104*\"photo\" + 0.062*\"girl\" + 0.062*\"keep\" + 0.041*\"post\" + 0.037*\"month\" '\n",
            "  '+ 0.028*\"almost\" + 0.020*\"listen\" + 0.017*\"different\" + 0.016*\"touch\" + '\n",
            "  '0.016*\"cold\"'),\n",
            " (10,\n",
            "  '0.120*\"love\" + 0.105*\"feel\" + 0.068*\"thing\" + 0.065*\"name\" + 0.051*\"come\" + '\n",
            "  '0.044*\"tell\" + 0.040*\"always\" + 0.029*\"hard\" + 0.027*\"man\" + 0.025*\"daddy\"'),\n",
            " (11,\n",
            "  '0.115*\"much\" + 0.054*\"may\" + 0.045*\"body\" + 0.039*\"pound\" + 0.038*\"end\" + '\n",
            "  '0.035*\"many\" + 0.032*\"better\" + 0.023*\"kiss\" + 0.020*\"yesterday\" + '\n",
            "  '0.019*\"relationship\"'),\n",
            " (12,\n",
            "  '0.146*\"know\" + 0.072*\"still\" + 0.046*\"lose\" + 0.041*\"can\" + 0.030*\"mean\" + '\n",
            "  '0.027*\"do\" + 0.021*\"child\" + 0.021*\"cause\" + 0.019*\"user\" + 0.019*\"part\"'),\n",
            " (13,\n",
            "  '0.076*\"even\" + 0.058*\"eat\" + 0.050*\"cry\" + 0.047*\"hour\" + 0.041*\"last\" + '\n",
            "  '0.039*\"little\" + 0.036*\"live\" + 0.036*\"use\" + 0.020*\"old\" + 0.019*\"later\"'),\n",
            " (14,\n",
            "  '0.081*\"would\" + 0.066*\"try\" + 0.061*\"friend\" + 0.029*\"suck\" + 0.025*\"way\" + '\n",
            "  '0.024*\"wrong\" + 0.023*\"cute\" + 0.021*\"next\" + 0.021*\"head\" + 0.017*\"mind\"'),\n",
            " (15,\n",
            "  '0.081*\"bad\" + 0.070*\"work\" + 0.064*\"thank\" + 0.055*\"never\" + '\n",
            "  '0.055*\"honestly\" + 0.049*\"person\" + 0.046*\"stop\" + 0.032*\"great\" + '\n",
            "  '0.032*\"lot\" + 0.031*\"baby\"'),\n",
            " (16,\n",
            "  '0.152*\"want\" + 0.109*\"time\" + 0.058*\"wait\" + 0.053*\"shit\" + 0.034*\"ill\" + '\n",
            "  '0.030*\"already\" + 0.027*\"point\" + 0.024*\"favorite\" + 0.023*\"break\" + '\n",
            "  '0.022*\"maybe\"'),\n",
            " (17,\n",
            "  '0.165*\"good\" + 0.048*\"sleep\" + 0.044*\"week\" + 0.033*\"weight\" + 0.027*\"send\" '\n",
            "  '+ 0.024*\"nice\" + 0.022*\"full\" + 0.021*\"forget\" + 0.021*\"turn\" + '\n",
            "  '0.018*\"hit\"'),\n",
            " (18,\n",
            "  '0.113*\"need\" + 0.086*\"com\" + 0.056*\"talk\" + 0.048*\"right\" + 0.034*\"first\" + '\n",
            "  '0.033*\"call\" + 0.028*\"family\" + 0.024*\"morning\" + 0.021*\"pay\" + '\n",
            "  '0.020*\"buy\"'),\n",
            " (19,\n",
            "  '0.123*\"say\" + 0.074*\"start\" + 0.062*\"watch\" + 0.058*\"give\" + 0.054*\"have\" + '\n",
            "  '0.034*\"pretty\" + 0.028*\"play\" + 0.025*\"actually\" + 0.025*\"food\" + '\n",
            "  '0.025*\"leave\"')]\n"
          ],
          "name": "stdout"
        }
      ]
    },
    {
      "cell_type": "code",
      "metadata": {
        "id": "ags6FYtdaCgw",
        "colab_type": "code",
        "outputId": "c99167c4-549a-449e-ee98-879d9f932352",
        "colab": {
          "base_uri": "https://localhost:8080/",
          "height": 85
        }
      },
      "source": [
        "# Compute Perplexity\n",
        "print('\\nPerplexity: ', lda_model.log_perplexity(corpus))  # a measure of how good the model is. lower the better.\n",
        "\n",
        "# Compute Coherence Score\n",
        "coherence_model_lda = CoherenceModel(model=lda_model, texts=data_lemmatized, dictionary=id2word, coherence='c_v')\n",
        "coherence_lda = coherence_model_lda.get_coherence()\n",
        "print('\\nCoherence Score: ', coherence_lda)"
      ],
      "execution_count": 0,
      "outputs": [
        {
          "output_type": "stream",
          "text": [
            "\n",
            "Perplexity:  -9.678750552252597\n",
            "\n",
            "Coherence Score:  0.4065629257245167\n"
          ],
          "name": "stdout"
        }
      ]
    },
    {
      "cell_type": "code",
      "metadata": {
        "id": "XDT1eI7NaGdB",
        "colab_type": "code",
        "outputId": "e6ff6a37-8c36-4899-a4dc-b14de04ada48",
        "colab": {
          "base_uri": "https://localhost:8080/",
          "height": 861
        }
      },
      "source": [
        "# Visualize the topics\n",
        "pyLDAvis.enable_notebook()\n",
        "vis = pyLDAvis.gensim.prepare(lda_model, corpus, id2word)\n",
        "vis"
      ],
      "execution_count": 0,
      "outputs": [
        {
          "output_type": "execute_result",
          "data": {
            "text/html": [
              "\n",
              "<link rel=\"stylesheet\" type=\"text/css\" href=\"https://cdn.rawgit.com/bmabey/pyLDAvis/files/ldavis.v1.0.0.css\">\n",
              "\n",
              "\n",
              "<div id=\"ldavis_el1231401209445641681828974567\"></div>\n",
              "<script type=\"text/javascript\">\n",
              "\n",
              "var ldavis_el1231401209445641681828974567_data = {\"mdsDat\": {\"x\": [0.41240252928653265, 0.0009827519692991041, -0.0084855850040546, 0.009769631368215646, 0.0013892137696602217, -0.012659174742367446, -0.02082853929127465, -0.020292518455126737, -0.022619334951783632, -0.006036270539147402, -0.02370606805934968, -0.023964148292675812, -0.03301584223773273, -0.031648701221239826, -0.0315497124944649, -0.03538784206313875, -0.03994809471302341, -0.03554341346460207, -0.03991002493439698, -0.03894885592932829], \"y\": [0.04454189408797781, -0.09179211821435894, -0.0033863711575748564, -0.3620159753025261, -0.09565121785808105, 0.04756549926771216, 0.012063903944032905, 0.049405843493813335, 0.04446615838966777, 0.017812032214919327, 0.017311404625981193, 0.02028471751045904, 0.028255772161592266, 0.029030902178743857, 0.042615545366103486, 0.041248575095136936, 0.04140743647832983, 0.03706270200139204, 0.03936894113686338, 0.04040435457981578], \"topics\": [1, 2, 3, 4, 5, 6, 7, 8, 9, 10, 11, 12, 13, 14, 15, 16, 17, 18, 19, 20], \"cluster\": [1, 1, 1, 1, 1, 1, 1, 1, 1, 1, 1, 1, 1, 1, 1, 1, 1, 1, 1, 1], \"Freq\": [7.0385284423828125, 6.413523197174072, 6.295980453491211, 5.896897792816162, 5.615769863128662, 5.338973045349121, 5.327106475830078, 5.2931060791015625, 5.233893394470215, 5.2124834060668945, 5.174869537353516, 5.093297004699707, 4.7224249839782715, 4.364211082458496, 4.2714619636535645, 3.853827714920044, 3.7442550659179688, 3.7120587825775146, 3.71168851852417, 3.685640573501587]}, \"tinfo\": {\"Term\": [\"go\", \"be\", \"get\", \"make\", \"want\", \"know\", \"love\", \"good\", \"feel\", \"say\", \"think\", \"need\", \"people\", \"time\", \"see\", \"day\", \"much\", \"would\", \"com\", \"look\", \"really\", \"take\", \"photo\", \"thing\", \"today\", \"bad\", \"life\", \"name\", \"even\", \"try\", \"love\", \"feel\", \"thing\", \"name\", \"come\", \"tell\", \"always\", \"hard\", \"man\", \"daddy\", \"home\", \"anxiety\", \"tired\", \"fall\", \"problem\", \"kill\", \"boy\", \"son\", \"important\", \"real\", \"other\", \"social\", \"youa\", \"asleep\", \"free\", \"bruh\", \"barely\", \"date\", \"environment\", \"cuddle\", \"beg\", \"chroniclife\", \"make\", \"see\", \"day\", \"help\", \"ever\", \"lol\", \"also\", \"happy\", \"hope\", \"step\", \"mile\", \"wear\", \"death\", \"hold\", \"birthday\", \"mess\", \"peep\", \"trust\", \"spend\", \"medium\", \"season\", \"wona\", \"sense\", \"kind\", \"pic\", \"notice\", \"fix\", \"excite\", \"bus\", \"disorder\", \"chroniclife\", \"would\", \"try\", \"friend\", \"suck\", \"way\", \"wrong\", \"cute\", \"next\", \"head\", \"mind\", \"seriously\", \"phone\", \"sometimes\", \"drink\", \"self\", \"fail\", \"fact\", \"will\", \"job\", \"fan\", \"tear\", \"high\", \"woman\", \"rest\", \"hopefully\", \"perfect\", \"save\", \"small\", \"brother\", \"chance\", \"chroniclife\", \"go\", \"people\", \"hate\", \"happen\", \"didna\", \"travel\", \"away\", \"parent\", \"follow\", \"seem\", \"understand\", \"change\", \"doctor\", \"friendship\", \"guess\", \"straight\", \"check\", \"burn\", \"knee\", \"stand\", \"due\", \"arena\", \"pressure\", \"whenever\", \"snow\", \"choose\", \"amp\", \"side\", \"scared\", \"quiet\", \"chroniclife\", \"get\", \"life\", \"back\", \"literally\", \"school\", \"night\", \"enough\", \"picture\", \"money\", \"face\", \"account\", \"sick\", \"late\", \"stomach\", \"catch\", \"black\", \"deal\", \"usually\", \"join\", \"lately\", \"cover\", \"easy\", \"arm\", \"pull\", \"control\", \"wonder\", \"press\", \"interesting\", \"goddamn\", \"office\", \"chroniclife\", \"even\", \"eat\", \"cry\", \"hour\", \"last\", \"little\", \"live\", \"use\", \"old\", \"later\", \"mental\", \"tonight\", \"find\", \"read\", \"minute\", \"illness\", \"alone\", \"goal\", \"hell\", \"couldna\", \"med\", \"surgery\", \"instead\", \"pussy\", \"finish\", \"figure\", \"brain\", \"apparently\", \"book\", \"cat\", \"know\", \"still\", \"lose\", \"can\", \"mean\", \"do\", \"child\", \"cause\", \"user\", \"part\", \"open\", \"proud\", \"definitely\", \"issue\", \"grow\", \"car\", \"dona\", \"matter\", \"couple\", \"ia\", \"idea\", \"toxic\", \"type\", \"world\", \"drive\", \"meet\", \"regret\", \"mother\", \"trigger\", \"shouldna\", \"chroniclife\", \"need\", \"com\", \"talk\", \"right\", \"first\", \"call\", \"family\", \"morning\", \"pay\", \"buy\", \"sit\", \"movie\", \"sister\", \"tweet\", \"bring\", \"dead\", \"soon\", \"decide\", \"game\", \"status\", \"swear\", \"mad\", \"hang\", \"grateful\", \"active\", \"depend\", \"pick\", \"clothe\", \"complain\", \"news\", \"be\", \"today\", \"pain\", \"able\", \"guy\", \"ready\", \"heart\", \"update\", \"moment\", \"push\", \"patient\", \"chronic\", \"completely\", \"house\", \"agree\", \"funny\", \"soul\", \"single\", \"speak\", \"course\", \"\\u0153you\", \"glad\", \"alright\", \"count\", \"message\", \"emotional\", \"weed\", \"fire\", \"tooth\", \"effort\", \"chroniclife\", \"want\", \"time\", \"wait\", \"shit\", \"ill\", \"already\", \"point\", \"favorite\", \"break\", \"maybe\", \"cana\", \"half\", \"close\", \"one\", \"beautiful\", \"less\", \"snap\", \"cut\", \"together\", \"second\", \"white\", \"joke\", \"rather\", \"currently\", \"shoulder\", \"dude\", \"girlfriend\", \"lonely\", \"waste\", \"bra\", \"chroniclife\", \"bad\", \"work\", \"thank\", \"never\", \"honestly\", \"person\", \"stop\", \"great\", \"lot\", \"baby\", \"depression\", \"walk\", \"finally\", \"story\", \"video\", \"move\", \"deserve\", \"class\", \"crazy\", \"pass\", \"share\", \"explain\", \"non\", \"internet\", \"young\", \"window\", \"rip\", \"prove\", \"student\", \"beat\", \"chroniclife\", \"say\", \"start\", \"watch\", \"give\", \"have\", \"pretty\", \"play\", \"actually\", \"food\", \"leave\", \"wake\", \"least\", \"sound\", \"upset\", \"thought\", \"hear\", \"awake\", \"health\", \"blood\", \"random\", \"strong\", \"meeting\", \"lunch\", \"depress\", \"dinner\", \"color\", \"disease\", \"binge\", \"shame\", \"skinny\", \"doc\", \"chroniclife\", \"year\", \"well\", \"put\", \"ask\", \"big\", \"probably\", \"kid\", \"sure\", \"early\", \"gain\", \"tomorrow\", \"doesna\", \"realize\", \"stay\", \"suppose\", \"word\", \"fast\", \"hungry\", \"group\", \"foot\", \"episode\", \"therapy\", \"past\", \"shea\", \"begin\", \"option\", \"attempt\", \"town\", \"opinion\", \"sexual\", \"chroniclife\", \"take\", \"really\", \"fuck\", \"let\", \"care\", \"hot\", \"sad\", \"show\", \"die\", \"whole\", \"cool\", \"far\", \"damn\", \"wouldna\", \"promise\", \"summer\", \"yet\", \"fault\", \"appointment\", \"wall\", \"public\", \"fight\", \"chocolate\", \"plan\", \"form\", \"ride\", \"nee\", \"unfortunately\", \"chat\", \"vent\", \"chroniclife\", \"good\", \"sleep\", \"week\", \"weight\", \"send\", \"nice\", \"full\", \"forget\", \"turn\", \"hit\", \"hella\", \"set\", \"stuff\", \"replace\", \"reason\", \"eye\", \"handle\", \"support\", \"add\", \"scream\", \"shake\", \"test\", \"abusive\", \"sensitive\", \"assume\", \"speed\", \"appreciate\", \"goodnight\", \"min\", \"excited\", \"chroniclife\", \"s\", \"long\", \"bitch\", \"ass\", \"omg\", \"sorry\", \"else\", \"anymore\", \"bed\", \"isna\", \"remember\", \"like\", \"shitty\", \"hair\", \"period\", \"worth\", \"attack\", \"skin\", \"grade\", \"okay\", \"super\", \"drop\", \"best\", \"longer\", \"bf\", \"daughter\", \"number\", \"dumb\", \"treat\", \"often\", \"hoe\", \"wasna\", \"chroniclife\", \"think\", \"could\", \"hurt\", \"run\", \"truly\", \"note\", \"wish\", \"water\", \"especially\", \"clean\", \"bug\", \"feeling\", \"low\", \"kinda\", \"animal\", \"neck\", \"box\", \"shower\", \"design\", \"bathroom\", \"anxious\", \"door\", \"lip\", \"scare\", \"rare\", \"tea\", \"shoot\", \"dark\", \"city\", \"remove\", \"chroniclife\", \"photo\", \"girl\", \"keep\", \"post\", \"month\", \"almost\", \"listen\", \"different\", \"touch\", \"cold\", \"mood\", \"rn\", \"busy\", \"relate\", \"thata\", \"coffee\", \"stable\", \"weekend\", \"forever\", \"text\", \"country\", \"sub\", \"mentally\", \"search\", \"bottle\", \"apartment\", \"thigh\", \"eyebrow\", \"warm\", \"neighbor\", \"much\", \"may\", \"body\", \"pound\", \"end\", \"many\", \"better\", \"kiss\", \"yesterday\", \"relationship\", \"miss\", \"ugh\", \"tho\", \"fun\", \"bit\", \"smh\", \"birth\", \"light\", \"suicide\", \"likely\", \"abuse\", \"therapist\", \"result\", \"lady\", \"tour\", \"sexually\", \"medical\", \"itch\", \"allow\", \"shopping\", \"chroniclife\", \"look\", \"fucking\", \"new\", \"mom\", \"fat\", \"hand\", \"place\", \"amazing\", \"learn\", \"stress\", \"room\", \"stupid\", \"question\", \"honest\", \"totally\", \"breakfast\", \"order\", \"piece\", \"potato\", \"meat\", \"apologize\", \"process\", \"pant\", \"dad\", \"chest\", \"crap\", \"gut\", \"crush\", \"team\", \"judge\", \"chroniclife\"], \"Freq\": [2267.0, 2111.0, 1883.0, 1305.0, 1076.0, 1059.0, 1150.0, 961.0, 1001.0, 854.0, 746.0, 815.0, 831.0, 773.0, 765.0, 719.0, 581.0, 693.0, 617.0, 530.0, 559.0, 559.0, 527.0, 648.0, 572.0, 570.0, 586.0, 618.0, 551.0, 568.0, 1149.202392578125, 1000.8643188476562, 647.363525390625, 617.9444580078125, 485.9214782714844, 421.3601379394531, 386.0330810546875, 276.24066162109375, 254.7281494140625, 242.8917236328125, 222.91664123535156, 175.53250122070312, 159.16049194335938, 142.5980224609375, 135.57867431640625, 108.49308013916016, 93.12071990966797, 91.54856872558594, 76.06106567382812, 72.31244659423828, 70.47994995117188, 66.83515930175781, 66.76892852783203, 66.21060943603516, 60.7775764465332, 58.084312438964844, 57.126651763916016, 44.56410217285156, 40.13235855102539, 38.524871826171875, 38.97384262084961, 56.023780822753906, 1305.0902099609375, 764.9306030273438, 718.2212524414062, 458.37841796875, 407.06329345703125, 309.8251647949219, 283.8621826171875, 237.96568298339844, 210.1453094482422, 186.6533203125, 133.58303833007812, 94.86100006103516, 87.52946472167969, 84.61955261230469, 77.28021240234375, 74.51481628417969, 71.30503845214844, 70.19551849365234, 69.44385528564453, 68.43291473388672, 63.71828842163086, 63.34228515625, 60.88832473754883, 54.0107421875, 53.985774993896484, 53.009586334228516, 51.16164779663086, 48.75489044189453, 48.577476501464844, 46.789730072021484, 62.35243225097656, 692.437255859375, 567.2227783203125, 526.0066528320312, 250.47039794921875, 214.16455078125, 208.34666442871094, 192.99734497070312, 178.82757568359375, 178.05685424804688, 149.66041564941406, 135.5884246826172, 133.33856201171875, 129.4001007080078, 126.0389633178711, 123.90467071533203, 123.85282897949219, 118.0345230102539, 112.82130432128906, 85.0256576538086, 84.1466293334961, 83.93550872802734, 83.48114776611328, 80.8338623046875, 77.87731170654297, 76.8373031616211, 75.3249282836914, 73.00902557373047, 66.27006530761719, 64.63421630859375, 64.01984405517578, 81.51493835449219, 2266.951904296875, 830.2987670898438, 450.19842529296875, 195.93804931640625, 191.0851287841797, 138.9238739013672, 135.73329162597656, 128.86627197265625, 116.58139038085938, 93.17422485351562, 91.3263931274414, 86.45812225341797, 84.12918853759766, 83.74422454833984, 81.63150024414062, 70.62525939941406, 69.88834381103516, 69.1787109375, 57.8849983215332, 51.5345458984375, 47.86907958984375, 46.78693771362305, 46.11681365966797, 42.7514533996582, 40.1949348449707, 39.1484489440918, 38.99312210083008, 38.252689361572266, 35.804420471191406, 35.55878448486328, 63.038875579833984, 1882.5338134765625, 585.5505981445312, 431.77960205078125, 294.96453857421875, 260.8648376464844, 215.01785278320312, 187.4849853515625, 173.2884521484375, 141.20327758789062, 104.58834838867188, 96.33290100097656, 92.69866943359375, 84.48725891113281, 83.99143981933594, 80.75390625, 69.80449676513672, 69.49640655517578, 59.92927932739258, 59.05525207519531, 58.97532272338867, 53.26708221435547, 53.24735641479492, 49.44391632080078, 48.84513854980469, 44.526397705078125, 43.283329010009766, 40.02149963378906, 36.55203628540039, 35.099212646484375, 33.45127868652344, 53.714210510253906, 550.9293212890625, 418.6570129394531, 363.7547607421875, 342.8742370605469, 295.3363342285156, 283.6470642089844, 262.9007568359375, 259.5641784667969, 145.89878845214844, 141.30552673339844, 137.19000244140625, 128.75027465820312, 126.85911560058594, 114.00506591796875, 108.73197937011719, 103.33062744140625, 95.66497802734375, 93.6683349609375, 81.70767211914062, 77.64392852783203, 76.58489227294922, 72.39303588867188, 69.08240509033203, 68.92405700683594, 59.09793472290039, 58.479949951171875, 54.87485885620117, 54.17511749267578, 50.45844650268555, 50.33784484863281, 1059.0711669921875, 522.4684448242188, 331.6322326660156, 297.0253601074219, 217.35946655273438, 192.49166870117188, 152.98477172851562, 152.85975646972656, 140.6300048828125, 137.49887084960938, 119.26143646240234, 117.44959259033203, 117.0470199584961, 109.45237731933594, 104.32493591308594, 103.32608032226562, 101.90353393554688, 101.15032196044922, 98.33665466308594, 91.21377563476562, 90.12905883789062, 87.05879211425781, 79.15692901611328, 76.56217193603516, 74.04193115234375, 65.05694580078125, 60.501502990722656, 55.763031005859375, 55.13699722290039, 46.67514419555664, 87.92473602294922, 814.244873046875, 616.5563354492188, 406.2718811035156, 348.7728576660156, 242.62855529785156, 234.2103729248047, 199.1882781982422, 170.91311645507812, 148.5607452392578, 140.44815063476562, 134.80789184570312, 126.60444641113281, 125.59585571289062, 124.79695129394531, 116.0546875, 103.70294189453125, 94.14414978027344, 89.25638580322266, 79.75186920166016, 75.9294204711914, 71.44950103759766, 67.68396759033203, 62.969783782958984, 59.15085983276367, 57.15092468261719, 54.8492546081543, 51.8897819519043, 46.493247985839844, 44.247196197509766, 43.83022689819336, 2110.323486328125, 571.8772583007812, 243.672607421875, 219.90354919433594, 177.85150146484375, 164.39617919921875, 152.1983642578125, 107.90816497802734, 97.92244720458984, 86.80873107910156, 75.75108337402344, 72.07266235351562, 66.81581115722656, 66.64005279541016, 59.41811752319336, 58.68726348876953, 56.52731704711914, 52.08616638183594, 47.11353302001953, 42.90193557739258, 40.692161560058594, 39.23330307006836, 38.9227180480957, 36.10548782348633, 34.08637619018555, 34.04817581176758, 32.9741096496582, 31.161312103271484, 30.46726417541504, 30.07091522216797, 56.89873123168945, 1075.8206787109375, 772.1885375976562, 414.2989196777344, 372.29541015625, 243.240234375, 215.90440368652344, 190.8285675048828, 173.59646606445312, 163.4833526611328, 153.7913055419922, 130.01051330566406, 112.9292984008789, 102.02983093261719, 101.07115173339844, 89.82318878173828, 77.96479797363281, 69.34054565429688, 62.39429473876953, 62.329044342041016, 62.007503509521484, 53.02202224731445, 46.473289489746094, 45.47590637207031, 44.578609466552734, 44.460472106933594, 43.7822265625, 41.4527702331543, 38.071773529052734, 35.69480895996094, 35.02659606933594, 49.878143310546875, 569.1965942382812, 495.0659484863281, 450.8315734863281, 389.19677734375, 385.05572509765625, 345.6532287597656, 321.4516296386719, 228.22674560546875, 224.43446350097656, 217.18727111816406, 151.96717834472656, 148.60704040527344, 135.49681091308594, 126.30748748779297, 98.90830993652344, 97.79642486572266, 80.33232879638672, 77.81327056884766, 76.99237060546875, 74.02815246582031, 55.051109313964844, 43.583011627197266, 40.07254409790039, 38.036399841308594, 37.86484909057617, 36.85808181762695, 34.899131774902344, 29.111209869384766, 26.49970054626465, 26.20785140991211, 60.81818771362305, 853.8603515625, 509.2261962890625, 428.16522216796875, 398.38458251953125, 377.1558837890625, 233.7241668701172, 195.77870178222656, 176.1996612548828, 174.57069396972656, 173.6561737060547, 158.92132568359375, 158.85789489746094, 109.2508773803711, 105.63897705078125, 84.8749008178711, 79.27377319335938, 67.19151306152344, 63.53101348876953, 60.9669075012207, 55.11000061035156, 50.82715606689453, 48.834197998046875, 42.7727165222168, 40.19183349609375, 38.98247146606445, 35.989707946777344, 34.848487854003906, 31.131872177124023, 29.654170989990234, 28.291584014892578, 31.31210708618164, 84.29813385009766, 481.3990173339844, 348.6697082519531, 294.38592529296875, 289.0536804199219, 227.1519012451172, 205.62973022460938, 191.73681640625, 148.11817932128906, 133.90548706054688, 128.49549865722656, 119.14118194580078, 118.7810287475586, 99.30863189697266, 87.8753433227539, 81.35318756103516, 81.14043426513672, 77.35591125488281, 70.61393737792969, 65.71239471435547, 63.43363571166992, 63.33689880371094, 62.78459930419922, 60.937721252441406, 59.93475341796875, 53.497337341308594, 49.34653854370117, 46.945472717285156, 46.74056625366211, 42.3421630859375, 40.73699188232422, 102.06474304199219, 558.5116577148438, 558.5640869140625, 417.97265625, 385.7485046386719, 238.79107666015625, 183.3312530517578, 166.84922790527344, 163.99337768554688, 139.84251403808594, 122.01402282714844, 106.48103332519531, 98.40301513671875, 96.89370727539062, 91.68174743652344, 68.37454223632812, 64.64740753173828, 62.90557098388672, 54.25889205932617, 49.46141052246094, 45.948490142822266, 45.538265228271484, 42.531883239746094, 38.74403762817383, 35.133811950683594, 32.9328727722168, 31.457496643066406, 30.11992073059082, 28.894453048706055, 26.155221939086914, 25.850069046020508, 56.26241683959961, 960.1857299804688, 281.4790344238281, 255.61044311523438, 193.7732391357422, 155.5682830810547, 139.6823272705078, 130.06954956054688, 119.49919128417969, 119.39414978027344, 105.11273956298828, 95.10697937011719, 89.09516143798828, 83.06473541259766, 81.09367370605469, 73.35216522216797, 73.31021118164062, 72.74195098876953, 71.18043518066406, 59.00995635986328, 57.57229232788086, 57.03733825683594, 48.75450134277344, 45.59282302856445, 43.2951545715332, 41.75130844116211, 41.69552993774414, 40.66427230834961, 40.62238693237305, 38.456993103027344, 38.42493438720703, 52.72119903564453, 376.1574401855469, 223.97325134277344, 195.9228057861328, 195.52134704589844, 164.3869171142578, 143.31544494628906, 135.09800720214844, 134.80609130859375, 133.45867919921875, 115.48772430419922, 112.64797973632812, 96.04906463623047, 89.7156982421875, 79.4605484008789, 75.97207641601562, 68.6978988647461, 68.45558166503906, 65.47205352783203, 64.27601623535156, 64.22555541992188, 60.22500991821289, 57.19903564453125, 56.9751091003418, 47.240440368652344, 45.002044677734375, 41.969871520996094, 40.289127349853516, 39.073543548583984, 37.45424270629883, 36.944664001464844, 42.578956604003906, 41.89170455932617, 40.156410217285156, 746.0464477539062, 401.2607421875, 192.70578002929688, 144.11245727539062, 133.87197875976562, 118.87399291992188, 109.27679443359375, 95.09175109863281, 73.67465209960938, 69.05718994140625, 58.753318786621094, 58.09926223754883, 57.81866455078125, 54.804683685302734, 50.84035873413086, 50.254669189453125, 48.33341979980469, 41.79332733154297, 41.71681594848633, 40.79656982421875, 38.899559020996094, 37.302490234375, 35.82510757446289, 35.418514251708984, 33.55464172363281, 33.509925842285156, 33.21244812011719, 31.660236358642578, 29.134502410888672, 28.57737922668457, 30.19635581970215, 526.185791015625, 314.01171875, 311.865966796875, 206.16775512695312, 187.2603759765625, 141.04417419433594, 100.53999328613281, 87.18760681152344, 83.01805114746094, 83.01075744628906, 76.60054016113281, 75.47137451171875, 70.0960922241211, 61.84195327758789, 59.55284118652344, 57.75838088989258, 46.519893646240234, 44.979183197021484, 44.408409118652344, 40.19482421875, 37.734256744384766, 34.80856704711914, 34.03280258178711, 33.32129669189453, 32.626522064208984, 30.20768928527832, 29.01982879638672, 28.876388549804688, 27.630142211914062, 27.316362380981445, 580.8804931640625, 273.8694763183594, 226.6351776123047, 198.1322021484375, 190.08999633789062, 175.34974670410156, 159.27392578125, 117.611328125, 100.03944396972656, 97.30606842041016, 96.8752212524414, 96.33680725097656, 84.36991882324219, 73.26691436767578, 55.529319763183594, 51.02748489379883, 50.29534912109375, 40.503074645996094, 40.237667083740234, 37.715396881103516, 36.84891891479492, 34.6157112121582, 34.534698486328125, 33.61412048339844, 33.071048736572266, 30.10438346862793, 29.237899780273438, 28.889984130859375, 27.88231658935547, 26.79882049560547, 49.31563186645508, 529.72021484375, 373.88525390625, 229.29779052734375, 222.98907470703125, 215.26353454589844, 162.25387573242188, 143.54139709472656, 132.40206909179688, 106.60081481933594, 79.88459777832031, 75.08319091796875, 74.628662109375, 70.50193786621094, 65.31078338623047, 63.92811584472656, 57.38065719604492, 52.40280532836914, 51.46843338012695, 45.32485580444336, 44.208961486816406, 35.70823669433594, 35.08356857299805, 34.45600509643555, 33.72148132324219, 33.062625885009766, 32.059696197509766, 30.981618881225586, 30.43419647216797, 27.64783477783203, 27.10832405090332, 31.882049560546875], \"Total\": [2267.0, 2111.0, 1883.0, 1305.0, 1076.0, 1059.0, 1150.0, 961.0, 1001.0, 854.0, 746.0, 815.0, 831.0, 773.0, 765.0, 719.0, 581.0, 693.0, 617.0, 530.0, 559.0, 559.0, 527.0, 648.0, 572.0, 570.0, 586.0, 618.0, 551.0, 568.0, 1150.052978515625, 1001.71484375, 648.2140502929688, 618.7949829101562, 486.77197265625, 422.21063232421875, 386.8835754394531, 277.0911560058594, 255.57861328125, 243.7421875, 223.76710510253906, 176.38296508789062, 160.01095581054688, 143.448486328125, 136.42913818359375, 109.34356689453125, 93.97120666503906, 92.39905548095703, 76.91155242919922, 73.16293334960938, 71.33043670654297, 67.6856460571289, 67.61941528320312, 67.06109619140625, 61.62807083129883, 58.93480682373047, 57.97714614868164, 45.41459655761719, 40.982852935791016, 39.3753662109375, 41.64654541015625, 1112.248779296875, 1305.9359130859375, 765.7761840820312, 719.0668334960938, 459.2240295410156, 407.9089050292969, 310.6707763671875, 284.7077941894531, 238.81124877929688, 210.99087524414062, 187.49888610839844, 134.42868041992188, 95.70658874511719, 88.37505340576172, 85.46514129638672, 78.12580108642578, 75.36040496826172, 72.15071868896484, 71.04110717773438, 70.28944396972656, 69.27850341796875, 64.56387329101562, 64.18787384033203, 61.733917236328125, 54.8563346862793, 54.83136749267578, 53.85517883300781, 52.007240295410156, 49.60048294067383, 49.42306900024414, 47.63532257080078, 1112.248779296875, 693.2849731445312, 568.0704956054688, 526.8543701171875, 251.31808471679688, 215.01223754882812, 209.19435119628906, 193.84503173828125, 179.67526245117188, 178.904541015625, 150.5081024169922, 136.4361114501953, 134.18624877929688, 130.24778747558594, 126.88666534423828, 124.75237274169922, 124.70053100585938, 118.8822250366211, 113.66900634765625, 85.87335968017578, 84.99433135986328, 84.78321075439453, 84.32884979248047, 81.68156433105469, 78.72501373291016, 77.68500518798828, 76.1726303100586, 73.85672760009766, 67.11776733398438, 65.48191833496094, 64.86754608154297, 1112.248779296875, 2267.80322265625, 831.1500854492188, 451.04974365234375, 196.7893524169922, 191.93643188476562, 139.77517700195312, 136.5845947265625, 129.7175750732422, 117.43270874023438, 94.02554321289062, 92.1777114868164, 87.30944061279297, 84.98050689697266, 84.59554290771484, 82.48281860351562, 71.47657775878906, 70.73966217041016, 70.030029296875, 58.736328125, 52.3858757019043, 48.72040939331055, 47.638267517089844, 46.968143463134766, 43.602783203125, 41.0462646484375, 39.999778747558594, 39.844451904296875, 39.10401916503906, 36.6557502746582, 36.41011428833008, 1112.248779296875, 1883.3853759765625, 586.4019165039062, 432.6309509277344, 295.8158874511719, 261.7161865234375, 215.8691864013672, 188.33631896972656, 174.13978576660156, 142.0546112060547, 105.43968963623047, 97.18424224853516, 93.55001068115234, 85.3386001586914, 84.84278106689453, 81.6052474975586, 70.65583801269531, 70.34774780273438, 60.7806282043457, 59.90660095214844, 59.8266716003418, 54.118431091308594, 54.09870529174805, 50.295265197753906, 49.69648742675781, 45.37774658203125, 44.13467788696289, 40.87548828125, 37.403385162353516, 35.957584381103516, 34.30262756347656, 1112.248779296875, 551.7786254882812, 419.5063781738281, 364.6041259765625, 343.7236022949219, 296.1856994628906, 284.4964294433594, 263.7501220703125, 260.4135437011719, 146.7481231689453, 142.1548614501953, 138.03933715820312, 129.599609375, 127.70845794677734, 114.85440826416016, 109.5813217163086, 104.17996978759766, 96.51432037353516, 94.5176773071289, 82.55701446533203, 78.49327087402344, 77.43423461914062, 73.24237823486328, 69.93174743652344, 69.77339935302734, 59.94728469848633, 59.32929992675781, 55.72420883178711, 55.02446746826172, 51.307796478271484, 51.18719482421875, 1059.921142578125, 523.3182373046875, 332.4820861816406, 297.8752136230469, 218.2092742919922, 193.3414764404297, 153.83457946777344, 153.70956420898438, 141.4798126220703, 138.3486785888672, 120.11125183105469, 118.29940795898438, 117.89683532714844, 110.30219268798828, 105.17475128173828, 104.17589569091797, 102.75334930419922, 102.00013732910156, 99.18647003173828, 92.06359100341797, 90.97887420654297, 87.90860748291016, 80.00674438476562, 77.4119873046875, 74.8917465209961, 65.9067611694336, 61.35133361816406, 56.61286163330078, 55.9868278503418, 47.52497482299805, 1112.248779296875, 815.0909423828125, 617.4024047851562, 407.117919921875, 349.618896484375, 243.47454833984375, 235.05636596679688, 200.03427124023438, 171.7591094970703, 149.40673828125, 141.2941436767578, 135.6538848876953, 127.4504623413086, 126.4418716430664, 125.6429672241211, 116.90070343017578, 104.54895782470703, 94.99016571044922, 90.10240173339844, 80.59788513183594, 76.77543640136719, 72.29551696777344, 68.52998352050781, 63.81581115722656, 59.99688720703125, 57.996952056884766, 55.695281982421875, 52.735809326171875, 47.33927536010742, 45.093223571777344, 44.67625427246094, 2111.171142578125, 572.7250366210938, 244.52032470703125, 220.7512664794922, 178.69921875, 165.243896484375, 153.04608154296875, 108.75590515136719, 98.77018737792969, 87.6564712524414, 76.59883117675781, 72.92040252685547, 67.6635513305664, 67.48779296875, 60.265865325927734, 59.535011291503906, 57.375064849853516, 52.93391418457031, 47.961280822753906, 43.74968338012695, 41.541629791259766, 40.081050872802734, 39.77046585083008, 36.9532356262207, 34.93412399291992, 34.89592361450195, 33.82185745239258, 32.009056091308594, 31.315006256103516, 30.919471740722656, 1112.248779296875, 1076.673095703125, 773.0408935546875, 415.1512451171875, 373.1477355957031, 244.092529296875, 216.75669860839844, 191.6808624267578, 174.44876098632812, 164.3356475830078, 154.6436004638672, 130.86280822753906, 113.78160858154297, 102.88214111328125, 101.9234619140625, 90.67549896240234, 78.81710815429688, 70.19285583496094, 63.246612548828125, 63.18136215209961, 62.85982131958008, 53.87434005737305, 47.32560729980469, 46.328224182128906, 45.43092727661133, 45.31278991699219, 44.634544372558594, 42.30508804321289, 38.92409133911133, 36.54712677001953, 35.87891387939453, 1112.248779296875, 570.0442504882812, 495.9135437011719, 451.6791687011719, 390.04437255859375, 385.9033203125, 346.5008239746094, 322.2992248535156, 229.0742950439453, 225.28201293945312, 218.03482055664062, 152.81472778320312, 149.45458984375, 136.3443603515625, 127.15505981445312, 99.7558822631836, 98.64399719238281, 81.17990112304688, 78.66084289550781, 77.8399429321289, 74.87572479248047, 55.89868927001953, 44.43059158325195, 40.92012405395508, 38.88397979736328, 38.71242904663086, 37.70566177368164, 35.74671173095703, 29.95878791809082, 27.347278594970703, 27.055429458618164, 1112.248779296875, 854.70947265625, 510.07525634765625, 429.0142822265625, 399.233642578125, 378.00494384765625, 234.5731964111328, 196.6277313232422, 177.04869079589844, 175.4197235107422, 174.5052032470703, 159.77035522460938, 159.70692443847656, 110.09992218017578, 106.48802185058594, 85.72394561767578, 80.12281799316406, 68.04055786132812, 64.38005828857422, 61.81596374511719, 55.95905685424805, 51.676212310791016, 49.68325424194336, 43.62177276611328, 41.040889739990234, 39.83152770996094, 36.83876419067383, 35.69754409790039, 31.98092269897461, 30.503223419189453, 29.140634536743164, 32.310726165771484, 1112.248779296875, 482.2461853027344, 349.5168762207031, 295.23309326171875, 289.9008483886719, 227.9990234375, 206.4768524169922, 192.5839385986328, 148.96530151367188, 134.7526092529297, 129.34262084960938, 119.98831939697266, 119.62816619873047, 100.15576934814453, 88.72248077392578, 82.20032501220703, 81.9875717163086, 78.20304870605469, 71.46107482910156, 66.55953216552734, 64.28076934814453, 64.18404388427734, 63.631744384765625, 61.78486633300781, 60.781898498535156, 54.344482421875, 50.19368362426758, 47.79261779785156, 47.587711334228516, 43.189308166503906, 41.584136962890625, 1112.248779296875, 559.363525390625, 559.4159545898438, 418.82452392578125, 386.6003723144531, 239.64292907714844, 184.18310546875, 167.70108032226562, 164.84523010253906, 140.69436645507812, 122.86587524414062, 107.3328857421875, 99.25486755371094, 97.74555969238281, 92.56009674072266, 69.22639465332031, 65.49925994873047, 63.75743103027344, 55.11075210571289, 50.313270568847656, 46.800350189208984, 46.3901252746582, 43.38374328613281, 39.59589767456055, 35.98567199707031, 33.784732818603516, 32.309356689453125, 30.97178077697754, 29.746389389038086, 27.007081985473633, 26.70208740234375, 1112.248779296875, 961.0377807617188, 282.3310241699219, 256.4624328613281, 194.625244140625, 156.4202880859375, 140.53433227539062, 130.9215545654297, 120.3511962890625, 120.24615478515625, 105.9647445678711, 95.96048736572266, 89.9471664428711, 83.91674041748047, 81.94568634033203, 74.20417022705078, 74.16221618652344, 73.59395599365234, 72.03244018554688, 59.861968994140625, 58.4243049621582, 57.88935089111328, 49.60651397705078, 46.4448356628418, 44.14716720581055, 42.60332107543945, 42.547542572021484, 41.51628494262695, 41.47439956665039, 39.30900573730469, 39.276947021484375, 1112.248779296875, 377.0088806152344, 224.82469177246094, 196.7742462158203, 196.37278747558594, 165.2383575439453, 144.16688537597656, 135.94944763183594, 135.65753173828125, 134.31011962890625, 116.33916473388672, 113.49942016601562, 96.90050506591797, 90.567138671875, 80.3119888305664, 76.82351684570312, 69.5493392944336, 69.30702209472656, 66.32349395751953, 65.12745666503906, 65.07699584960938, 61.076454162597656, 58.050479888916016, 57.82655334472656, 48.09188461303711, 45.85348892211914, 42.82131576538086, 41.14057159423828, 39.92498779296875, 38.305686950683594, 37.79610824584961, 43.9628791809082, 44.00589370727539, 1112.248779296875, 746.8921508789062, 402.1064147949219, 193.55145263671875, 144.9581298828125, 134.7176513671875, 119.71968078613281, 110.12248229980469, 95.93743896484375, 74.52033996582031, 69.90287780761719, 59.5990104675293, 58.94495391845703, 58.66435623168945, 55.65037536621094, 51.68605041503906, 51.10036087036133, 49.17911148071289, 42.63901901245117, 42.56250762939453, 41.64226150512695, 39.7452507019043, 38.1481819152832, 36.670799255371094, 36.26420593261719, 34.400333404541016, 34.35561752319336, 34.05813980102539, 32.50592803955078, 29.98019027709961, 29.423067092895508, 1112.248779296875, 527.0359497070312, 314.86187744140625, 312.71612548828125, 207.0178985595703, 188.1105194091797, 141.89431762695312, 101.39014434814453, 88.03775787353516, 83.86820220947266, 83.86090850830078, 77.45069122314453, 76.32152557373047, 70.94624328613281, 62.692108154296875, 60.40299606323242, 58.60853576660156, 47.37004852294922, 45.82933807373047, 45.25856399536133, 41.044979095458984, 38.58441162109375, 35.658721923828125, 34.882957458496094, 34.171451568603516, 33.47667694091797, 31.057842254638672, 29.869983673095703, 29.72654151916504, 28.480295181274414, 28.166515350341797, 581.7275390625, 274.7164611816406, 227.482177734375, 198.9792022705078, 190.93699645996094, 176.19674682617188, 160.1209259033203, 118.45832824707031, 100.88644409179688, 98.15306854248047, 97.72222137451172, 97.18380737304688, 85.2169189453125, 74.1139144897461, 56.37632369995117, 51.874488830566406, 51.14235305786133, 41.35007858276367, 41.08467102050781, 38.562400817871094, 37.6959228515625, 35.46271514892578, 35.3817024230957, 34.461124420166016, 33.918052673339844, 30.951385498046875, 30.084901809692383, 29.737218856811523, 28.72931671142578, 27.645822525024414, 1112.248779296875, 530.5671997070312, 374.73223876953125, 230.144775390625, 223.8360595703125, 216.1105194091797, 163.10086059570312, 144.3883819580078, 133.24905395507812, 107.44780731201172, 80.7315902709961, 75.93018341064453, 75.47565460205078, 71.34893035888672, 66.15777587890625, 64.77510833740234, 58.2276496887207, 53.24979782104492, 52.315425872802734, 46.17184829711914, 45.055965423583984, 36.55522918701172, 35.93056106567383, 35.30299758911133, 34.56847381591797, 33.90961837768555, 32.90754699707031, 31.828622817993164, 31.281187057495117, 28.49482536315918, 27.95531463623047, 1112.248779296875], \"Category\": [\"Default\", \"Default\", \"Default\", \"Default\", \"Default\", \"Default\", \"Default\", \"Default\", \"Default\", \"Default\", \"Default\", \"Default\", \"Default\", \"Default\", \"Default\", \"Default\", \"Default\", \"Default\", \"Default\", \"Default\", \"Default\", \"Default\", \"Default\", \"Default\", \"Default\", \"Default\", \"Default\", \"Default\", \"Default\", \"Default\", \"Topic1\", \"Topic1\", \"Topic1\", \"Topic1\", \"Topic1\", \"Topic1\", \"Topic1\", \"Topic1\", \"Topic1\", \"Topic1\", \"Topic1\", \"Topic1\", \"Topic1\", \"Topic1\", \"Topic1\", \"Topic1\", \"Topic1\", \"Topic1\", \"Topic1\", \"Topic1\", \"Topic1\", \"Topic1\", \"Topic1\", \"Topic1\", \"Topic1\", \"Topic1\", \"Topic1\", \"Topic1\", \"Topic1\", \"Topic1\", \"Topic1\", \"Topic1\", \"Topic2\", \"Topic2\", \"Topic2\", \"Topic2\", \"Topic2\", \"Topic2\", \"Topic2\", \"Topic2\", \"Topic2\", \"Topic2\", \"Topic2\", \"Topic2\", \"Topic2\", \"Topic2\", \"Topic2\", \"Topic2\", \"Topic2\", \"Topic2\", \"Topic2\", \"Topic2\", \"Topic2\", \"Topic2\", \"Topic2\", \"Topic2\", \"Topic2\", \"Topic2\", \"Topic2\", \"Topic2\", \"Topic2\", \"Topic2\", \"Topic2\", \"Topic3\", \"Topic3\", \"Topic3\", \"Topic3\", \"Topic3\", \"Topic3\", \"Topic3\", \"Topic3\", \"Topic3\", \"Topic3\", \"Topic3\", \"Topic3\", \"Topic3\", \"Topic3\", \"Topic3\", \"Topic3\", \"Topic3\", \"Topic3\", \"Topic3\", \"Topic3\", \"Topic3\", \"Topic3\", \"Topic3\", \"Topic3\", \"Topic3\", \"Topic3\", \"Topic3\", \"Topic3\", \"Topic3\", \"Topic3\", \"Topic3\", \"Topic4\", \"Topic4\", \"Topic4\", \"Topic4\", \"Topic4\", \"Topic4\", \"Topic4\", \"Topic4\", \"Topic4\", \"Topic4\", \"Topic4\", \"Topic4\", \"Topic4\", \"Topic4\", \"Topic4\", \"Topic4\", \"Topic4\", \"Topic4\", \"Topic4\", \"Topic4\", \"Topic4\", \"Topic4\", \"Topic4\", \"Topic4\", \"Topic4\", \"Topic4\", \"Topic4\", \"Topic4\", \"Topic4\", \"Topic4\", \"Topic4\", \"Topic5\", \"Topic5\", \"Topic5\", \"Topic5\", \"Topic5\", \"Topic5\", \"Topic5\", \"Topic5\", \"Topic5\", \"Topic5\", \"Topic5\", \"Topic5\", \"Topic5\", \"Topic5\", \"Topic5\", \"Topic5\", \"Topic5\", \"Topic5\", \"Topic5\", \"Topic5\", \"Topic5\", \"Topic5\", \"Topic5\", \"Topic5\", \"Topic5\", \"Topic5\", \"Topic5\", \"Topic5\", \"Topic5\", \"Topic5\", \"Topic5\", \"Topic6\", \"Topic6\", \"Topic6\", \"Topic6\", \"Topic6\", \"Topic6\", \"Topic6\", \"Topic6\", \"Topic6\", \"Topic6\", \"Topic6\", \"Topic6\", \"Topic6\", \"Topic6\", \"Topic6\", \"Topic6\", \"Topic6\", \"Topic6\", \"Topic6\", \"Topic6\", \"Topic6\", \"Topic6\", \"Topic6\", \"Topic6\", \"Topic6\", \"Topic6\", \"Topic6\", \"Topic6\", \"Topic6\", \"Topic6\", \"Topic7\", \"Topic7\", \"Topic7\", \"Topic7\", \"Topic7\", \"Topic7\", \"Topic7\", \"Topic7\", \"Topic7\", \"Topic7\", \"Topic7\", \"Topic7\", \"Topic7\", \"Topic7\", \"Topic7\", \"Topic7\", \"Topic7\", \"Topic7\", \"Topic7\", \"Topic7\", \"Topic7\", \"Topic7\", \"Topic7\", \"Topic7\", \"Topic7\", \"Topic7\", \"Topic7\", \"Topic7\", \"Topic7\", \"Topic7\", \"Topic7\", \"Topic8\", \"Topic8\", \"Topic8\", \"Topic8\", \"Topic8\", \"Topic8\", \"Topic8\", \"Topic8\", \"Topic8\", \"Topic8\", \"Topic8\", \"Topic8\", \"Topic8\", \"Topic8\", \"Topic8\", \"Topic8\", \"Topic8\", \"Topic8\", \"Topic8\", \"Topic8\", \"Topic8\", \"Topic8\", \"Topic8\", \"Topic8\", \"Topic8\", \"Topic8\", \"Topic8\", \"Topic8\", \"Topic8\", \"Topic8\", \"Topic9\", \"Topic9\", \"Topic9\", \"Topic9\", \"Topic9\", \"Topic9\", \"Topic9\", \"Topic9\", \"Topic9\", \"Topic9\", \"Topic9\", \"Topic9\", \"Topic9\", \"Topic9\", \"Topic9\", \"Topic9\", \"Topic9\", \"Topic9\", \"Topic9\", \"Topic9\", \"Topic9\", \"Topic9\", \"Topic9\", \"Topic9\", \"Topic9\", \"Topic9\", \"Topic9\", \"Topic9\", \"Topic9\", \"Topic9\", \"Topic9\", \"Topic10\", \"Topic10\", \"Topic10\", \"Topic10\", \"Topic10\", \"Topic10\", \"Topic10\", \"Topic10\", \"Topic10\", \"Topic10\", \"Topic10\", \"Topic10\", \"Topic10\", \"Topic10\", \"Topic10\", \"Topic10\", \"Topic10\", \"Topic10\", \"Topic10\", \"Topic10\", \"Topic10\", \"Topic10\", \"Topic10\", \"Topic10\", \"Topic10\", \"Topic10\", \"Topic10\", \"Topic10\", \"Topic10\", \"Topic10\", \"Topic10\", \"Topic11\", \"Topic11\", \"Topic11\", \"Topic11\", \"Topic11\", \"Topic11\", \"Topic11\", \"Topic11\", \"Topic11\", \"Topic11\", \"Topic11\", \"Topic11\", \"Topic11\", \"Topic11\", \"Topic11\", \"Topic11\", \"Topic11\", \"Topic11\", \"Topic11\", \"Topic11\", \"Topic11\", \"Topic11\", \"Topic11\", \"Topic11\", \"Topic11\", \"Topic11\", \"Topic11\", \"Topic11\", \"Topic11\", \"Topic11\", \"Topic11\", \"Topic12\", \"Topic12\", \"Topic12\", \"Topic12\", \"Topic12\", \"Topic12\", \"Topic12\", \"Topic12\", \"Topic12\", \"Topic12\", \"Topic12\", \"Topic12\", \"Topic12\", \"Topic12\", \"Topic12\", \"Topic12\", \"Topic12\", \"Topic12\", \"Topic12\", \"Topic12\", \"Topic12\", \"Topic12\", \"Topic12\", \"Topic12\", \"Topic12\", \"Topic12\", \"Topic12\", \"Topic12\", \"Topic12\", \"Topic12\", \"Topic12\", \"Topic12\", \"Topic13\", \"Topic13\", \"Topic13\", \"Topic13\", \"Topic13\", \"Topic13\", \"Topic13\", \"Topic13\", \"Topic13\", \"Topic13\", \"Topic13\", \"Topic13\", \"Topic13\", \"Topic13\", \"Topic13\", \"Topic13\", \"Topic13\", \"Topic13\", \"Topic13\", \"Topic13\", \"Topic13\", \"Topic13\", \"Topic13\", \"Topic13\", \"Topic13\", \"Topic13\", \"Topic13\", \"Topic13\", \"Topic13\", \"Topic13\", \"Topic13\", \"Topic14\", \"Topic14\", \"Topic14\", \"Topic14\", \"Topic14\", \"Topic14\", \"Topic14\", \"Topic14\", \"Topic14\", \"Topic14\", \"Topic14\", \"Topic14\", \"Topic14\", \"Topic14\", \"Topic14\", \"Topic14\", \"Topic14\", \"Topic14\", \"Topic14\", \"Topic14\", \"Topic14\", \"Topic14\", \"Topic14\", \"Topic14\", \"Topic14\", \"Topic14\", \"Topic14\", \"Topic14\", \"Topic14\", \"Topic14\", \"Topic14\", \"Topic15\", \"Topic15\", \"Topic15\", \"Topic15\", \"Topic15\", \"Topic15\", \"Topic15\", \"Topic15\", \"Topic15\", \"Topic15\", \"Topic15\", \"Topic15\", \"Topic15\", \"Topic15\", \"Topic15\", \"Topic15\", \"Topic15\", \"Topic15\", \"Topic15\", \"Topic15\", \"Topic15\", \"Topic15\", \"Topic15\", \"Topic15\", \"Topic15\", \"Topic15\", \"Topic15\", \"Topic15\", \"Topic15\", \"Topic15\", \"Topic15\", \"Topic16\", \"Topic16\", \"Topic16\", \"Topic16\", \"Topic16\", \"Topic16\", \"Topic16\", \"Topic16\", \"Topic16\", \"Topic16\", \"Topic16\", \"Topic16\", \"Topic16\", \"Topic16\", \"Topic16\", \"Topic16\", \"Topic16\", \"Topic16\", \"Topic16\", \"Topic16\", \"Topic16\", \"Topic16\", \"Topic16\", \"Topic16\", \"Topic16\", \"Topic16\", \"Topic16\", \"Topic16\", \"Topic16\", \"Topic16\", \"Topic16\", \"Topic16\", \"Topic16\", \"Topic17\", \"Topic17\", \"Topic17\", \"Topic17\", \"Topic17\", \"Topic17\", \"Topic17\", \"Topic17\", \"Topic17\", \"Topic17\", \"Topic17\", \"Topic17\", \"Topic17\", \"Topic17\", \"Topic17\", \"Topic17\", \"Topic17\", \"Topic17\", \"Topic17\", \"Topic17\", \"Topic17\", \"Topic17\", \"Topic17\", \"Topic17\", \"Topic17\", \"Topic17\", \"Topic17\", \"Topic17\", \"Topic17\", \"Topic17\", \"Topic17\", \"Topic18\", \"Topic18\", \"Topic18\", \"Topic18\", \"Topic18\", \"Topic18\", \"Topic18\", \"Topic18\", \"Topic18\", \"Topic18\", \"Topic18\", \"Topic18\", \"Topic18\", \"Topic18\", \"Topic18\", \"Topic18\", \"Topic18\", \"Topic18\", \"Topic18\", \"Topic18\", \"Topic18\", \"Topic18\", \"Topic18\", \"Topic18\", \"Topic18\", \"Topic18\", \"Topic18\", \"Topic18\", \"Topic18\", \"Topic18\", \"Topic19\", \"Topic19\", \"Topic19\", \"Topic19\", \"Topic19\", \"Topic19\", \"Topic19\", \"Topic19\", \"Topic19\", \"Topic19\", \"Topic19\", \"Topic19\", \"Topic19\", \"Topic19\", \"Topic19\", \"Topic19\", \"Topic19\", \"Topic19\", \"Topic19\", \"Topic19\", \"Topic19\", \"Topic19\", \"Topic19\", \"Topic19\", \"Topic19\", \"Topic19\", \"Topic19\", \"Topic19\", \"Topic19\", \"Topic19\", \"Topic19\", \"Topic20\", \"Topic20\", \"Topic20\", \"Topic20\", \"Topic20\", \"Topic20\", \"Topic20\", \"Topic20\", \"Topic20\", \"Topic20\", \"Topic20\", \"Topic20\", \"Topic20\", \"Topic20\", \"Topic20\", \"Topic20\", \"Topic20\", \"Topic20\", \"Topic20\", \"Topic20\", \"Topic20\", \"Topic20\", \"Topic20\", \"Topic20\", \"Topic20\", \"Topic20\", \"Topic20\", \"Topic20\", \"Topic20\", \"Topic20\", \"Topic20\"], \"logprob\": [30.0, 29.0, 28.0, 27.0, 26.0, 25.0, 24.0, 23.0, 22.0, 21.0, 20.0, 19.0, 18.0, 17.0, 16.0, 15.0, 14.0, 13.0, 12.0, 11.0, 10.0, 9.0, 8.0, 7.0, 6.0, 5.0, 4.0, 3.0, 2.0, 1.0, -2.1196000576019287, -2.2578001022338867, -2.69350004196167, -2.740000009536743, -2.980299949645996, -3.1229000091552734, -3.2105000019073486, -3.545099973678589, -3.626199960708618, -3.673799991607666, -3.7595999240875244, -3.9986000061035156, -4.096499919891357, -4.206399917602539, -4.256800174713135, -4.479700088500977, -4.632500171661377, -4.649499893188477, -4.834799766540527, -4.88539981842041, -4.911099910736084, -4.964200019836426, -4.965099811553955, -4.973499774932861, -5.059199810028076, -5.104499816894531, -5.121099948883057, -5.369500160217285, -5.4741997718811035, -5.515100002288818, -5.503499984741211, -5.140600204467773, -1.899399995803833, -2.4335999488830566, -2.4965999126434326, -2.94569993019104, -3.0643999576568604, -3.337399959564209, -3.4249000549316406, -3.601300001144409, -3.725600004196167, -3.844099998474121, -4.178699970245361, -4.520999908447266, -4.601399898529053, -4.635200023651123, -4.72599983215332, -4.762400150299072, -4.806399822235107, -4.8221001625061035, -4.832900047302246, -4.847499847412109, -4.918900012969971, -4.924799919128418, -4.964300155639648, -5.084199905395508, -5.084700107574463, -5.10290002822876, -5.138400077819824, -5.186600208282471, -5.190199851989746, -5.227700233459473, -4.9405999183654785, -2.514699935913086, -2.714099884033203, -2.789599895477295, -3.531599998474121, -3.6881000995635986, -3.7156999111175537, -3.7922000885009766, -3.868499994277954, -3.87280011177063, -4.046500205993652, -4.145299911499023, -4.1620001792907715, -4.191999912261963, -4.218299865722656, -4.235400199890137, -4.235799789428711, -4.283899784088135, -4.329100131988525, -4.6118998527526855, -4.622300148010254, -4.624800205230713, -4.630300045013428, -4.662499904632568, -4.69980001449585, -4.713200092315674, -4.733099937438965, -4.7642998695373535, -4.861199855804443, -4.886099815368652, -4.895699977874756, -4.654099941253662, -1.263200044631958, -2.2676000595092773, -2.879699945449829, -3.7116000652313232, -3.7367000579833984, -4.055500030517578, -4.078700065612793, -4.1305999755859375, -4.230800151824951, -4.454899787902832, -4.474999904632568, -4.529699802398682, -4.55709981918335, -4.561600208282471, -4.587200164794922, -4.73199987411499, -4.742499828338623, -4.752699851989746, -4.9309000968933105, -5.0472002029418945, -5.1209001541137695, -5.143799781799316, -5.158199787139893, -5.234000205993652, -5.2957000732421875, -5.322000026702881, -5.326000213623047, -5.345200061798096, -5.411300182342529, -5.4182000160217285, -4.845699787139893, -1.4002000093460083, -2.568000078201294, -2.8726000785827637, -3.253700017929077, -3.3766000270843506, -3.5697999000549316, -3.706899881362915, -3.785599946975708, -3.9904000759124756, -4.290500164031982, -4.372799873352051, -4.411200046539307, -4.504000186920166, -4.509799957275391, -4.549200057983398, -4.694900035858154, -4.6992998123168945, -4.847400188446045, -4.862100124359131, -4.863399982452393, -4.965199947357178, -4.96560001373291, -5.039700031280518, -5.0518999099731445, -5.144499778747559, -5.172800064086914, -5.251100063323975, -5.341800212860107, -5.382400035858154, -5.430500030517578, -4.956900119781494, -2.578399896621704, -2.8529999256134033, -2.993499994277954, -3.0527000427246094, -3.201900005340576, -3.242300033569336, -3.31820011138916, -3.3310000896453857, -3.907099962234497, -3.9391000270843506, -3.968600034713745, -4.032100200653076, -4.046899795532227, -4.153800010681152, -4.201099872589111, -4.252099990844727, -4.32919979095459, -4.350299835205078, -4.4868998527526855, -4.537899971008301, -4.551599979400635, -4.607900142669678, -4.654699802398682, -4.6570000648498535, -4.810800075531006, -4.821300029754639, -4.885000228881836, -4.897799968719482, -4.968900203704834, -4.97130012512207, -1.9226000308990479, -2.629199981689453, -3.0838000774383545, -3.194000005722046, -3.506200075149536, -3.627700090408325, -3.8575000762939453, -3.858299970626831, -3.941699981689453, -3.964200019836426, -4.106500148773193, -4.121799945831299, -4.125199794769287, -4.192299842834473, -4.240300178527832, -4.249899864196777, -4.263800144195557, -4.271200180053711, -4.2993998527526855, -4.374599933624268, -4.386499881744385, -4.421199798583984, -4.51639986038208, -4.549699783325195, -4.583199977874756, -4.712500095367432, -4.785099983215332, -4.866700172424316, -4.877999782562256, -5.044600009918213, -4.411300182342529, -2.1791000366210938, -2.457200050354004, -2.8743999004364014, -3.0269999504089355, -3.389899969100952, -3.4251999855041504, -3.587100028991699, -3.7402000427246094, -3.8803999423980713, -3.936500072479248, -3.9774999618530273, -4.040299892425537, -4.048299789428711, -4.054699897766113, -4.127299785614014, -4.2399001121521, -4.336599826812744, -4.389900207519531, -4.502500057220459, -4.551599979400635, -4.612400054931641, -4.666500091552734, -4.738699913024902, -4.801300048828125, -4.835700035095215, -4.876800060272217, -4.932300090789795, -5.042099952697754, -5.091599941253662, -5.101099967956543, -1.215499997138977, -2.521199941635132, -3.374300003051758, -3.476900100708008, -3.689199924468994, -3.767899990081787, -3.8450000286102295, -4.188899993896484, -4.285999774932861, -4.406400203704834, -4.542699813842773, -4.59250020980835, -4.6682000160217285, -4.67080020904541, -4.7855000495910645, -4.797900199890137, -4.835400104522705, -4.917200088500977, -5.017600059509277, -5.111199855804443, -5.164100170135498, -5.2006001472473145, -5.208600044250488, -5.283699989318848, -5.34119987487793, -5.342400074005127, -5.3744001388549805, -5.431000232696533, -5.453499794006348, -5.466599941253662, -4.82889986038208, -1.885200023651123, -2.2167999744415283, -2.839400053024292, -2.9463000297546387, -3.371999979019165, -3.4911999702453613, -3.6147000789642334, -3.7093000411987305, -3.7692999839782715, -3.830399990081787, -3.9983999729156494, -4.1392998695373535, -4.240799903869629, -4.250199794769287, -4.368199825286865, -4.509799957275391, -4.626999855041504, -4.732600212097168, -4.73360013961792, -4.738800048828125, -4.895299911499023, -5.027200222015381, -5.048900127410889, -5.06879997253418, -5.071400165557861, -5.0868000984191895, -5.141499996185303, -5.226600170135498, -5.290999889373779, -5.309899806976318, -4.956500053405762, -2.5146000385284424, -2.654099941253662, -2.7476999759674072, -2.894700050354004, -2.905400037765503, -3.013400077819824, -3.085900068283081, -3.428499937057495, -3.445199966430664, -3.4779999256134033, -3.835099935531616, -3.8575000762939453, -3.9498000144958496, -4.020100116729736, -4.264599800109863, -4.275899887084961, -4.472599983215332, -4.504499912261963, -4.515100002288818, -4.554299831390381, -4.850500106811523, -5.084099769592285, -5.168099880218506, -5.220300197601318, -5.224800109863281, -5.251699924468994, -5.306300163269043, -5.48769998550415, -5.581699848175049, -5.592700004577637, -4.750899791717529, -2.093100070953369, -2.609999895095825, -2.783400058746338, -2.8554999828338623, -2.9102001190185547, -3.3887999057769775, -3.5659000873565674, -3.671299934387207, -3.6805999279022217, -3.685800075531006, -3.7744998931884766, -3.774899959564209, -4.1493000984191895, -4.1828999519348145, -4.401700019836426, -4.46999979019165, -4.63539981842041, -4.691400051116943, -4.732600212097168, -4.833600044250488, -4.9145002365112305, -4.954500198364258, -5.086999893188477, -5.149199962615967, -5.179800033569336, -5.259699821472168, -5.291900157928467, -5.404699802398682, -5.4532999992370605, -5.50029993057251, -5.398900032043457, -4.4085001945495605, -2.59060001373291, -2.9131999015808105, -3.08240008354187, -3.1006999015808105, -3.3417000770568848, -3.441200017929077, -3.511199951171875, -3.7692999839782715, -3.8701999187469482, -3.911400079727173, -3.986999988555908, -3.990000009536743, -4.169099807739258, -4.291399955749512, -4.368500232696533, -4.371099948883057, -4.418900012969971, -4.5100998878479, -4.581999778747559, -4.617300033569336, -4.618800163269043, -4.627600193023682, -4.65749979019165, -4.673999786376953, -4.787700176239014, -4.8684000968933105, -4.918300151824951, -4.922699928283691, -5.021500110626221, -5.060200214385986, -4.14169979095459, -2.363100051879883, -2.36299991607666, -2.6530001163482666, -2.7332000732421875, -3.2128000259399414, -3.477099895477295, -3.5713000297546387, -3.588599920272827, -3.7479000091552734, -3.8842999935150146, -4.020500183105469, -4.099299907684326, -4.114799976348877, -4.170100212097168, -4.463399887084961, -4.519499778747559, -4.546800136566162, -4.694699764251709, -4.787199974060059, -4.860899925231934, -4.869900226593018, -4.938199996948242, -5.031400203704834, -5.129300117492676, -5.193900108337402, -5.239799976348877, -5.283199787139893, -5.32480001449585, -5.4243998527526855, -5.436100006103516, -4.658400058746338, -1.7998000383377075, -3.026900053024292, -3.123300075531006, -3.4001998901367188, -3.6198999881744385, -3.72760009765625, -3.7988998889923096, -3.8835999965667725, -3.884500026702881, -4.011899948120117, -4.1118998527526855, -4.177199840545654, -4.247300148010254, -4.271299839019775, -4.371699810028076, -4.372200012207031, -4.380000114440918, -4.401700019836426, -4.589200019836426, -4.613900184631348, -4.623199939727783, -4.780099868774414, -4.8471999168396, -4.898900032043457, -4.935200214385986, -4.936500072479248, -4.961599826812744, -4.962600231170654, -5.017399787902832, -5.018199920654297, -4.701900005340576, -2.634000062942505, -3.1524999141693115, -3.28629994392395, -3.2883999347686768, -3.4618000984191895, -3.5989999771118164, -3.6579999923706055, -3.6602001190185547, -3.670300006866455, -3.8148999214172363, -3.8397998809814453, -3.9992001056671143, -4.067399978637695, -4.188799858093262, -4.233699798583984, -4.3343000411987305, -4.337900161743164, -4.382400035858154, -4.400899887084961, -4.401599884033203, -4.466000080108643, -4.517499923706055, -4.521399974822998, -4.708799839019775, -4.757299900054932, -4.827099800109863, -4.868000030517578, -4.898600101470947, -4.940899848937988, -4.954599857330322, -4.812699794769287, -4.828999996185303, -4.871300220489502, -1.9204000234603882, -2.540600061416626, -3.2739999294281006, -3.5645999908447266, -3.6382999420166016, -3.7571001052856445, -3.8413000106811523, -3.9804000854492188, -4.235499858856201, -4.300300121307373, -4.461900234222412, -4.473100185394287, -4.47790002822876, -4.531400203704834, -4.606500148773193, -4.618100166320801, -4.657100200653076, -4.802499771118164, -4.804299831390381, -4.826600074768066, -4.874199867248535, -4.916100025177002, -4.956600189208984, -4.9679999351501465, -5.021999835968018, -5.023399829864502, -5.032299995422363, -5.080100059509277, -5.163300037384033, -5.182600021362305, -5.127500057220459, -2.2609000205993652, -2.777100086212158, -2.7839999198913574, -3.1979000568389893, -3.294100046157837, -3.577500104904175, -3.9159998893737793, -4.058499813079834, -4.107500076293945, -4.107600212097168, -4.188000202178955, -4.2027997970581055, -4.276700019836426, -4.4019999504089355, -4.439700126647949, -4.470300197601318, -4.686699867248535, -4.720399856567383, -4.733099937438965, -4.832799911499023, -4.895999908447266, -4.9766998291015625, -4.999199867248535, -5.020400047302246, -5.041399955749512, -5.118500232696533, -5.158599853515625, -5.16349983215332, -5.207699775695801, -5.219099998474121, -2.161900043487549, -2.913800001144409, -3.103100061416626, -3.237499952316284, -3.2790000438690186, -3.3596999645233154, -3.4558000564575195, -3.7590999603271484, -3.9209001064300537, -3.9486000537872314, -3.953000068664551, -3.9586000442504883, -4.091300010681152, -4.232399940490723, -4.5096001625061035, -4.594099998474121, -4.60860013961792, -4.825099945068359, -4.831699848175049, -4.896399974822998, -4.919600009918213, -4.9822001457214355, -4.984499931335449, -5.011499881744385, -5.0278000831604, -5.121799945831299, -5.151000022888184, -5.163000106811523, -5.198500156402588, -5.238100051879883, -4.628200054168701, -2.2471001148223877, -2.5954999923706055, -3.084399938583374, -3.112299919128418, -3.147599935531616, -3.430299997329712, -3.552799940109253, -3.6335999965667725, -3.8503000736236572, -4.138800144195557, -4.200799942016602, -4.206900119781494, -4.263800144195557, -4.3403000831604, -4.361700057983398, -4.469699859619141, -4.560500144958496, -4.578499794006348, -4.705599784851074, -4.730500221252441, -4.943999767303467, -4.961699962615967, -4.979700088500977, -5.001299858093262, -5.020999908447266, -5.051799774169922, -5.085999965667725, -5.103899955749512, -5.199900150299072, -5.219600200653076, -5.057400226593018], \"loglift\": [30.0, 29.0, 28.0, 27.0, 26.0, 25.0, 24.0, 23.0, 22.0, 21.0, 20.0, 19.0, 18.0, 17.0, 16.0, 15.0, 14.0, 13.0, 12.0, 11.0, 10.0, 9.0, 8.0, 7.0, 6.0, 5.0, 4.0, 3.0, 2.0, 1.0, 2.6530001163482666, 2.652899980545044, 2.6524999141693115, 2.652400016784668, 2.6519999504089355, 2.6517999172210693, 2.651599884033203, 2.650700092315674, 2.650399923324585, 2.6503000259399414, 2.6500000953674316, 2.648900032043457, 2.648400068283081, 2.6477999687194824, 2.6475000381469727, 2.6459999084472656, 2.644700050354004, 2.6445000171661377, 2.642699956893921, 2.6421000957489014, 2.6417999267578125, 2.6410999298095703, 2.6410999298095703, 2.6410000324249268, 2.639899969100952, 2.63919997215271, 2.6389999389648438, 2.6349000930786133, 2.6328001022338867, 2.6319000720977783, 2.587399959564209, -0.3346000015735626, 2.7460999488830566, 2.745699882507324, 2.7455999851226807, 2.7448999881744385, 2.7446999549865723, 2.74399995803833, 2.743799924850464, 2.7432000637054443, 2.7427000999450684, 2.7421998977661133, 2.740499973297119, 2.7379000186920166, 2.7370998859405518, 2.736799955368042, 2.7358999252319336, 2.7355000972747803, 2.734999895095825, 2.734800100326538, 2.7346999645233154, 2.734499931335449, 2.733599901199341, 2.7335000038146973, 2.7330000400543213, 2.7311999797821045, 2.7311999797821045, 2.7309000492095947, 2.7304000854492188, 2.729599952697754, 2.7295000553131104, 2.7288999557495117, -0.13459999859333038, 2.7639999389648438, 2.7637999057769775, 2.7636001110076904, 2.761899948120117, 2.7613000869750977, 2.761199951171875, 2.7609000205993652, 2.760499954223633, 2.760499954223633, 2.7595999240875244, 2.759000062942505, 2.7588999271392822, 2.758699893951416, 2.7585999965667725, 2.7583999633789062, 2.7583999633789062, 2.7581000328063965, 2.7578001022338867, 2.7553000450134277, 2.755199909210205, 2.755199909210205, 2.755199909210205, 2.7548000812530518, 2.7544000148773193, 2.754300117492676, 2.7541000843048096, 2.753700017929077, 2.752500057220459, 2.75219988822937, 2.7520999908447266, 0.15189999341964722, 2.830399990081787, 2.829699993133545, 2.828900098800659, 2.8264000415802, 2.8262999057769775, 2.8245999813079834, 2.82450008392334, 2.824199914932251, 2.823499917984009, 2.8215999603271484, 2.821500062942505, 2.8208999633789062, 2.82069993019104, 2.8206000328063965, 2.8203999996185303, 2.8187999725341797, 2.8185999393463135, 2.81850004196167, 2.8160998821258545, 2.8143999576568604, 2.8131000995635986, 2.812700033187866, 2.8125, 2.811000108718872, 2.809799909591675, 2.8092000484466553, 2.8090999126434326, 2.8087000846862793, 2.8071999549865723, 2.8071000576019287, -0.03959999978542328, 2.8791000843048096, 2.8780999183654785, 2.8775999546051025, 2.876699924468994, 2.876300096511841, 2.8756000995635986, 2.8750998973846436, 2.8747000694274902, 2.8736000061035156, 2.871500015258789, 2.870800018310547, 2.8703999519348145, 2.8696000576019287, 2.869499921798706, 2.8691000938415527, 2.867500066757202, 2.8673999309539795, 2.865499973297119, 2.865299940109253, 2.865299940109253, 2.8636999130249023, 2.8636999130249023, 2.862499952316284, 2.862299919128418, 2.8606998920440674, 2.860100030899048, 2.8585000038146973, 2.856600046157837, 2.8554000854492188, 2.8545000553131104, -0.1509000062942505, 2.9286000728607178, 2.928100109100342, 2.927799940109253, 2.9277000427246094, 2.927299976348877, 2.9270999431610107, 2.9268999099731445, 2.9268999099731445, 2.924299955368042, 2.924099922180176, 2.9240000247955322, 2.9235999584198, 2.9235000610351562, 2.9226999282836914, 2.9223999977111816, 2.921999931335449, 2.921299934387207, 2.921099901199341, 2.919800043106079, 2.919300079345703, 2.919100046157837, 2.9184999465942383, 2.9179000854492188, 2.9179000854492188, 2.9158999919891357, 2.9156999588012695, 2.914799928665161, 2.914599895477295, 2.9133999347686768, 2.9133999347686768, 2.9316000938415527, 2.9307000637054443, 2.929800033569336, 2.929500102996826, 2.928499937057495, 2.927999973297119, 2.926800012588501, 2.926800012588501, 2.926300048828125, 2.9261999130249023, 2.925299882888794, 2.9251999855041504, 2.925100088119507, 2.9245998859405518, 2.9242000579833984, 2.9242000579833984, 2.924099922180176, 2.9240000247955322, 2.923799991607666, 2.923099994659424, 2.9230000972747803, 2.922600030899048, 2.9217000007629395, 2.921299934387207, 2.9210000038146973, 2.9193999767303467, 2.9184000492095947, 2.9172000885009766, 2.917099952697754, 2.914299964904785, 0.39469999074935913, 2.937700033187866, 2.9374001026153564, 2.9367001056671143, 2.936300039291382, 2.93530011177063, 2.9351999759674072, 2.934499979019165, 2.933799982070923, 2.9330999851226807, 2.932800054550171, 2.932499885559082, 2.9321000576019287, 2.9321000576019287, 2.931999921798706, 2.93149995803833, 2.9305999279022217, 2.929800033569336, 2.92930006980896, 2.9282000064849854, 2.9277000427246094, 2.927000045776367, 2.926300048828125, 2.9254000186920166, 2.9245998859405518, 2.924099922180176, 2.9235000610351562, 2.922600030899048, 2.9207000732421875, 2.919800043106079, 2.919600009918213, 2.9495999813079834, 2.948499917984009, 2.946500062942505, 2.946199893951416, 2.9453001022338867, 2.9449000358581543, 2.944499969482422, 2.942199945449829, 2.9414000511169434, 2.9402999877929688, 2.9388999938964844, 2.9382998943328857, 2.9374001026153564, 2.9374001026153564, 2.935800075531006, 2.935699939727783, 2.9351000785827637, 2.9339001178741455, 2.9321999549865723, 2.9303998947143555, 2.9293999671936035, 2.9286000728607178, 2.928499937057495, 2.926800012588501, 2.9254000186920166, 2.9254000186920166, 2.9245998859405518, 2.9231998920440674, 2.922600030899048, 2.9221999645233154, -0.02290000021457672, 2.9532999992370605, 2.953000068664551, 2.9521000385284424, 2.9518001079559326, 2.9505999088287354, 2.950200080871582, 2.949700117111206, 2.949199914932251, 2.948899984359741, 2.9486000537872314, 2.9475998878479004, 2.9465999603271484, 2.9458000659942627, 2.94569993019104, 2.944700002670288, 2.94320011138916, 2.9419000148773193, 2.940500020980835, 2.940500020980835, 2.940500020980835, 2.938199996948242, 2.9358999729156494, 2.935499906539917, 2.9351999759674072, 2.9351000785827637, 2.934799909591675, 2.933799982070923, 2.931999921798706, 2.930500030517578, 2.9300999641418457, -0.15039999783039093, 2.95989990234375, 2.9595999717712402, 2.9595000743865967, 2.959199905395508, 2.959199905395508, 2.958899974822998, 2.958699941635132, 2.9576001167297363, 2.9576001167297363, 2.9574999809265137, 2.9558000564575195, 2.955699920654297, 2.9551000595092773, 2.954699993133545, 2.9528000354766846, 2.952699899673462, 2.950900077819824, 2.950500011444092, 2.9504001140594482, 2.950000047683716, 2.9460999965667725, 2.9421000480651855, 2.9403998851776123, 2.939300060272217, 2.939199924468994, 2.9386000633239746, 2.9374001026153564, 2.9326999187469482, 2.9298999309539795, 2.929500102996826, 0.05510000139474869, 2.976300001144409, 2.975600004196167, 2.9753000736236572, 2.975100040435791, 2.9749999046325684, 2.973599910736084, 2.972899913787842, 2.972399950027466, 2.972399950027466, 2.972399950027466, 2.97189998626709, 2.97189998626709, 2.9695000648498535, 2.9691998958587646, 2.9672999382019043, 2.966599941253662, 2.9646999835968018, 2.9639999866485596, 2.963399887084961, 2.9619998931884766, 2.960700035095215, 2.9600000381469727, 2.9576001167297363, 2.9563000202178955, 2.955699920654297, 2.953900098800659, 2.953200101852417, 2.9502999782562256, 2.9489998817443848, 2.947700023651123, 2.9458999633789062, 0.39750000834465027, 3.051100015640259, 3.0504000186920166, 3.049999952316284, 3.0499000549316406, 3.049099922180176, 3.0487000942230225, 3.0483999252319336, 3.047100067138672, 3.0464999675750732, 3.046299934387207, 3.045799970626831, 3.0457000732421875, 3.0443999767303467, 3.043299913406372, 3.0425000190734863, 3.0425000190734863, 3.0420000553131104, 3.0408999919891357, 3.0399999618530273, 3.039599895477295, 3.039599895477295, 3.039400100708008, 3.0390000343322754, 3.038800001144409, 3.037100076675415, 3.035799980163574, 3.0350000858306885, 3.034899950027466, 3.0329999923706055, 3.0322999954223633, 0.6643000245094299, 3.130199909210205, 3.130199909210205, 3.129699945449829, 3.129499912261963, 3.128200054168701, 3.1270999908447266, 3.1266000270843506, 3.1266000270843506, 3.125699996948242, 3.124799966812134, 3.123800039291382, 3.1231000423431396, 3.122999906539917, 3.1222000122070312, 3.1194000244140625, 3.1185998916625977, 3.118299961090088, 3.1161999702453613, 3.1147000789642334, 3.1133999824523926, 3.1131999492645264, 3.1119000911712646, 3.109999895095825, 3.107800006866455, 3.1061999797821045, 3.1050000190734863, 3.103800058364868, 3.1026999950408936, 3.0996999740600586, 3.099299907684326, 0.147599995136261, 3.1522998809814453, 3.1501998901367188, 3.149899959564209, 3.1487998962402344, 3.1477999687194824, 3.1470999717712402, 3.146699905395508, 3.1461000442504883, 3.1461000442504883, 3.1451001167297363, 3.1442999839782715, 3.143699884414673, 3.1429998874664307, 3.1428000926971436, 3.141700029373169, 3.141700029373169, 3.1415998935699463, 3.1412999629974365, 3.1389000415802, 3.1384999752044678, 3.138400077819824, 3.1359000205993652, 3.134700059890747, 3.133699893951416, 3.132999897003174, 3.132999897003174, 3.132499933242798, 3.132499933242798, 3.1312999725341797, 3.1312999725341797, 0.10409999638795853, 3.2537999153137207, 3.2523000240325928, 3.251800060272217, 3.251800060272217, 3.2509000301361084, 3.250200033187866, 3.249799966812134, 3.249799966812134, 3.2497000694274902, 3.248800039291382, 3.2486000061035156, 3.247299909591675, 3.2467000484466553, 3.2453999519348145, 3.244999885559082, 3.243799924850464, 3.2437000274658203, 3.2432000637054443, 3.2428998947143555, 3.2428998947143555, 3.2421000003814697, 3.241300106048584, 3.241300106048584, 3.2381999492645264, 3.2374000549316406, 3.2360000610351562, 3.2351999282836914, 3.234499931335449, 3.233599901199341, 3.233299970626831, 3.224100112915039, 3.206899881362915, -0.06530000269412994, 3.283799886703491, 3.2827999591827393, 3.280600070953369, 3.279099941253662, 3.278700113296509, 3.277899980545044, 3.2771999835968018, 3.276099920272827, 3.2734999656677246, 3.2727999687194824, 3.270699977874756, 3.2704999446868896, 3.270400047302246, 3.2695999145507812, 3.268399953842163, 3.2683000564575195, 3.2676000595092773, 3.264899969100952, 3.264899969100952, 3.264400005340576, 3.263400077819824, 3.262500047683716, 3.2616000175476074, 3.261399984359741, 3.2600998878479004, 3.259999990463257, 3.2597999572753906, 3.2585999965667725, 3.2562999725341797, 3.2558000087738037, -0.3215000033378601, 3.2920000553131104, 3.2908999919891357, 3.2908999919891357, 3.2894999980926514, 3.289099931716919, 3.287600040435791, 3.2852001190185547, 3.283900022506714, 3.283400058746338, 3.283400058746338, 3.2825000286102295, 3.282399892807007, 3.2815001010894775, 3.279900074005127, 3.279400110244751, 3.2790000438690186, 3.2755000591278076, 3.274899959564209, 3.274600028991699, 3.272700071334839, 3.2713000774383545, 3.2695000171661377, 3.268899917602539, 3.268399953842163, 3.267899990081787, 3.2657999992370605, 3.264699935913086, 3.2646000385284424, 3.2632999420166016, 3.2629001140594482, 3.2922000885009766, 3.290600061416626, 3.2899999618530273, 3.289400100708008, 3.2892000675201416, 3.2888998985290527, 3.2883999347686768, 3.2864999771118164, 3.2853000164031982, 3.2850000858306885, 3.2850000858306885, 3.284899950027466, 3.2836999893188477, 3.2822000980377197, 3.2785000801086426, 3.2771999835968018, 3.2769999504089355, 3.2730000019073486, 3.272900104522705, 3.2715001106262207, 3.2709999084472656, 3.2695000171661377, 3.2695000171661377, 3.2688000202178955, 3.268399953842163, 3.265899896621704, 3.2651000022888184, 3.2648000717163086, 3.2637999057769775, 3.2625999450683594, 0.1777999997138977, 3.299099922180176, 3.2985000610351562, 3.296999931335449, 3.2969000339508057, 3.296799898147583, 3.2955000400543213, 3.294800043106079, 3.294300079345703, 3.292799949645996, 3.2901999950408936, 3.2894999980926514, 3.289400100708008, 3.288800001144409, 3.2878000736236572, 3.287600040435791, 3.286099910736084, 3.2846999168395996, 3.28439998626709, 3.2822000980377197, 3.2816998958587646, 3.2772998809814453, 3.276900053024292, 3.276400089263916, 3.275899887084961, 3.275399923324585, 3.274600028991699, 3.2737998962402344, 3.2732999324798584, 3.2706000804901123, 3.2699999809265137, -0.2513999938964844]}, \"token.table\": {\"Topic\": [9, 19, 15, 5, 8, 12, 15, 9, 19, 18, 6, 10, 9, 2, 1, 20, 4, 17, 1, 17, 16, 18, 20, 6, 14, 15, 4, 5, 13, 1, 16, 15, 16, 13, 12, 4, 11, 5, 11, 1, 17, 9, 11, 10, 16, 1, 13, 16, 19, 16, 13, 12, 19, 2, 19, 16, 5, 12, 19, 6, 18, 17, 1, 10, 6, 10, 20, 8, 3, 1, 17, 4, 2, 18, 8, 8, 7, 10, 7, 14, 6, 5, 7, 3, 4, 14, 4, 20, 7, 14, 4, 9, 1, 2, 3, 4, 5, 6, 7, 8, 9, 10, 11, 12, 13, 14, 15, 16, 17, 18, 19, 20, 17, 11, 17, 10, 8, 18, 18, 12, 8, 1, 8, 9, 5, 14, 17, 6, 9, 18, 7, 9, 5, 20, 11, 20, 6, 1, 10, 10, 3, 20, 1, 14, 17, 1, 16, 2, 8, 5, 2, 8, 7, 8, 12, 11, 11, 17, 4, 14, 18, 12, 12, 2, 7, 12, 4, 13, 7, 17, 3, 7, 16, 10, 4, 16, 13, 5, 6, 9, 16, 9, 19, 5, 1, 13, 17, 6, 2, 2, 15, 11, 15, 18, 5, 3, 3, 1, 8, 3, 14, 13, 20, 14, 10, 1, 17, 14, 6, 11, 6, 6, 9, 8, 2, 4, 12, 13, 18, 15, 14, 1, 3, 4, 14, 20, 15, 19, 9, 13, 8, 5, 18, 10, 12, 9, 4, 6, 5, 15, 15, 16, 8, 11, 13, 7, 4, 20, 9, 16, 10, 20, 15, 8, 4, 2, 1, 4, 12, 3, 12, 12, 9, 6, 15, 2, 3, 15, 16, 2, 1, 20, 11, 2, 3, 14, 6, 9, 13, 17, 7, 7, 10, 6, 1, 6, 5, 11, 16, 7, 19, 3, 5, 10, 20, 18, 13, 1, 2, 17, 19, 4, 7, 19, 6, 5, 5, 6, 20, 12, 12, 10, 14, 5, 19, 16, 19, 17, 18, 5, 6, 6, 2, 10, 16, 16, 20, 7, 11, 1, 17, 12, 8, 2, 1, 19, 7, 19, 10, 7, 20, 6, 19, 2, 7, 12, 6, 18, 2, 9, 2, 15, 3, 6, 19, 20, 9, 5, 18, 18, 8, 7, 11, 8, 19, 1, 17, 14, 8, 18, 11, 20, 8, 3, 15, 5, 11, 17, 2, 16, 5, 16, 16, 6, 16, 10, 7, 13, 13, 20, 1, 9, 20, 4, 7, 11, 13, 9, 8, 2, 4, 3, 16, 11, 3, 18, 2, 8, 5, 20, 20, 14, 12, 10, 18, 20, 19, 5, 4, 12, 13, 1, 20, 14, 7, 11, 14, 5, 9, 6, 13, 20, 4, 12, 17, 10, 6, 9, 1, 13, 14, 15, 7, 18, 19, 16, 17, 15, 3, 19, 14, 8, 11, 18, 20, 17, 16, 14, 3, 12, 17, 4, 5, 15, 18, 2, 10, 2, 4, 3, 15, 2, 15, 3, 15, 13, 19, 15, 12, 11, 13, 10, 16, 17, 19, 10, 7, 14, 17, 5, 4, 9, 8, 8, 16, 12, 15, 3, 19, 10, 4, 1, 3, 1, 8, 16, 9, 12, 9, 15, 2, 18, 4, 12, 8, 13, 2, 7, 5, 11, 11, 4, 20, 12, 11, 15, 20, 18, 3, 19, 14, 16, 15, 13, 13, 6, 8, 14, 8, 17, 20, 3, 1, 15, 18, 11, 18, 19, 13, 18, 1, 17, 19, 12, 10, 1, 9, 10, 13, 6, 9, 20, 18, 19, 13, 7, 4, 16, 7, 17, 2, 3, 15, 8, 7, 19, 4, 14, 9, 12, 6, 7, 5, 14, 11, 10, 12, 11, 14, 10, 18, 16, 10, 12, 17, 3, 2, 9, 15, 18, 15, 13, 4, 10, 14, 3, 11, 17, 3, 2, 5, 13, 11, 7, 16, 3, 14, 3, 13, 19, 14, 1, 11, 9], \"Freq\": [0.9965967535972595, 0.9815385341644287, 0.9904223084449768, 0.9878144860267639, 0.9828102588653564, 0.9940768480300903, 0.9856007099151611, 0.9789953231811523, 0.9746142029762268, 0.9936972856521606, 0.9946710467338562, 0.9965090155601501, 0.980627179145813, 0.9975139498710632, 0.9977161884307861, 0.9906261563301086, 0.9788062572479248, 0.9867265820503235, 0.9978287816047668, 0.9812493324279785, 0.99515300989151, 0.9659395813941956, 0.9848112463951111, 0.9813815951347351, 0.9738981127738953, 0.9875642657279968, 0.9866017699241638, 0.9742467999458313, 0.9968925714492798, 0.9841771721839905, 0.9981016516685486, 0.9858386516571045, 0.9811415672302246, 0.9834154844284058, 0.9847068190574646, 0.9957199096679688, 0.99525386095047, 0.9985415935516357, 0.9981681108474731, 0.9831460118293762, 0.9845767021179199, 0.9994452595710754, 0.9609901309013367, 0.9925503730773926, 0.9902455806732178, 0.9364522099494934, 0.9752600193023682, 0.9857063293457031, 0.9929994940757751, 0.9813866019248962, 0.9956182837486267, 0.9693278670310974, 0.9776632785797119, 0.9855899214744568, 0.9933248162269592, 0.9960653185844421, 0.9907178282737732, 0.9868001341819763, 0.9978803992271423, 0.9745107889175415, 0.9857609272003174, 0.9760241508483887, 0.9896648526191711, 0.9755033254623413, 0.9870036840438843, 0.9918724298477173, 0.9789164066314697, 0.9922951459884644, 0.9926404356956482, 0.9841383099555969, 0.9899493455886841, 0.985291600227356, 0.9914398193359375, 0.9866625070571899, 0.9908407926559448, 0.9955059289932251, 0.9970617890357971, 0.9934067726135254, 0.9887124300003052, 0.9973171353340149, 0.9768068194389343, 0.9925832152366638, 0.9953837394714355, 0.9866259098052979, 0.9850022792816162, 0.962710440158844, 0.9895438551902771, 0.9731752276420593, 0.9945748448371887, 0.9849505424499512, 0.9750053882598877, 0.9873780012130737, 0.05034844949841499, 0.05574292317032814, 0.07372451573610306, 0.05664200335741043, 0.04855028912425041, 0.04315581172704697, 0.0791189894080162, 0.020678827539086342, 0.051247525960206985, 0.04495397210121155, 0.05484384670853615, 0.07552266865968704, 0.09170610457658768, 0.05034844949841499, 0.04765120893716812, 0.03596317768096924, 0.02697238326072693, 0.01977974735200405, 0.04405489191412926, 0.02877054177224636, 0.9673054218292236, 0.9915988445281982, 0.9870838522911072, 0.9914256930351257, 0.9717090129852295, 0.9896169304847717, 0.9897341132164001, 0.977231502532959, 0.9993482232093811, 0.9984140992164612, 0.9757563471794128, 0.9901933670043945, 0.9916754961013794, 0.987581729888916, 0.9972484707832336, 0.993715763092041, 0.9742042422294617, 0.9848536849021912, 0.9880380034446716, 0.982864260673523, 0.9793336391448975, 0.9724212884902954, 0.9892093539237976, 0.9590429067611694, 0.9983430504798889, 0.9904669523239136, 0.9905146956443787, 0.98028963804245, 0.9956406950950623, 0.9835551381111145, 0.9969550371170044, 0.992372453212738, 0.9844357967376709, 0.9908708333969116, 0.9808199405670166, 0.9985163807868958, 0.9947492480278015, 0.9808416366577148, 0.9957560896873474, 0.9877650141716003, 0.9923930764198303, 0.9875163435935974, 0.9746377468109131, 0.9946685433387756, 0.9854655861854553, 0.9867839813232422, 0.9951211214065552, 0.9950647354125977, 0.9882123470306396, 0.9791238903999329, 0.9804596304893494, 0.9866628050804138, 0.9930616021156311, 0.9594337344169617, 0.988461971282959, 0.9947490096092224, 0.9926683902740479, 0.9699020385742188, 0.9930121302604675, 0.988092839717865, 0.9819040298461914, 0.985783576965332, 0.9852133989334106, 0.97683185338974, 0.9944148659706116, 0.9796907305717468, 0.9987929463386536, 0.970262348651886, 0.9930161833763123, 0.9743258357048035, 0.9950926303863525, 0.9929046034812927, 0.976017951965332, 0.9815523624420166, 0.9930174946784973, 0.9985888600349426, 0.9977717995643616, 0.9878935813903809, 0.9674886465072632, 0.9903086423873901, 0.9843287467956543, 0.9755591750144958, 0.9958299398422241, 0.9925789833068848, 0.9943823218345642, 0.9968735575675964, 0.994829535484314, 0.9883012175559998, 0.9873571395874023, 0.9846163392066956, 0.994861364364624, 0.9798451066017151, 0.9974275231361389, 0.9992863535881042, 0.9839688539505005, 0.991154670715332, 0.9775945544242859, 0.9901399612426758, 0.9944525361061096, 0.9841980338096619, 0.9684759378433228, 0.9980509281158447, 0.9806326627731323, 0.9963152408599854, 0.9976072907447815, 0.9800753593444824, 0.9721916913986206, 0.9887728691101074, 0.9767725467681885, 0.9898086786270142, 0.998378336429596, 0.9929600954055786, 0.9980313181877136, 0.9980459809303284, 0.9929609894752502, 0.984970211982727, 0.9910135269165039, 0.9896196722984314, 0.9925819039344788, 0.9997953772544861, 0.9972626566886902, 0.9691505432128906, 0.9969099760055542, 0.9730283617973328, 0.9996458292007446, 0.9945229291915894, 0.9733690619468689, 0.9989201426506042, 0.9885616302490234, 0.9826884865760803, 0.983384370803833, 0.9953103065490723, 0.9915934801101685, 0.9888305068016052, 0.9941464066505432, 0.973966121673584, 0.9960871934890747, 0.9836638569831848, 0.993130624294281, 0.9932504296302795, 0.991929292678833, 0.9872161746025085, 0.9959888458251953, 0.9966029524803162, 0.9960620999336243, 0.9976726770401001, 0.9973414540290833, 0.9949439764022827, 0.9940966367721558, 0.9859862923622131, 0.9931648969650269, 0.9932529926300049, 0.9899908304214478, 0.9973345994949341, 0.9842420220375061, 0.9908956289291382, 0.9780979156494141, 0.9945575594902039, 0.9965718388557434, 0.9824997782707214, 0.9976592063903809, 0.9953036904335022, 0.991182267665863, 0.9935764670372009, 0.997894823551178, 0.992772102355957, 0.9935479164123535, 0.9971508979797363, 0.9884471893310547, 0.9892406463623047, 0.9955241084098816, 0.988673746585846, 0.988148033618927, 0.9866763353347778, 0.9892152547836304, 0.9772661924362183, 0.9884891510009766, 0.9881943464279175, 0.9752088785171509, 0.9898296594619751, 0.9848664402961731, 0.971989631652832, 0.9658271074295044, 0.9977099895477295, 0.9969678521156311, 0.9877124428749084, 0.9843894839286804, 0.9883131980895996, 0.9961308836936951, 0.9874638319015503, 0.99913090467453, 0.9866189956665039, 0.9959967732429504, 0.9843142628669739, 0.9861822128295898, 0.9918760061264038, 0.9958323240280151, 0.9955736398696899, 0.9971049427986145, 0.9896328449249268, 0.998447060585022, 0.9993146061897278, 0.9915338158607483, 0.9907069206237793, 0.9854158163070679, 0.9817075133323669, 0.9961520433425903, 0.9972419142723083, 0.9982550740242004, 0.9971559643745422, 0.9978408813476562, 0.9762591123580933, 0.9963318705558777, 0.9772958755493164, 0.9989309310913086, 0.9985500574111938, 0.9943093061447144, 0.9990844130516052, 0.9886752963066101, 0.9857462644577026, 0.9922664165496826, 0.9992833137512207, 0.9977360367774963, 0.9932078719139099, 0.9901947379112244, 0.9973919987678528, 0.9958381652832031, 0.9944581985473633, 0.9765632748603821, 0.9943922162055969, 0.9639386534690857, 0.9815454483032227, 0.9862417578697205, 0.9862477779388428, 0.9924707412719727, 0.9746879935264587, 0.9952175617218018, 0.9732604026794434, 0.9968110918998718, 0.9666996002197266, 0.9966241121292114, 0.9946950674057007, 0.992609441280365, 0.9962648749351501, 0.9922022223472595, 0.992576003074646, 0.9940964579582214, 0.9941809177398682, 0.9955803751945496, 0.9891745448112488, 0.9934715032577515, 0.9964655637741089, 0.9987493753433228, 0.9987152814865112, 0.9784666895866394, 0.968623697757721, 0.9986615777015686, 0.9585850238800049, 0.9973224401473999, 0.9950258731842041, 0.9848632216453552, 0.9962417483329773, 0.9961978793144226, 0.995973527431488, 0.9775141477584839, 0.9939886331558228, 0.984120786190033, 0.9722762107849121, 0.9620254039764404, 0.9789367914199829, 0.9834504127502441, 0.9949020147323608, 0.9925056099891663, 0.9909396767616272, 0.9907481670379639, 0.9724628925323486, 0.9762184619903564, 0.9765295386314392, 0.9813482761383057, 0.9978720545768738, 0.9630910158157349, 0.9944681525230408, 0.9902516007423401, 0.9883043169975281, 0.9872967600822449, 0.9921822547912598, 0.9972776174545288, 0.9840511679649353, 0.9986162781715393, 0.984605610370636, 0.9892804026603699, 0.9985546469688416, 0.9911596775054932, 0.9980343580245972, 0.9848377108573914, 0.9860472679138184, 0.9934547543525696, 0.9748558402061462, 0.9973101615905762, 0.9726093411445618, 0.9968075156211853, 0.9964479207992554, 0.9950830340385437, 0.9746198654174805, 0.9950788617134094, 0.9785816073417664, 0.9793872237205505, 0.9975564479827881, 0.9976904988288879, 0.9968544840812683, 0.9741011261940002, 0.9822843074798584, 0.9890159368515015, 0.9679964184761047, 0.9915903210639954, 0.9859851598739624, 0.9925108551979065, 0.9889155626296997, 0.995823323726654, 0.995109498500824, 0.9887362718582153, 0.9828614592552185, 0.9883624911308289, 0.9713301062583923, 0.9925609230995178, 0.9924723505973816, 0.9841048717498779, 0.9884603023529053, 0.999256432056427, 0.9837722182273865, 0.9942734241485596, 0.9889602065086365, 0.9882523417472839, 0.9955998063087463, 0.9856212735176086, 0.988459587097168, 0.9907905459403992, 0.9892118573188782, 0.9594743847846985, 0.9982298016548157, 0.9791110157966614, 0.9826847314834595, 0.9877495169639587, 0.9933903217315674, 0.9973239898681641, 0.9958194494247437, 0.9884001612663269, 0.9991699457168579, 0.9651390314102173, 0.9821105599403381, 0.997263491153717, 0.9927375316619873, 0.9657183885574341, 0.9912664294242859, 0.9863216280937195, 0.9989864230155945, 0.9890929460525513, 0.9939690828323364, 0.9973130822181702, 0.9881116151809692, 0.974014937877655, 0.9968035221099854, 0.9894697666168213, 0.9859529137611389, 0.9692619442939758, 0.9846370816230774, 0.9835026264190674, 0.9839228987693787, 0.9871360063552856, 0.9969241619110107, 0.9937379360198975, 0.9689313769340515, 0.9766393899917603, 0.9710282683372498, 0.988953709602356, 0.9948725700378418, 0.9850133061408997, 0.9941206574440002, 0.9717671275138855, 0.9823569655418396, 0.9965053200721741, 0.9951797723770142, 0.9800448417663574, 0.9608575701713562, 0.9952855706214905, 0.983346164226532, 0.9831421971321106, 0.9830060005187988, 0.974510133266449, 0.9898701310157776, 0.9904199242591858, 0.9956811666488647, 0.9895761013031006, 0.9919059872627258, 0.9934629201889038, 0.9900097846984863, 0.9799571633338928, 0.9871310591697693, 0.9816552400588989, 0.9921881556510925, 0.9926339983940125, 0.9978919625282288, 0.9898999333381653, 0.9918568730354309, 0.9973392486572266, 0.9974809885025024, 0.9900665283203125, 0.9959688782691956, 0.9909161329269409, 0.9933323860168457, 0.9909380078315735, 0.9869144558906555, 0.9507344365119934, 0.9890756011009216, 0.9936978816986084, 0.9815270304679871, 0.9947553277015686, 0.9735991358757019, 0.9923776388168335, 0.9823753237724304, 0.9856669902801514, 0.9853975772857666, 0.9935199618339539, 0.9830374121665955, 0.9820802807807922, 0.9993501305580139, 0.9972540736198425, 0.9896489381790161, 0.9826345443725586, 0.9907621741294861, 0.9971326589584351, 0.9877734780311584, 0.974540650844574, 0.9984963536262512, 0.9933282136917114, 0.9869520664215088, 0.9900718927383423, 0.9708743095397949, 0.9981271028518677, 0.9988055229187012, 0.9857197403907776, 0.9915549159049988, 0.9986535310745239, 0.9936819672584534, 0.9987340569496155, 0.98130202293396, 0.991763174533844, 0.9953733682632446, 0.9580071568489075, 0.9880338311195374, 0.9896480441093445, 0.9729332327842712, 0.9876499176025391, 0.9896641969680786, 0.9944540858268738, 0.9659140110015869, 0.9823739528656006, 0.9946728944778442, 0.9853450059890747, 0.9981155395507812, 0.9896366596221924, 0.9948825836181641, 0.9874167442321777, 0.9878188967704773, 0.9872234463691711, 0.9749082326889038, 0.9930495023727417, 0.9954171180725098, 0.9984119534492493, 0.9966086149215698, 0.9871566295623779, 0.9737066626548767, 0.9924226999282837, 0.9972269535064697, 0.9951783418655396, 0.996958315372467, 0.9828986525535583, 0.9993748664855957, 0.9831358790397644, 0.9544175863265991, 0.9850295782089233, 0.9976357817649841, 0.9902286529541016, 0.9952921867370605, 0.992617130279541, 0.9757003784179688, 0.9981968998908997, 0.9819037914276123, 0.996787428855896, 0.9985211491584778, 0.9861755967140198, 0.9837707281112671, 0.9929527044296265, 0.9941144585609436, 0.9812849760055542, 0.9898069500923157, 0.9916558265686035, 0.9814937710762024, 0.9742905497550964, 0.9879546165466309, 0.9981578588485718, 0.9946780204772949, 0.9921014308929443, 0.9981465339660645, 0.9939488172531128, 0.9942907094955444, 0.9974159002304077, 0.9912134408950806, 0.9881201386451721, 0.9908396601676941, 0.9815968871116638, 0.9869617819786072], \"Term\": [\"able\", \"abuse\", \"abusive\", \"account\", \"active\", \"actually\", \"add\", \"agree\", \"allow\", \"almost\", \"alone\", \"already\", \"alright\", \"also\", \"always\", \"amazing\", \"amp\", \"animal\", \"anxiety\", \"anxious\", \"anymore\", \"apartment\", \"apologize\", \"apparently\", \"appointment\", \"appreciate\", \"arena\", \"arm\", \"ask\", \"asleep\", \"ass\", \"assume\", \"attack\", \"attempt\", \"awake\", \"away\", \"baby\", \"back\", \"bad\", \"barely\", \"bathroom\", \"be\", \"beat\", \"beautiful\", \"bed\", \"beg\", \"begin\", \"best\", \"better\", \"bf\", \"big\", \"binge\", \"birth\", \"birthday\", \"bit\", \"bitch\", \"black\", \"blood\", \"body\", \"book\", \"bottle\", \"box\", \"boy\", \"bra\", \"brain\", \"break\", \"breakfast\", \"bring\", \"brother\", \"bruh\", \"bug\", \"burn\", \"bus\", \"busy\", \"buy\", \"call\", \"can\", \"cana\", \"car\", \"care\", \"cat\", \"catch\", \"cause\", \"chance\", \"change\", \"chat\", \"check\", \"chest\", \"child\", \"chocolate\", \"choose\", \"chronic\", \"chroniclife\", \"chroniclife\", \"chroniclife\", \"chroniclife\", \"chroniclife\", \"chroniclife\", \"chroniclife\", \"chroniclife\", \"chroniclife\", \"chroniclife\", \"chroniclife\", \"chroniclife\", \"chroniclife\", \"chroniclife\", \"chroniclife\", \"chroniclife\", \"chroniclife\", \"chroniclife\", \"chroniclife\", \"chroniclife\", \"city\", \"class\", \"clean\", \"close\", \"clothe\", \"coffee\", \"cold\", \"color\", \"com\", \"come\", \"complain\", \"completely\", \"control\", \"cool\", \"could\", \"couldna\", \"count\", \"country\", \"couple\", \"course\", \"cover\", \"crap\", \"crazy\", \"crush\", \"cry\", \"cuddle\", \"currently\", \"cut\", \"cute\", \"dad\", \"daddy\", \"damn\", \"dark\", \"date\", \"daughter\", \"day\", \"dead\", \"deal\", \"death\", \"decide\", \"definitely\", \"depend\", \"depress\", \"depression\", \"deserve\", \"design\", \"didna\", \"die\", \"different\", \"dinner\", \"disease\", \"disorder\", \"do\", \"doc\", \"doctor\", \"doesna\", \"dona\", \"door\", \"drink\", \"drive\", \"drop\", \"dude\", \"due\", \"dumb\", \"early\", \"easy\", \"eat\", \"effort\", \"else\", \"emotional\", \"end\", \"enough\", \"environment\", \"episode\", \"especially\", \"even\", \"ever\", \"excite\", \"excited\", \"explain\", \"eye\", \"eyebrow\", \"face\", \"fact\", \"fail\", \"fall\", \"family\", \"fan\", \"far\", \"fast\", \"fat\", \"fault\", \"favorite\", \"feel\", \"feeling\", \"fight\", \"figure\", \"finally\", \"find\", \"finish\", \"fire\", \"first\", \"fix\", \"follow\", \"food\", \"foot\", \"forever\", \"forget\", \"form\", \"free\", \"friend\", \"friendship\", \"fuck\", \"fucking\", \"full\", \"fun\", \"funny\", \"gain\", \"game\", \"get\", \"girl\", \"girlfriend\", \"give\", \"glad\", \"go\", \"goal\", \"goddamn\", \"good\", \"goodnight\", \"grade\", \"grateful\", \"great\", \"group\", \"grow\", \"guess\", \"gut\", \"guy\", \"hair\", \"half\", \"hand\", \"handle\", \"hang\", \"happen\", \"happy\", \"hard\", \"hate\", \"have\", \"head\", \"health\", \"hear\", \"heart\", \"hell\", \"hella\", \"help\", \"high\", \"hit\", \"hoe\", \"hold\", \"home\", \"honest\", \"honestly\", \"hope\", \"hopefully\", \"hot\", \"hour\", \"house\", \"hungry\", \"hurt\", \"ia\", \"idea\", \"ill\", \"illness\", \"important\", \"instead\", \"interesting\", \"internet\", \"isna\", \"issue\", \"itch\", \"job\", \"join\", \"joke\", \"judge\", \"keep\", \"kid\", \"kill\", \"kind\", \"kinda\", \"kiss\", \"knee\", \"know\", \"lady\", \"last\", \"late\", \"lately\", \"later\", \"learn\", \"least\", \"leave\", \"less\", \"let\", \"life\", \"light\", \"like\", \"likely\", \"lip\", \"listen\", \"literally\", \"little\", \"live\", \"lol\", \"lonely\", \"long\", \"longer\", \"look\", \"lose\", \"lot\", \"love\", \"low\", \"lunch\", \"mad\", \"make\", \"man\", \"many\", \"matter\", \"may\", \"maybe\", \"mean\", \"meat\", \"med\", \"medical\", \"medium\", \"meet\", \"meeting\", \"mental\", \"mentally\", \"mess\", \"message\", \"mile\", \"min\", \"mind\", \"minute\", \"miss\", \"mom\", \"moment\", \"money\", \"month\", \"mood\", \"morning\", \"mother\", \"move\", \"movie\", \"much\", \"name\", \"neck\", \"nee\", \"need\", \"neighbor\", \"never\", \"new\", \"news\", \"next\", \"nice\", \"night\", \"non\", \"note\", \"notice\", \"number\", \"office\", \"often\", \"okay\", \"old\", \"omg\", \"one\", \"open\", \"opinion\", \"option\", \"order\", \"other\", \"pain\", \"pant\", \"parent\", \"part\", \"pass\", \"past\", \"patient\", \"pay\", \"peep\", \"people\", \"perfect\", \"period\", \"person\", \"phone\", \"photo\", \"pic\", \"pick\", \"picture\", \"piece\", \"place\", \"plan\", \"play\", \"point\", \"post\", \"potato\", \"pound\", \"press\", \"pressure\", \"pretty\", \"probably\", \"problem\", \"process\", \"promise\", \"proud\", \"prove\", \"public\", \"pull\", \"push\", \"pussy\", \"put\", \"question\", \"quiet\", \"random\", \"rare\", \"rather\", \"read\", \"ready\", \"real\", \"realize\", \"really\", \"reason\", \"regret\", \"relate\", \"relationship\", \"remember\", \"remove\", \"replace\", \"rest\", \"result\", \"ride\", \"right\", \"rip\", \"rn\", \"room\", \"run\", \"s\", \"sad\", \"save\", \"say\", \"scare\", \"scared\", \"school\", \"scream\", \"search\", \"season\", \"second\", \"see\", \"seem\", \"self\", \"send\", \"sense\", \"sensitive\", \"seriously\", \"set\", \"sexual\", \"sexually\", \"shake\", \"shame\", \"share\", \"shea\", \"shit\", \"shitty\", \"shoot\", \"shopping\", \"shoulder\", \"shouldna\", \"show\", \"shower\", \"sick\", \"side\", \"single\", \"sister\", \"sit\", \"skin\", \"skinny\", \"sleep\", \"small\", \"smh\", \"snap\", \"snow\", \"social\", \"sometimes\", \"son\", \"soon\", \"sorry\", \"soul\", \"sound\", \"speak\", \"speed\", \"spend\", \"stable\", \"stand\", \"start\", \"status\", \"stay\", \"step\", \"still\", \"stomach\", \"stop\", \"story\", \"straight\", \"stress\", \"strong\", \"student\", \"stuff\", \"stupid\", \"sub\", \"suck\", \"suicide\", \"summer\", \"super\", \"support\", \"suppose\", \"sure\", \"surgery\", \"swear\", \"take\", \"talk\", \"tea\", \"team\", \"tear\", \"tell\", \"test\", \"text\", \"thank\", \"thata\", \"therapist\", \"therapy\", \"thigh\", \"thing\", \"think\", \"tho\", \"thought\", \"time\", \"tired\", \"today\", \"together\", \"tomorrow\", \"tonight\", \"tooth\", \"totally\", \"touch\", \"tour\", \"town\", \"toxic\", \"travel\", \"treat\", \"trigger\", \"truly\", \"trust\", \"try\", \"turn\", \"tweet\", \"type\", \"ugh\", \"understand\", \"unfortunately\", \"update\", \"upset\", \"use\", \"user\", \"usually\", \"vent\", \"video\", \"wait\", \"wake\", \"walk\", \"wall\", \"want\", \"warm\", \"wasna\", \"waste\", \"watch\", \"water\", \"way\", \"wear\", \"weed\", \"week\", \"weekend\", \"weight\", \"well\", \"whenever\", \"white\", \"whole\", \"will\", \"window\", \"wish\", \"woman\", \"wona\", \"wonder\", \"word\", \"work\", \"world\", \"worth\", \"would\", \"wouldna\", \"wrong\", \"year\", \"yesterday\", \"yet\", \"youa\", \"young\", \"\\u0153you\"]}, \"R\": 30, \"lambda.step\": 0.01, \"plot.opts\": {\"xlab\": \"PC1\", \"ylab\": \"PC2\"}, \"topic.order\": [11, 1, 15, 9, 8, 14, 13, 19, 3, 17, 16, 20, 6, 2, 18, 4, 5, 10, 12, 7]};\n",
              "\n",
              "function LDAvis_load_lib(url, callback){\n",
              "  var s = document.createElement('script');\n",
              "  s.src = url;\n",
              "  s.async = true;\n",
              "  s.onreadystatechange = s.onload = callback;\n",
              "  s.onerror = function(){console.warn(\"failed to load library \" + url);};\n",
              "  document.getElementsByTagName(\"head\")[0].appendChild(s);\n",
              "}\n",
              "\n",
              "if(typeof(LDAvis) !== \"undefined\"){\n",
              "   // already loaded: just create the visualization\n",
              "   !function(LDAvis){\n",
              "       new LDAvis(\"#\" + \"ldavis_el1231401209445641681828974567\", ldavis_el1231401209445641681828974567_data);\n",
              "   }(LDAvis);\n",
              "}else if(typeof define === \"function\" && define.amd){\n",
              "   // require.js is available: use it to load d3/LDAvis\n",
              "   require.config({paths: {d3: \"https://cdnjs.cloudflare.com/ajax/libs/d3/3.5.5/d3.min\"}});\n",
              "   require([\"d3\"], function(d3){\n",
              "      window.d3 = d3;\n",
              "      LDAvis_load_lib(\"https://cdn.rawgit.com/bmabey/pyLDAvis/files/ldavis.v1.0.0.js\", function(){\n",
              "        new LDAvis(\"#\" + \"ldavis_el1231401209445641681828974567\", ldavis_el1231401209445641681828974567_data);\n",
              "      });\n",
              "    });\n",
              "}else{\n",
              "    // require.js not available: dynamically load d3 & LDAvis\n",
              "    LDAvis_load_lib(\"https://cdnjs.cloudflare.com/ajax/libs/d3/3.5.5/d3.min.js\", function(){\n",
              "         LDAvis_load_lib(\"https://cdn.rawgit.com/bmabey/pyLDAvis/files/ldavis.v1.0.0.js\", function(){\n",
              "                 new LDAvis(\"#\" + \"ldavis_el1231401209445641681828974567\", ldavis_el1231401209445641681828974567_data);\n",
              "            })\n",
              "         });\n",
              "}\n",
              "</script>"
            ],
            "text/plain": [
              "PreparedData(topic_coordinates=              x         y  topics  cluster      Freq\n",
              "topic                                               \n",
              "10     0.412403  0.044542       1        1  7.038528\n",
              "0      0.000983 -0.091792       2        1  6.413523\n",
              "14    -0.008486 -0.003386       3        1  6.295980\n",
              "8      0.009770 -0.362016       4        1  5.896898\n",
              "7      0.001389 -0.095651       5        1  5.615770\n",
              "13    -0.012659  0.047565       6        1  5.338973\n",
              "12    -0.020829  0.012064       7        1  5.327106\n",
              "18    -0.020293  0.049406       8        1  5.293106\n",
              "2     -0.022619  0.044466       9        1  5.233893\n",
              "16    -0.006036  0.017812      10        1  5.212483\n",
              "15    -0.023706  0.017311      11        1  5.174870\n",
              "19    -0.023964  0.020285      12        1  5.093297\n",
              "5     -0.033016  0.028256      13        1  4.722425\n",
              "1     -0.031649  0.029031      14        1  4.364211\n",
              "17    -0.031550  0.042616      15        1  4.271462\n",
              "3     -0.035388  0.041249      16        1  3.853828\n",
              "4     -0.039948  0.041407      17        1  3.744255\n",
              "9     -0.035543  0.037063      18        1  3.712059\n",
              "11    -0.039910  0.039369      19        1  3.711689\n",
              "6     -0.038949  0.040404      20        1  3.685641, topic_info=              Term         Freq        Total Category  logprob  loglift\n",
              "103             go  2267.000000  2267.000000  Default  30.0000  30.0000\n",
              "11              be  2111.000000  2111.000000  Default  29.0000  29.0000\n",
              "59             get  1883.000000  1883.000000  Default  28.0000  28.0000\n",
              "230           make  1305.000000  1305.000000  Default  27.0000  27.0000\n",
              "113           want  1076.000000  1076.000000  Default  26.0000  26.0000\n",
              "...            ...          ...          ...      ...      ...      ...\n",
              "3727           gut    30.981619    31.828623  Topic20  -5.0860   3.2738\n",
              "880          crush    30.434196    31.281187  Topic20  -5.1039   3.2733\n",
              "2160          team    27.647835    28.494825  Topic20  -5.1999   3.2706\n",
              "2228         judge    27.108324    27.955315  Topic20  -5.2196   3.2700\n",
              "10391  chroniclife    31.882050  1112.248779  Topic20  -5.0574  -0.2514\n",
              "\n",
              "[651 rows x 6 columns], token_table=      Topic      Freq       Term\n",
              "term                            \n",
              "518       9  0.996597       able\n",
              "1149     19  0.981539      abuse\n",
              "2299     15  0.990422    abusive\n",
              "132       5  0.987814    account\n",
              "6283      8  0.982810     active\n",
              "...     ...       ...        ...\n",
              "1092     19  0.991213  yesterday\n",
              "1445     14  0.988120        yet\n",
              "3103      1  0.990840       youa\n",
              "22       11  0.981597      young\n",
              "3591      9  0.986962       œyou\n",
              "\n",
              "[624 rows x 3 columns], R=30, lambda_step=0.01, plot_opts={'xlab': 'PC1', 'ylab': 'PC2'}, topic_order=[11, 1, 15, 9, 8, 14, 13, 19, 3, 17, 16, 20, 6, 2, 18, 4, 5, 10, 12, 7])"
            ]
          },
          "metadata": {
            "tags": []
          },
          "execution_count": 75
        }
      ]
    },
    {
      "cell_type": "code",
      "metadata": {
        "id": "Hy67jJ0naPEZ",
        "colab_type": "code",
        "colab": {}
      },
      "source": [
        "# Build LDA model\n",
        "lda_model = gensim.models.ldamodel.LdaModel(corpus=corpus,\n",
        "                                           id2word=id2word,\n",
        "                                           num_topics=4, \n",
        "                                           random_state=100,\n",
        "                                           update_every=1,\n",
        "                                           chunksize=100,\n",
        "                                           passes=10,\n",
        "                                           alpha='auto',\n",
        "                                           per_word_topics=True)"
      ],
      "execution_count": 0,
      "outputs": []
    },
    {
      "cell_type": "code",
      "metadata": {
        "id": "JZVe02ZUcd7y",
        "colab_type": "code",
        "outputId": "77d0a314-b637-418a-ede4-85777d5116d6",
        "colab": {
          "base_uri": "https://localhost:8080/",
          "height": 85
        }
      },
      "source": [
        "# Compute Perplexity\n",
        "print('\\nPerplexity: ', lda_model.log_perplexity(corpus))  # a measure of how good the model is. lower the better.\n",
        "\n",
        "# Compute Coherence Score\n",
        "coherence_model_lda = CoherenceModel(model=lda_model, texts=data_lemmatized, dictionary=id2word, coherence='c_v')\n",
        "coherence_lda = coherence_model_lda.get_coherence()\n",
        "print('\\nCoherence Score: ', coherence_lda)"
      ],
      "execution_count": 0,
      "outputs": [
        {
          "output_type": "stream",
          "text": [
            "\n",
            "Perplexity:  -8.174682612763313\n",
            "\n",
            "Coherence Score:  0.24894337524243323\n"
          ],
          "name": "stdout"
        }
      ]
    },
    {
      "cell_type": "code",
      "metadata": {
        "id": "c54nqu3_bBRJ",
        "colab_type": "code",
        "outputId": "57f43b67-25f3-4e4e-b1e2-04b44ad8d20d",
        "colab": {
          "base_uri": "https://localhost:8080/",
          "height": 861
        }
      },
      "source": [
        "# Visualize the topics\n",
        "pyLDAvis.enable_notebook()\n",
        "vis = pyLDAvis.gensim.prepare(lda_model, corpus, id2word)\n",
        "vis"
      ],
      "execution_count": 0,
      "outputs": [
        {
          "output_type": "execute_result",
          "data": {
            "text/html": [
              "\n",
              "<link rel=\"stylesheet\" type=\"text/css\" href=\"https://cdn.rawgit.com/bmabey/pyLDAvis/files/ldavis.v1.0.0.css\">\n",
              "\n",
              "\n",
              "<div id=\"ldavis_el123140120944669344510018022\"></div>\n",
              "<script type=\"text/javascript\">\n",
              "\n",
              "var ldavis_el123140120944669344510018022_data = {\"mdsDat\": {\"x\": [0.24452063343954056, -0.2476989560307465, -0.07861965775775082, 0.08179798034895666], \"y\": [-0.08679107466689051, -0.18652293920573396, 0.29507891811098935, -0.02176490423836485], \"topics\": [1, 2, 3, 4], \"cluster\": [1, 1, 1, 1], \"Freq\": [27.02906036376953, 25.543758392333984, 25.152021408081055, 22.275161743164062]}, \"tinfo\": {\"Term\": [\"go\", \"get\", \"make\", \"want\", \"love\", \"know\", \"feel\", \"good\", \"say\", \"people\", \"be\", \"time\", \"need\", \"think\", \"see\", \"take\", \"would\", \"thing\", \"day\", \"life\", \"name\", \"much\", \"bad\", \"com\", \"really\", \"friend\", \"today\", \"start\", \"even\", \"still\", \"make\", \"love\", \"feel\", \"good\", \"time\", \"see\", \"name\", \"really\", \"try\", \"look\", \"photo\", \"always\", \"well\", \"can\", \"sleep\", \"literally\", \"little\", \"hard\", \"put\", \"ask\", \"week\", \"live\", \"also\", \"man\", \"care\", \"school\", \"first\", \"pretty\", \"big\", \"able\", \"be\", \"chroniclife\", \"go\", \"know\", \"need\", \"would\", \"day\", \"thing\", \"even\", \"come\", \"wait\", \"watch\", \"fuck\", \"ever\", \"talk\", \"fucking\", \"honestly\", \"person\", \"lose\", \"use\", \"ill\", \"home\", \"night\", \"new\", \"call\", \"happy\", \"lot\", \"mean\", \"way\", \"post\", \"bitch\", \"point\", \"chroniclife\", \"get\", \"want\", \"people\", \"think\", \"life\", \"com\", \"today\", \"still\", \"hate\", \"back\", \"thank\", \"help\", \"eat\", \"shit\", \"hour\", \"cry\", \"right\", \"last\", \"lol\", \"pain\", \"suck\", \"mom\", \"do\", \"wrong\", \"cute\", \"hurt\", \"family\", \"actually\", \"next\", \"head\", \"didna\", \"chroniclife\", \"say\", \"take\", \"much\", \"bad\", \"start\", \"friend\", \"work\", \"year\", \"tell\", \"let\", \"s\", \"give\", \"never\", \"have\", \"could\", \"girl\", \"keep\", \"stop\", \"may\", \"already\", \"long\", \"great\", \"body\", \"baby\", \"play\", \"month\", \"hot\", \"anxiety\", \"show\", \"leave\", \"daddy\", \"be\", \"chroniclife\"], \"Freq\": [2323.0, 1990.0, 1229.0, 1164.0, 1205.0, 1048.0, 1050.0, 1044.0, 856.0, 877.0, 2070.0, 846.0, 742.0, 696.0, 721.0, 598.0, 654.0, 651.0, 649.0, 619.0, 648.0, 557.0, 553.0, 579.0, 605.0, 512.0, 557.0, 511.0, 540.0, 533.0, 1229.0523681640625, 1204.906005859375, 1049.3892822265625, 1043.495361328125, 845.33642578125, 720.4200439453125, 647.9719848632812, 604.8963012695312, 558.8284912109375, 513.9246826171875, 547.4951171875, 404.82427978515625, 339.40838623046875, 306.8190612792969, 305.99407958984375, 315.5525207519531, 289.84527587890625, 289.716552734375, 286.5723876953125, 281.3773498535156, 277.8738708496094, 268.6439208984375, 267.4208984375, 267.1686096191406, 258.65679931640625, 279.05377197265625, 230.67874145507812, 237.24456787109375, 221.15838623046875, 216.8399658203125, 1227.9434814453125, 257.4759826660156, 2322.757080078125, 1048.1566162109375, 741.6649780273438, 653.8194580078125, 648.3184204101562, 650.5758056640625, 539.4254760742188, 488.36260986328125, 434.7315368652344, 416.4791564941406, 433.75677490234375, 367.4848327636719, 370.10333251953125, 347.62457275390625, 362.5124816894531, 325.4940185546875, 328.2427978515625, 254.20504760742188, 255.27389526367188, 224.10955810546875, 220.53590393066406, 213.29519653320312, 213.43304443359375, 214.8870086669922, 211.40164184570312, 215.202880859375, 202.3129425048828, 205.67530822753906, 201.40171813964844, 200.27513122558594, 310.8803405761719, 1989.477783203125, 1163.587158203125, 877.117431640625, 695.68212890625, 618.8789672851562, 579.0015869140625, 557.127197265625, 533.122314453125, 475.617431640625, 456.4002990722656, 437.6463623046875, 426.5896301269531, 422.5898132324219, 402.7320861816406, 346.12579345703125, 367.13848876953125, 327.5790100097656, 298.1746520996094, 288.38250732421875, 237.46151733398438, 243.81382751464844, 213.81655883789062, 196.5074005126953, 202.82913208007812, 187.94146728515625, 179.7808380126953, 187.095947265625, 176.75123596191406, 174.15890502929688, 173.40615844726562, 201.8245086669922, 235.83372497558594, 855.7830200195312, 597.3745727539062, 556.6988525390625, 552.2948608398438, 510.4061279296875, 511.8099365234375, 480.3950500488281, 462.776123046875, 436.396484375, 412.6124572753906, 398.4021301269531, 399.3363952636719, 377.6786804199219, 378.068359375, 374.0735168457031, 322.76416015625, 320.5613098144531, 311.9551086425781, 262.53399658203125, 233.52662658691406, 237.25363159179688, 221.53414916992188, 217.27084350585938, 210.81138610839844, 196.32037353515625, 192.53500366210938, 196.13775634765625, 181.8558807373047, 175.48886108398438, 174.14675903320312, 250.51077270507812, 764.5433959960938, 306.778076171875], \"Total\": [2323.0, 1990.0, 1229.0, 1164.0, 1205.0, 1048.0, 1050.0, 1044.0, 856.0, 877.0, 2070.0, 846.0, 742.0, 696.0, 721.0, 598.0, 654.0, 651.0, 649.0, 619.0, 648.0, 557.0, 553.0, 579.0, 605.0, 512.0, 557.0, 511.0, 540.0, 533.0, 1229.776611328125, 1205.6268310546875, 1050.114990234375, 1044.2314453125, 846.0597534179688, 721.137939453125, 648.6758422851562, 605.6203002929688, 559.5629272460938, 514.6358642578125, 548.2615356445312, 405.54791259765625, 340.1265869140625, 307.52899169921875, 306.7145080566406, 316.3193054199219, 290.55523681640625, 290.44537353515625, 287.30413818359375, 282.11529541015625, 278.60406494140625, 269.3651428222656, 268.14227294921875, 267.8925476074219, 259.39141845703125, 279.8478088378906, 231.39695739746094, 237.991943359375, 221.88064575195312, 217.61561584472656, 2070.618896484375, 1110.9681396484375, 2323.50341796875, 1048.8922119140625, 742.39599609375, 654.5455322265625, 649.03857421875, 651.3033447265625, 540.1585083007812, 489.0906982421875, 435.47430419921875, 417.2233581542969, 434.5889587402344, 368.221435546875, 370.848876953125, 348.4154357910156, 363.34234619140625, 326.2465515136719, 329.030517578125, 254.93923950195312, 256.02392578125, 224.83029174804688, 221.2571258544922, 214.00424194335938, 214.1486053466797, 215.61178588867188, 212.1311798095703, 215.94625854492188, 203.03164672851562, 206.4190216064453, 202.1544189453125, 201.04153442382812, 1110.9681396484375, 1990.2076416015625, 1164.325927734375, 877.8380126953125, 696.404296875, 619.6249389648438, 579.7080078125, 557.8383178710938, 533.8529663085938, 476.3620910644531, 457.12799072265625, 438.3731384277344, 427.3141784667969, 423.33843994140625, 403.47662353515625, 346.86163330078125, 367.93292236328125, 328.296142578125, 298.88818359375, 289.102783203125, 238.17649841308594, 244.6104278564453, 214.54327392578125, 197.2205810546875, 203.61456298828125, 188.67649841308594, 180.51072692871094, 187.85653686523438, 177.48873901367188, 174.8861083984375, 174.13600158691406, 202.676513671875, 1110.9681396484375, 856.512939453125, 598.0963745117188, 557.4229736328125, 553.0256958007812, 511.1496887207031, 512.56689453125, 481.11138916015625, 463.4981384277344, 437.129150390625, 413.3501281738281, 399.1213684082031, 400.0736389160156, 378.4072570800781, 378.8000183105469, 374.8033142089844, 323.4940490722656, 321.2892761230469, 312.6875, 263.2572021484375, 234.2501678466797, 237.9889373779297, 222.24986267089844, 217.9992218017578, 211.54034423828125, 197.03921508789062, 193.2567901611328, 196.89321899414062, 182.59527587890625, 176.2142791748047, 174.8699493408203, 252.3338623046875, 2070.618896484375, 1110.9681396484375], \"Category\": [\"Default\", \"Default\", \"Default\", \"Default\", \"Default\", \"Default\", \"Default\", \"Default\", \"Default\", \"Default\", \"Default\", \"Default\", \"Default\", \"Default\", \"Default\", \"Default\", \"Default\", \"Default\", \"Default\", \"Default\", \"Default\", \"Default\", \"Default\", \"Default\", \"Default\", \"Default\", \"Default\", \"Default\", \"Default\", \"Default\", \"Topic1\", \"Topic1\", \"Topic1\", \"Topic1\", \"Topic1\", \"Topic1\", \"Topic1\", \"Topic1\", \"Topic1\", \"Topic1\", \"Topic1\", \"Topic1\", \"Topic1\", \"Topic1\", \"Topic1\", \"Topic1\", \"Topic1\", \"Topic1\", \"Topic1\", \"Topic1\", \"Topic1\", \"Topic1\", \"Topic1\", \"Topic1\", \"Topic1\", \"Topic1\", \"Topic1\", \"Topic1\", \"Topic1\", \"Topic1\", \"Topic1\", \"Topic1\", \"Topic2\", \"Topic2\", \"Topic2\", \"Topic2\", \"Topic2\", \"Topic2\", \"Topic2\", \"Topic2\", \"Topic2\", \"Topic2\", \"Topic2\", \"Topic2\", \"Topic2\", \"Topic2\", \"Topic2\", \"Topic2\", \"Topic2\", \"Topic2\", \"Topic2\", \"Topic2\", \"Topic2\", \"Topic2\", \"Topic2\", \"Topic2\", \"Topic2\", \"Topic2\", \"Topic2\", \"Topic2\", \"Topic2\", \"Topic2\", \"Topic2\", \"Topic3\", \"Topic3\", \"Topic3\", \"Topic3\", \"Topic3\", \"Topic3\", \"Topic3\", \"Topic3\", \"Topic3\", \"Topic3\", \"Topic3\", \"Topic3\", \"Topic3\", \"Topic3\", \"Topic3\", \"Topic3\", \"Topic3\", \"Topic3\", \"Topic3\", \"Topic3\", \"Topic3\", \"Topic3\", \"Topic3\", \"Topic3\", \"Topic3\", \"Topic3\", \"Topic3\", \"Topic3\", \"Topic3\", \"Topic3\", \"Topic3\", \"Topic3\", \"Topic4\", \"Topic4\", \"Topic4\", \"Topic4\", \"Topic4\", \"Topic4\", \"Topic4\", \"Topic4\", \"Topic4\", \"Topic4\", \"Topic4\", \"Topic4\", \"Topic4\", \"Topic4\", \"Topic4\", \"Topic4\", \"Topic4\", \"Topic4\", \"Topic4\", \"Topic4\", \"Topic4\", \"Topic4\", \"Topic4\", \"Topic4\", \"Topic4\", \"Topic4\", \"Topic4\", \"Topic4\", \"Topic4\", \"Topic4\", \"Topic4\", \"Topic4\", \"Topic4\"], \"logprob\": [30.0, 29.0, 28.0, 27.0, 26.0, 25.0, 24.0, 23.0, 22.0, 21.0, 20.0, 19.0, 18.0, 17.0, 16.0, 15.0, 14.0, 13.0, 12.0, 11.0, 10.0, 9.0, 8.0, 7.0, 6.0, 5.0, 4.0, 3.0, 2.0, 1.0, -3.397900104522705, -3.417799949645996, -3.5559000968933105, -3.5615999698638916, -3.772200107574463, -3.9321000576019287, -4.038099765777588, -4.106900215148926, -4.186100006103516, -4.269800186157227, -4.206600189208984, -4.508500099182129, -4.684700012207031, -4.785699844360352, -4.788300037384033, -4.757599830627441, -4.842599868774414, -4.8429999351501465, -4.853899955749512, -4.872200012207031, -4.884699821472168, -4.918499946594238, -4.923099994659424, -4.923999786376953, -4.956399917602539, -4.880499839782715, -5.070899963378906, -5.042799949645996, -5.11299991607666, -5.132800102233887, -3.3987998962402344, -4.960999965667725, -2.704900026321411, -3.5006000995635986, -3.8464999198913574, -3.972599983215332, -3.9809999465942383, -3.9774999618530273, -4.164899826049805, -4.2642998695373535, -4.38070011138916, -4.423600196838379, -4.382900238037109, -4.548699855804443, -4.541600227355957, -4.604300022125244, -4.562300205230713, -4.670000076293945, -4.661600112915039, -4.917200088500977, -4.913099765777588, -5.043300151824951, -5.059299945831299, -5.092700004577637, -5.092100143432617, -5.085299968719482, -5.101600170135498, -5.083799839019775, -5.145599842071533, -5.1290998458862305, -5.150100231170654, -5.155700206756592, -4.716000080108643, -2.8443000316619873, -3.38070011138916, -3.663300037384033, -3.8949999809265137, -4.01200008392334, -4.07859992980957, -4.117099761962891, -4.161200046539307, -4.275300025939941, -4.3165998458862305, -4.358500003814697, -4.384099960327148, -4.393499851226807, -4.441699981689453, -4.593100070953369, -4.534200191497803, -4.648200035095215, -4.742300033569336, -4.775599956512451, -4.969900131225586, -4.94350004196167, -5.07480001449585, -5.159200191497803, -5.127600193023682, -5.203800201416016, -5.248199939727783, -5.2083001136779785, -5.265200138092041, -5.28000020980835, -5.284299850463867, -5.132500171661377, -4.976799964904785, -3.566499948501587, -3.9258999824523926, -3.9964001178741455, -4.00439977645874, -4.0833001136779785, -4.08050012588501, -4.143899917602539, -4.18120002746582, -4.2399001121521, -4.296000003814697, -4.330999851226807, -4.328700065612793, -4.384399890899658, -4.383399963378906, -4.394000053405762, -4.541500091552734, -4.548399925231934, -4.5756001472473145, -4.7480998039245605, -4.865200042724609, -4.849299907684326, -4.917900085449219, -4.937300205230713, -4.96750020980835, -5.038700103759766, -5.058199882507324, -5.039700031280518, -5.115300178527832, -5.150899887084961, -5.158599853515625, -4.795000076293945, -3.6791999340057373, -4.592299938201904], \"loglift\": [30.0, 29.0, 28.0, 27.0, 26.0, 25.0, 24.0, 23.0, 22.0, 21.0, 20.0, 19.0, 18.0, 17.0, 16.0, 15.0, 14.0, 13.0, 12.0, 11.0, 10.0, 9.0, 8.0, 7.0, 6.0, 5.0, 4.0, 3.0, 2.0, 1.0, 1.3077000379562378, 1.3077000379562378, 1.3076000213623047, 1.3076000213623047, 1.3073999881744385, 1.3072999715805054, 1.3071999549865723, 1.3071000576019287, 1.3069000244140625, 1.3069000244140625, 1.3069000244140625, 1.30649995803833, 1.3061000108718872, 1.305899977684021, 1.305899977684021, 1.305799961090088, 1.305799961090088, 1.3056999444961548, 1.3056999444961548, 1.3056000471115112, 1.3056000471115112, 1.3056000471115112, 1.3056000471115112, 1.3056000471115112, 1.305400013923645, 1.305400013923645, 1.3050999641418457, 1.3050999641418457, 1.3049999475479126, 1.3047000169754028, 0.7857999801635742, -0.15379999577999115, 1.3645000457763672, 1.3640999794006348, 1.363800048828125, 1.363700032234192, 1.363700032234192, 1.363700032234192, 1.3633999824523926, 1.3632999658584595, 1.3631000518798828, 1.3630000352859497, 1.3629000186920166, 1.3628000020980835, 1.3628000020980835, 1.3624999523162842, 1.3624999523162842, 1.3624999523162842, 1.3624000549316406, 1.361899971961975, 1.361799955368042, 1.3616000413894653, 1.3615000247955322, 1.3615000247955322, 1.3614000082015991, 1.3614000082015991, 1.361299991607666, 1.361299991607666, 1.361199975013733, 1.361199975013733, 1.3609999418258667, 1.3609999418258667, 0.09120000153779984, 1.3798999786376953, 1.3796000480651855, 1.3794000148773193, 1.3791999816894531, 1.378999948501587, 1.378999948501587, 1.378999948501587, 1.3789000511169434, 1.3787000179290771, 1.378600001335144, 1.378600001335144, 1.378499984741211, 1.378499984741211, 1.3783999681472778, 1.378100037574768, 1.378100037574768, 1.378000020980835, 1.3777999877929688, 1.3776999711990356, 1.3772000074386597, 1.3769999742507935, 1.3767999410629272, 1.3766000270843506, 1.3763999938964844, 1.3762999773025513, 1.3761999607086182, 1.3761999607086182, 1.376099944114685, 1.376099944114685, 1.3760000467300415, 1.3760000467300415, -0.1695999950170517, 1.5008000135421753, 1.500499963760376, 1.5003999471664429, 1.5003999471664429, 1.5002000331878662, 1.5002000331878662, 1.5002000331878662, 1.500100016593933, 1.5, 1.499899983406067, 1.499899983406067, 1.499899983406067, 1.4997999668121338, 1.4997999668121338, 1.4996999502182007, 1.499400019645691, 1.499400019645691, 1.499400019645691, 1.498900055885315, 1.4986000061035156, 1.4986000061035156, 1.4984999895095825, 1.4983999729156494, 1.4982000589370728, 1.4980000257492065, 1.4980000257492065, 1.4979000091552734, 1.4975999593734741, 1.4975999593734741, 1.4975999593734741, 1.4944000244140625, 0.5054000020027161, 0.21480000019073486]}, \"token.table\": {\"Topic\": [1, 3, 4, 1, 1, 4, 1, 4, 3, 4, 1, 3, 4, 1, 2, 4, 2, 1, 1, 1, 2, 3, 4, 3, 2, 4, 3, 3, 1, 2, 3, 4, 2, 3, 3, 3, 2, 2, 3, 1, 1, 4, 2, 2, 3, 4, 4, 2, 1, 4, 2, 1, 3, 4, 3, 3, 2, 2, 4, 3, 3, 2, 4, 2, 3, 4, 4, 3, 1, 1, 1, 3, 4, 1, 2, 2, 1, 1, 1, 4, 2, 3, 4, 4, 1, 2, 4, 2, 3, 2, 3, 3, 2, 1, 4, 2, 2, 1, 1, 1, 3, 4, 4, 1, 1, 3, 4, 1, 4, 3, 4, 3, 4, 2, 4, 3, 2, 3, 1, 3, 1, 2, 2, 3, 2, 2, 1, 1, 4, 2, 3, 4], \"Freq\": [0.9971711039543152, 0.9972463846206665, 0.9989320635795593, 0.9957400560379028, 0.9986489415168762, 0.99673992395401, 0.9960466623306274, 0.9974456429481506, 0.9975324273109436, 0.9981452822685242, 0.5930594205856323, 0.03766989707946777, 0.3694547712802887, 0.9960309863090515, 0.9942893981933594, 0.9954164028167725, 0.9946364164352417, 0.998279869556427, 0.9984909892082214, 0.2313297688961029, 0.2799360156059265, 0.21242733299732208, 0.27633556723594666, 0.9987787008285522, 0.9977699518203735, 0.9978566765785217, 0.9974644184112549, 0.9964144825935364, 0.003963003400713205, 0.003963003400713205, 0.003963003400713205, 0.9947139024734497, 0.9983998537063599, 0.9966620802879333, 0.9988815784454346, 0.9992005228996277, 0.9978552460670471, 0.99668288230896, 0.9954404830932617, 0.9989382028579712, 0.9982845187187195, 0.9988940358161926, 0.9986447691917419, 0.9988076686859131, 0.9993932247161865, 0.9984727501869202, 0.9973164200782776, 0.9997833371162415, 0.9988207221031189, 0.9988757371902466, 0.9971625804901123, 0.9984666109085083, 0.9992398619651794, 0.9978880286216736, 0.9934763312339783, 0.9992647767066956, 0.9963070154190063, 0.9990577697753906, 0.9954634308815002, 0.9975159168243408, 0.997170627117157, 0.9960006475448608, 0.999099612236023, 0.9991493821144104, 0.9970283508300781, 0.9950251579284668, 0.9991529583930969, 0.9989914298057556, 0.998990535736084, 0.998089075088501, 0.9986444115638733, 0.9961854815483093, 0.9958446025848389, 0.9987644553184509, 0.9968680143356323, 0.9946675300598145, 0.9994800686836243, 0.9993684887886047, 0.99666827917099, 0.9990230202674866, 0.9956181049346924, 0.9974677562713623, 0.9986712336540222, 0.9992411732673645, 0.9989581108093262, 0.999466598033905, 0.9989237785339355, 0.9953073859214783, 0.9949332475662231, 0.9988378882408142, 0.995060384273529, 0.9990453720092773, 0.9961791038513184, 0.9976990222930908, 0.9947258234024048, 0.9948192834854126, 0.9979700446128845, 0.9958320260047913, 0.9989414215087891, 0.9989757537841797, 0.9990979433059692, 0.9971904158592224, 0.9994011521339417, 0.9969704747200012, 0.9984220266342163, 0.9988186955451965, 0.9931090474128723, 0.9976704716682434, 0.9977507591247559, 0.9984022378921509, 0.9978013038635254, 0.997504472732544, 0.9981669187545776, 0.9977110028266907, 0.9974169135093689, 0.9991487860679626, 0.9995342493057251, 0.9994194507598877, 0.9987474083900452, 0.9984971880912781, 0.998993992805481, 0.9963158369064331, 0.9989108443260193, 0.9997200965881348, 0.9970678687095642, 0.9949187636375427, 0.9978318214416504, 0.9966877698898315, 0.997689962387085, 0.9991665482521057, 0.9969817399978638, 0.9989252686500549], \"Term\": [\"able\", \"actually\", \"already\", \"also\", \"always\", \"anxiety\", \"ask\", \"baby\", \"back\", \"bad\", \"be\", \"be\", \"be\", \"big\", \"bitch\", \"body\", \"call\", \"can\", \"care\", \"chroniclife\", \"chroniclife\", \"chroniclife\", \"chroniclife\", \"com\", \"come\", \"could\", \"cry\", \"cute\", \"daddy\", \"daddy\", \"daddy\", \"daddy\", \"day\", \"didna\", \"do\", \"eat\", \"even\", \"ever\", \"family\", \"feel\", \"first\", \"friend\", \"fuck\", \"fucking\", \"get\", \"girl\", \"give\", \"go\", \"good\", \"great\", \"happy\", \"hard\", \"hate\", \"have\", \"head\", \"help\", \"home\", \"honestly\", \"hot\", \"hour\", \"hurt\", \"ill\", \"keep\", \"know\", \"last\", \"leave\", \"let\", \"life\", \"literally\", \"little\", \"live\", \"lol\", \"long\", \"look\", \"lose\", \"lot\", \"love\", \"make\", \"man\", \"may\", \"mean\", \"mom\", \"month\", \"much\", \"name\", \"need\", \"never\", \"new\", \"next\", \"night\", \"pain\", \"people\", \"person\", \"photo\", \"play\", \"point\", \"post\", \"pretty\", \"put\", \"really\", \"right\", \"s\", \"say\", \"school\", \"see\", \"shit\", \"show\", \"sleep\", \"start\", \"still\", \"stop\", \"suck\", \"take\", \"talk\", \"tell\", \"thank\", \"thing\", \"think\", \"time\", \"today\", \"try\", \"use\", \"wait\", \"want\", \"watch\", \"way\", \"week\", \"well\", \"work\", \"would\", \"wrong\", \"year\"]}, \"R\": 30, \"lambda.step\": 0.01, \"plot.opts\": {\"xlab\": \"PC1\", \"ylab\": \"PC2\"}, \"topic.order\": [3, 4, 1, 2]};\n",
              "\n",
              "function LDAvis_load_lib(url, callback){\n",
              "  var s = document.createElement('script');\n",
              "  s.src = url;\n",
              "  s.async = true;\n",
              "  s.onreadystatechange = s.onload = callback;\n",
              "  s.onerror = function(){console.warn(\"failed to load library \" + url);};\n",
              "  document.getElementsByTagName(\"head\")[0].appendChild(s);\n",
              "}\n",
              "\n",
              "if(typeof(LDAvis) !== \"undefined\"){\n",
              "   // already loaded: just create the visualization\n",
              "   !function(LDAvis){\n",
              "       new LDAvis(\"#\" + \"ldavis_el123140120944669344510018022\", ldavis_el123140120944669344510018022_data);\n",
              "   }(LDAvis);\n",
              "}else if(typeof define === \"function\" && define.amd){\n",
              "   // require.js is available: use it to load d3/LDAvis\n",
              "   require.config({paths: {d3: \"https://cdnjs.cloudflare.com/ajax/libs/d3/3.5.5/d3.min\"}});\n",
              "   require([\"d3\"], function(d3){\n",
              "      window.d3 = d3;\n",
              "      LDAvis_load_lib(\"https://cdn.rawgit.com/bmabey/pyLDAvis/files/ldavis.v1.0.0.js\", function(){\n",
              "        new LDAvis(\"#\" + \"ldavis_el123140120944669344510018022\", ldavis_el123140120944669344510018022_data);\n",
              "      });\n",
              "    });\n",
              "}else{\n",
              "    // require.js not available: dynamically load d3 & LDAvis\n",
              "    LDAvis_load_lib(\"https://cdnjs.cloudflare.com/ajax/libs/d3/3.5.5/d3.min.js\", function(){\n",
              "         LDAvis_load_lib(\"https://cdn.rawgit.com/bmabey/pyLDAvis/files/ldavis.v1.0.0.js\", function(){\n",
              "                 new LDAvis(\"#\" + \"ldavis_el123140120944669344510018022\", ldavis_el123140120944669344510018022_data);\n",
              "            })\n",
              "         });\n",
              "}\n",
              "</script>"
            ],
            "text/plain": [
              "PreparedData(topic_coordinates=              x         y  topics  cluster       Freq\n",
              "topic                                                \n",
              "2      0.244521 -0.086791       1        1  27.029060\n",
              "3     -0.247699 -0.186523       2        1  25.543758\n",
              "0     -0.078620  0.295079       3        1  25.152021\n",
              "1      0.081798 -0.021765       4        1  22.275162, topic_info=              Term         Freq        Total Category  logprob  loglift\n",
              "103             go  2323.000000  2323.000000  Default  30.0000  30.0000\n",
              "59             get  1990.000000  1990.000000  Default  29.0000  29.0000\n",
              "230           make  1229.000000  1229.000000  Default  28.0000  28.0000\n",
              "113           want  1164.000000  1164.000000  Default  27.0000  27.0000\n",
              "236           love  1205.000000  1205.000000  Default  26.0000  26.0000\n",
              "...            ...          ...          ...      ...      ...      ...\n",
              "222           show   175.488861   176.214279   Topic4  -5.1509   1.4976\n",
              "209          leave   174.146759   174.869949   Topic4  -5.1586   1.4976\n",
              "834          daddy   250.510773   252.333862   Topic4  -4.7950   1.4944\n",
              "11              be   764.543396  2070.618896   Topic4  -3.6792   0.5054\n",
              "10391  chroniclife   306.778076  1110.968140   Topic4  -4.5923   0.2148\n",
              "\n",
              "[158 rows x 6 columns], token_table=      Topic      Freq      Term\n",
              "term                           \n",
              "518       1  0.997171      able\n",
              "34        3  0.997246  actually\n",
              "261       4  0.998932   already\n",
              "70        1  0.995740      also\n",
              "10        1  0.998649    always\n",
              "...     ...       ...       ...\n",
              "452       1  0.996688      well\n",
              "126       4  0.997690      work\n",
              "329       2  0.999167     would\n",
              "307       3  0.996982     wrong\n",
              "25        4  0.998925      year\n",
              "\n",
              "[132 rows x 3 columns], R=30, lambda_step=0.01, plot_opts={'xlab': 'PC1', 'ylab': 'PC2'}, topic_order=[3, 4, 1, 2])"
            ]
          },
          "metadata": {
            "tags": []
          },
          "execution_count": 78
        }
      ]
    },
    {
      "cell_type": "markdown",
      "metadata": {
        "id": "cKISmHzJa7_b",
        "colab_type": "text"
      },
      "source": [
        "For Post Diagnosis Tweets"
      ]
    },
    {
      "cell_type": "code",
      "metadata": {
        "id": "MWlvpN_PkGEu",
        "colab_type": "code",
        "outputId": "0f259f3e-1d86-4f06-fa8d-39a03ba0fe5c",
        "colab": {
          "base_uri": "https://localhost:8080/",
          "height": 204
        }
      },
      "source": [
        "df_post.head()"
      ],
      "execution_count": 0,
      "outputs": [
        {
          "output_type": "execute_result",
          "data": {
            "text/html": [
              "<div>\n",
              "<style scoped>\n",
              "    .dataframe tbody tr th:only-of-type {\n",
              "        vertical-align: middle;\n",
              "    }\n",
              "\n",
              "    .dataframe tbody tr th {\n",
              "        vertical-align: top;\n",
              "    }\n",
              "\n",
              "    .dataframe thead th {\n",
              "        text-align: right;\n",
              "    }\n",
              "</style>\n",
              "<table border=\"1\" class=\"dataframe\">\n",
              "  <thead>\n",
              "    <tr style=\"text-align: right;\">\n",
              "      <th></th>\n",
              "      <th>Username</th>\n",
              "      <th>Tweets</th>\n",
              "      <th>date</th>\n",
              "    </tr>\n",
              "  </thead>\n",
              "  <tbody>\n",
              "    <tr>\n",
              "      <th>0</th>\n",
              "      <td>dp3_45pm</td>\n",
              "      <td>oh my gawd I see RUUUUSSSIIIIIAAAONN here</td>\n",
              "      <td>Mon Dec 09 20:31:08 +0000 2019</td>\n",
              "    </tr>\n",
              "    <tr>\n",
              "      <th>1</th>\n",
              "      <td>dp3_45pm</td>\n",
              "      <td>OOOHH MYYYY GOOOOOOOOOD</td>\n",
              "      <td>Thu Nov 28 21:14:46 +0000 2019</td>\n",
              "    </tr>\n",
              "    <tr>\n",
              "      <th>2</th>\n",
              "      <td>dp3_45pm</td>\n",
              "      <td>Well-</td>\n",
              "      <td>Tue Nov 26 15:06:03 +0000 2019</td>\n",
              "    </tr>\n",
              "    <tr>\n",
              "      <th>3</th>\n",
              "      <td>dp3_45pm</td>\n",
              "      <td>how about howling commandos series you rat?</td>\n",
              "      <td>Mon Nov 25 07:11:40 +0000 2019</td>\n",
              "    </tr>\n",
              "    <tr>\n",
              "      <th>4</th>\n",
              "      <td>dp3_45pm</td>\n",
              "      <td>I hate k-pop, everyone. nothing can be fixed a...</td>\n",
              "      <td>Mon Nov 25 00:44:55 +0000 2019</td>\n",
              "    </tr>\n",
              "  </tbody>\n",
              "</table>\n",
              "</div>"
            ],
            "text/plain": [
              "   Username  ...                            date\n",
              "0  dp3_45pm  ...  Mon Dec 09 20:31:08 +0000 2019\n",
              "1  dp3_45pm  ...  Thu Nov 28 21:14:46 +0000 2019\n",
              "2  dp3_45pm  ...  Tue Nov 26 15:06:03 +0000 2019\n",
              "3  dp3_45pm  ...  Mon Nov 25 07:11:40 +0000 2019\n",
              "4  dp3_45pm  ...  Mon Nov 25 00:44:55 +0000 2019\n",
              "\n",
              "[5 rows x 3 columns]"
            ]
          },
          "metadata": {
            "tags": []
          },
          "execution_count": 94
        }
      ]
    },
    {
      "cell_type": "code",
      "metadata": {
        "id": "MJ7KOPjVch3V",
        "colab_type": "code",
        "colab": {}
      },
      "source": [
        "data2 = df_post.Tweets.values.tolist()\n",
        "data2 = [re.sub('\\S*@\\S*\\s?', '', sent) for sent in data2]\n",
        "data2 = [re.sub('\\s+', ' ', sent) for sent in data2]\n",
        "data2 = [re.sub(\"\\'\", \"\", sent) for sent in data2]"
      ],
      "execution_count": 0,
      "outputs": []
    },
    {
      "cell_type": "code",
      "metadata": {
        "id": "gp9qrlVDduOg",
        "colab_type": "code",
        "outputId": "850cc883-d278-4111-c978-c94814181aab",
        "colab": {
          "base_uri": "https://localhost:8080/",
          "height": 34
        }
      },
      "source": [
        "pprint(data2[:1])"
      ],
      "execution_count": 0,
      "outputs": [
        {
          "output_type": "stream",
          "text": [
            "['oh my gawd I see RUUUUSSSIIIIIAAAONN here']\n"
          ],
          "name": "stdout"
        }
      ]
    },
    {
      "cell_type": "code",
      "metadata": {
        "id": "qnKfnL7Hf31G",
        "colab_type": "code",
        "outputId": "26c014bb-aadb-49b0-ce1e-680cf51595eb",
        "colab": {
          "base_uri": "https://localhost:8080/",
          "height": 34
        }
      },
      "source": [
        "data2_words = list(sent_to_words(data2))\n",
        "print(data2_words[:1])"
      ],
      "execution_count": 0,
      "outputs": [
        {
          "output_type": "stream",
          "text": [
            "[['oh', 'my', 'gawd', 'see', 'here']]\n"
          ],
          "name": "stdout"
        }
      ]
    },
    {
      "cell_type": "code",
      "metadata": {
        "id": "JpWpO9_xf_zI",
        "colab_type": "code",
        "colab": {}
      },
      "source": [
        "# Remove Stop Words\n",
        "data2_words_nostops = remove_stopwords(data2_words)\n",
        "# Initialize spacy 'en' model, keeping only tagger component (for efficiency)\n",
        "# python3 -m spacy download en\n",
        "nlp = spacy.load('en', disable=['parser', 'ner'])\n"
      ],
      "execution_count": 0,
      "outputs": []
    },
    {
      "cell_type": "code",
      "metadata": {
        "id": "KhugYQD3gBsY",
        "colab_type": "code",
        "colab": {}
      },
      "source": [
        "# Do lemmatization keeping only noun, adj, vb, adv\n",
        "data2_lemmatized = lemmatization(data2_words_nostops, allowed_postags=['NOUN', 'ADJ', 'VERB', 'ADV'])"
      ],
      "execution_count": 0,
      "outputs": []
    },
    {
      "cell_type": "code",
      "metadata": {
        "id": "BHGWKy1DgIJn",
        "colab_type": "code",
        "outputId": "9cad5fbc-91ff-4392-9af1-627a2aa5993b",
        "colab": {
          "base_uri": "https://localhost:8080/",
          "height": 34
        }
      },
      "source": [
        "print(data2_lemmatized[:1])"
      ],
      "execution_count": 0,
      "outputs": [
        {
          "output_type": "stream",
          "text": [
            "[[]]\n"
          ],
          "name": "stdout"
        }
      ]
    },
    {
      "cell_type": "code",
      "metadata": {
        "id": "josjU-jLiGmY",
        "colab_type": "code",
        "colab": {}
      },
      "source": [
        "id2word = corpora.Dictionary(data2_lemmatized)"
      ],
      "execution_count": 0,
      "outputs": []
    },
    {
      "cell_type": "code",
      "metadata": {
        "id": "nsOq1_Hwil5f",
        "colab_type": "code",
        "colab": {}
      },
      "source": [
        "texts = data2_lemmatized\n",
        "# Term Document Frequency\n",
        "corpus = [id2word.doc2bow(text) for text in texts]"
      ],
      "execution_count": 0,
      "outputs": []
    },
    {
      "cell_type": "code",
      "metadata": {
        "id": "FO87j-pOi9Am",
        "colab_type": "code",
        "outputId": "1b92372c-1a7a-4b28-b692-f4ad95828eb6",
        "colab": {
          "base_uri": "https://localhost:8080/",
          "height": 34
        }
      },
      "source": [
        "[[(id2word[id], freq) for id, freq in cp] for cp in corpus[:1]]"
      ],
      "execution_count": 0,
      "outputs": [
        {
          "output_type": "execute_result",
          "data": {
            "text/plain": [
              "[[]]"
            ]
          },
          "metadata": {
            "tags": []
          },
          "execution_count": 105
        }
      ]
    },
    {
      "cell_type": "code",
      "metadata": {
        "id": "N-6Y-_Dri-aH",
        "colab_type": "code",
        "outputId": "3b72f27f-982f-4e5c-a9a9-8b3f1fb143d1",
        "colab": {
          "base_uri": "https://localhost:8080/",
          "height": 34
        }
      },
      "source": [
        "print(corpus[:1])"
      ],
      "execution_count": 0,
      "outputs": [
        {
          "output_type": "stream",
          "text": [
            "[[]]\n"
          ],
          "name": "stdout"
        }
      ]
    },
    {
      "cell_type": "code",
      "metadata": {
        "id": "NUB4IvjrlU34",
        "colab_type": "code",
        "colab": {}
      },
      "source": [
        "lda_model = gensim.models.ldamodel.LdaModel(corpus=corpus,\n",
        "                                           id2word=id2word,\n",
        "                                           num_topics=10, \n",
        "                                           random_state=100,\n",
        "                                           update_every=1,\n",
        "                                           chunksize=100,\n",
        "                                           passes=10,\n",
        "                                           alpha='auto',\n",
        "                                           per_word_topics=True)"
      ],
      "execution_count": 0,
      "outputs": []
    },
    {
      "cell_type": "code",
      "metadata": {
        "id": "w1ldZMAAlXDw",
        "colab_type": "code",
        "outputId": "2152da06-235e-40ba-c1ca-8dc162b0b0ca",
        "colab": {
          "base_uri": "https://localhost:8080/",
          "height": 612
        }
      },
      "source": [
        "pprint(lda_model.print_topics())\n",
        "doc_lda = lda_model[corpus]"
      ],
      "execution_count": 0,
      "outputs": [
        {
          "output_type": "stream",
          "text": [
            "[(0,\n",
            "  '0.068*\"com\" + 0.035*\"talk\" + 0.029*\"last\" + 0.027*\"night\" + 0.024*\"let\" + '\n",
            "  '0.022*\"eat\" + 0.020*\"big\" + 0.018*\"put\" + 0.017*\"hour\" + 0.017*\"pain\"'),\n",
            " (1,\n",
            "  '0.065*\"love\" + 0.060*\"good\" + 0.052*\"today\" + 0.049*\"think\" + 0.031*\"year\" '\n",
            "  '+ 0.024*\"have\" + 0.023*\"find\" + 0.023*\"call\" + 0.021*\"can\" + 0.020*\"ask\"'),\n",
            " (2,\n",
            "  '0.063*\"take\" + 0.049*\"shit\" + 0.046*\"s\" + 0.043*\"try\" + 0.040*\"friend\" + '\n",
            "  '0.032*\"fuck\" + 0.022*\"happy\" + 0.020*\"birthday\" + 0.019*\"ass\" + '\n",
            "  '0.016*\"long\"'),\n",
            " (3,\n",
            "  '0.039*\"still\" + 0.039*\"back\" + 0.033*\"tonight\" + 0.032*\"give\" + '\n",
            "  '0.023*\"bitch\" + 0.019*\"home\" + 0.018*\"miss\" + 0.016*\"whole\" + 0.016*\"lose\" '\n",
            "  '+ 0.016*\"guy\"'),\n",
            " (4,\n",
            "  '0.074*\"time\" + 0.057*\"know\" + 0.052*\"people\" + 0.048*\"would\" + 0.032*\"bad\" '\n",
            "  '+ 0.030*\"tell\" + 0.030*\"much\" + 0.026*\"watch\" + 0.019*\"always\" + '\n",
            "  '0.018*\"hate\"'),\n",
            " (5,\n",
            "  '0.115*\"get\" + 0.103*\"go\" + 0.049*\"feel\" + 0.037*\"really\" + 0.030*\"look\" + '\n",
            "  '0.029*\"thank\" + 0.025*\"help\" + 0.023*\"could\" + 0.017*\"well\" + 0.015*\"new\"'),\n",
            " (6,\n",
            "  '0.049*\"day\" + 0.037*\"life\" + 0.033*\"come\" + 0.026*\"also\" + 0.023*\"hit\" + '\n",
            "  '0.022*\"lol\" + 0.020*\"care\" + 0.019*\"body\" + 0.017*\"honestly\" + '\n",
            "  '0.013*\"least\"'),\n",
            " (7,\n",
            "  '0.059*\"photo\" + 0.045*\"name\" + 0.034*\"start\" + 0.029*\"never\" + '\n",
            "  '0.026*\"right\" + 0.023*\"first\" + 0.022*\"week\" + 0.018*\"month\" + 0.015*\"post\" '\n",
            "  '+ 0.015*\"suck\"'),\n",
            " (8,\n",
            "  '0.152*\"be\" + 0.069*\"make\" + 0.042*\"work\" + 0.030*\"girl\" + 0.021*\"use\" + '\n",
            "  '0.019*\"head\" + 0.019*\"great\" + 0.017*\"may\" + 0.015*\"hurt\" + 0.014*\"mean\"'),\n",
            " (9,\n",
            "  '0.085*\"want\" + 0.065*\"need\" + 0.063*\"say\" + 0.048*\"see\" + 0.041*\"thing\" + '\n",
            "  '0.025*\"baby\" + 0.022*\"live\" + 0.022*\"lot\" + 0.021*\"fucking\" + 0.017*\"next\"')]\n"
          ],
          "name": "stdout"
        }
      ]
    },
    {
      "cell_type": "code",
      "metadata": {
        "id": "R1KQrA0fl0yY",
        "colab_type": "code",
        "outputId": "0b9e3502-bd86-4f95-a2aa-e6cf69169d4a",
        "colab": {
          "base_uri": "https://localhost:8080/",
          "height": 85
        }
      },
      "source": [
        "# Compute Perplexity\n",
        "print('\\nPerplexity: ', lda_model.log_perplexity(corpus))  # a measure of how good the model is. lower the better.\n",
        "\n",
        "# Compute Coherence Score\n",
        "coherence_model_lda = CoherenceModel(model=lda_model, texts=data2_lemmatized, dictionary=id2word, coherence='c_v')\n",
        "coherence_lda = coherence_model_lda.get_coherence()\n",
        "print('\\nCoherence Score: ', coherence_lda)"
      ],
      "execution_count": 0,
      "outputs": [
        {
          "output_type": "stream",
          "text": [
            "\n",
            "Perplexity:  -8.737809147889205\n",
            "\n",
            "Coherence Score:  0.2831042364944866\n"
          ],
          "name": "stdout"
        }
      ]
    },
    {
      "cell_type": "code",
      "metadata": {
        "id": "Tcd1KlpLl3cI",
        "colab_type": "code",
        "outputId": "bcce3d2d-c7da-43f4-f596-b747c44501e1",
        "colab": {
          "base_uri": "https://localhost:8080/",
          "height": 861
        }
      },
      "source": [
        "# Visualize the topics\n",
        "pyLDAvis.enable_notebook()\n",
        "vis = pyLDAvis.gensim.prepare(lda_model, corpus, id2word)\n",
        "vis"
      ],
      "execution_count": 0,
      "outputs": [
        {
          "output_type": "execute_result",
          "data": {
            "text/html": [
              "\n",
              "<link rel=\"stylesheet\" type=\"text/css\" href=\"https://cdn.rawgit.com/bmabey/pyLDAvis/files/ldavis.v1.0.0.css\">\n",
              "\n",
              "\n",
              "<div id=\"ldavis_el1231401209441860161211873098\"></div>\n",
              "<script type=\"text/javascript\">\n",
              "\n",
              "var ldavis_el1231401209441860161211873098_data = {\"mdsDat\": {\"x\": [-0.38203222597483, 0.053797623282478314, 0.05321168453179765, 0.043136332969979915, 0.045683186976546324, 0.04177225210755938, 0.038300392765069614, 0.039995587140827314, 0.03234798500870466, 0.033787181191866564], \"y\": [-0.005649628243631755, -0.3447797058606539, 0.16424266894273995, 0.03404826525947115, 0.04454076385119679, 0.03385289763625928, 0.025201938789008088, 0.023348902526411978, 0.012202311320145251, 0.012991585779053001], \"topics\": [1, 2, 3, 4, 5, 6, 7, 8, 9, 10], \"cluster\": [1, 1, 1, 1, 1, 1, 1, 1, 1, 1], \"Freq\": [12.91601848602295, 11.768672943115234, 11.07719898223877, 9.895132064819336, 9.85438060760498, 9.734745025634766, 9.508827209472656, 8.8712797164917, 8.44526481628418, 7.928481578826904]}, \"tinfo\": {\"Term\": [\"be\", \"get\", \"go\", \"want\", \"time\", \"love\", \"make\", \"good\", \"need\", \"com\", \"know\", \"say\", \"photo\", \"people\", \"feel\", \"today\", \"take\", \"would\", \"think\", \"day\", \"see\", \"name\", \"shit\", \"really\", \"work\", \"s\", \"thing\", \"try\", \"life\", \"still\", \"get\", \"go\", \"feel\", \"really\", \"look\", \"thank\", \"help\", \"could\", \"well\", \"new\", \"hard\", \"way\", \"pretty\", \"keep\", \"beautiful\", \"illness\", \"wish\", \"away\", \"health\", \"job\", \"part\", \"online\", \"movie\", \"mental\", \"user\", \"fat\", \"swear\", \"diagnose\", \"support\", \"else\", \"time\", \"know\", \"people\", \"would\", \"bad\", \"tell\", \"much\", \"watch\", \"always\", \"hate\", \"even\", \"kid\", \"wait\", \"many\", \"little\", \"man\", \"reason\", \"deal\", \"sure\", \"ago\", \"already\", \"refund\", \"stay\", \"story\", \"fun\", \"date\", \"especially\", \"wear\", \"son\", \"finish\", \"love\", \"good\", \"today\", \"think\", \"year\", \"have\", \"find\", \"call\", \"can\", \"ask\", \"ever\", \"cry\", \"die\", \"sleep\", \"leave\", \"play\", \"mom\", \"cute\", \"stop\", \"cause\", \"daughter\", \"boy\", \"step\", \"sick\", \"hair\", \"patient\", \"mile\", \"pound\", \"woman\", \"read\", \"lmfao\", \"day\", \"life\", \"come\", \"also\", \"hit\", \"lol\", \"care\", \"body\", \"honestly\", \"least\", \"will\", \"actually\", \"chronic\", \"happen\", \"fall\", \"sad\", \"wake\", \"ready\", \"depression\", \"stand\", \"seem\", \"bed\", \"learn\", \"open\", \"anxiety\", \"color\", \"sub\", \"walk\", \"fake\", \"different\", \"photo\", \"name\", \"start\", \"never\", \"right\", \"first\", \"week\", \"month\", \"post\", \"suck\", \"school\", \"show\", \"move\", \"almost\", \"end\", \"sex\", \"tomorrow\", \"person\", \"sorry\", \"finally\", \"pay\", \"high\", \"follow\", \"definitely\", \"favorite\", \"like\", \"better\", \"together\", \"nice\", \"game\", \"be\", \"make\", \"work\", \"girl\", \"use\", \"head\", \"great\", \"may\", \"hurt\", \"mean\", \"stuff\", \"check\", \"probably\", \"issue\", \"point\", \"bring\", \"fact\", \"run\", \"money\", \"gain\", \"late\", \"hand\", \"straight\", \"bug\", \"cut\", \"hell\", \"one\", \"crush\", \"child\", \"proud\", \"want\", \"need\", \"say\", \"see\", \"thing\", \"baby\", \"live\", \"lot\", \"fucking\", \"next\", \"hear\", \"food\", \"soon\", \"change\", \"self\", \"share\", \"real\", \"deserve\", \"word\", \"yet\", \"yesterday\", \"excited\", \"disabled\", \"message\", \"true\", \"top\", \"set\", \"world\", \"medication\", \"later\", \"outta\", \"com\", \"talk\", \"last\", \"night\", \"let\", \"eat\", \"big\", \"put\", \"hour\", \"pain\", \"morning\", \"old\", \"ill\", \"status\", \"literally\", \"travel\", \"sometimes\", \"lovely\", \"host\", \"idea\", \"believe\", \"heart\", \"early\", \"turn\", \"damn\", \"amazing\", \"remember\", \"understand\", \"amp\", \"sister\", \"spoon\", \"still\", \"back\", \"tonight\", \"give\", \"bitch\", \"home\", \"miss\", \"whole\", \"lose\", \"guy\", \"hope\", \"tired\", \"able\", \"wrong\", \"maybe\", \"phone\", \"picture\", \"other\", \"doctor\", \"guess\", \"rest\", \"send\", \"funny\", \"daddy\", \"star\", \"buy\", \"weight\", \"therapy\", \"music\", \"full\", \"take\", \"shit\", \"s\", \"try\", \"friend\", \"fuck\", \"happy\", \"birthday\", \"ass\", \"long\", \"do\", \"break\", \"seriously\", \"enough\", \"kiss\", \"brain\", \"dream\", \"sign\", \"super\", \"pull\", \"family\", \"sit\", \"forever\", \"abuse\", \"become\", \"bro\", \"link\", \"feeling\", \"white\", \"sweet\"], \"Freq\": [2497.0, 2506.0, 2240.0, 1364.0, 1477.0, 1219.0, 1140.0, 1122.0, 1044.0, 1013.0, 1133.0, 1016.0, 986.0, 1030.0, 1060.0, 972.0, 838.0, 957.0, 912.0, 827.0, 768.0, 753.0, 656.0, 799.0, 692.0, 621.0, 659.0, 582.0, 614.0, 563.0, 2505.46875, 2239.634033203125, 1059.901611328125, 799.0067138671875, 662.4168701171875, 636.9321899414062, 549.1790161132812, 494.8319091796875, 374.16680908203125, 336.1051025390625, 333.1489562988281, 320.5357666015625, 296.5415344238281, 285.4442443847656, 210.341796875, 192.29483032226562, 172.61656188964844, 158.3367919921875, 154.63973999023438, 152.5210418701172, 150.63153076171875, 149.31178283691406, 149.17860412597656, 143.28831481933594, 142.05899047851562, 139.50265502929688, 129.46493530273438, 128.0170135498047, 123.50294494628906, 113.10733032226562, 1477.0682373046875, 1132.5611572265625, 1030.068359375, 956.1989135742188, 629.3934936523438, 602.0660400390625, 594.2235107421875, 523.5879516601562, 384.9717102050781, 352.1630554199219, 342.0978698730469, 331.0326843261719, 315.9581298828125, 314.8281555175781, 310.28515625, 263.14794921875, 233.65765380859375, 221.31820678710938, 216.69970703125, 179.57723999023438, 162.43370056152344, 162.83619689941406, 149.3241424560547, 144.51275634765625, 119.7835693359375, 118.21102905273438, 114.02584838867188, 111.65300750732422, 110.4035415649414, 102.04519653320312, 1218.155517578125, 1121.1597900390625, 972.0972900390625, 911.2366943359375, 577.1022338867188, 448.5882568359375, 430.43060302734375, 428.960205078125, 389.619873046875, 365.5637512207031, 356.8874816894531, 339.9660949707031, 318.0074768066406, 309.8822937011719, 306.4798278808594, 257.5508117675781, 220.5325164794922, 220.4007110595703, 216.31349182128906, 200.50506591796875, 189.96603393554688, 166.92092895507812, 161.19573974609375, 147.79730224609375, 146.028564453125, 142.5809326171875, 141.72862243652344, 132.6160430908203, 124.43987274169922, 124.3288803100586, 153.36289978027344, 826.119140625, 613.3606567382812, 559.3269653320312, 428.36126708984375, 388.4463806152344, 369.99810791015625, 333.6784362792969, 319.9989013671875, 282.7519836425781, 216.45584106445312, 212.3650360107422, 204.91250610351562, 184.56219482421875, 178.8966064453125, 176.67190551757812, 166.89572143554688, 161.61805725097656, 160.7439727783203, 156.08682250976562, 144.64215087890625, 137.14988708496094, 134.00331115722656, 133.7525634765625, 132.3411407470703, 130.78150939941406, 129.7299041748047, 122.75077819824219, 122.17182922363281, 118.26827239990234, 112.86064910888672, 986.0321044921875, 752.6673583984375, 562.0906372070312, 486.8979797363281, 431.6149597167969, 386.4107666015625, 369.54266357421875, 296.63958740234375, 257.0439758300781, 243.4391326904297, 234.1758575439453, 233.2296600341797, 232.8543243408203, 229.94403076171875, 211.8876495361328, 210.83497619628906, 209.45318603515625, 199.96234130859375, 191.42739868164062, 184.03932189941406, 177.92906188964844, 167.1214141845703, 162.4613037109375, 156.51499938964844, 149.18862915039062, 148.3560333251953, 129.920166015625, 127.36129760742188, 117.85625457763672, 115.04803466796875, 2496.28271484375, 1139.453125, 691.1968383789062, 486.6181945800781, 347.430419921875, 314.01007080078125, 307.1242980957031, 276.90301513671875, 253.55113220214844, 228.08721923828125, 202.202392578125, 192.35557556152344, 179.58392333984375, 166.5689697265625, 162.7293701171875, 149.59910583496094, 132.28929138183594, 122.31954956054688, 118.8181381225586, 116.71775817871094, 115.81102752685547, 105.89887237548828, 103.90223693847656, 103.75994873046875, 99.4693832397461, 96.0970687866211, 90.10002899169922, 87.4714584350586, 83.3811264038086, 78.12338256835938, 1363.5615234375, 1043.6434326171875, 1015.754150390625, 767.607177734375, 658.4322509765625, 394.5822448730469, 355.1202392578125, 348.5015869140625, 340.2586364746094, 275.9413146972656, 253.16534423828125, 188.9824676513672, 173.291015625, 169.27493286132812, 165.03334045410156, 147.9337158203125, 130.97471618652344, 118.00563049316406, 114.7701187133789, 111.3001937866211, 109.59635925292969, 104.33358001708984, 103.80377197265625, 100.91942596435547, 93.71086120605469, 91.06764221191406, 90.12313842773438, 87.75271606445312, 85.73706817626953, 83.84275817871094, 97.53150177001953, 1012.6411743164062, 531.13623046875, 430.29132080078125, 404.6643371582031, 355.6579895019531, 327.57147216796875, 300.9986877441406, 271.8709411621094, 260.5868225097656, 256.05755615234375, 241.46922302246094, 234.24705505371094, 217.64547729492188, 212.96505737304688, 191.17953491210938, 190.58224487304688, 186.9368896484375, 183.67771911621094, 176.56031799316406, 162.06356811523438, 157.23678588867188, 143.51939392089844, 134.15859985351562, 132.3806610107422, 127.86302947998047, 125.41207885742188, 119.9913101196289, 103.54672241210938, 103.21490478515625, 96.76175689697266, 116.37139892578125, 563.106201171875, 555.2020874023438, 468.7784729003906, 463.3119812011719, 321.5610046386719, 273.0166015625, 253.51638793945312, 233.7131805419922, 229.00714111328125, 225.0539093017578, 214.67752075195312, 198.92343139648438, 179.80564880371094, 173.4391326904297, 166.41461181640625, 145.30123901367188, 142.9651641845703, 134.3621826171875, 125.35211944580078, 124.22391510009766, 120.14474487304688, 115.28781127929688, 112.77059936523438, 103.81018829345703, 102.12812042236328, 100.82320404052734, 99.51820373535156, 95.02534484863281, 94.20952606201172, 94.14041137695312, 837.8831787109375, 655.7734375, 620.3070068359375, 581.8930053710938, 530.1957397460938, 424.7508544921875, 291.55853271484375, 263.72296142578125, 253.04495239257812, 214.03280639648438, 206.36221313476562, 193.96690368652344, 164.52011108398438, 152.1243896484375, 111.66356658935547, 111.02657318115234, 108.71038818359375, 108.52092742919922, 97.0382080078125, 90.99626159667969, 89.49164581298828, 85.81424713134766, 83.91034698486328, 81.77139282226562, 81.527587890625, 76.45573425292969, 76.17548370361328, 75.1921615600586, 73.4270248413086, 69.5894775390625], \"Total\": [2497.0, 2506.0, 2240.0, 1364.0, 1477.0, 1219.0, 1140.0, 1122.0, 1044.0, 1013.0, 1133.0, 1016.0, 986.0, 1030.0, 1060.0, 972.0, 838.0, 957.0, 912.0, 827.0, 768.0, 753.0, 656.0, 799.0, 692.0, 621.0, 659.0, 582.0, 614.0, 563.0, 2506.348876953125, 2240.513916015625, 1060.781494140625, 799.8866577148438, 663.2967529296875, 637.8121948242188, 550.0588989257812, 495.7118835449219, 375.0467224121094, 336.9850158691406, 334.0289001464844, 321.4156799316406, 297.4215087890625, 286.32415771484375, 211.22183227539062, 193.1748504638672, 173.4966278076172, 159.2167510986328, 155.51976013183594, 153.40101623535156, 151.51150512695312, 150.19190979003906, 150.05848693847656, 144.1682891845703, 142.93917846679688, 140.3829803466797, 130.3451690673828, 128.8972930908203, 124.38288879394531, 113.98725891113281, 1477.943115234375, 1133.43603515625, 1030.9432373046875, 957.0739135742188, 630.2684326171875, 602.9410400390625, 595.0984497070312, 524.462890625, 385.8467102050781, 353.0380554199219, 342.97283935546875, 331.90771484375, 316.8331298828125, 315.7031555175781, 311.1601257324219, 264.0229187011719, 234.53271484375, 222.19326782226562, 217.57464599609375, 180.45223999023438, 163.3087158203125, 163.71519470214844, 150.19906616210938, 145.38778686523438, 120.65849304199219, 119.08619689941406, 114.90088653564453, 112.52793884277344, 111.27916717529297, 102.92015838623047, 1219.0355224609375, 1122.039794921875, 972.977294921875, 912.1167602539062, 577.9822998046875, 449.4682922363281, 431.3106384277344, 429.84033203125, 390.4998779296875, 366.44378662109375, 357.7675476074219, 340.84637451171875, 318.88775634765625, 310.7623291015625, 307.35986328125, 258.4307861328125, 221.41258239746094, 221.28086853027344, 217.19349670410156, 201.3854217529297, 190.84640502929688, 167.8009796142578, 162.07582092285156, 148.6773681640625, 146.9085693359375, 143.4612274169922, 142.60887145996094, 133.49749755859375, 125.31989288330078, 125.20890045166016, 172.22665405273438, 827.0000610351562, 614.24169921875, 560.2078857421875, 429.2423095703125, 389.3273620605469, 370.87908935546875, 334.5594177246094, 320.8800048828125, 283.6331787109375, 217.3368377685547, 213.2460479736328, 205.7935028076172, 185.4432830810547, 179.7776336669922, 177.55294799804688, 167.77676391601562, 162.49899291992188, 161.62489318847656, 156.9679718017578, 145.52310180664062, 138.03089904785156, 134.8843231201172, 134.63360595703125, 133.22218322753906, 131.66265869140625, 130.61117553710938, 123.63381958007812, 123.05271911621094, 119.1502914428711, 113.7417221069336, 986.9122924804688, 753.5474243164062, 562.9707641601562, 487.77813720703125, 432.4950866699219, 387.2908935546875, 370.42279052734375, 297.51971435546875, 257.9241638183594, 244.31935119628906, 235.05609130859375, 234.10975646972656, 233.73452758789062, 230.82420349121094, 212.7677764892578, 211.71536254882812, 210.333251953125, 200.84251403808594, 192.30776977539062, 184.91934204101562, 178.8092041015625, 168.00167846679688, 163.34152221679688, 157.39512634277344, 150.06895446777344, 149.2361602783203, 130.80026245117188, 128.24151611328125, 118.7363052368164, 115.92807006835938, 2497.165771484375, 1140.336181640625, 692.079833984375, 487.5013427734375, 348.3134765625, 314.89306640625, 308.00732421875, 277.78607177734375, 254.4344024658203, 228.9702911376953, 203.08543395996094, 193.2386016845703, 180.4670867919922, 167.4521026611328, 163.61253356933594, 150.48211669921875, 133.17251586914062, 123.20254516601562, 119.70136260986328, 117.6026840209961, 116.69417572021484, 106.78184509277344, 104.78555297851562, 104.64295196533203, 100.35250854492188, 96.98019409179688, 90.98308563232422, 88.35543060302734, 84.2641830444336, 79.006591796875, 1364.4456787109375, 1044.527587890625, 1016.6383056640625, 768.4912109375, 659.3162841796875, 395.46649169921875, 356.00433349609375, 349.3857116699219, 341.1431579589844, 276.825439453125, 254.04940795898438, 189.86663818359375, 174.17506408691406, 170.15895080566406, 165.9174346923828, 148.81785583496094, 131.85877990722656, 118.8902359008789, 115.65431213378906, 112.18425750732422, 110.48046112060547, 105.21768951416016, 104.68802642822266, 101.8043212890625, 94.59495544433594, 91.95185852050781, 91.00713348388672, 88.63672637939453, 86.62126159667969, 84.72676086425781, 101.4723129272461, 1013.5247192382812, 532.0198974609375, 431.1749267578125, 405.5478820800781, 356.5415954589844, 328.4551086425781, 301.88232421875, 272.7545471191406, 261.4703674316406, 256.9411315917969, 242.35289001464844, 235.13063049316406, 218.529052734375, 213.84890747070312, 192.0632781982422, 191.46600341796875, 187.8204803466797, 184.56170654296875, 177.4844970703125, 162.94715881347656, 158.12051391601562, 144.40309143066406, 135.0423583984375, 133.2642364501953, 128.74656677246094, 126.29560852050781, 120.87493896484375, 104.43045806884766, 104.09855651855469, 97.6455078125, 117.93538665771484, 563.9837646484375, 556.07958984375, 469.65594482421875, 464.1895446777344, 322.4387512207031, 273.89404296875, 254.39389038085938, 234.59078979492188, 229.88475036621094, 225.93150329589844, 215.55502319335938, 199.8010711669922, 180.68325805664062, 174.31674194335938, 167.29214477539062, 146.17906188964844, 143.84274291992188, 135.23971557617188, 126.22966003417969, 125.10133361816406, 121.02229309082031, 116.16535186767578, 113.64807891845703, 104.6881332397461, 103.0055923461914, 101.7007064819336, 100.3959732055664, 95.90287017822266, 95.0870132446289, 95.01788330078125, 838.771484375, 656.6619262695312, 621.1953735351562, 582.7813110351562, 531.0841064453125, 425.6394348144531, 292.4468688964844, 264.6114196777344, 253.93345642089844, 214.9210968017578, 207.25047302246094, 194.85536193847656, 165.40863037109375, 153.01263427734375, 112.5522689819336, 111.91517639160156, 109.59879302978516, 109.40918731689453, 97.9265365600586, 91.88463592529297, 90.37989044189453, 86.7025375366211, 84.7987289428711, 82.6597900390625, 82.4159927368164, 77.34422302246094, 77.06385040283203, 76.08064270019531, 74.31539916992188, 70.47798156738281], \"Category\": [\"Default\", \"Default\", \"Default\", \"Default\", \"Default\", \"Default\", \"Default\", \"Default\", \"Default\", \"Default\", \"Default\", \"Default\", \"Default\", \"Default\", \"Default\", \"Default\", \"Default\", \"Default\", \"Default\", \"Default\", \"Default\", \"Default\", \"Default\", \"Default\", \"Default\", \"Default\", \"Default\", \"Default\", \"Default\", \"Default\", \"Topic1\", \"Topic1\", \"Topic1\", \"Topic1\", \"Topic1\", \"Topic1\", \"Topic1\", \"Topic1\", \"Topic1\", \"Topic1\", \"Topic1\", \"Topic1\", \"Topic1\", \"Topic1\", \"Topic1\", \"Topic1\", \"Topic1\", \"Topic1\", \"Topic1\", \"Topic1\", \"Topic1\", \"Topic1\", \"Topic1\", \"Topic1\", \"Topic1\", \"Topic1\", \"Topic1\", \"Topic1\", \"Topic1\", \"Topic1\", \"Topic2\", \"Topic2\", \"Topic2\", \"Topic2\", \"Topic2\", \"Topic2\", \"Topic2\", \"Topic2\", \"Topic2\", \"Topic2\", \"Topic2\", \"Topic2\", \"Topic2\", \"Topic2\", \"Topic2\", \"Topic2\", \"Topic2\", \"Topic2\", \"Topic2\", \"Topic2\", \"Topic2\", \"Topic2\", \"Topic2\", \"Topic2\", \"Topic2\", \"Topic2\", \"Topic2\", \"Topic2\", \"Topic2\", \"Topic2\", \"Topic3\", \"Topic3\", \"Topic3\", \"Topic3\", \"Topic3\", \"Topic3\", \"Topic3\", \"Topic3\", \"Topic3\", \"Topic3\", \"Topic3\", \"Topic3\", \"Topic3\", \"Topic3\", \"Topic3\", \"Topic3\", \"Topic3\", \"Topic3\", \"Topic3\", \"Topic3\", \"Topic3\", \"Topic3\", \"Topic3\", \"Topic3\", \"Topic3\", \"Topic3\", \"Topic3\", \"Topic3\", \"Topic3\", \"Topic3\", \"Topic3\", \"Topic4\", \"Topic4\", \"Topic4\", \"Topic4\", \"Topic4\", \"Topic4\", \"Topic4\", \"Topic4\", \"Topic4\", \"Topic4\", \"Topic4\", \"Topic4\", \"Topic4\", \"Topic4\", \"Topic4\", \"Topic4\", \"Topic4\", \"Topic4\", \"Topic4\", \"Topic4\", \"Topic4\", \"Topic4\", \"Topic4\", \"Topic4\", \"Topic4\", \"Topic4\", \"Topic4\", \"Topic4\", \"Topic4\", \"Topic4\", \"Topic5\", \"Topic5\", \"Topic5\", \"Topic5\", \"Topic5\", \"Topic5\", \"Topic5\", \"Topic5\", \"Topic5\", \"Topic5\", \"Topic5\", \"Topic5\", \"Topic5\", \"Topic5\", \"Topic5\", \"Topic5\", \"Topic5\", \"Topic5\", \"Topic5\", \"Topic5\", \"Topic5\", \"Topic5\", \"Topic5\", \"Topic5\", \"Topic5\", \"Topic5\", \"Topic5\", \"Topic5\", \"Topic5\", \"Topic5\", \"Topic6\", \"Topic6\", \"Topic6\", \"Topic6\", \"Topic6\", \"Topic6\", \"Topic6\", \"Topic6\", \"Topic6\", \"Topic6\", \"Topic6\", \"Topic6\", \"Topic6\", \"Topic6\", \"Topic6\", \"Topic6\", \"Topic6\", \"Topic6\", \"Topic6\", \"Topic6\", \"Topic6\", \"Topic6\", \"Topic6\", \"Topic6\", \"Topic6\", \"Topic6\", \"Topic6\", \"Topic6\", \"Topic6\", \"Topic6\", \"Topic7\", \"Topic7\", \"Topic7\", \"Topic7\", \"Topic7\", \"Topic7\", \"Topic7\", \"Topic7\", \"Topic7\", \"Topic7\", \"Topic7\", \"Topic7\", \"Topic7\", \"Topic7\", \"Topic7\", \"Topic7\", \"Topic7\", \"Topic7\", \"Topic7\", \"Topic7\", \"Topic7\", \"Topic7\", \"Topic7\", \"Topic7\", \"Topic7\", \"Topic7\", \"Topic7\", \"Topic7\", \"Topic7\", \"Topic7\", \"Topic7\", \"Topic8\", \"Topic8\", \"Topic8\", \"Topic8\", \"Topic8\", \"Topic8\", \"Topic8\", \"Topic8\", \"Topic8\", \"Topic8\", \"Topic8\", \"Topic8\", \"Topic8\", \"Topic8\", \"Topic8\", \"Topic8\", \"Topic8\", \"Topic8\", \"Topic8\", \"Topic8\", \"Topic8\", \"Topic8\", \"Topic8\", \"Topic8\", \"Topic8\", \"Topic8\", \"Topic8\", \"Topic8\", \"Topic8\", \"Topic8\", \"Topic8\", \"Topic9\", \"Topic9\", \"Topic9\", \"Topic9\", \"Topic9\", \"Topic9\", \"Topic9\", \"Topic9\", \"Topic9\", \"Topic9\", \"Topic9\", \"Topic9\", \"Topic9\", \"Topic9\", \"Topic9\", \"Topic9\", \"Topic9\", \"Topic9\", \"Topic9\", \"Topic9\", \"Topic9\", \"Topic9\", \"Topic9\", \"Topic9\", \"Topic9\", \"Topic9\", \"Topic9\", \"Topic9\", \"Topic9\", \"Topic9\", \"Topic10\", \"Topic10\", \"Topic10\", \"Topic10\", \"Topic10\", \"Topic10\", \"Topic10\", \"Topic10\", \"Topic10\", \"Topic10\", \"Topic10\", \"Topic10\", \"Topic10\", \"Topic10\", \"Topic10\", \"Topic10\", \"Topic10\", \"Topic10\", \"Topic10\", \"Topic10\", \"Topic10\", \"Topic10\", \"Topic10\", \"Topic10\", \"Topic10\", \"Topic10\", \"Topic10\", \"Topic10\", \"Topic10\", \"Topic10\"], \"logprob\": [30.0, 29.0, 28.0, 27.0, 26.0, 25.0, 24.0, 23.0, 22.0, 21.0, 20.0, 19.0, 18.0, 17.0, 16.0, 15.0, 14.0, 13.0, 12.0, 11.0, 10.0, 9.0, 8.0, 7.0, 6.0, 5.0, 4.0, 3.0, 2.0, 1.0, -2.1647000312805176, -2.276900053024292, -3.0250000953674316, -3.3076000213623047, -3.494999885559082, -3.5343000888824463, -3.682499885559082, -3.7867000102996826, -4.066199779510498, -4.173500061035156, -4.182300090789795, -4.220900058746338, -4.298699855804443, -4.336900234222412, -4.642199993133545, -4.731900215148926, -4.839900016784668, -4.926199913024902, -4.94980001449585, -4.963600158691406, -4.976099967956543, -4.984899997711182, -4.985799789428711, -5.026100158691406, -5.0346999168396, -5.052800178527832, -5.127500057220459, -5.138800144195557, -5.174699783325195, -5.262599945068359, -2.600100040435791, -2.8657000064849854, -2.9605000019073486, -3.034899950027466, -3.4530999660491943, -3.497499942779541, -3.5106000900268555, -3.637200117111206, -3.944700002670288, -4.03380012512207, -4.06279993057251, -4.095699787139893, -4.142300128936768, -4.145899772644043, -4.160399913787842, -4.325200080871582, -4.443999767303467, -4.498300075531006, -4.519400119781494, -4.707300186157227, -4.807600021362305, -4.805200099945068, -4.8917999267578125, -4.924499988555908, -5.112199783325195, -5.125400066375732, -5.161499977111816, -5.182499885559082, -5.19379997253418, -5.272500038146973, -2.732300043106079, -2.815200090408325, -2.957900047302246, -3.0225000381469727, -3.479300022125244, -3.7311999797821045, -3.772599935531616, -3.7760000228881836, -3.8722000122070312, -3.9358999729156494, -3.95989990234375, -4.008500099182129, -4.075300216674805, -4.101200103759766, -4.112199783325195, -4.286099910736084, -4.441299915313721, -4.44189977645874, -4.460599899291992, -4.536499977111816, -4.5904998779296875, -4.719799995422363, -4.754700183868408, -4.8414998054504395, -4.853499889373779, -4.877399921417236, -4.883399963378906, -4.949900150299072, -5.013500213623047, -5.014400005340576, -4.804500102996826, -3.0078001022338867, -3.305500030517578, -3.3977999687194824, -3.6644999980926514, -3.7623000144958496, -3.811000108718872, -3.914299964904785, -3.956199884414673, -4.079899787902832, -4.347099781036377, -4.366199970245361, -4.401899814605713, -4.506499767303467, -4.537700176239014, -4.55019998550415, -4.607100009918213, -4.6392998695373535, -4.644700050354004, -4.674099922180176, -4.750199794769287, -4.803400039672852, -4.826600074768066, -4.828499794006348, -4.839099884033203, -4.85099983215332, -4.859000205993652, -4.914299964904785, -4.919099807739258, -4.951499938964844, -4.998300075531006, -2.82669997215271, -3.0966999530792236, -3.388700008392334, -3.5322999954223633, -3.6528000831604004, -3.7634999752044678, -3.8080999851226807, -4.027900218963623, -4.17110013961792, -4.225500106811523, -4.2642998695373535, -4.2683000564575195, -4.269999980926514, -4.28249979019165, -4.364299774169922, -4.36929988861084, -4.375899791717529, -4.4222002029418945, -4.46589994430542, -4.505199909210205, -4.539000034332275, -4.6016998291015625, -4.629899978637695, -4.667200088500977, -4.715199947357178, -4.720799922943115, -4.853499889373779, -4.873300075531006, -4.950900077819824, -4.974999904632568, -1.885599970817566, -2.6698999404907227, -3.1696999073028564, -3.520699977874756, -3.857599973678589, -3.958699941635132, -3.9809000492095947, -4.084499835968018, -4.172599792480469, -4.27839994430542, -4.398900032043457, -4.448800086975098, -4.517499923706055, -4.592700004577637, -4.616099834442139, -4.700200080871582, -4.823200225830078, -4.901500225067139, -4.930600166320801, -4.948400020599365, -4.956200122833252, -5.0457000732421875, -5.064700126647949, -5.066100120544434, -5.10830020904541, -5.1427998542785645, -5.207200050354004, -5.236800193786621, -5.2846999168396, -5.349899768829346, -2.4667999744415283, -2.7342000007629395, -2.7613000869750977, -3.0413999557495117, -3.1947999000549316, -3.7067999839782715, -3.8122000694274902, -3.8310000896453857, -3.8550000190734863, -4.064499855041504, -4.150599956512451, -4.442999839782715, -4.529699802398682, -4.553199768066406, -4.578499794006348, -4.687900066375732, -4.809700012207031, -4.913899898529053, -4.941699981689453, -4.972400188446045, -4.9878997802734375, -5.037099838256836, -5.042200088500977, -5.070400238037109, -5.144499778747559, -5.173099994659424, -5.183499813079834, -5.21019983291626, -5.233399868011475, -5.25570011138916, -5.104499816894531, -2.694999933242798, -3.3403000831604004, -3.550800085067749, -3.6122000217437744, -3.741300106048584, -3.8236000537872314, -3.9082000255584717, -4.009900093078613, -4.052299976348877, -4.069900035858154, -4.128499984741211, -4.158899784088135, -4.232399940490723, -4.2540998458862305, -4.362100124359131, -4.365200042724609, -4.384500026702881, -4.402100086212158, -4.4415998458862305, -4.527299880981445, -4.557499885559082, -4.648799896240234, -4.716300010681152, -4.729599952697754, -4.7642998695373535, -4.783699989318848, -4.827899932861328, -4.975299835205078, -4.978499889373779, -5.043000221252441, -4.858500003814697, -3.232599973678589, -3.2467000484466553, -3.4158999919891357, -3.4277000427246094, -3.7929000854492188, -3.9565000534057617, -4.030600070953369, -4.111999988555908, -4.132299900054932, -4.149700164794922, -4.196899890899658, -4.273099899291992, -4.374199867248535, -4.410200119018555, -4.451600074768066, -4.587299823760986, -4.603499889373779, -4.665500164031982, -4.734899997711182, -4.74399995803833, -4.777400016784668, -4.818600177764893, -4.840700149536133, -4.923500061035156, -4.939799785614014, -4.952700138092041, -4.965700149536133, -5.011899948120117, -5.020500183105469, -5.021299839019775, -2.7720000743865967, -3.0171000957489014, -3.072700023651123, -3.1366000175476074, -3.2297000885009766, -3.4514000415802, -3.827699899673462, -3.927999973297119, -3.969399929046631, -4.1367998123168945, -4.173299789428711, -4.235199928283691, -4.399899959564209, -4.4781999588012695, -4.787399768829346, -4.793099880218506, -4.814199924468994, -4.815999984741211, -4.927800178527832, -4.992099761962891, -5.008800029754639, -5.0507001876831055, -5.073200225830078, -5.098999977111816, -5.1020002365112305, -5.166200160980225, -5.169899940490723, -5.1828999519348145, -5.206600189208984, -5.260300159454346], \"loglift\": [30.0, 29.0, 28.0, 27.0, 26.0, 25.0, 24.0, 23.0, 22.0, 21.0, 20.0, 19.0, 18.0, 17.0, 16.0, 15.0, 14.0, 13.0, 12.0, 11.0, 10.0, 9.0, 8.0, 7.0, 6.0, 5.0, 4.0, 3.0, 2.0, 1.0, 2.0464000701904297, 2.046299934387207, 2.0459001064300537, 2.045599937438965, 2.0453999042510986, 2.045300006866455, 2.045099973678589, 2.0448999404907227, 2.0443999767303467, 2.044100046157837, 2.044100046157837, 2.0439999103546143, 2.0436999797821045, 2.043600082397461, 2.0425000190734863, 2.042099952697754, 2.041599988937378, 2.0411999225616455, 2.0409998893737793, 2.0408999919891357, 2.0408999919891357, 2.040800094604492, 2.040800094604492, 2.040600061416626, 2.0404999256134033, 2.0404000282287598, 2.039900064468384, 2.039799928665161, 2.039599895477295, 2.0390000343322754, 2.1391000747680664, 2.1389999389648438, 2.1389000415802, 2.1387999057769775, 2.1382999420166016, 2.1382999420166016, 2.1382999420166016, 2.1380999088287354, 2.137500047683716, 2.137200117111206, 2.137200117111206, 2.1370999813079834, 2.13700008392334, 2.13700008392334, 2.136899948120117, 2.136399984359741, 2.135999917984009, 2.1357998847961426, 2.135699987411499, 2.1349000930786133, 2.134399890899658, 2.1342999935150146, 2.1338999271392822, 2.133699893951416, 2.132499933242798, 2.1324000358581543, 2.1321001052856445, 2.1319000720977783, 2.1317999362945557, 2.131200075149536, 2.1995999813079834, 2.19950008392334, 2.199399948120117, 2.1993000507354736, 2.1988000869750977, 2.1982998847961426, 2.198199987411499, 2.198199987411499, 2.197999954223633, 2.1979000568389893, 2.1977999210357666, 2.197700023651123, 2.197499990463257, 2.1974000930786133, 2.1974000930786133, 2.196899890899658, 2.1963000297546387, 2.1963000297546387, 2.196199893951416, 2.1958999633789062, 2.19569993019104, 2.194999933242798, 2.1947999000549316, 2.1942999362945557, 2.1942999362945557, 2.1940999031066895, 2.1940999031066895, 2.193700075149536, 2.19320011138916, 2.19320011138916, 2.0843000411987305, 2.3120999336242676, 2.3117001056671143, 2.3115999698638916, 2.3111000061035156, 2.3108999729156494, 2.310699939727783, 2.310499906539917, 2.3104000091552734, 2.309999942779541, 2.3090999126434326, 2.309000015258789, 2.308799982070923, 2.3083999156951904, 2.308199882507324, 2.308199882507324, 2.3078999519348145, 2.3076999187469482, 2.3076999187469482, 2.307499885559082, 2.3071000576019287, 2.3066999912261963, 2.3066000938415527, 2.3066000938415527, 2.30649995803833, 2.3064000606536865, 2.3064000606536865, 2.305999994277954, 2.3059000968933105, 2.3057000637054443, 2.3053998947143555, 2.3164000511169434, 2.3160998821258545, 2.315700054168701, 2.3153998851776123, 2.315200090408325, 2.315000057220459, 2.3148999214172363, 2.314300060272217, 2.313800096511841, 2.3136000633239746, 2.313499927520752, 2.313499927520752, 2.313499927520752, 2.3134000301361084, 2.3131000995635986, 2.3131000995635986, 2.3131000995635986, 2.3129000663757324, 2.312700033187866, 2.3125, 2.312299966812134, 2.312000036239624, 2.3118999004364014, 2.3115999698638916, 2.3113999366760254, 2.311300039291382, 2.310499906539917, 2.3104000091552734, 2.309799909591675, 2.3096001148223877, 2.3290998935699463, 2.328700065612793, 2.328200101852417, 2.327699899673462, 2.326900005340576, 2.32669997215271, 2.3266000747680664, 2.3262999057769775, 2.3259999752044678, 2.3255999088287354, 2.3250999450683594, 2.324899911880493, 2.3245999813079834, 2.324199914932251, 2.3241000175476074, 2.3236000537872314, 2.3227999210357666, 2.3222999572753906, 2.3220999240875244, 2.321899890899658, 2.321899890899658, 2.321199893951416, 2.321000099182129, 2.321000099182129, 2.3206000328063965, 2.3203001022338867, 2.319700002670288, 2.3194000720977783, 2.3189001083374023, 2.31820011138916, 2.352299928665161, 2.352099895477295, 2.352099895477295, 2.351799964904785, 2.351599931716919, 2.3506999015808105, 2.3505001068115234, 2.350399971008301, 2.350399971008301, 2.3498001098632812, 2.3494999408721924, 2.348299980163574, 2.347899913787842, 2.3477001190185547, 2.347599983215332, 2.3469998836517334, 2.3461999893188477, 2.3454999923706055, 2.3452999591827393, 2.3450000286102295, 2.344899892807007, 2.3445000648498535, 2.3445000648498535, 2.3441998958587646, 2.343600034713745, 2.3433001041412354, 2.3431999683380127, 2.342900037765503, 2.3427000045776367, 2.3424999713897705, 2.3132998943328857, 2.4214999675750732, 2.4207000732421875, 2.420300006866455, 2.4202001094818115, 2.4198999404907227, 2.4196999073028564, 2.4193999767303467, 2.419100046157837, 2.4189999103546143, 2.4189000129699707, 2.4186999797821045, 2.418600082397461, 2.418299913406372, 2.4182000160217285, 2.4177000522613525, 2.4177000522613525, 2.41759991645813, 2.41759991645813, 2.417099952697754, 2.4168999195098877, 2.4166998863220215, 2.4161999225616455, 2.415800094604492, 2.4156999588012695, 2.4154999256134033, 2.415299892425537, 2.4149999618530273, 2.4138998985290527, 2.413800001144409, 2.413300037384033, 2.4089999198913574, 2.4700000286102295, 2.4700000286102295, 2.4697000980377197, 2.4697000980377197, 2.4688000679016113, 2.468400001525879, 2.468100070953369, 2.4677999019622803, 2.4677000045776367, 2.4677000045776367, 2.4674999713897705, 2.4672000408172607, 2.4667000770568848, 2.4665000438690186, 2.4663000106811523, 2.4655001163482666, 2.465399980545044, 2.465100049972534, 2.464600086212158, 2.4644999504089355, 2.4642999172210693, 2.4639999866485596, 2.4637999534606934, 2.463099956512451, 2.4630000591278076, 2.462899923324585, 2.4628000259399414, 2.462399959564209, 2.4623000621795654, 2.4623000621795654, 2.533600091934204, 2.533400058746338, 2.5332999229431152, 2.5332000255584717, 2.5329999923706055, 2.532599925994873, 2.5316998958587646, 2.5313000679016113, 2.5311999320983887, 2.530600070953369, 2.530400037765503, 2.530100107192993, 2.5292999744415283, 2.528899908065796, 2.5267999172210693, 2.526700019836426, 2.526599884033203, 2.526599884033203, 2.525599956512451, 2.5250000953674316, 2.5248000621795654, 2.524399995803833, 2.524199962615967, 2.523900032043457, 2.523900032043457, 2.523200035095215, 2.523099899291992, 2.5230000019073486, 2.522700071334839, 2.5220000743865967]}, \"token.table\": {\"Topic\": [9, 10, 4, 2, 5, 2, 4, 2, 8, 8, 4, 3, 10, 1, 7, 9, 2, 6, 1, 10, 4, 8, 5, 8, 10, 9, 4, 3, 10, 10, 6, 10, 6, 9, 3, 3, 4, 3, 7, 6, 6, 4, 4, 8, 4, 1, 6, 3, 6, 3, 9, 8, 2, 3, 4, 2, 5, 4, 7, 1, 3, 4, 7, 10, 9, 10, 8, 8, 1, 5, 10, 2, 2, 3, 7, 6, 4, 4, 10, 1, 5, 1, 10, 5, 3, 2, 5, 5, 7, 10, 10, 10, 7, 9, 2, 9, 6, 5, 1, 6, 9, 1, 3, 6, 9, 9, 3, 6, 4, 10, 1, 2, 3, 6, 1, 7, 8, 6, 1, 5, 4, 9, 4, 9, 8, 8, 6, 8, 8, 1, 6, 1, 1, 2, 10, 2, 8, 6, 7, 4, 4, 3, 8, 4, 5, 10, 8, 2, 7, 1, 2, 3, 4, 5, 6, 7, 8, 9, 10, 4, 10, 1, 9, 7, 3, 8, 6, 2, 2, 6, 9, 6, 7, 1, 7, 3, 9, 3, 6, 5, 8, 5, 1, 2, 9, 5, 7, 5, 1, 7, 5, 8, 8, 6, 1, 4, 9, 4, 7, 9, 8, 1, 3, 5, 2, 5, 9, 5, 9, 3, 6, 5, 3, 1, 6, 6, 10, 8, 3, 4, 7, 1, 2, 2, 8, 9, 5, 6, 10, 4, 7, 5, 7, 4, 7, 9, 10, 7, 5, 7, 10, 5, 3, 10, 8, 10, 3, 8, 2, 7, 5, 8, 4, 9, 5, 8, 2, 3, 9, 3, 2, 6, 6, 4, 5, 10, 1, 2, 1, 10, 10, 8, 2, 1, 9, 7, 3, 2, 9, 3, 5, 5, 9, 7, 8, 7, 10, 8, 8, 6, 1, 2, 4, 4, 7, 2, 1, 2, 5, 9, 1, 10, 9, 4, 1, 3, 7, 6, 7, 2, 9, 3, 7, 7], \"Freq\": [0.9962185025215149, 0.9920179843902588, 0.99614417552948, 0.9974938631057739, 0.9964293241500854, 0.9919862747192383, 0.9971058368682861, 0.9978055953979492, 0.9897414445877075, 0.9894469380378723, 0.994966983795166, 0.9987889528274536, 0.9963240027427673, 0.9923579096794128, 0.998820424079895, 0.998058557510376, 0.9979874491691589, 0.9995331764221191, 0.9942154288291931, 0.9949524998664856, 0.9934438467025757, 0.992913544178009, 0.9938818216323853, 0.9970772862434387, 0.9976893663406372, 0.9986392855644226, 0.9972575306892395, 0.9952266216278076, 0.9918226003646851, 0.9956102967262268, 0.996796190738678, 0.9826202392578125, 0.9938557744026184, 0.9931101202964783, 0.998045027256012, 0.9987199306488037, 0.998327910900116, 0.998086154460907, 0.9931890368461609, 0.9935902953147888, 0.9849973917007446, 0.9976096153259277, 0.9953206777572632, 0.999482274055481, 0.997843861579895, 0.9985639452934265, 0.9846593141555786, 0.9975168704986572, 0.9865224361419678, 0.9942115545272827, 0.9934267997741699, 0.9942012429237366, 0.9908788800239563, 0.9955649971961975, 0.9987907409667969, 0.9946296215057373, 0.9974895715713501, 0.9938333034515381, 0.9925121068954468, 0.9930387139320374, 0.9972161054611206, 0.9934788942337036, 0.9934278130531311, 0.9939663410186768, 0.9902585744857788, 0.9945365190505981, 0.9922812581062317, 0.9986143708229065, 0.991338849067688, 0.9963914752006531, 0.9933820366859436, 0.9921594262123108, 0.9971635341644287, 0.9978545904159546, 0.988426923751831, 0.9911954998970032, 0.9903458952903748, 0.9968857169151306, 0.9847323298454285, 0.9972718954086304, 0.9928768873214722, 0.9992632865905762, 0.9857960939407349, 0.9950284361839294, 0.996961236000061, 0.9910594820976257, 0.9966668486595154, 0.9917870163917542, 0.9954355359077454, 0.9905808568000793, 0.9979587197303772, 0.998497724533081, 0.9966490268707275, 0.9892874360084534, 0.9945424795150757, 0.9942975044250488, 0.9948752522468567, 0.9919944405555725, 0.999461829662323, 0.9989715814590454, 0.9974373579025269, 0.9997706413269043, 0.999073326587677, 0.9967295527458191, 0.9911964535713196, 0.9958770275115967, 0.9938154220581055, 0.9926781058311462, 0.9956744909286499, 0.9984719753265381, 0.9969197511672974, 0.9970596432685852, 0.9989581108093262, 0.9971638917922974, 0.9966579079627991, 0.9958692789077759, 0.9972085952758789, 0.989892840385437, 0.9980749487876892, 0.9940376877784729, 0.9965906143188477, 0.9967358112335205, 0.9977676272392273, 0.9974251389503479, 0.9972702264785767, 0.9982010722160339, 0.9982926845550537, 0.9941873550415039, 0.997579038143158, 0.9939181804656982, 0.9973000884056091, 0.9973858594894409, 0.9953753352165222, 0.9972651600837708, 0.9950932264328003, 0.9996153116226196, 0.9972750544548035, 0.9940513372421265, 0.9914222955703735, 0.9952938556671143, 0.993848979473114, 0.9955756664276123, 0.9984809756278992, 0.9979785084724426, 0.991716742515564, 0.9861952066421509, 0.9944639205932617, 0.9962716102600098, 0.997178852558136, 0.01161260437220335, 0.01161260437220335, 0.8883642554283142, 0.0232252087444067, 0.01161260437220335, 0.017418906092643738, 0.01161260437220335, 0.005806302186101675, 0.01161260437220335, 0.005806302186101675, 0.997629702091217, 0.9957142472267151, 0.9980449676513672, 0.996151328086853, 0.9988960027694702, 0.9991505146026611, 0.9969565272331238, 0.9988282322883606, 0.9961256384849548, 0.997772753238678, 0.9971702098846436, 0.992276132106781, 0.9957623481750488, 0.992827832698822, 0.9918963313102722, 0.9920993447303772, 0.995730459690094, 0.9984516501426697, 0.998136579990387, 0.9941407442092896, 0.9982531666755676, 0.994417667388916, 0.9968574047088623, 0.9929461479187012, 0.9981541633605957, 0.9885682463645935, 0.9992735385894775, 0.9994949102401733, 0.9984047412872314, 0.9970769882202148, 0.9970182180404663, 0.9937987923622131, 0.9986490607261658, 0.9951914548873901, 0.9891948699951172, 0.9920640587806702, 0.9908259510993958, 0.9908332228660583, 0.009854905307292938, 0.9657806754112244, 0.009854905307292938, 0.9963371753692627, 0.9966239929199219, 0.9967849850654602, 0.9954744577407837, 0.9990850687026978, 0.9958050847053528, 0.9919341206550598, 0.9990755915641785, 0.9941412210464478, 0.9983330965042114, 0.9962561726570129, 0.9964169263839722, 0.9962733387947083, 0.9985827803611755, 0.9974117875099182, 0.9872593879699707, 0.9903723001480103, 0.9972336292266846, 0.9903449416160583, 0.9961336851119995, 0.9934871196746826, 0.9988915324211121, 0.9977285861968994, 0.9956314563751221, 0.9927616119384766, 0.9915528297424316, 0.9988552927970886, 0.9902392625808716, 0.9980756640434265, 0.9953702688217163, 0.999372124671936, 0.9955070614814758, 0.9993607997894287, 0.992531418800354, 0.9944705367088318, 0.9899681806564331, 0.9975295662879944, 0.9889334440231323, 0.9966211318969727, 0.9945043325424194, 0.9989919662475586, 0.995259702205658, 0.9954440593719482, 0.9962600469589233, 0.9933892488479614, 0.9918971657752991, 0.997546911239624, 0.9956315755844116, 0.9885048866271973, 0.9932535290718079, 0.9931995868682861, 0.9835894107818604, 0.9964053630828857, 0.9902374744415283, 0.998275637626648, 0.996030330657959, 0.9920167922973633, 0.9933622479438782, 0.9982556700706482, 0.9945049285888672, 0.997332751750946, 0.9925032258033752, 0.9946553111076355, 0.9948734045028687, 0.9945998787879944, 0.990538477897644, 0.996921718120575, 0.9973588585853577, 0.9896799325942993, 0.9932180047035217, 0.999080240726471, 0.9980829954147339, 0.9984392523765564, 0.9987266063690186, 0.9905855655670166, 0.9980035424232483, 0.9987756609916687, 0.9993618726730347, 0.9959906339645386, 0.9989955425262451, 0.9903188943862915, 0.9936612248420715, 0.998603343963623, 0.9896482825279236, 0.9975661039352417, 0.9937105178833008, 0.9986593127250671, 0.9905133247375488, 0.9958780407905579, 0.9962290525436401, 0.9934295415878296, 0.9973704218864441, 0.9969292283058167, 0.9914449453353882, 0.9996733665466309, 0.999117374420166, 0.9987066984176636, 0.9953083992004395, 0.998858630657196, 0.9960559010505676, 0.9972090721130371, 0.9822998046875, 0.997481644153595, 0.9941567778587341, 0.9971375465393066, 0.9894677996635437, 0.9943425059318542, 0.9984397292137146, 0.9928164482116699, 0.9988779425621033, 0.99244624376297, 0.9983004927635193, 0.9956511855125427, 0.9894436597824097], \"Term\": [\"able\", \"abuse\", \"actually\", \"ago\", \"almost\", \"already\", \"also\", \"always\", \"amazing\", \"amp\", \"anxiety\", \"ask\", \"ass\", \"away\", \"baby\", \"back\", \"bad\", \"be\", \"beautiful\", \"become\", \"bed\", \"believe\", \"better\", \"big\", \"birthday\", \"bitch\", \"body\", \"boy\", \"brain\", \"break\", \"bring\", \"bro\", \"bug\", \"buy\", \"call\", \"can\", \"care\", \"cause\", \"change\", \"check\", \"child\", \"chronic\", \"color\", \"com\", \"come\", \"could\", \"crush\", \"cry\", \"cut\", \"cute\", \"daddy\", \"damn\", \"date\", \"daughter\", \"day\", \"deal\", \"definitely\", \"depression\", \"deserve\", \"diagnose\", \"die\", \"different\", \"disabled\", \"do\", \"doctor\", \"dream\", \"early\", \"eat\", \"else\", \"end\", \"enough\", \"especially\", \"even\", \"ever\", \"excited\", \"fact\", \"fake\", \"fall\", \"family\", \"fat\", \"favorite\", \"feel\", \"feeling\", \"finally\", \"find\", \"finish\", \"first\", \"follow\", \"food\", \"forever\", \"friend\", \"fuck\", \"fucking\", \"full\", \"fun\", \"funny\", \"gain\", \"game\", \"get\", \"girl\", \"give\", \"go\", \"good\", \"great\", \"guess\", \"guy\", \"hair\", \"hand\", \"happen\", \"happy\", \"hard\", \"hate\", \"have\", \"head\", \"health\", \"hear\", \"heart\", \"hell\", \"help\", \"high\", \"hit\", \"home\", \"honestly\", \"hope\", \"host\", \"hour\", \"hurt\", \"idea\", \"ill\", \"illness\", \"issue\", \"job\", \"keep\", \"kid\", \"kiss\", \"know\", \"last\", \"late\", \"later\", \"learn\", \"least\", \"leave\", \"let\", \"life\", \"like\", \"link\", \"literally\", \"little\", \"live\", \"lmfao\", \"lmfao\", \"lmfao\", \"lmfao\", \"lmfao\", \"lmfao\", \"lmfao\", \"lmfao\", \"lmfao\", \"lmfao\", \"lol\", \"long\", \"look\", \"lose\", \"lot\", \"love\", \"lovely\", \"make\", \"man\", \"many\", \"may\", \"maybe\", \"mean\", \"medication\", \"mental\", \"message\", \"mile\", \"miss\", \"mom\", \"money\", \"month\", \"morning\", \"move\", \"movie\", \"much\", \"music\", \"name\", \"need\", \"never\", \"new\", \"next\", \"nice\", \"night\", \"old\", \"one\", \"online\", \"open\", \"other\", \"outta\", \"outta\", \"outta\", \"pain\", \"part\", \"patient\", \"pay\", \"people\", \"person\", \"phone\", \"photo\", \"picture\", \"play\", \"point\", \"post\", \"pound\", \"pretty\", \"probably\", \"proud\", \"pull\", \"put\", \"read\", \"ready\", \"real\", \"really\", \"reason\", \"refund\", \"remember\", \"rest\", \"right\", \"run\", \"s\", \"sad\", \"say\", \"school\", \"see\", \"seem\", \"self\", \"send\", \"seriously\", \"set\", \"sex\", \"share\", \"shit\", \"show\", \"sick\", \"sign\", \"sister\", \"sit\", \"sleep\", \"sometimes\", \"son\", \"soon\", \"sorry\", \"spoon\", \"stand\", \"star\", \"start\", \"status\", \"stay\", \"step\", \"still\", \"stop\", \"story\", \"straight\", \"stuff\", \"sub\", \"suck\", \"super\", \"support\", \"sure\", \"swear\", \"sweet\", \"take\", \"talk\", \"tell\", \"thank\", \"therapy\", \"thing\", \"think\", \"time\", \"tired\", \"today\", \"together\", \"tomorrow\", \"tonight\", \"top\", \"travel\", \"true\", \"try\", \"turn\", \"understand\", \"use\", \"user\", \"wait\", \"wake\", \"walk\", \"want\", \"watch\", \"way\", \"wear\", \"week\", \"weight\", \"well\", \"white\", \"whole\", \"will\", \"wish\", \"woman\", \"word\", \"work\", \"world\", \"would\", \"wrong\", \"year\", \"yesterday\", \"yet\"]}, \"R\": 30, \"lambda.step\": 0.01, \"plot.opts\": {\"xlab\": \"PC1\", \"ylab\": \"PC2\"}, \"topic.order\": [6, 5, 2, 7, 8, 9, 10, 1, 4, 3]};\n",
              "\n",
              "function LDAvis_load_lib(url, callback){\n",
              "  var s = document.createElement('script');\n",
              "  s.src = url;\n",
              "  s.async = true;\n",
              "  s.onreadystatechange = s.onload = callback;\n",
              "  s.onerror = function(){console.warn(\"failed to load library \" + url);};\n",
              "  document.getElementsByTagName(\"head\")[0].appendChild(s);\n",
              "}\n",
              "\n",
              "if(typeof(LDAvis) !== \"undefined\"){\n",
              "   // already loaded: just create the visualization\n",
              "   !function(LDAvis){\n",
              "       new LDAvis(\"#\" + \"ldavis_el1231401209441860161211873098\", ldavis_el1231401209441860161211873098_data);\n",
              "   }(LDAvis);\n",
              "}else if(typeof define === \"function\" && define.amd){\n",
              "   // require.js is available: use it to load d3/LDAvis\n",
              "   require.config({paths: {d3: \"https://cdnjs.cloudflare.com/ajax/libs/d3/3.5.5/d3.min\"}});\n",
              "   require([\"d3\"], function(d3){\n",
              "      window.d3 = d3;\n",
              "      LDAvis_load_lib(\"https://cdn.rawgit.com/bmabey/pyLDAvis/files/ldavis.v1.0.0.js\", function(){\n",
              "        new LDAvis(\"#\" + \"ldavis_el1231401209441860161211873098\", ldavis_el1231401209441860161211873098_data);\n",
              "      });\n",
              "    });\n",
              "}else{\n",
              "    // require.js not available: dynamically load d3 & LDAvis\n",
              "    LDAvis_load_lib(\"https://cdnjs.cloudflare.com/ajax/libs/d3/3.5.5/d3.min.js\", function(){\n",
              "         LDAvis_load_lib(\"https://cdn.rawgit.com/bmabey/pyLDAvis/files/ldavis.v1.0.0.js\", function(){\n",
              "                 new LDAvis(\"#\" + \"ldavis_el1231401209441860161211873098\", ldavis_el1231401209441860161211873098_data);\n",
              "            })\n",
              "         });\n",
              "}\n",
              "</script>"
            ],
            "text/plain": [
              "PreparedData(topic_coordinates=              x         y  topics  cluster       Freq\n",
              "topic                                                \n",
              "5     -0.382032 -0.005650       1        1  12.916018\n",
              "4      0.053798 -0.344780       2        1  11.768673\n",
              "1      0.053212  0.164243       3        1  11.077199\n",
              "6      0.043136  0.034048       4        1   9.895132\n",
              "7      0.045683  0.044541       5        1   9.854381\n",
              "8      0.041772  0.033853       6        1   9.734745\n",
              "9      0.038300  0.025202       7        1   9.508827\n",
              "0      0.039996  0.023349       8        1   8.871280\n",
              "3      0.032348  0.012202       9        1   8.445265\n",
              "2      0.033787  0.012992      10        1   7.928482, topic_info=         Term         Freq        Total Category  logprob  loglift\n",
              "17         be  2497.000000  2497.000000  Default  30.0000  30.0000\n",
              "94        get  2506.000000  2506.000000  Default  29.0000  29.0000\n",
              "22         go  2240.000000  2240.000000  Default  28.0000  28.0000\n",
              "10       want  1364.000000  1364.000000  Default  27.0000  27.0000\n",
              "48       time  1477.000000  1477.000000  Default  26.0000  26.0000\n",
              "...       ...          ...          ...      ...      ...      ...\n",
              "2254      bro    76.455734    77.344223  Topic10  -5.1662   2.5232\n",
              "1086     link    76.175484    77.063850  Topic10  -5.1699   2.5231\n",
              "572   feeling    75.192162    76.080643  Topic10  -5.1829   2.5230\n",
              "1555    white    73.427025    74.315399  Topic10  -5.2066   2.5227\n",
              "385     sweet    69.589478    70.477982  Topic10  -5.2603   2.5220\n",
              "\n",
              "[333 rows x 6 columns], token_table=      Topic      Freq       Term\n",
              "term                            \n",
              "1173      9  0.996219       able\n",
              "2712     10  0.992018      abuse\n",
              "561       4  0.996144   actually\n",
              "1481      2  0.997494        ago\n",
              "334       5  0.996429     almost\n",
              "...     ...       ...        ...\n",
              "241       2  0.998878      would\n",
              "773       9  0.992446      wrong\n",
              "51        3  0.998300       year\n",
              "297       7  0.995651  yesterday\n",
              "1824      7  0.989444        yet\n",
              "\n",
              "[314 rows x 3 columns], R=30, lambda_step=0.01, plot_opts={'xlab': 'PC1', 'ylab': 'PC2'}, topic_order=[6, 5, 2, 7, 8, 9, 10, 1, 4, 3])"
            ]
          },
          "metadata": {
            "tags": []
          },
          "execution_count": 110
        }
      ]
    },
    {
      "cell_type": "markdown",
      "metadata": {
        "id": "IGWwk-WErDeq",
        "colab_type": "text"
      },
      "source": [
        "WordCloud after data cleaning"
      ]
    },
    {
      "cell_type": "code",
      "metadata": {
        "id": "ZEcYYbKxrG-c",
        "colab_type": "code",
        "outputId": "fc20aa8e-89a7-486c-f52d-072a22edcfee",
        "colab": {
          "base_uri": "https://localhost:8080/",
          "height": 180
        }
      },
      "source": [
        "pre_diag_words = '\\\\n'.join([text for text in df_pre['Tweets']])\n",
        "post_diag_words = '\\\\n'.join([text for text in df_post['Tweets']])"
      ],
      "execution_count": 0,
      "outputs": [
        {
          "output_type": "error",
          "ename": "TypeError",
          "evalue": "ignored",
          "traceback": [
            "\u001b[0;31m---------------------------------------------------------------------------\u001b[0m",
            "\u001b[0;31mTypeError\u001b[0m                                 Traceback (most recent call last)",
            "\u001b[0;32m<ipython-input-117-569a25f2a184>\u001b[0m in \u001b[0;36m<module>\u001b[0;34m()\u001b[0m\n\u001b[0;32m----> 1\u001b[0;31m \u001b[0mpre_diag_words\u001b[0m \u001b[0;34m=\u001b[0m \u001b[0;34m'\\\\n'\u001b[0m\u001b[0;34m.\u001b[0m\u001b[0mjoin\u001b[0m\u001b[0;34m(\u001b[0m\u001b[0;34m[\u001b[0m\u001b[0mtext\u001b[0m \u001b[0;32mfor\u001b[0m \u001b[0mtext\u001b[0m \u001b[0;32min\u001b[0m \u001b[0mdata_lemmatized\u001b[0m\u001b[0;34m]\u001b[0m\u001b[0;34m)\u001b[0m\u001b[0;34m\u001b[0m\u001b[0;34m\u001b[0m\u001b[0m\n\u001b[0m\u001b[1;32m      2\u001b[0m \u001b[0mpost_diag_words\u001b[0m \u001b[0;34m=\u001b[0m \u001b[0;34m'\\\\n'\u001b[0m\u001b[0;34m.\u001b[0m\u001b[0mjoin\u001b[0m\u001b[0;34m(\u001b[0m\u001b[0;34m[\u001b[0m\u001b[0mtext\u001b[0m \u001b[0;32mfor\u001b[0m \u001b[0mtext\u001b[0m \u001b[0;32min\u001b[0m \u001b[0mdata2_lemmatized\u001b[0m\u001b[0;34m]\u001b[0m\u001b[0;34m)\u001b[0m\u001b[0;34m\u001b[0m\u001b[0;34m\u001b[0m\u001b[0m\n",
            "\u001b[0;31mTypeError\u001b[0m: sequence item 0: expected str instance, list found"
          ]
        }
      ]
    },
    {
      "cell_type": "code",
      "metadata": {
        "id": "Nj9CDuMvrsgd",
        "colab_type": "code",
        "outputId": "c5cd74c5-9dce-4f26-ec73-17080e0ebc7e",
        "colab": {
          "base_uri": "https://localhost:8080/",
          "height": 34
        }
      },
      "source": [
        "type(data_lemmatized)"
      ],
      "execution_count": 0,
      "outputs": [
        {
          "output_type": "execute_result",
          "data": {
            "text/plain": [
              "list"
            ]
          },
          "metadata": {
            "tags": []
          },
          "execution_count": 125
        }
      ]
    },
    {
      "cell_type": "code",
      "metadata": {
        "id": "tsGEwTGIrSY4",
        "colab_type": "code",
        "outputId": "981b26c3-f7ca-4159-e1ac-374ec63bbafa",
        "colab": {
          "base_uri": "https://localhost:8080/",
          "height": 68
        }
      },
      "source": [
        " pip install wordcloud"
      ],
      "execution_count": 0,
      "outputs": [
        {
          "output_type": "stream",
          "text": [
            "Requirement already satisfied: wordcloud in /usr/local/lib/python3.6/dist-packages (1.5.0)\n",
            "Requirement already satisfied: numpy>=1.6.1 in /usr/local/lib/python3.6/dist-packages (from wordcloud) (1.18.2)\n",
            "Requirement already satisfied: pillow in /usr/local/lib/python3.6/dist-packages (from wordcloud) (7.0.0)\n"
          ],
          "name": "stdout"
        }
      ]
    },
    {
      "cell_type": "code",
      "metadata": {
        "id": "a-uXZDXIrSbV",
        "colab_type": "code",
        "colab": {}
      },
      "source": [
        ""
      ],
      "execution_count": 0,
      "outputs": []
    },
    {
      "cell_type": "code",
      "metadata": {
        "id": "pmftVz8TrLsv",
        "colab_type": "code",
        "colab": {}
      },
      "source": [
        ""
      ],
      "execution_count": 0,
      "outputs": []
    },
    {
      "cell_type": "markdown",
      "metadata": {
        "id": "a8lUg_9jlW21",
        "colab_type": "text"
      },
      "source": [
        "**Cleaning the All PTSD users dataset**"
      ]
    },
    {
      "cell_type": "code",
      "metadata": {
        "id": "M5iJZbnTldtY",
        "colab_type": "code",
        "colab": {}
      },
      "source": [
        "from google.colab import files\n",
        "uploaded = files.upload()"
      ],
      "execution_count": 0,
      "outputs": []
    },
    {
      "cell_type": "code",
      "metadata": {
        "id": "FNci-ZV9lm9A",
        "colab_type": "code",
        "colab": {}
      },
      "source": [
        "import io\n",
        "df_all = pd.read_csv(io.BytesIO(uploaded['All_PTSD_Tweets.csv']))"
      ],
      "execution_count": 0,
      "outputs": []
    },
    {
      "cell_type": "code",
      "metadata": {
        "id": "laLLnCJFlv5Q",
        "colab_type": "code",
        "colab": {}
      },
      "source": [
        "df_all_bkp = df_all"
      ],
      "execution_count": 0,
      "outputs": []
    },
    {
      "cell_type": "code",
      "metadata": {
        "id": "L8WILfq_l9Jx",
        "colab_type": "code",
        "colab": {
          "base_uri": "https://localhost:8080/",
          "height": 34
        },
        "outputId": "81d0a2fb-1d2c-42ca-9d34-4f3084888711"
      },
      "source": [
        "# Convert to list\n",
        "all_data = df_all.Tweets.values.tolist()\n",
        "# Remove Emails\n",
        "all_data = [re.sub('\\S*@\\S*\\s?', '', sent) for sent in all_data]\n",
        "# Remove new line characters\n",
        "all_data = [re.sub('\\s+', ' ', sent) for sent in all_data]\n",
        "# Remove distracting single quotes\n",
        "all_data = [re.sub(\"\\'\", \"\", sent) for sent in all_data]\n",
        "pprint(all_data[:1])"
      ],
      "execution_count": 18,
      "outputs": [
        {
          "output_type": "stream",
          "text": [
            "['Ask teeps and John legend how many times i’ve bluffed']\n"
          ],
          "name": "stdout"
        }
      ]
    },
    {
      "cell_type": "code",
      "metadata": {
        "id": "gG6NKO7KpJJ9",
        "colab_type": "code",
        "colab": {}
      },
      "source": [
        "# Define functions for stopwords, bigrams, trigrams and lemmatization\n",
        "def remove_stopwords(texts):\n",
        "    return [[word for word in simple_preprocess(str(doc)) if word not in stop_words] for doc in texts]"
      ],
      "execution_count": 0,
      "outputs": []
    },
    {
      "cell_type": "code",
      "metadata": {
        "id": "B5FGu6zvpJOM",
        "colab_type": "code",
        "colab": {}
      },
      "source": [
        "def lemmatization(texts, allowed_postags=['NOUN', 'ADJ', 'VERB', 'ADV']):\n",
        "    texts_out = []\n",
        "    for sent in texts:\n",
        "        doc = nlp(\" \".join(sent)) \n",
        "        texts_out.append([token.lemma_ for token in doc if token.pos_ in allowed_postags])\n",
        "    return texts_out"
      ],
      "execution_count": 0,
      "outputs": []
    },
    {
      "cell_type": "code",
      "metadata": {
        "id": "BT2QFOgImHiA",
        "colab_type": "code",
        "colab": {}
      },
      "source": [
        "all_data_words = list(sent_to_words(all_data))"
      ],
      "execution_count": 0,
      "outputs": []
    },
    {
      "cell_type": "code",
      "metadata": {
        "id": "UobN5vLcna3X",
        "colab_type": "code",
        "colab": {}
      },
      "source": [
        "all_data_words_nostop = remove_stopwords(all_data_words)"
      ],
      "execution_count": 0,
      "outputs": []
    },
    {
      "cell_type": "code",
      "metadata": {
        "id": "q3kBDbQdn5Un",
        "colab_type": "code",
        "colab": {}
      },
      "source": [
        "# Initialize spacy 'en' model, keeping only tagger component (for efficiency)\n",
        "# python3 -m spacy download en\n",
        "nlp = spacy.load('en', disable=['parser', 'ner'])"
      ],
      "execution_count": 0,
      "outputs": []
    },
    {
      "cell_type": "code",
      "metadata": {
        "id": "MwXsYMlEpQDe",
        "colab_type": "code",
        "colab": {}
      },
      "source": [
        "# Do lemmatization keeping only noun, adj, vb, adv\n",
        "all_data_lemmatized = lemmatization(all_data_words_nostop, allowed_postags=['NOUN','ADJ','VERB','ADV'])"
      ],
      "execution_count": 0,
      "outputs": []
    },
    {
      "cell_type": "code",
      "metadata": {
        "id": "2eldKOeppWse",
        "colab_type": "code",
        "colab": {}
      },
      "source": [
        "all_data_lemmatized = remove_stopwords(all_data_lemmatized)"
      ],
      "execution_count": 0,
      "outputs": []
    },
    {
      "cell_type": "code",
      "metadata": {
        "id": "ydi-2_YkwdOg",
        "colab_type": "code",
        "colab": {
          "base_uri": "https://localhost:8080/",
          "height": 34
        },
        "outputId": "c8735395-d9a6-4e59-fced-cbc94193588e"
      },
      "source": [
        "print(all_data_lemmatized[342])"
      ],
      "execution_count": 43,
      "outputs": [
        {
          "output_type": "stream",
          "text": [
            "['end', 'come', 'way', 'forget', 'reup', 'good', 'dollar', 'general', 'champagne', 'ya']\n"
          ],
          "name": "stdout"
        }
      ]
    },
    {
      "cell_type": "code",
      "metadata": {
        "id": "BVQue4MHt17D",
        "colab_type": "code",
        "colab": {}
      },
      "source": [
        "#Exporting the lammatized into a csv file\n",
        "import csv\n",
        "with open('/content/allTweets_lammetized.csv', 'a') as csvFile:\n",
        "  fieldnames = ['Tweets']\n",
        "  writer = csv.DictWriter(csvFile, fieldnames=fieldnames)\n",
        "  writer.writeheader()\n",
        "  for words in all_data_lemmatized[:len(all_data_lemmatized)]:\n",
        "    if len(words) != 0:\n",
        "      writer.writerow({'Tweets': ' '.join(words)})"
      ],
      "execution_count": 0,
      "outputs": []
    },
    {
      "cell_type": "code",
      "metadata": {
        "id": "5eWw0Bhtue6m",
        "colab_type": "code",
        "colab": {}
      },
      "source": [
        "files.download('allTweets_lammetized.csv')"
      ],
      "execution_count": 0,
      "outputs": []
    },
    {
      "cell_type": "markdown",
      "metadata": {
        "id": "C9491dn-wDBG",
        "colab_type": "text"
      },
      "source": [
        "**TF-IDF Calculation**"
      ]
    },
    {
      "cell_type": "code",
      "metadata": {
        "id": "hh68CFj9ulK-",
        "colab_type": "code",
        "colab": {}
      },
      "source": [
        "tweeetsList = []\n",
        "def listToString(s):  \n",
        "    str1 = \" \"    \n",
        "    return (str1.join(s))              "
      ],
      "execution_count": 0,
      "outputs": []
    },
    {
      "cell_type": "code",
      "metadata": {
        "id": "JodHz9d2wy6E",
        "colab_type": "code",
        "colab": {
          "base_uri": "https://localhost:8080/",
          "height": 54
        },
        "outputId": "7f422c1d-3b27-463d-a759-196c180eda94"
      },
      "source": [
        "for strlist in all_data_lemmatized:\n",
        "    strg = listToString(strlist)\n",
        "    tweeetsList.append(strg)\n",
        "print(tweeetsList[0:50])"
      ],
      "execution_count": 50,
      "outputs": [
        {
          "output_type": "stream",
          "text": [
            "['ask many time bluff', 'well ingredient better pizza', '', 'challenge come punch face fucken coward', 'come brother', 'celeste texte pm tell leave say prolly able later love smh', 'podcast', 'fact way', 'style', 'need', 'meat bfast sandwich', 'breakfast spam', 'cow milk comcast', '', 'work look baby version freak', 'thank', 'definitely need', 'thank', 'tell viral tweet', '', 'sick cooking nutritional value meat', 'read', 'cke look', 'question concern free shrimp ever free shrimp anywhere must forwarded uphold brand image', 'catfish dinner week invite', '', 'furry mewtwo hit', 'come hang meat cooler', 'thank', 'amazing', '', '', 'book wrestling event', 'literally say word tv', 'wait say prefer dry', 'hear serve', 'sad end', 'morning walk home old man deli mouth word window pop', 'pic', 'bluff heart take', 'dummy', 'tattoo place', 'relevant lil sure none ever listen', '', '', 'sit couch', '', 'sound fucken dumbass', 'hope describe scientist beekeeper', 'emotionally exhaust']\n"
          ],
          "name": "stdout"
        }
      ]
    },
    {
      "cell_type": "code",
      "metadata": {
        "id": "D45f83n0yfc6",
        "colab_type": "code",
        "colab": {}
      },
      "source": [
        "from sklearn.feature_extraction.text import TfidfVectorizer"
      ],
      "execution_count": 0,
      "outputs": []
    },
    {
      "cell_type": "code",
      "metadata": {
        "id": "UNwPFrBFyYrX",
        "colab_type": "code",
        "colab": {}
      },
      "source": [
        "vec = TfidfVectorizer()"
      ],
      "execution_count": 0,
      "outputs": []
    },
    {
      "cell_type": "code",
      "metadata": {
        "id": "RPLsfz5Kyb3V",
        "colab_type": "code",
        "colab": {
          "base_uri": "https://localhost:8080/",
          "height": 180
        },
        "outputId": "27037535-9456-426b-e2e5-754263b77ccb"
      },
      "source": [
        "tfidf_df = pd.DataFrame(data=vec.fit_transform(tweeetsList).todense(), columns=vec.get_feature_names())\n",
        "tfidf_df.tail()"
      ],
      "execution_count": 4,
      "outputs": [
        {
          "output_type": "error",
          "ename": "NameError",
          "evalue": "ignored",
          "traceback": [
            "\u001b[0;31m---------------------------------------------------------------------------\u001b[0m",
            "\u001b[0;31mNameError\u001b[0m                                 Traceback (most recent call last)",
            "\u001b[0;32m<ipython-input-4-aa815bb1a425>\u001b[0m in \u001b[0;36m<module>\u001b[0;34m()\u001b[0m\n\u001b[0;32m----> 1\u001b[0;31m \u001b[0mtfidf_df\u001b[0m \u001b[0;34m=\u001b[0m \u001b[0mpd\u001b[0m\u001b[0;34m.\u001b[0m\u001b[0mDataFrame\u001b[0m\u001b[0;34m(\u001b[0m\u001b[0mdata\u001b[0m\u001b[0;34m=\u001b[0m\u001b[0mvec\u001b[0m\u001b[0;34m.\u001b[0m\u001b[0mfit_transform\u001b[0m\u001b[0;34m(\u001b[0m\u001b[0mtweeetsList\u001b[0m\u001b[0;34m)\u001b[0m\u001b[0;34m.\u001b[0m\u001b[0mtodense\u001b[0m\u001b[0;34m(\u001b[0m\u001b[0;34m)\u001b[0m\u001b[0;34m,\u001b[0m \u001b[0mcolumns\u001b[0m\u001b[0;34m=\u001b[0m\u001b[0mvec\u001b[0m\u001b[0;34m.\u001b[0m\u001b[0mget_feature_names\u001b[0m\u001b[0;34m(\u001b[0m\u001b[0;34m)\u001b[0m\u001b[0;34m)\u001b[0m\u001b[0;34m\u001b[0m\u001b[0;34m\u001b[0m\u001b[0m\n\u001b[0m\u001b[1;32m      2\u001b[0m \u001b[0mtfidf_df\u001b[0m\u001b[0;34m.\u001b[0m\u001b[0mtail\u001b[0m\u001b[0;34m(\u001b[0m\u001b[0;34m)\u001b[0m\u001b[0;34m\u001b[0m\u001b[0;34m\u001b[0m\u001b[0m\n",
            "\u001b[0;31mNameError\u001b[0m: name 'pd' is not defined"
          ]
        }
      ]
    },
    {
      "cell_type": "code",
      "metadata": {
        "id": "cCmMYtXqytDE",
        "colab_type": "code",
        "colab": {}
      },
      "source": [
        ""
      ],
      "execution_count": 0,
      "outputs": []
    }
  ]
}