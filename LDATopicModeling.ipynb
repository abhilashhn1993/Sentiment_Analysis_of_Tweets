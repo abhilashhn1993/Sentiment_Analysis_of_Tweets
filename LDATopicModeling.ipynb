{
  "nbformat": 4,
  "nbformat_minor": 0,
  "metadata": {
    "colab": {
      "name": "LDATopicModeling.ipynb",
      "provenance": [],
      "collapsed_sections": [],
      "machine_shape": "hm",
      "mount_file_id": "https://github.com/abhilashhn1993/Sentiment_Analysis_of_Tweets/blob/master/LDATopicModeling.ipynb",
      "authorship_tag": "ABX9TyN8JVpZA1nQlSrUWulbbhOf",
      "include_colab_link": true
    },
    "kernelspec": {
      "name": "python3",
      "display_name": "Python 3"
    },
    "accelerator": "TPU"
  },
  "cells": [
    {
      "cell_type": "markdown",
      "metadata": {
        "id": "view-in-github",
        "colab_type": "text"
      },
      "source": [
        "<a href=\"https://colab.research.google.com/github/abhilashhn1993/Sentiment_Analysis_of_Tweets/blob/master/LDATopicModeling.ipynb\" target=\"_parent\"><img src=\"https://colab.research.google.com/assets/colab-badge.svg\" alt=\"Open In Colab\"/></a>"
      ]
    },
    {
      "cell_type": "code",
      "metadata": {
        "id": "Db_Qji2Fh03l",
        "colab_type": "code",
        "colab": {}
      },
      "source": [
        "!pip install spacy\n",
        "!pip install pyLDAvis"
      ],
      "execution_count": 0,
      "outputs": []
    },
    {
      "cell_type": "code",
      "metadata": {
        "id": "LQXdMnw2KXJz",
        "colab_type": "code",
        "colab": {}
      },
      "source": [
        "import re\n",
        "import numpy as np\n",
        "import pandas as pd\n",
        "from pprint import pprint\n",
        "import gensim\n",
        "import gensim.corpora as corpora\n",
        "from gensim.utils import simple_preprocess\n",
        "from gensim.models import CoherenceModel\n",
        "import spacy\n",
        "import pyLDAvis\n",
        "import pyLDAvis.gensim\n",
        "import matplotlib.pyplot as plt\n",
        "%matplotlib inline\n",
        "import logging\n",
        "logging.basicConfig(format='%(asctime)s : %(levelname)s : %(message)s', level=logging.ERROR)\n",
        "import warnings\n",
        "warnings.filterwarnings(\"ignore\",category=DeprecationWarning)"
      ],
      "execution_count": 0,
      "outputs": []
    },
    {
      "cell_type": "code",
      "metadata": {
        "id": "AEMJQb5ROJxX",
        "colab_type": "code",
        "colab": {}
      },
      "source": [
        "def sent_to_words(sentences):\n",
        "    for sentence in sentences:\n",
        "        yield(gensim.utils.simple_preprocess(str(sentence), deacc=True))"
      ],
      "execution_count": 0,
      "outputs": []
    },
    {
      "cell_type": "code",
      "metadata": {
        "id": "n6lwTQLJh9NF",
        "colab_type": "code",
        "colab": {}
      },
      "source": [
        "from google.colab import files\n",
        "uploaded = files.upload()"
      ],
      "execution_count": 0,
      "outputs": []
    },
    {
      "cell_type": "code",
      "metadata": {
        "id": "MaHXBWWbiCd1",
        "colab_type": "code",
        "colab": {}
      },
      "source": [
        "import io\n",
        "df_post = pd.read_csv(io.BytesIO(uploaded['cleanedPostTweets.csv']))\n",
        "df_pre = pd.read_csv(io.BytesIO(uploaded['cleanedPreTweets.csv']))"
      ],
      "execution_count": 0,
      "outputs": []
    },
    {
      "cell_type": "markdown",
      "metadata": {
        "id": "DgvULV2Hi78C",
        "colab_type": "text"
      },
      "source": [
        "**LDA topic Modeling for PTSD pre-diagnosis Tweets**"
      ]
    },
    {
      "cell_type": "markdown",
      "metadata": {
        "id": "og2sq6QrN-fU",
        "colab_type": "text"
      },
      "source": [
        "**Pre-PTSD Topics**"
      ]
    },
    {
      "cell_type": "code",
      "metadata": {
        "id": "mNEVdRbhZLYB",
        "colab_type": "code",
        "colab": {}
      },
      "source": [
        "pre_Tweets = df_pre.Tweets.values.tolist()\n",
        "pre_Tweets = list(sent_to_words(pre_Tweets))"
      ],
      "execution_count": 0,
      "outputs": []
    },
    {
      "cell_type": "code",
      "metadata": {
        "id": "NVaUnKilJtlX",
        "colab_type": "code",
        "colab": {}
      },
      "source": [
        "id2word = corpora.Dictionary(pre_Tweets)\n",
        "\n",
        "# Create Corpus\n",
        "texts = pre_Tweets\n",
        "\n",
        "# Term Document Frequency\n",
        "corpus = [id2word.doc2bow(text) for text in texts]"
      ],
      "execution_count": 0,
      "outputs": []
    },
    {
      "cell_type": "code",
      "metadata": {
        "id": "yIbPI7IGM9zM",
        "colab_type": "code",
        "colab": {
          "base_uri": "https://localhost:8080/",
          "height": 34
        },
        "outputId": "663ea257-4fab-40da-e699-6d65a8d672e2"
      },
      "source": [
        "[[(id2word[id], freq) for id, freq in cp] for cp in corpus[:1]]"
      ],
      "execution_count": 28,
      "outputs": [
        {
          "output_type": "execute_result",
          "data": {
            "text/plain": [
              "[[('good', 1), ('luck', 1), ('ray', 1), ('send', 1), ('support', 1)]]"
            ]
          },
          "metadata": {
            "tags": []
          },
          "execution_count": 28
        }
      ]
    },
    {
      "cell_type": "code",
      "metadata": {
        "id": "NwHe1OxaM_MT",
        "colab_type": "code",
        "colab": {}
      },
      "source": [
        "# Build LDA model\n",
        "pre_lda_model = gensim.models.ldamodel.LdaModel(corpus=corpus,\n",
        "                                          id2word=id2word,\n",
        "                                          num_topics=4, \n",
        "                                          random_state=100,\n",
        "                                          update_every=1,\n",
        "                                          chunksize=100,\n",
        "                                          passes=10,\n",
        "                                          alpha='auto',\n",
        "                                          per_word_topics=True)"
      ],
      "execution_count": 0,
      "outputs": []
    },
    {
      "cell_type": "code",
      "metadata": {
        "id": "d2_5TknpNDm4",
        "colab_type": "code",
        "colab": {
          "base_uri": "https://localhost:8080/",
          "height": 272
        },
        "outputId": "34b0f2c5-a304-4f09-b9e2-3e389f572d43"
      },
      "source": [
        "pprint(pre_lda_model.print_topics())\n",
        "doc_lda_pre = pre_lda_model[corpus]"
      ],
      "execution_count": 30,
      "outputs": [
        {
          "output_type": "stream",
          "text": [
            "[(0,\n",
            "  '0.107*\"nan\" + 0.016*\"hate\" + 0.016*\"wait\" + 0.015*\"tell\" + 0.015*\"eat\" + '\n",
            "  '0.013*\"could\" + 0.012*\"lose\" + 0.011*\"stop\" + 0.009*\"ill\" + '\n",
            "  '0.008*\"chroniclife\"'),\n",
            " (1,\n",
            "  '0.025*\"think\" + 0.022*\"life\" + 0.018*\"come\" + 0.015*\"help\" + 0.015*\"fuck\" + '\n",
            "  '0.015*\"always\" + 0.014*\"honestly\" + 0.012*\"keep\" + 0.012*\"right\" + '\n",
            "  '0.011*\"literally\"'),\n",
            " (2,\n",
            "  '0.037*\"good\" + 0.031*\"say\" + 0.018*\"look\" + 0.018*\"friend\" + 0.017*\"work\" + '\n",
            "  '0.016*\"thank\" + 0.014*\"ever\" + 0.013*\"cry\" + 0.013*\"fucking\" + '\n",
            "  '0.012*\"hour\"'),\n",
            " (3,\n",
            "  '0.034*\"want\" + 0.034*\"love\" + 0.030*\"feel\" + 0.025*\"people\" + 0.024*\"time\" '\n",
            "  '+ 0.022*\"need\" + 0.017*\"take\" + 0.016*\"bad\" + 0.016*\"try\" + 0.015*\"start\"')]\n"
          ],
          "name": "stdout"
        }
      ]
    },
    {
      "cell_type": "code",
      "metadata": {
        "id": "pLrSLIbpQut8",
        "colab_type": "code",
        "colab": {
          "base_uri": "https://localhost:8080/",
          "height": 85
        },
        "outputId": "12446cef-f686-4b60-9bbe-a7df28de0454"
      },
      "source": [
        "# Compute Perplexity\n",
        "print('\\nPerplexity: ', pre_lda_model.log_perplexity(corpus))  # a measure of how good the model is. lower the better.\n",
        "\n",
        "# Compute Coherence Score\n",
        "coherence_model_lda = CoherenceModel(model=pre_lda_model, texts=pre_Tweets, dictionary=id2word, coherence='c_v')\n",
        "coherence_lda = coherence_model_lda.get_coherence()\n",
        "print('\\nCoherence Score: ', coherence_lda)"
      ],
      "execution_count": 31,
      "outputs": [
        {
          "output_type": "stream",
          "text": [
            "\n",
            "Perplexity:  -8.413445944372059\n",
            "\n",
            "Coherence Score:  0.2780846378522641\n"
          ],
          "name": "stdout"
        }
      ]
    },
    {
      "cell_type": "code",
      "metadata": {
        "id": "dz9vnj9SL8Du",
        "colab_type": "code",
        "colab": {
          "base_uri": "https://localhost:8080/",
          "height": 861
        },
        "outputId": "e4e76b69-ea45-4a1f-f448-1df751c0b067"
      },
      "source": [
        "# Visualize the topics\n",
        "pyLDAvis.enable_notebook()\n",
        "vis = pyLDAvis.gensim.prepare(pre_lda_model, corpus, id2word)\n",
        "vis"
      ],
      "execution_count": 16,
      "outputs": [
        {
          "output_type": "execute_result",
          "data": {
            "text/html": [
              "\n",
              "<link rel=\"stylesheet\" type=\"text/css\" href=\"https://cdn.rawgit.com/bmabey/pyLDAvis/files/ldavis.v1.0.0.css\">\n",
              "\n",
              "\n",
              "<div id=\"ldavis_el5331399515676607604654271488\"></div>\n",
              "<script type=\"text/javascript\">\n",
              "\n",
              "var ldavis_el5331399515676607604654271488_data = {\"mdsDat\": {\"x\": [0.30286839940992183, -0.12052275515703864, -0.08916904928895891, -0.09317659496392422], \"y\": [0.019760488797722242, 0.2669555387769074, -0.13121091798672138, -0.15550510958790842], \"topics\": [1, 2, 3, 4], \"cluster\": [1, 1, 1, 1], \"Freq\": [29.724172592163086, 24.382009506225586, 23.176790237426758, 22.717025756835938]}, \"tinfo\": {\"Term\": [\"nan\", \"good\", \"want\", \"love\", \"feel\", \"say\", \"people\", \"think\", \"time\", \"need\", \"life\", \"look\", \"take\", \"friend\", \"come\", \"bad\", \"try\", \"work\", \"hate\", \"start\", \"wait\", \"thank\", \"tell\", \"help\", \"fuck\", \"eat\", \"always\", \"ever\", \"honestly\", \"cry\", \"love\", \"want\", \"feel\", \"people\", \"time\", \"need\", \"take\", \"bad\", \"try\", \"start\", \"watch\", \"give\", \"shit\", \"never\", \"talk\", \"person\", \"hard\", \"lol\", \"also\", \"man\", \"pain\", \"great\", \"call\", \"lot\", \"post\", \"play\", \"way\", \"head\", \"hurt\", \"favorite\", \"fat\", \"chroniclife\", \"nan\", \"hate\", \"wait\", \"tell\", \"eat\", \"could\", \"lose\", \"stop\", \"ill\", \"night\", \"mean\", \"big\", \"new\", \"first\", \"bitch\", \"able\", \"happen\", \"point\", \"hot\", \"ass\", \"leave\", \"food\", \"break\", \"maybe\", \"least\", \"nice\", \"walk\", \"away\", \"else\", \"anymore\", \"didna\", \"chroniclife\", \"good\", \"say\", \"look\", \"friend\", \"work\", \"thank\", \"ever\", \"hour\", \"cry\", \"fucking\", \"well\", \"ask\", \"put\", \"may\", \"happy\", \"long\", \"suck\", \"month\", \"probably\", \"hope\", \"end\", \"picture\", \"next\", \"kid\", \"cute\", \"sad\", \"morning\", \"wake\", \"ready\", \"heart\", \"pound\", \"chroniclife\", \"think\", \"life\", \"come\", \"help\", \"always\", \"fuck\", \"honestly\", \"right\", \"keep\", \"girl\", \"sleep\", \"literally\", \"little\", \"week\", \"use\", \"live\", \"school\", \"care\", \"already\", \"pretty\", \"baby\", \"home\", \"mom\", \"body\", \"enough\", \"wrong\", \"family\", \"show\", \"many\", \"better\", \"weight\", \"daddy\", \"chroniclife\"], \"Freq\": [3018.0, 992.0, 1180.0, 1163.0, 1031.0, 837.0, 874.0, 667.0, 813.0, 766.0, 576.0, 494.0, 595.0, 491.0, 482.0, 558.0, 549.0, 453.0, 459.0, 527.0, 440.0, 424.0, 425.0, 404.0, 397.0, 413.0, 384.0, 368.0, 360.0, 357.0, 1162.797607421875, 1179.3626708984375, 1030.615478515625, 874.0714721679688, 812.8341674804688, 765.820556640625, 594.7822265625, 558.2740478515625, 548.8969116210938, 526.5342407226562, 423.1832275390625, 394.9734191894531, 389.7376708984375, 377.5869140625, 361.8947448730469, 334.3460388183594, 292.52191162109375, 286.2755432128906, 264.0529479980469, 262.0227355957031, 234.60350036621094, 231.04364013671875, 215.4126739501953, 217.4902801513672, 205.55865478515625, 189.39308166503906, 185.1326446533203, 181.7256317138672, 178.60256958007812, 186.90184020996094, 195.65496826171875, 321.0102844238281, 3017.977294921875, 458.91400146484375, 439.296630859375, 424.76092529296875, 412.52313232421875, 364.4867248535156, 329.4100036621094, 301.8984375, 252.55833435058594, 218.9955596923828, 216.7432403564453, 212.07290649414062, 201.5511932373047, 201.8531494140625, 201.75440979003906, 207.7429656982422, 202.13540649414062, 201.87989807128906, 192.07310485839844, 187.20018005371094, 169.92169189453125, 171.2140655517578, 164.2264404296875, 162.5710906982422, 155.28414916992188, 151.01426696777344, 139.97589111328125, 140.01345825195312, 139.12124633789062, 139.4246063232422, 172.49966430664062, 227.6842041015625, 991.9193115234375, 836.3463134765625, 493.5474548339844, 490.7603454589844, 452.7651672363281, 423.744873046875, 367.9648742675781, 331.75067138671875, 356.53668212890625, 351.1070251464844, 276.099365234375, 275.0010681152344, 273.09722900390625, 255.05691528320312, 227.35067749023438, 228.70074462890625, 237.4525604248047, 187.4215850830078, 192.3459930419922, 183.0302276611328, 181.80654907226562, 179.46151733398438, 169.37570190429688, 173.2141571044922, 167.309814453125, 165.29795837402344, 156.86065673828125, 155.13697814941406, 154.95938110351562, 144.3529815673828, 185.32809448242188, 296.1154479980469, 667.1246337890625, 575.7908935546875, 482.1650085449219, 403.6177062988281, 384.0052795410156, 396.2250671386719, 360.1793212890625, 307.2392578125, 308.7851257324219, 292.70367431640625, 284.46844482421875, 299.81414794921875, 272.906494140625, 264.3357238769531, 249.03372192382812, 245.04261779785156, 256.54046630859375, 230.8147735595703, 224.79261779785156, 225.3655548095703, 213.83042907714844, 203.04928588867188, 204.44374084472656, 201.7584686279297, 189.74855041503906, 189.22364807128906, 180.52101135253906, 164.80447387695312, 159.41432189941406, 166.0996856689453, 200.53639221191406, 221.22915649414062, 241.1729278564453], \"Total\": [3018.0, 992.0, 1180.0, 1163.0, 1031.0, 837.0, 874.0, 667.0, 813.0, 766.0, 576.0, 494.0, 595.0, 491.0, 482.0, 558.0, 549.0, 453.0, 459.0, 527.0, 440.0, 424.0, 425.0, 404.0, 397.0, 413.0, 384.0, 368.0, 360.0, 357.0, 1163.502685546875, 1180.0819091796875, 1031.3233642578125, 874.7716064453125, 813.5391845703125, 766.527099609375, 595.4849853515625, 558.98486328125, 549.6159057617188, 527.2603759765625, 423.9034118652344, 395.694091796875, 390.4566650390625, 378.29522705078125, 362.6121826171875, 335.0724182128906, 293.23406982421875, 286.9757080078125, 264.7565612792969, 262.7296447753906, 235.29708862304688, 231.74301147460938, 216.10475158691406, 218.1949005126953, 206.27993774414062, 190.09368896484375, 185.8244171142578, 182.43409729003906, 179.31211853027344, 187.64979553222656, 196.5160675048828, 1085.98291015625, 3018.683349609375, 459.64410400390625, 440.0203857421875, 425.48138427734375, 413.260986328125, 365.20367431640625, 330.1782531738281, 302.620361328125, 253.28945922851562, 219.7008056640625, 217.4706573486328, 212.78616333007812, 202.2451934814453, 202.56202697753906, 202.48898315429688, 208.50735473632812, 202.8811492919922, 202.62591552734375, 192.81246948242188, 187.9537811279297, 170.63290405273438, 171.93621826171875, 164.95338439941406, 163.29730224609375, 156.00192260742188, 151.74386596679688, 140.68646240234375, 140.73524475097656, 139.85903930664062, 140.1728057861328, 173.5093231201172, 1085.98291015625, 992.6494750976562, 837.0665283203125, 494.2510681152344, 491.50567626953125, 453.4725341796875, 424.4610595703125, 368.6856689453125, 332.4755859375, 357.3177490234375, 351.88458251953125, 276.8060607910156, 275.72943115234375, 273.82061767578125, 255.76953125, 228.0576934814453, 229.42791748046875, 238.24383544921875, 188.1337127685547, 193.08604431152344, 183.75152587890625, 182.54705810546875, 180.2109375, 170.090576171875, 173.95037841796875, 168.04034423828125, 166.0291290283203, 157.55592346191406, 155.85122680664062, 155.67713928222656, 145.08213806152344, 186.45217895507812, 1085.98291015625, 667.8388671875, 576.5277709960938, 482.8814697265625, 404.3372497558594, 384.72332763671875, 397.04852294921875, 360.9980773925781, 307.9485168457031, 309.5074462890625, 293.42626953125, 285.1856689453125, 300.57647705078125, 273.6114196777344, 265.0634765625, 249.75607299804688, 245.75987243652344, 257.3223571777344, 231.54489135742188, 225.50865173339844, 226.1109161376953, 214.55722045898438, 203.75656127929688, 205.1653289794922, 202.48472595214844, 190.48516845703125, 190.00648498535156, 181.27499389648438, 165.52536010742188, 160.1247100830078, 166.84288024902344, 201.57522583007812, 223.63633728027344, 1085.98291015625], \"Category\": [\"Default\", \"Default\", \"Default\", \"Default\", \"Default\", \"Default\", \"Default\", \"Default\", \"Default\", \"Default\", \"Default\", \"Default\", \"Default\", \"Default\", \"Default\", \"Default\", \"Default\", \"Default\", \"Default\", \"Default\", \"Default\", \"Default\", \"Default\", \"Default\", \"Default\", \"Default\", \"Default\", \"Default\", \"Default\", \"Default\", \"Topic1\", \"Topic1\", \"Topic1\", \"Topic1\", \"Topic1\", \"Topic1\", \"Topic1\", \"Topic1\", \"Topic1\", \"Topic1\", \"Topic1\", \"Topic1\", \"Topic1\", \"Topic1\", \"Topic1\", \"Topic1\", \"Topic1\", \"Topic1\", \"Topic1\", \"Topic1\", \"Topic1\", \"Topic1\", \"Topic1\", \"Topic1\", \"Topic1\", \"Topic1\", \"Topic1\", \"Topic1\", \"Topic1\", \"Topic1\", \"Topic1\", \"Topic1\", \"Topic2\", \"Topic2\", \"Topic2\", \"Topic2\", \"Topic2\", \"Topic2\", \"Topic2\", \"Topic2\", \"Topic2\", \"Topic2\", \"Topic2\", \"Topic2\", \"Topic2\", \"Topic2\", \"Topic2\", \"Topic2\", \"Topic2\", \"Topic2\", \"Topic2\", \"Topic2\", \"Topic2\", \"Topic2\", \"Topic2\", \"Topic2\", \"Topic2\", \"Topic2\", \"Topic2\", \"Topic2\", \"Topic2\", \"Topic2\", \"Topic2\", \"Topic2\", \"Topic3\", \"Topic3\", \"Topic3\", \"Topic3\", \"Topic3\", \"Topic3\", \"Topic3\", \"Topic3\", \"Topic3\", \"Topic3\", \"Topic3\", \"Topic3\", \"Topic3\", \"Topic3\", \"Topic3\", \"Topic3\", \"Topic3\", \"Topic3\", \"Topic3\", \"Topic3\", \"Topic3\", \"Topic3\", \"Topic3\", \"Topic3\", \"Topic3\", \"Topic3\", \"Topic3\", \"Topic3\", \"Topic3\", \"Topic3\", \"Topic3\", \"Topic3\", \"Topic4\", \"Topic4\", \"Topic4\", \"Topic4\", \"Topic4\", \"Topic4\", \"Topic4\", \"Topic4\", \"Topic4\", \"Topic4\", \"Topic4\", \"Topic4\", \"Topic4\", \"Topic4\", \"Topic4\", \"Topic4\", \"Topic4\", \"Topic4\", \"Topic4\", \"Topic4\", \"Topic4\", \"Topic4\", \"Topic4\", \"Topic4\", \"Topic4\", \"Topic4\", \"Topic4\", \"Topic4\", \"Topic4\", \"Topic4\", \"Topic4\", \"Topic4\", \"Topic4\"], \"logprob\": [30.0, 29.0, 28.0, 27.0, 26.0, 25.0, 24.0, 23.0, 22.0, 21.0, 20.0, 19.0, 18.0, 17.0, 16.0, 15.0, 14.0, 13.0, 12.0, 11.0, 10.0, 9.0, 8.0, 7.0, 6.0, 5.0, 4.0, 3.0, 2.0, 1.0, -3.384000062942505, -3.3698999881744385, -3.504699945449829, -3.6693999767303467, -3.7421000003814697, -3.8015999794006348, -4.0543999671936035, -4.117700099945068, -4.134699821472168, -4.176300048828125, -4.394800186157227, -4.463799953460693, -4.477099895477295, -4.508800029754639, -4.551199913024902, -4.63040018081665, -4.764100074768066, -4.785600185394287, -4.866399765014648, -4.874199867248535, -4.9847002029418945, -5.0, -5.070000171661377, -5.060400009155273, -5.1168999671936035, -5.198800086975098, -5.221499919891357, -5.240099906921387, -5.257400035858154, -5.211999893188477, -5.166200160980225, -4.67110013961792, -2.232100009918213, -4.115600109100342, -4.159299850463867, -4.19290018081665, -4.2221999168396, -4.3460001945495605, -4.447199821472168, -4.53439998626709, -4.712800025939941, -4.855400085449219, -4.865799903869629, -4.887499809265137, -4.938399791717529, -4.9369001388549805, -4.937399864196777, -4.908199787139893, -4.935500144958496, -4.936800003051758, -4.986599922180176, -5.01230001449585, -5.109099864959717, -5.101600170135498, -5.143199920654297, -5.15339994430542, -5.19920015335083, -5.227099895477295, -5.302999973297119, -5.302700042724609, -5.309100151062012, -5.307000160217285, -5.094099998474121, -4.816500186920166, -3.294100046157837, -3.4646999835968018, -3.9921998977661133, -3.99780011177063, -4.078400135040283, -4.144599914550781, -4.285799980163574, -4.389400005340576, -4.317299842834473, -4.332699775695801, -4.572999954223633, -4.577000141143799, -4.584000110626221, -4.652299880981445, -4.767300128936768, -4.76140022277832, -4.723800182342529, -4.960400104522705, -4.934500217437744, -4.984099864959717, -4.990799903869629, -5.003799915313721, -5.061699867248535, -5.039299964904785, -5.07390022277832, -5.085999965667725, -5.138400077819824, -5.149499893188477, -5.150599956512451, -5.221499919891357, -4.971700191497803, -4.502999782562256, -3.670799970626831, -3.818000078201294, -3.995500087738037, -4.173299789428711, -4.223100185394287, -4.191800117492676, -4.287099838256836, -4.446100234985352, -4.441100120544434, -4.49459981918335, -4.523099899291992, -4.470600128173828, -4.564599990844727, -4.596499919891357, -4.656199932098389, -4.672299861907959, -4.626500129699707, -4.732100009918213, -4.758600234985352, -4.75600004196167, -4.808599948883057, -4.860300064086914, -4.853499889373779, -4.866700172424316, -4.927999973297119, -4.930799961090088, -4.97790002822876, -5.068999767303467, -5.102200031280518, -5.061200141906738, -4.872700214385986, -4.774499893188477, -4.688199996948242], \"loglift\": [30.0, 29.0, 28.0, 27.0, 26.0, 25.0, 24.0, 23.0, 22.0, 21.0, 20.0, 19.0, 18.0, 17.0, 16.0, 15.0, 14.0, 13.0, 12.0, 11.0, 10.0, 9.0, 8.0, 7.0, 6.0, 5.0, 4.0, 3.0, 2.0, 1.0, 1.2125999927520752, 1.2125999927520752, 1.212499976158142, 1.212399959564209, 1.2122999429702759, 1.2122999429702759, 1.2120000123977661, 1.211899995803833, 1.211899995803833, 1.2117999792099, 1.2115000486373901, 1.211400032043457, 1.211400032043457, 1.211300015449524, 1.2111999988555908, 1.2109999656677246, 1.210800051689148, 1.210800051689148, 1.2105000019073486, 1.2105000019073486, 1.2102999687194824, 1.2101999521255493, 1.2100000381469727, 1.2100000381469727, 1.2096999883651733, 1.2094999551773071, 1.2094999551773071, 1.2093000411987305, 1.2092000246047974, 1.2092000246047974, 1.208799958229065, -0.00559999980032444, 1.4111000299453735, 1.4097000360488892, 1.4097000360488892, 1.409600019454956, 1.409500002861023, 1.4093999862670898, 1.409000039100647, 1.4089000225067139, 1.408400058746338, 1.4081000089645386, 1.4079999923706055, 1.4079999923706055, 1.4078999757766724, 1.4077999591827393, 1.4076999425888062, 1.4076999425888062, 1.4076000452041626, 1.4076000452041626, 1.4075000286102295, 1.4072999954223633, 1.407099962234497, 1.407099962234497, 1.4069000482559204, 1.4069000482559204, 1.4067000150680542, 1.406499981880188, 1.4062999486923218, 1.4062000513076782, 1.406000018119812, 1.406000018119812, 1.405500054359436, -0.1509999930858612, 1.461300015449524, 1.4611999988555908, 1.4606000185012817, 1.4605000019073486, 1.4605000019073486, 1.4602999687194824, 1.4601000547409058, 1.4598000049591064, 1.4598000049591064, 1.4598000049591064, 1.4594999551773071, 1.4594000577926636, 1.4594000577926636, 1.4592000246047974, 1.458899974822998, 1.458799958229065, 1.4586999416351318, 1.4581999778747559, 1.4581999778747559, 1.4580999612808228, 1.4579999446868896, 1.457900047302246, 1.457800030708313, 1.457800030708313, 1.4577000141143799, 1.4575999975204468, 1.4575999975204468, 1.4573999643325806, 1.4573999643325806, 1.4570000171661377, 1.4559999704360962, 0.16249999403953552, 1.4809999465942383, 1.4808000326156616, 1.4805999994277954, 1.480299949645996, 1.4802000522613525, 1.4800000190734863, 1.4797999858856201, 1.479699969291687, 1.479699969291687, 1.479599952697754, 1.4795000553131104, 1.4795000553131104, 1.4795000553131104, 1.4793000221252441, 1.479200005531311, 1.479099988937378, 1.4789999723434448, 1.4788999557495117, 1.4788999557495117, 1.4788000583648682, 1.478700041770935, 1.478600025177002, 1.4785000085830688, 1.4785000085830688, 1.4781999588012695, 1.4779000282287598, 1.4779000282287598, 1.4776999950408936, 1.4775999784469604, 1.4775999784469604, 1.4768999814987183, 1.4711999893188477, -0.022700000554323196]}, \"token.table\": {\"Topic\": [2, 4, 1, 4, 2, 3, 2, 2, 4, 1, 4, 2, 2, 4, 2, 1, 4, 1, 2, 3, 4, 4, 2, 3, 3, 1, 2, 3, 4, 2, 2, 2, 3, 4, 3, 4, 1, 1, 1, 2, 2, 3, 4, 3, 4, 1, 3, 1, 2, 3, 1, 2, 1, 3, 4, 4, 4, 3, 2, 3, 1, 2, 4, 3, 2, 2, 4, 4, 4, 4, 1, 3, 3, 2, 1, 1, 1, 4, 3, 2, 2, 4, 3, 3, 2, 1, 1, 2, 3, 2, 2, 1, 1, 1, 3, 1, 2, 1, 3, 4, 3, 3, 3, 4, 3, 3, 4, 1, 4, 4, 1, 2, 3, 1, 1, 2, 3, 4, 1, 1, 4, 2, 3, 2, 1, 1, 1, 4, 4, 3, 3, 4], \"Freq\": [0.9975666999816895, 0.9977444410324097, 0.9971424341201782, 0.9981198906898499, 0.9916331171989441, 0.9973545670509338, 0.9949254393577576, 0.9947757124900818, 0.9974029064178467, 0.9982381463050842, 0.9949480891227722, 0.9963054060935974, 0.997585117816925, 0.997606098651886, 0.9942202568054199, 0.9948878884315491, 0.997646689414978, 0.2955847680568695, 0.20994804799556732, 0.2725641429424286, 0.22191877663135529, 0.9981745481491089, 0.9967041015625, 0.999110758304596, 0.9938089847564697, 0.004471545107662678, 0.004471545107662678, 0.004471545107662678, 0.9882115125656128, 0.9913011789321899, 0.9993684887886047, 0.9938578009605408, 0.9970031976699829, 0.997452974319458, 0.9981402158737183, 0.9984830021858215, 0.9973739385604858, 0.9965372085571289, 0.9996864795684814, 0.9972254037857056, 0.994554877281189, 0.998971164226532, 0.9973592162132263, 0.9974861741065979, 0.9985472559928894, 0.998245894908905, 0.9993457198143005, 0.996793806552887, 0.9956568479537964, 0.9953621625900269, 0.999201774597168, 0.9985986948013306, 0.9976205229759216, 0.9925411939620972, 0.9991658926010132, 0.996286928653717, 0.9972352385520935, 0.995910108089447, 0.995786190032959, 0.9985695481300354, 0.9982593655586243, 0.9988572001457214, 0.9983604550361633, 0.9945365190505981, 0.9935774803161621, 0.9962908625602722, 0.9990845918655396, 0.9980821013450623, 0.9977653622627258, 0.9969080686569214, 0.9966000318527222, 0.9981348514556885, 0.9994920492172241, 0.9964314699172974, 0.9945237040519714, 0.9995679259300232, 0.9972228407859802, 0.9929760098457336, 0.9969913363456726, 0.9981793761253357, 0.9978357553482056, 0.9943200349807739, 0.9939739108085632, 0.9964715838432312, 0.9997736215591431, 0.9993123412132263, 0.9992195963859558, 0.9987876415252686, 0.9935882687568665, 0.9950978755950928, 0.9968101978302002, 0.9987373948097229, 0.999117910861969, 0.9967994689941406, 0.9932804703712463, 0.9942466020584106, 0.9969109892845154, 0.9986429214477539, 0.9922115206718445, 0.9950868487358093, 0.9943753480911255, 0.9970030784606934, 0.9956503510475159, 0.9969198703765869, 0.9938015341758728, 0.9987258911132812, 0.9987472891807556, 0.9988304376602173, 0.9968261122703552, 0.995842456817627, 0.9995061755180359, 0.99795001745224, 0.9947791695594788, 0.9991855621337891, 0.9983117580413818, 0.9988685846328735, 0.9989137649536133, 0.9987438917160034, 0.9993372559547424, 0.9988793730735779, 0.9969727396965027, 0.9976810216903687, 0.9945381879806519, 0.995120644569397, 0.9990832209587097, 0.9978688359260559, 0.9955634474754333, 0.9959878325462341, 0.9971463680267334, 0.9970880150794983, 0.9989579916000366, 0.9947028756141663], \"Term\": [\"able\", \"already\", \"also\", \"always\", \"anymore\", \"ask\", \"ass\", \"away\", \"baby\", \"bad\", \"better\", \"big\", \"bitch\", \"body\", \"break\", \"call\", \"care\", \"chroniclife\", \"chroniclife\", \"chroniclife\", \"chroniclife\", \"come\", \"could\", \"cry\", \"cute\", \"daddy\", \"daddy\", \"daddy\", \"daddy\", \"didna\", \"eat\", \"else\", \"end\", \"enough\", \"ever\", \"family\", \"fat\", \"favorite\", \"feel\", \"first\", \"food\", \"friend\", \"fuck\", \"fucking\", \"girl\", \"give\", \"good\", \"great\", \"happen\", \"happy\", \"hard\", \"hate\", \"head\", \"heart\", \"help\", \"home\", \"honestly\", \"hope\", \"hot\", \"hour\", \"hurt\", \"ill\", \"keep\", \"kid\", \"least\", \"leave\", \"life\", \"literally\", \"little\", \"live\", \"lol\", \"long\", \"look\", \"lose\", \"lot\", \"love\", \"man\", \"many\", \"may\", \"maybe\", \"mean\", \"mom\", \"month\", \"morning\", \"nan\", \"need\", \"never\", \"new\", \"next\", \"nice\", \"night\", \"pain\", \"people\", \"person\", \"picture\", \"play\", \"point\", \"post\", \"pound\", \"pretty\", \"probably\", \"put\", \"ready\", \"right\", \"sad\", \"say\", \"school\", \"shit\", \"show\", \"sleep\", \"start\", \"stop\", \"suck\", \"take\", \"talk\", \"tell\", \"thank\", \"think\", \"time\", \"try\", \"use\", \"wait\", \"wake\", \"walk\", \"want\", \"watch\", \"way\", \"week\", \"weight\", \"well\", \"work\", \"wrong\"]}, \"R\": 30, \"lambda.step\": 0.01, \"plot.opts\": {\"xlab\": \"PC1\", \"ylab\": \"PC2\"}, \"topic.order\": [4, 1, 3, 2]};\n",
              "\n",
              "function LDAvis_load_lib(url, callback){\n",
              "  var s = document.createElement('script');\n",
              "  s.src = url;\n",
              "  s.async = true;\n",
              "  s.onreadystatechange = s.onload = callback;\n",
              "  s.onerror = function(){console.warn(\"failed to load library \" + url);};\n",
              "  document.getElementsByTagName(\"head\")[0].appendChild(s);\n",
              "}\n",
              "\n",
              "if(typeof(LDAvis) !== \"undefined\"){\n",
              "   // already loaded: just create the visualization\n",
              "   !function(LDAvis){\n",
              "       new LDAvis(\"#\" + \"ldavis_el5331399515676607604654271488\", ldavis_el5331399515676607604654271488_data);\n",
              "   }(LDAvis);\n",
              "}else if(typeof define === \"function\" && define.amd){\n",
              "   // require.js is available: use it to load d3/LDAvis\n",
              "   require.config({paths: {d3: \"https://cdnjs.cloudflare.com/ajax/libs/d3/3.5.5/d3.min\"}});\n",
              "   require([\"d3\"], function(d3){\n",
              "      window.d3 = d3;\n",
              "      LDAvis_load_lib(\"https://cdn.rawgit.com/bmabey/pyLDAvis/files/ldavis.v1.0.0.js\", function(){\n",
              "        new LDAvis(\"#\" + \"ldavis_el5331399515676607604654271488\", ldavis_el5331399515676607604654271488_data);\n",
              "      });\n",
              "    });\n",
              "}else{\n",
              "    // require.js not available: dynamically load d3 & LDAvis\n",
              "    LDAvis_load_lib(\"https://cdnjs.cloudflare.com/ajax/libs/d3/3.5.5/d3.min.js\", function(){\n",
              "         LDAvis_load_lib(\"https://cdn.rawgit.com/bmabey/pyLDAvis/files/ldavis.v1.0.0.js\", function(){\n",
              "                 new LDAvis(\"#\" + \"ldavis_el5331399515676607604654271488\", ldavis_el5331399515676607604654271488_data);\n",
              "            })\n",
              "         });\n",
              "}\n",
              "</script>"
            ],
            "text/plain": [
              "PreparedData(topic_coordinates=              x         y  topics  cluster       Freq\n",
              "topic                                                \n",
              "3      0.302868  0.019760       1        1  29.724173\n",
              "0     -0.120523  0.266956       2        1  24.382010\n",
              "2     -0.089169 -0.131211       3        1  23.176790\n",
              "1     -0.093177 -0.155505       4        1  22.717026, topic_info=              Term         Freq        Total Category  logprob  loglift\n",
              "27             nan  3018.000000  3018.000000  Default  30.0000  30.0000\n",
              "0             good   992.000000   992.000000  Default  29.0000  29.0000\n",
              "93            want  1180.000000  1180.000000  Default  28.0000  28.0000\n",
              "204           love  1163.000000  1163.000000  Default  27.0000  27.0000\n",
              "133           feel  1031.000000  1031.000000  Default  26.0000  26.0000\n",
              "...            ...          ...          ...      ...      ...      ...\n",
              "250           many   159.414322   160.124710   Topic4  -5.1022   1.4776\n",
              "800         better   166.099686   166.842880   Topic4  -5.0612   1.4776\n",
              "1686        weight   200.536392   201.575226   Topic4  -4.8727   1.4769\n",
              "783          daddy   221.229156   223.636337   Topic4  -4.7745   1.4712\n",
              "10345  chroniclife   241.172928  1085.982910   Topic4  -4.6882  -0.0227\n",
              "\n",
              "[159 rows x 6 columns], token_table=      Topic      Freq     Term\n",
              "term                          \n",
              "473       2  0.997567     able\n",
              "230       4  0.997744  already\n",
              "54        1  0.997142     also\n",
              "5         4  0.998120   always\n",
              "370       2  0.991633  anymore\n",
              "...     ...       ...      ...\n",
              "348       4  0.995988     week\n",
              "1686      4  0.997146   weight\n",
              "299       3  0.997088     well\n",
              "108       3  0.998958     work\n",
              "273       4  0.994703    wrong\n",
              "\n",
              "[132 rows x 3 columns], R=30, lambda_step=0.01, plot_opts={'xlab': 'PC1', 'ylab': 'PC2'}, topic_order=[4, 1, 3, 2])"
            ]
          },
          "metadata": {
            "tags": []
          },
          "execution_count": 16
        }
      ]
    },
    {
      "cell_type": "markdown",
      "metadata": {
        "id": "FhwiW2KKlh4T",
        "colab_type": "text"
      },
      "source": [
        "**Post Diagnosis Topics**"
      ]
    },
    {
      "cell_type": "code",
      "metadata": {
        "id": "KsD2dBeKLwnl",
        "colab_type": "code",
        "colab": {}
      },
      "source": [
        "post_Tweets = df_post.Tweets.values.tolist()\n",
        "post_Tweets = list(sent_to_words(post_Tweets))"
      ],
      "execution_count": 0,
      "outputs": []
    },
    {
      "cell_type": "code",
      "metadata": {
        "id": "yaKhlVQqNPHg",
        "colab_type": "code",
        "colab": {}
      },
      "source": [
        "id2word = corpora.Dictionary(post_Tweets)\n",
        "\n",
        "# Create Corpus\n",
        "texts = post_Tweets\n",
        "\n",
        "# Term Document Frequency\n",
        "corpus = [id2word.doc2bow(text) for text in texts]"
      ],
      "execution_count": 0,
      "outputs": []
    },
    {
      "cell_type": "code",
      "metadata": {
        "id": "WhSSl1biNPKN",
        "colab_type": "code",
        "colab": {}
      },
      "source": [
        "[[(id2word[id], freq) for id, freq in cp] for cp in corpus[:1]]"
      ],
      "execution_count": 0,
      "outputs": []
    },
    {
      "cell_type": "code",
      "metadata": {
        "id": "Rz-7Pk1bNPM5",
        "colab_type": "code",
        "colab": {}
      },
      "source": [
        "# Build LDA model\n",
        "post_lda_model = gensim.models.ldamodel.LdaModel(corpus=corpus,\n",
        "                                          id2word=id2word,\n",
        "                                          num_topics=4, \n",
        "                                          random_state=100,\n",
        "                                          update_every=1,\n",
        "                                          chunksize=100,\n",
        "                                          passes=10,\n",
        "                                          alpha='auto',\n",
        "                                          per_word_topics=True)"
      ],
      "execution_count": 0,
      "outputs": []
    },
    {
      "cell_type": "code",
      "metadata": {
        "id": "ckqiH7a6MU19",
        "colab_type": "code",
        "colab": {
          "base_uri": "https://localhost:8080/",
          "height": 255
        },
        "outputId": "9b0bbe84-cc54-4b7b-a4ac-27a6f8bfbb89"
      },
      "source": [
        "pprint(post_lda_model.print_topics())\n",
        "doc_lda_post = post_lda_model[corpus]"
      ],
      "execution_count": 21,
      "outputs": [
        {
          "output_type": "stream",
          "text": [
            "[(0,\n",
            "  '0.029*\"good\" + 0.027*\"need\" + 0.019*\"shit\" + 0.016*\"try\" + 0.015*\"tell\" + '\n",
            "  '0.014*\"talk\" + 0.013*\"girl\" + 0.013*\"could\" + 0.012*\"tonight\" + '\n",
            "  '0.011*\"find\"'),\n",
            " (1,\n",
            "  '0.100*\"nan\" + 0.031*\"love\" + 0.024*\"think\" + 0.017*\"thank\" + 0.015*\"bad\" + '\n",
            "  '0.011*\"call\" + 0.010*\"fucking\" + 0.009*\"ask\" + 0.009*\"use\" + 0.008*\"new\"'),\n",
            " (2,\n",
            "  '0.041*\"want\" + 0.040*\"time\" + 0.029*\"people\" + 0.026*\"take\" + 0.020*\"work\" '\n",
            "  '+ 0.016*\"start\" + 0.014*\"watch\" + 0.013*\"give\" + 0.011*\"hit\" + 0.011*\"lol\"'),\n",
            " (3,\n",
            "  '0.029*\"say\" + 0.029*\"feel\" + 0.018*\"look\" + 0.016*\"life\" + 0.016*\"come\" + '\n",
            "  '0.016*\"friend\" + 0.015*\"help\" + 0.014*\"never\" + 0.012*\"right\" + '\n",
            "  '0.012*\"also\"')]\n"
          ],
          "name": "stdout"
        }
      ]
    },
    {
      "cell_type": "code",
      "metadata": {
        "id": "zYI13q5jNmv-",
        "colab_type": "code",
        "colab": {
          "base_uri": "https://localhost:8080/",
          "height": 85
        },
        "outputId": "cf8d3a81-5bf8-4563-c69c-b308480d3b6b"
      },
      "source": [
        "# Compute Perplexity\n",
        "print('\\nPerplexity: ', post_lda_model.log_perplexity(corpus))  # a measure of how good the model is. lower the better.\n",
        "\n",
        "# Compute Coherence Score\n",
        "coherence_model_lda = CoherenceModel(model=post_lda_model, texts=post_Tweets, dictionary=id2word, coherence='c_v')\n",
        "coherence_lda = coherence_model_lda.get_coherence()\n",
        "print('\\nCoherence Score: ', coherence_lda)"
      ],
      "execution_count": 22,
      "outputs": [
        {
          "output_type": "stream",
          "text": [
            "\n",
            "Perplexity:  -8.422046389754199\n",
            "\n",
            "Coherence Score:  0.3214387529798701\n"
          ],
          "name": "stdout"
        }
      ]
    },
    {
      "cell_type": "code",
      "metadata": {
        "id": "v6xHN9Y9MU4d",
        "colab_type": "code",
        "colab": {
          "base_uri": "https://localhost:8080/",
          "height": 861
        },
        "outputId": "af732940-4456-4725-904a-e9360c6aee4e"
      },
      "source": [
        "# Visualize the topics\n",
        "pyLDAvis.enable_notebook()\n",
        "vis = pyLDAvis.gensim.prepare(post_lda_model, corpus, id2word)\n",
        "vis"
      ],
      "execution_count": 23,
      "outputs": [
        {
          "output_type": "execute_result",
          "data": {
            "text/html": [
              "\n",
              "<link rel=\"stylesheet\" type=\"text/css\" href=\"https://cdn.rawgit.com/bmabey/pyLDAvis/files/ldavis.v1.0.0.css\">\n",
              "\n",
              "\n",
              "<div id=\"ldavis_el5331399514818859447136380789\"></div>\n",
              "<script type=\"text/javascript\">\n",
              "\n",
              "var ldavis_el5331399514818859447136380789_data = {\"mdsDat\": {\"x\": [-0.18698225152157175, 0.2744511885918223, -0.04513678410932924, -0.04233215296092141], \"y\": [0.22151814499061506, 0.09951061617770575, -0.18516374012804573, -0.13586502104027506], \"topics\": [1, 2, 3, 4], \"cluster\": [1, 1, 1, 1], \"Freq\": [26.626789093017578, 25.556432723999023, 24.535533905029297, 23.281251907348633]}, \"tinfo\": {\"Term\": [\"nan\", \"want\", \"time\", \"love\", \"say\", \"feel\", \"good\", \"people\", \"need\", \"take\", \"think\", \"work\", \"shit\", \"look\", \"thank\", \"try\", \"life\", \"start\", \"come\", \"bad\", \"friend\", \"help\", \"tell\", \"talk\", \"never\", \"watch\", \"girl\", \"give\", \"could\", \"right\", \"nan\", \"love\", \"think\", \"thank\", \"bad\", \"call\", \"ask\", \"use\", \"new\", \"way\", \"fucking\", \"big\", \"keep\", \"may\", \"hour\", \"birthday\", \"old\", \"hurt\", \"man\", \"ass\", \"long\", \"miss\", \"mean\", \"ill\", \"mom\", \"check\", \"beautiful\", \"sure\", \"sometimes\", \"probably\", \"daughter\", \"travel\", \"good\", \"need\", \"shit\", \"try\", \"tell\", \"talk\", \"girl\", \"could\", \"tonight\", \"find\", \"night\", \"baby\", \"first\", \"well\", \"ever\", \"hate\", \"hard\", \"live\", \"cry\", \"leave\", \"body\", \"die\", \"happy\", \"put\", \"bitch\", \"hear\", \"play\", \"morning\", \"whole\", \"stop\", \"school\", \"feel\", \"say\", \"look\", \"life\", \"come\", \"friend\", \"help\", \"never\", \"right\", \"also\", \"fuck\", \"week\", \"always\", \"lot\", \"head\", \"care\", \"little\", \"kid\", \"month\", \"pretty\", \"pain\", \"honestly\", \"move\", \"reason\", \"tomorrow\", \"deal\", \"show\", \"soon\", \"finally\", \"idea\", \"wrong\", \"time\", \"want\", \"people\", \"take\", \"work\", \"start\", \"watch\", \"give\", \"lol\", \"hit\", \"eat\", \"great\", \"wait\", \"many\", \"sleep\", \"next\", \"home\", \"suck\", \"almost\", \"lose\", \"end\", \"happen\", \"fall\", \"pay\", \"away\", \"sorry\", \"seriously\", \"ready\", \"ago\", \"sex\", \"lovely\", \"point\"], \"Freq\": [3853.0, 1388.0, 1334.0, 1193.0, 1044.0, 1036.0, 1053.0, 959.0, 1002.0, 890.0, 912.0, 686.0, 689.0, 651.0, 635.0, 598.0, 580.0, 539.0, 555.0, 589.0, 553.0, 539.0, 540.0, 517.0, 479.0, 459.0, 478.0, 440.0, 466.0, 425.0, 3853.073974609375, 1192.6094970703125, 911.9522705078125, 634.6724853515625, 589.0249633789062, 423.4373779296875, 361.91290283203125, 343.84613037109375, 323.5187683105469, 314.4035339355469, 376.7984313964844, 313.3822021484375, 283.9511413574219, 285.3315734863281, 269.7702331542969, 270.5272216796875, 245.5196990966797, 261.5274963378906, 239.466796875, 268.0284423828125, 229.3052215576172, 232.94326782226562, 217.74154663085938, 213.39222717285156, 214.9133758544922, 201.9507598876953, 207.5103759765625, 196.25379943847656, 189.6860809326172, 184.9969940185547, 198.22988891601562, 191.92176818847656, 1052.223876953125, 1001.860107421875, 688.1699829101562, 597.3939208984375, 539.9373779296875, 516.7958374023438, 477.7275695800781, 465.55078125, 427.6833801269531, 403.1512145996094, 392.5321044921875, 386.1361999511719, 356.35321044921875, 340.3009948730469, 336.74176025390625, 322.7344970703125, 313.3825988769531, 308.267333984375, 319.2239685058594, 288.422607421875, 303.9498596191406, 301.10687255859375, 271.86370849609375, 259.49212646484375, 285.8654479980469, 244.56004333496094, 234.35218811035156, 237.97964477539062, 214.46556091308594, 203.75399780273438, 214.14959716796875, 1035.798583984375, 1043.5946044921875, 650.2410278320312, 579.5455932617188, 554.9315185546875, 552.8515625, 538.9915161132812, 478.4058532714844, 424.8096618652344, 424.1934509277344, 420.4704284667969, 362.3167419433594, 360.2958984375, 356.5837097167969, 308.6361083984375, 301.27093505859375, 288.0762634277344, 296.5133361816406, 273.1098327636719, 272.0908203125, 263.4756164550781, 280.270751953125, 227.19482421875, 221.74636840820312, 205.85951232910156, 207.3974609375, 196.18508911132812, 177.18910217285156, 174.43930053710938, 164.26007080078125, 165.68679809570312, 1333.6737060546875, 1387.6048583984375, 958.5274047851562, 889.9855346679688, 685.5285034179688, 539.1719360351562, 459.0840759277344, 439.5487976074219, 359.24127197265625, 369.66693115234375, 332.7620544433594, 310.3097229003906, 292.0870056152344, 289.19329833984375, 272.1878967285156, 274.2113342285156, 249.7052764892578, 236.59669494628906, 224.8814697265625, 216.7872772216797, 207.5229034423828, 176.6722412109375, 175.35891723632812, 173.83340454101562, 168.22378540039062, 180.3797607421875, 175.47860717773438, 162.467041015625, 161.98056030273438, 177.7394256591797, 185.46409606933594, 163.00941467285156], \"Total\": [3853.0, 1388.0, 1334.0, 1193.0, 1044.0, 1036.0, 1053.0, 959.0, 1002.0, 890.0, 912.0, 686.0, 689.0, 651.0, 635.0, 598.0, 580.0, 539.0, 555.0, 589.0, 553.0, 539.0, 540.0, 517.0, 479.0, 459.0, 478.0, 440.0, 466.0, 425.0, 3853.8486328125, 1193.3831787109375, 912.7255859375, 635.4577026367188, 589.7993774414062, 424.2347412109375, 362.697509765625, 344.6152648925781, 324.276123046875, 315.16888427734375, 377.73480224609375, 314.16619873046875, 284.7091064453125, 286.0989685058594, 270.53485107421875, 271.3651123046875, 246.2869110107422, 262.3639221191406, 240.23635864257812, 268.9131774902344, 230.07862854003906, 233.736083984375, 218.5182647705078, 214.1600799560547, 215.69276428222656, 202.72288513183594, 208.31280517578125, 197.0238494873047, 190.46456909179688, 185.7931365966797, 199.1491241455078, 192.91395568847656, 1053.0147705078125, 1002.669189453125, 689.0299072265625, 598.186279296875, 540.743896484375, 517.604248046875, 478.5445251464844, 466.35064697265625, 428.47003173828125, 403.93634033203125, 393.3145446777344, 386.9726867675781, 357.14300537109375, 341.0799560546875, 337.5442199707031, 323.531494140625, 314.1656799316406, 309.0669860839844, 320.0973205566406, 289.21435546875, 304.790283203125, 301.95672607421875, 272.671142578125, 260.2767639160156, 286.7389221191406, 245.35487365722656, 235.11968994140625, 238.78219604492188, 215.2829132080078, 204.5370635986328, 214.98046875, 1036.5814208984375, 1044.387451171875, 651.013427734375, 580.3455810546875, 555.7057495117188, 553.6412353515625, 539.7677612304688, 479.1971130371094, 425.58563232421875, 424.98834228515625, 421.33697509765625, 363.09765625, 361.08673095703125, 357.3785705566406, 309.4101257324219, 302.0644226074219, 288.8458557128906, 297.3251037597656, 273.88836669921875, 272.8764953613281, 264.25811767578125, 281.11553955078125, 227.99932861328125, 222.5599822998047, 206.6266632080078, 208.20425415039062, 196.95912170410156, 177.9606170654297, 175.2001190185547, 165.04151916503906, 166.49794006347656, 1334.44677734375, 1388.4154052734375, 959.3120727539062, 890.7725219726562, 686.3095092773438, 539.9541625976562, 459.84197998046875, 440.34075927734375, 360.0207824707031, 370.4804382324219, 333.5465393066406, 311.09075927734375, 292.86407470703125, 289.9789733886719, 272.9627685546875, 275.0009765625, 250.4750213623047, 237.41688537597656, 225.68260192871094, 217.58847045898438, 208.3061981201172, 177.46234130859375, 176.15428161621094, 174.6260528564453, 169.00885009765625, 181.22254943847656, 176.3116912841797, 163.24327087402344, 162.77000427246094, 178.6206817626953, 186.53970336914062, 163.8243865966797], \"Category\": [\"Default\", \"Default\", \"Default\", \"Default\", \"Default\", \"Default\", \"Default\", \"Default\", \"Default\", \"Default\", \"Default\", \"Default\", \"Default\", \"Default\", \"Default\", \"Default\", \"Default\", \"Default\", \"Default\", \"Default\", \"Default\", \"Default\", \"Default\", \"Default\", \"Default\", \"Default\", \"Default\", \"Default\", \"Default\", \"Default\", \"Topic1\", \"Topic1\", \"Topic1\", \"Topic1\", \"Topic1\", \"Topic1\", \"Topic1\", \"Topic1\", \"Topic1\", \"Topic1\", \"Topic1\", \"Topic1\", \"Topic1\", \"Topic1\", \"Topic1\", \"Topic1\", \"Topic1\", \"Topic1\", \"Topic1\", \"Topic1\", \"Topic1\", \"Topic1\", \"Topic1\", \"Topic1\", \"Topic1\", \"Topic1\", \"Topic1\", \"Topic1\", \"Topic1\", \"Topic1\", \"Topic1\", \"Topic1\", \"Topic2\", \"Topic2\", \"Topic2\", \"Topic2\", \"Topic2\", \"Topic2\", \"Topic2\", \"Topic2\", \"Topic2\", \"Topic2\", \"Topic2\", \"Topic2\", \"Topic2\", \"Topic2\", \"Topic2\", \"Topic2\", \"Topic2\", \"Topic2\", \"Topic2\", \"Topic2\", \"Topic2\", \"Topic2\", \"Topic2\", \"Topic2\", \"Topic2\", \"Topic2\", \"Topic2\", \"Topic2\", \"Topic2\", \"Topic2\", \"Topic2\", \"Topic3\", \"Topic3\", \"Topic3\", \"Topic3\", \"Topic3\", \"Topic3\", \"Topic3\", \"Topic3\", \"Topic3\", \"Topic3\", \"Topic3\", \"Topic3\", \"Topic3\", \"Topic3\", \"Topic3\", \"Topic3\", \"Topic3\", \"Topic3\", \"Topic3\", \"Topic3\", \"Topic3\", \"Topic3\", \"Topic3\", \"Topic3\", \"Topic3\", \"Topic3\", \"Topic3\", \"Topic3\", \"Topic3\", \"Topic3\", \"Topic3\", \"Topic4\", \"Topic4\", \"Topic4\", \"Topic4\", \"Topic4\", \"Topic4\", \"Topic4\", \"Topic4\", \"Topic4\", \"Topic4\", \"Topic4\", \"Topic4\", \"Topic4\", \"Topic4\", \"Topic4\", \"Topic4\", \"Topic4\", \"Topic4\", \"Topic4\", \"Topic4\", \"Topic4\", \"Topic4\", \"Topic4\", \"Topic4\", \"Topic4\", \"Topic4\", \"Topic4\", \"Topic4\", \"Topic4\", \"Topic4\", \"Topic4\", \"Topic4\"], \"logprob\": [30.0, 29.0, 28.0, 27.0, 26.0, 25.0, 24.0, 23.0, 22.0, 21.0, 20.0, 19.0, 18.0, 17.0, 16.0, 15.0, 14.0, 13.0, 12.0, 11.0, 10.0, 9.0, 8.0, 7.0, 6.0, 5.0, 4.0, 3.0, 2.0, 1.0, -2.299499988555908, -3.4721999168395996, -3.740499973297119, -4.103000164031982, -4.177700042724609, -4.507699966430664, -4.664700031280518, -4.71589994430542, -4.776899814605713, -4.805500030517578, -4.6244001388549805, -4.808700084686279, -4.907299995422363, -4.902500152587891, -4.958600044250488, -4.9558000564575195, -5.052800178527832, -4.98960018157959, -5.077700138092041, -4.965000152587891, -5.121099948883057, -5.105299949645996, -5.172800064086914, -5.192999839782715, -5.1859002113342285, -5.2480998039245605, -5.220900058746338, -5.276700019836426, -5.310800075531006, -5.3358001708984375, -5.26669979095459, -5.298999786376953, -3.5564000606536865, -3.6054999828338623, -3.981100082397461, -4.122499942779541, -4.223599910736084, -4.267499923706055, -4.346099853515625, -4.3719000816345215, -4.456699848175049, -4.5157999992370605, -4.542500019073486, -4.558899879455566, -4.639200210571289, -4.685299873352051, -4.695799827575684, -4.73829984664917, -4.7677001953125, -4.78410005569458, -4.749199867248535, -4.8506999015808105, -4.7982001304626465, -4.807600021362305, -4.909800052642822, -4.956399917602539, -4.859600067138672, -5.015600204467773, -5.058300018310547, -5.042900085449219, -5.146999835968018, -5.198200225830078, -5.148399829864502, -3.531399965286255, -3.523900032043457, -3.996999979019165, -4.112100124359131, -4.1554999351501465, -4.159200191497803, -4.184599876403809, -4.303899765014648, -4.422699928283691, -4.424099922180176, -4.433000087738037, -4.5817999839782715, -4.587399959564209, -4.597799777984619, -4.742199897766113, -4.766300201416016, -4.811100006103516, -4.782199859619141, -4.864500045776367, -4.868199825286865, -4.900400161743164, -4.838600158691406, -5.048500061035156, -5.072800159454346, -5.14709997177124, -5.139699935913086, -5.195300102233887, -5.297100067138672, -5.31279993057251, -5.372900009155273, -5.364200115203857, -3.2262001037597656, -3.186500072479248, -3.55649995803833, -3.63070011138916, -3.891700029373169, -4.131800174713135, -4.292600154876709, -4.336100101470947, -4.537899971008301, -4.509300231933594, -4.6143999099731445, -4.684299945831299, -4.744800090789795, -4.754799842834473, -4.815400123596191, -4.808000087738037, -4.901599884033203, -4.95550012588501, -5.00629997253418, -5.042900085449219, -5.086599826812744, -5.247600078582764, -5.255000114440918, -5.263800144195557, -5.296599864959717, -5.226799964904785, -5.254300117492676, -5.331399917602539, -5.334400177001953, -5.241499900817871, -5.198999881744385, -5.328100204467773], \"loglift\": [30.0, 29.0, 28.0, 27.0, 26.0, 25.0, 24.0, 23.0, 22.0, 21.0, 20.0, 19.0, 18.0, 17.0, 16.0, 15.0, 14.0, 13.0, 12.0, 11.0, 10.0, 9.0, 8.0, 7.0, 6.0, 5.0, 4.0, 3.0, 2.0, 1.0, 1.323099970817566, 1.32260000705719, 1.3223999738693237, 1.3220000267028809, 1.3219000101089478, 1.3214000463485718, 1.3210999965667725, 1.3209999799728394, 1.3208999633789062, 1.3207999467849731, 1.3207999467849731, 1.3207999467849731, 1.3206000328063965, 1.3206000328063965, 1.3203999996185303, 1.320199966430664, 1.320099949836731, 1.320099949836731, 1.3200000524520874, 1.3200000524520874, 1.3199000358581543, 1.3199000358581543, 1.319700002670288, 1.319700002670288, 1.319599986076355, 1.3193999528884888, 1.3193999528884888, 1.3193000555038452, 1.319200038909912, 1.319000005722046, 1.318600058555603, 1.3180999755859375, 1.3634999990463257, 1.3634999990463257, 1.3630000352859497, 1.3630000352859497, 1.3628000020980835, 1.3626999855041504, 1.3625999689102173, 1.3625999689102173, 1.3624000549316406, 1.3623000383377075, 1.3623000383377075, 1.3621000051498413, 1.3621000051498413, 1.3619999885559082, 1.361899971961975, 1.361799955368042, 1.361799955368042, 1.3617000579833984, 1.3615000247955322, 1.3615000247955322, 1.3615000247955322, 1.3615000247955322, 1.361299991607666, 1.361299991607666, 1.361199975013733, 1.3609999418258667, 1.3609999418258667, 1.3609000444412231, 1.3604999780654907, 1.3603999614715576, 1.3603999614715576, 1.4042999744415283, 1.4042999744415283, 1.4039000272750854, 1.4036999940872192, 1.4036999940872192, 1.4035999774932861, 1.4035999774932861, 1.40339994430542, 1.4032000303268433, 1.4032000303268433, 1.402999997138977, 1.402899980545044, 1.402899980545044, 1.4027999639511108, 1.402500033378601, 1.402400016784668, 1.402400016784668, 1.4023000001907349, 1.4021999835968018, 1.4021999835968018, 1.4020999670028687, 1.4019999504089355, 1.4014999866485596, 1.4013999700546265, 1.4012999534606934, 1.4012000560760498, 1.4011000394821167, 1.4006999731063843, 1.4006999731063843, 1.4003000259399414, 1.4002000093460083, 1.4569000005722046, 1.4569000005722046, 1.4566999673843384, 1.4565999507904053, 1.4564000368118286, 1.4560999870300293, 1.455899953842163, 1.4557000398635864, 1.455399990081787, 1.455299973487854, 1.455199956893921, 1.4550000429153442, 1.4549000263214111, 1.454800009727478, 1.454699993133545, 1.4545999765396118, 1.4543999433517456, 1.4541000127792358, 1.4539999961853027, 1.4537999629974365, 1.4537999629974365, 1.4530999660491943, 1.4529999494552612, 1.4529999494552612, 1.4529000520706177, 1.4529000520706177, 1.4528000354766846, 1.4528000354766846, 1.4527000188827515, 1.4526000022888184, 1.45169997215271, 1.4524999856948853]}, \"token.table\": {\"Topic\": [4, 4, 3, 3, 1, 1, 4, 2, 1, 1, 1, 1, 2, 2, 1, 3, 1, 3, 2, 2, 1, 3, 2, 4, 4, 2, 4, 3, 3, 2, 2, 3, 3, 1, 2, 4, 2, 4, 4, 2, 2, 2, 3, 2, 3, 4, 4, 3, 1, 1, 3, 1, 1, 3, 2, 3, 3, 2, 4, 1, 3, 4, 3, 1, 4, 1, 4, 1, 1, 1, 1, 3, 2, 3, 1, 2, 3, 1, 4, 2, 1, 3, 4, 4, 2, 4, 3, 1, 2, 4, 3, 3, 3, 2, 4, 4, 2, 3, 4, 1, 3, 4, 4, 2, 4, 1, 4, 2, 2, 1, 1, 4, 3, 2, 1, 2, 1, 4, 4, 4, 1, 3, 2, 2, 4, 3], \"Freq\": [0.9952693581581116, 0.9969753623008728, 0.9976744055747986, 0.9969903826713562, 0.998076856136322, 0.9966042041778564, 0.994030773639679, 0.997486412525177, 0.9986446499824524, 0.9984983801841736, 0.9962879419326782, 0.9986545443534851, 0.997422993183136, 0.9974071383476257, 0.9970895051956177, 0.9964761734008789, 0.9964340925216675, 0.9987300038337708, 0.9992480874061584, 0.9965718984603882, 0.9942298531532288, 0.9942160248756409, 0.9968315958976746, 0.9983614087104797, 0.9985300302505493, 0.9983876943588257, 0.9934473037719727, 0.9994391202926636, 0.993149995803833, 0.9976819753646851, 0.9967995882034302, 0.9988417625427246, 0.9968268275260925, 0.9980547428131104, 0.9988621473312378, 0.9992261528968811, 0.9990363121032715, 0.9964937567710876, 0.9973946809768677, 0.9975386261940002, 0.9962896108627319, 0.9983572363853455, 0.9986745119094849, 0.9985536336898804, 0.9985775947570801, 0.9987031817436218, 0.9981034994125366, 0.9960317611694336, 0.9980229735374451, 0.9986129403114319, 0.9936893582344055, 0.9945831298828125, 0.9975093603134155, 0.9989065527915955, 0.9958012104034424, 0.9994045495986938, 0.9970716238021851, 0.9965476989746094, 0.9971646666526794, 0.9953119158744812, 0.9984433054924011, 0.9972954988479614, 0.9989407062530518, 0.999678909778595, 0.9917459487915039, 0.9948535561561584, 0.9966239929199219, 0.99615877866745, 0.9976282715797424, 0.9968507885932922, 0.9967882037162781, 0.9967564940452576, 0.9967242479324341, 0.9956169724464417, 0.9997798204421997, 0.99933260679245, 0.9975018501281738, 0.9991484880447388, 0.9963601231575012, 0.9992002844810486, 0.998835027217865, 0.9952390789985657, 0.9964148998260498, 0.9996746778488159, 0.9952377676963806, 0.9949678778648376, 0.996787965297699, 0.9957310557365417, 0.9950945973396301, 0.9923839569091797, 0.9974839091300964, 0.9986239671707153, 0.999629020690918, 0.9954392910003662, 0.9925603866577148, 0.9965251684188843, 0.9985052943229675, 0.9951303601264954, 0.9964728951454163, 0.9975608587265015, 0.9946020841598511, 0.9932538866996765, 0.998232901096344, 0.9973742365837097, 0.9982441067695618, 0.9948034286499023, 0.9991327524185181, 0.9988325834274292, 0.998624324798584, 0.9992797374725342, 0.9992050528526306, 0.9996652007102966, 0.9969671964645386, 0.9989029765129089, 0.9952623844146729, 0.998016893863678, 0.9982146620750427, 0.9970495700836182, 0.9997007846832275, 0.9981690049171448, 0.9962912201881409, 0.9969769716262817, 0.9968337416648865, 0.9940407872200012, 0.9995490312576294, 0.9970093369483948], \"Term\": [\"ago\", \"almost\", \"also\", \"always\", \"ask\", \"ass\", \"away\", \"baby\", \"bad\", \"beautiful\", \"big\", \"birthday\", \"bitch\", \"body\", \"call\", \"care\", \"check\", \"come\", \"could\", \"cry\", \"daughter\", \"deal\", \"die\", \"eat\", \"end\", \"ever\", \"fall\", \"feel\", \"finally\", \"find\", \"first\", \"friend\", \"fuck\", \"fucking\", \"girl\", \"give\", \"good\", \"great\", \"happen\", \"happy\", \"hard\", \"hate\", \"head\", \"hear\", \"help\", \"hit\", \"home\", \"honestly\", \"hour\", \"hurt\", \"idea\", \"ill\", \"keep\", \"kid\", \"leave\", \"life\", \"little\", \"live\", \"lol\", \"long\", \"look\", \"lose\", \"lot\", \"love\", \"lovely\", \"man\", \"many\", \"may\", \"mean\", \"miss\", \"mom\", \"month\", \"morning\", \"move\", \"nan\", \"need\", \"never\", \"new\", \"next\", \"night\", \"old\", \"pain\", \"pay\", \"people\", \"play\", \"point\", \"pretty\", \"probably\", \"put\", \"ready\", \"reason\", \"right\", \"say\", \"school\", \"seriously\", \"sex\", \"shit\", \"show\", \"sleep\", \"sometimes\", \"soon\", \"sorry\", \"start\", \"stop\", \"suck\", \"sure\", \"take\", \"talk\", \"tell\", \"thank\", \"think\", \"time\", \"tomorrow\", \"tonight\", \"travel\", \"try\", \"use\", \"wait\", \"want\", \"watch\", \"way\", \"week\", \"well\", \"whole\", \"work\", \"wrong\"]}, \"R\": 30, \"lambda.step\": 0.01, \"plot.opts\": {\"xlab\": \"PC1\", \"ylab\": \"PC2\"}, \"topic.order\": [2, 1, 4, 3]};\n",
              "\n",
              "function LDAvis_load_lib(url, callback){\n",
              "  var s = document.createElement('script');\n",
              "  s.src = url;\n",
              "  s.async = true;\n",
              "  s.onreadystatechange = s.onload = callback;\n",
              "  s.onerror = function(){console.warn(\"failed to load library \" + url);};\n",
              "  document.getElementsByTagName(\"head\")[0].appendChild(s);\n",
              "}\n",
              "\n",
              "if(typeof(LDAvis) !== \"undefined\"){\n",
              "   // already loaded: just create the visualization\n",
              "   !function(LDAvis){\n",
              "       new LDAvis(\"#\" + \"ldavis_el5331399514818859447136380789\", ldavis_el5331399514818859447136380789_data);\n",
              "   }(LDAvis);\n",
              "}else if(typeof define === \"function\" && define.amd){\n",
              "   // require.js is available: use it to load d3/LDAvis\n",
              "   require.config({paths: {d3: \"https://cdnjs.cloudflare.com/ajax/libs/d3/3.5.5/d3.min\"}});\n",
              "   require([\"d3\"], function(d3){\n",
              "      window.d3 = d3;\n",
              "      LDAvis_load_lib(\"https://cdn.rawgit.com/bmabey/pyLDAvis/files/ldavis.v1.0.0.js\", function(){\n",
              "        new LDAvis(\"#\" + \"ldavis_el5331399514818859447136380789\", ldavis_el5331399514818859447136380789_data);\n",
              "      });\n",
              "    });\n",
              "}else{\n",
              "    // require.js not available: dynamically load d3 & LDAvis\n",
              "    LDAvis_load_lib(\"https://cdnjs.cloudflare.com/ajax/libs/d3/3.5.5/d3.min.js\", function(){\n",
              "         LDAvis_load_lib(\"https://cdn.rawgit.com/bmabey/pyLDAvis/files/ldavis.v1.0.0.js\", function(){\n",
              "                 new LDAvis(\"#\" + \"ldavis_el5331399514818859447136380789\", ldavis_el5331399514818859447136380789_data);\n",
              "            })\n",
              "         });\n",
              "}\n",
              "</script>"
            ],
            "text/plain": [
              "PreparedData(topic_coordinates=              x         y  topics  cluster       Freq\n",
              "topic                                                \n",
              "1     -0.186982  0.221518       1        1  26.626789\n",
              "0      0.274451  0.099511       2        1  25.556433\n",
              "3     -0.045137 -0.185164       3        1  24.535534\n",
              "2     -0.042332 -0.135865       4        1  23.281252, topic_info=        Term         Freq        Total Category  logprob  loglift\n",
              "0        nan  3853.000000  3853.000000  Default  30.0000  30.0000\n",
              "9       want  1388.000000  1388.000000  Default  29.0000  29.0000\n",
              "42      time  1334.000000  1334.000000  Default  28.0000  28.0000\n",
              "48      love  1193.000000  1193.000000  Default  27.0000  27.0000\n",
              "39       say  1044.000000  1044.000000  Default  26.0000  26.0000\n",
              "...      ...          ...          ...      ...      ...      ...\n",
              "800    ready   162.467041   163.243271   Topic4  -5.3314   1.4528\n",
              "1437     ago   161.980560   162.770004   Topic4  -5.3344   1.4527\n",
              "314      sex   177.739426   178.620682   Topic4  -5.2415   1.4526\n",
              "1251  lovely   185.464096   186.539703   Topic4  -5.1990   1.4517\n",
              "607    point   163.009415   163.824387   Topic4  -5.3281   1.4525\n",
              "\n",
              "[156 rows x 6 columns], token_table=      Topic      Freq    Term\n",
              "term                         \n",
              "1437      4  0.995269     ago\n",
              "312       4  0.996975  almost\n",
              "52        3  0.997674    also\n",
              "210       3  0.996990  always\n",
              "1028      1  0.998077     ask\n",
              "...     ...       ...     ...\n",
              "346       3  0.996977    week\n",
              "101       2  0.996834    well\n",
              "994       2  0.994041   whole\n",
              "186       4  0.999549    work\n",
              "742       3  0.997009   wrong\n",
              "\n",
              "[126 rows x 3 columns], R=30, lambda_step=0.01, plot_opts={'xlab': 'PC1', 'ylab': 'PC2'}, topic_order=[2, 1, 4, 3])"
            ]
          },
          "metadata": {
            "tags": []
          },
          "execution_count": 23
        }
      ]
    }
  ]
}