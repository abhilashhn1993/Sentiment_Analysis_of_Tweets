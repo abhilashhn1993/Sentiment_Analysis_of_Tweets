{
  "nbformat": 4,
  "nbformat_minor": 0,
  "metadata": {
    "colab": {
      "name": "Tweets_PreProcessing.ipynb",
      "provenance": [],
      "mount_file_id": "https://github.com/abhilashhn1993/Sentiment_Analysis_of_Tweets/blob/master/Tweets_PreProcessing.ipynb",
      "authorship_tag": "ABX9TyPSnat0yVn52Do/VNjB8n/S",
      "include_colab_link": true
    },
    "kernelspec": {
      "name": "python3",
      "display_name": "Python 3"
    }
  },
  "cells": [
    {
      "cell_type": "markdown",
      "metadata": {
        "id": "view-in-github",
        "colab_type": "text"
      },
      "source": [
        "<a href=\"https://colab.research.google.com/github/abhilashhn1993/Sentiment_Analysis_of_Tweets/blob/master/Tweets_PreProcessing.ipynb\" target=\"_parent\"><img src=\"https://colab.research.google.com/assets/colab-badge.svg\" alt=\"Open In Colab\"/></a>"
      ]
    },
    {
      "cell_type": "code",
      "metadata": {
        "id": "9rU2AInoiQYe",
        "colab_type": "code",
        "colab": {}
      },
      "source": [
        "!pip install spacy"
      ],
      "execution_count": 0,
      "outputs": []
    },
    {
      "cell_type": "code",
      "metadata": {
        "id": "7xaC2ufgbUgy",
        "colab_type": "code",
        "colab": {}
      },
      "source": [
        "import re\n",
        "import numpy as np\n",
        "import pandas as pd\n",
        "from pprint import pprint\n",
        "import gensim\n",
        "import spacy\n",
        "import gensim.corpora as corpora\n",
        "from gensim.utils import simple_preprocess\n",
        "from gensim.models import CoherenceModel\n",
        "import matplotlib.pyplot as plt\n",
        "%matplotlib inline\n",
        "import logging\n",
        "logging.basicConfig(format='%(asctime)s : %(levelname)s : %(message)s', level=logging.ERROR)\n",
        "import warnings\n",
        "warnings.filterwarnings(\"ignore\",category=DeprecationWarning)"
      ],
      "execution_count": 0,
      "outputs": []
    },
    {
      "cell_type": "code",
      "metadata": {
        "id": "f0lmUYksbW49",
        "colab_type": "code",
        "colab": {}
      },
      "source": [
        "import nltk; \n",
        "nltk.download('stopwords')"
      ],
      "execution_count": 0,
      "outputs": []
    },
    {
      "cell_type": "code",
      "metadata": {
        "id": "uwK3VWe5bYZC",
        "colab_type": "code",
        "colab": {}
      },
      "source": [
        "from nltk.corpus import stopwords\n",
        "stop_words = stopwords.words('english')"
      ],
      "execution_count": 0,
      "outputs": []
    },
    {
      "cell_type": "code",
      "metadata": {
        "id": "FOQPU6rJbZzK",
        "colab_type": "code",
        "colab": {}
      },
      "source": [
        "#remove been, being, haven't, don't, couldn't, didn't\n",
        "stop_words.remove(\"don't\")\n",
        "stop_words.remove(\"been\")\n",
        "stop_words.remove(\"being\")\n",
        "stop_words.remove(\"haven't\")\n",
        "stop_words.remove(\"couldn't\")\n",
        "stop_words.remove(\"didn't\")"
      ],
      "execution_count": 0,
      "outputs": []
    },
    {
      "cell_type": "code",
      "metadata": {
        "id": "6P1YIYilbbMK",
        "colab_type": "code",
        "colab": {}
      },
      "source": [
        "#Adding Extra Stopwords to be removed from the dataset\n",
        "stop_words.extend(['http', 'https', 'twitter', 'www', 'instagram', 'zsgdbw', 'tmblr', 'co', 'twitch','facebook', 'snapchat'])\n",
        "stop_words.extend(['make','really','see','go','would','even','get','com','be','year','still','do','know','actually','much', 'let','s','have','name','photo'])\n",
        "stop_words.extend(['back','today','day','last','thing','kit','stream','amp'])\n",
        "\n",
        "#some custom keywords frequently seen in the dataset\n",
        "stop_words.extend(['trinawolfy','trinawolfy','riyenrootsmusic'])\n",
        "len(stop_words)"
      ],
      "execution_count": 0,
      "outputs": []
    },
    {
      "cell_type": "markdown",
      "metadata": {
        "id": "7xApEhygbvGd",
        "colab_type": "text"
      },
      "source": [
        "**Initialize all the custom methods to pre-process the text data**"
      ]
    },
    {
      "cell_type": "code",
      "metadata": {
        "id": "rRQndv1ybbOw",
        "colab_type": "code",
        "colab": {}
      },
      "source": [
        "import string\n",
        "#METHODS FOR TEXT CLEANING#\n",
        "\n",
        "#text punctuation removal\n",
        "def remove_punctuation(text):\n",
        "  for p in string.punctuation:\n",
        "    text = text.replace(p,'')\n",
        "  return text\n",
        "\n",
        "#method for pre-processing\n",
        "def sent_to_words(sentences):\n",
        "    for sentence in sentences:\n",
        "        yield(gensim.utils.simple_preprocess(str(sentence), deacc=True))\n",
        "\n",
        "# Method for stopwords removal\n",
        "def remove_stopwords(texts):\n",
        "    return [[word for word in simple_preprocess(str(doc)) if word not in stop_words] for doc in texts]\n",
        "\n",
        "#Method for text Lemmatization with POS tagging\n",
        "nlp = spacy.load('en', disable=['parser', 'ner'])\n",
        "def lemmatization(texts, allowed_postags=['NOUN', 'ADJ', 'VERB', 'ADV']):\n",
        "    texts_out = []\n",
        "    for sent in texts:\n",
        "        doc = nlp(\" \".join(sent)) \n",
        "        texts_out.append([token.lemma_ for token in doc if token.pos_ in allowed_postags])\n",
        "    return texts_out\n",
        "\n",
        "#Method to remove texts with consecutive characters\n",
        "def remove_pattern(input_txt, pattern):\n",
        "    r = re.findall(pattern, input_txt)\n",
        "    for i in r:\n",
        "        input_txt = re.sub(i, '', input_txt)\n",
        "    return input_txt\n",
        "\n",
        "#Method to convert the cleaned tweets back into string\n",
        "def convert_to_string(df):\n",
        "  for row in range(len(df)):\n",
        "    df.iloc[row].Tweets = ' '.join([str(element) for element in df.iloc[row].Tweets])\n",
        "  return df"
      ],
      "execution_count": 0,
      "outputs": []
    },
    {
      "cell_type": "markdown",
      "metadata": {
        "id": "L1inmZOZbz6s",
        "colab_type": "text"
      },
      "source": [
        "**Clean Tweets** method to pre-process the data. "
      ]
    },
    {
      "cell_type": "markdown",
      "metadata": {
        "id": "F51pJDqtbz9a",
        "colab_type": "text"
      },
      "source": [
        "This method **removes punctuations, emails, URLs, stop words and lemmatizes the Tweets** in the dataset"
      ]
    },
    {
      "cell_type": "code",
      "metadata": {
        "id": "HU-6pW8xbbRl",
        "colab_type": "code",
        "colab": {}
      },
      "source": [
        "def cleanTweets(df):\n",
        "\t# Convert to list\n",
        "\tdf['Tweets'] = df.Tweets.values.tolist()\n",
        "\n",
        "\t# Remove Emails\n",
        "\tdf['Tweets'] = [re.sub('\\S*@\\S*\\s?', '', sent) for sent in df['Tweets']]\n",
        "\t# Remove new line characters\n",
        "\tdf['Tweets'] = [re.sub('\\s+', ' ', sent) for sent in df['Tweets']]\n",
        "\t# Remove Punctuations\n",
        "\tdf['Tweets'] = df.Tweets.apply(remove_punctuation)\n",
        "\t# Remove distracting single quotes\n",
        "\tdf['Tweets'] = [re.sub(\"\\'\", \"\", sent) for sent in df['Tweets']]\n",
        "\t# Remove consecutive characters\n",
        "\tdf['Tweets'] = np.vectorize(remove_pattern)(df['Tweets'], \"@[\\w]*\")\n",
        "\n",
        "\tdf['Tweets'] = list(sent_to_words(df['Tweets']))\n",
        "\tdf['Tweets'] = remove_stopwords(df['Tweets'])\n",
        "\n",
        "\t# Initialize spacy 'en' model\n",
        "\tdf['Tweets'] = lemmatization(df['Tweets'], allowed_postags=['NOUN','ADJ','VERB','ADV'])\n",
        "\n",
        "\t# remove the stopwords again after lemmatizing the text\n",
        "\tdf['Tweets'] = remove_stopwords(df['Tweets'])\n",
        "\n",
        "\tdf = convert_to_string(df)\n",
        "\tdf = df.drop([0], axis=0)\n",
        "\treturn df"
      ],
      "execution_count": 0,
      "outputs": []
    },
    {
      "cell_type": "markdown",
      "metadata": {
        "id": "-R6VLrfeb5Zz",
        "colab_type": "text"
      },
      "source": [
        "**Read the dataset**"
      ]
    },
    {
      "cell_type": "code",
      "metadata": {
        "id": "eqfHG0oIbbWv",
        "colab_type": "code",
        "colab": {}
      },
      "source": [
        "from google.colab import files\n",
        "uploaded = files.upload()"
      ],
      "execution_count": 0,
      "outputs": []
    },
    {
      "cell_type": "code",
      "metadata": {
        "id": "ksCiy1vvbbT6",
        "colab_type": "code",
        "colab": {}
      },
      "source": [
        "import io\n",
        "df_post = pd.read_csv(io.BytesIO(uploaded['postDiagTweets.csv']))\n",
        "df_pre = pd.read_csv(io.BytesIO(uploaded['preDiagTweets.csv']))\n",
        "df_all = pd.read_csv(io.BytesIO(uploaded['All_User_Tweets.csv']))"
      ],
      "execution_count": 0,
      "outputs": []
    },
    {
      "cell_type": "code",
      "metadata": {
        "id": "7SOWDc68bbZM",
        "colab_type": "code",
        "colab": {}
      },
      "source": [
        "df_all = df_all.rename(columns={'No. of Tweets': 'TweetCount'})\n",
        "df_all.head()"
      ],
      "execution_count": 0,
      "outputs": []
    },
    {
      "cell_type": "code",
      "metadata": {
        "id": "l37qkLKaYVxO",
        "colab_type": "code",
        "colab": {}
      },
      "source": [
        "#Concatenate by username and Ptsd flag variable for the All PTSD dataset\n",
        "df = df_all.groupby(['Username','Ptsd','Gender','Following','Followers','TweetCount'])['Tweets'].agg(' '.join).reset_index(name='Tweets')"
      ],
      "execution_count": 0,
      "outputs": []
    },
    {
      "cell_type": "code",
      "metadata": {
        "id": "NlSnjyoWZhtj",
        "colab_type": "code",
        "colab": {}
      },
      "source": [
        "df = cleanTweets(df)"
      ],
      "execution_count": 0,
      "outputs": []
    },
    {
      "cell_type": "code",
      "metadata": {
        "id": "co_-uLcVawGd",
        "colab_type": "code",
        "colab": {}
      },
      "source": [
        "#Just in case pandas encounters the SettingWithCopyWarning \n",
        "df['Tweets'] = df['Tweets'].str.join(\" \")\n",
        "df.head()"
      ],
      "execution_count": 0,
      "outputs": []
    },
    {
      "cell_type": "markdown",
      "metadata": {
        "id": "2evpR6UTcBpN",
        "colab_type": "text"
      },
      "source": [
        "Cleaning the pre and post diagnosis tweets datasets"
      ]
    },
    {
      "cell_type": "code",
      "metadata": {
        "id": "BDOmYqnMbbeX",
        "colab_type": "code",
        "colab": {}
      },
      "source": [
        "df_pre = cleanTweets(df_pre)\n",
        "df_post = cleanTweets(df_post)"
      ],
      "execution_count": 0,
      "outputs": []
    },
    {
      "cell_type": "code",
      "metadata": {
        "id": "a9LJ9Ap8jb_p",
        "colab_type": "code",
        "colab": {}
      },
      "source": [
        "#Just in case pandas encounters the SettingWithCopyWarning \n",
        "df_pre['Tweets'] = df_pre['Tweets'].str.join(\" \")\n",
        "df_post['Tweets'] = df_post['Tweets'].str.join(\" \")\n",
        "df_pre.head()"
      ],
      "execution_count": 0,
      "outputs": []
    },
    {
      "cell_type": "code",
      "metadata": {
        "id": "9t96QTfIbbhF",
        "colab_type": "code",
        "colab": {}
      },
      "source": [
        "df_pre.to_csv('cleanedPreTweets.csv')\n",
        "df_post.to_csv('cleanedPostTweets.csv')\n",
        "df.to_csv('cleanedAllPTSDTweets.csv')"
      ],
      "execution_count": 0,
      "outputs": []
    },
    {
      "cell_type": "code",
      "metadata": {
        "id": "G-1Ca5g_bbjn",
        "colab_type": "code",
        "colab": {}
      },
      "source": [
        "files.download('cleanedPreTweets.csv')\n",
        "files.download('cleanedPostTweets.csv')\n",
        "files.download('cleanedAllPTSDTweets.csv')"
      ],
      "execution_count": 0,
      "outputs": []
    }
  ]
}