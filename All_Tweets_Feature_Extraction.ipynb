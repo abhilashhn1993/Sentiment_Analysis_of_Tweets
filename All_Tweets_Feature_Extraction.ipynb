{
  "nbformat": 4,
  "nbformat_minor": 0,
  "metadata": {
    "colab": {
      "name": "TFIDF and Classifier.ipynb",
      "provenance": [],
      "collapsed_sections": [],
      "machine_shape": "hm",
      "include_colab_link": true
    },
    "kernelspec": {
      "name": "python3",
      "display_name": "Python 3"
    },
    "accelerator": "TPU"
  },
  "cells": [
    {
      "cell_type": "markdown",
      "metadata": {
        "id": "view-in-github",
        "colab_type": "text"
      },
      "source": [
        "<a href=\"https://colab.research.google.com/github/abhilashhn1993/Sentiment_Analysis_of_Tweets/blob/master/All_Tweets_Feature_Extraction.ipynb\" target=\"_parent\"><img src=\"https://colab.research.google.com/assets/colab-badge.svg\" alt=\"Open In Colab\"/></a>"
      ]
    },
    {
      "cell_type": "code",
      "metadata": {
        "id": "tD602dH7KV9I",
        "colab_type": "code",
        "colab": {}
      },
      "source": [
        "!pip install spacy\n",
        "!pip install pyLDAvis\n",
        "!pip install corextopic"
      ],
      "execution_count": 0,
      "outputs": []
    },
    {
      "cell_type": "code",
      "metadata": {
        "id": "LQXdMnw2KXJz",
        "colab_type": "code",
        "colab": {}
      },
      "source": [
        "import re\n",
        "import numpy as np\n",
        "import pandas as pd\n",
        "from pprint import pprint\n",
        "import gensim\n",
        "import gensim.corpora as corpora\n",
        "from gensim.utils import simple_preprocess\n",
        "from gensim.models import CoherenceModel\n",
        "import spacy\n",
        "import pyLDAvis\n",
        "import pyLDAvis.gensim\n",
        "import matplotlib.pyplot as plt\n",
        "%matplotlib inline\n",
        "import logging\n",
        "logging.basicConfig(format='%(asctime)s : %(levelname)s : %(message)s', level=logging.ERROR)\n",
        "import warnings\n",
        "warnings.filterwarnings(\"ignore\",category=DeprecationWarning)"
      ],
      "execution_count": 0,
      "outputs": []
    },
    {
      "cell_type": "code",
      "metadata": {
        "id": "haS_eCZhDvBt",
        "colab_type": "code",
        "colab": {}
      },
      "source": [
        "import nltk; \n",
        "nltk.download('stopwords')"
      ],
      "execution_count": 0,
      "outputs": []
    },
    {
      "cell_type": "code",
      "metadata": {
        "id": "LIYbiJWIDwtR",
        "colab_type": "code",
        "colab": {}
      },
      "source": [
        "from nltk.corpus import stopwords\n",
        "stop_words = stopwords.words('english')"
      ],
      "execution_count": 0,
      "outputs": []
    },
    {
      "cell_type": "code",
      "metadata": {
        "id": "ZosFZBAXDx-N",
        "colab_type": "code",
        "colab": {}
      },
      "source": [
        "#remove been, being, haven't, don't, couldn't, didn't\n",
        "stop_words.remove(\"don't\")\n",
        "stop_words.remove(\"been\")\n",
        "stop_words.remove(\"being\")\n",
        "stop_words.remove(\"haven't\")\n",
        "stop_words.remove(\"couldn't\")\n",
        "stop_words.remove(\"didn't\")"
      ],
      "execution_count": 0,
      "outputs": []
    },
    {
      "cell_type": "code",
      "metadata": {
        "id": "QrutUHxRD2U_",
        "colab_type": "code",
        "colab": {}
      },
      "source": [
        "#Adding Extra Stopwords to be removed from the dataset\n",
        "stop_words.extend(['http', 'https', 'twitter', 'www', 'instagram', 'zsgdbw', 'tmblr', 'co', 'twitch','facebook', 'snapchat'])\n",
        "stop_words.extend(['make','really','see','go','would','even','get','com','be','year','still','do','know','actually','much', 'let','s','have','name','photo'])\n",
        "stop_words.extend(['back','today','day','last','thing','kit','stream','amp'])\n",
        "\n",
        "#some custom keywords frequently seen in the dataset\n",
        "stop_words.extend(['trinawolfy','trinawolfy','riyenrootsmusic'])\n",
        "len(stop_words)"
      ],
      "execution_count": 0,
      "outputs": []
    },
    {
      "cell_type": "code",
      "metadata": {
        "id": "I2NcvmMyD2X9",
        "colab_type": "code",
        "colab": {}
      },
      "source": [
        "import string\n",
        "#METHODS FOR TEXT CLEANING#\n",
        "\n",
        "#text punctuation removal\n",
        "def remove_punctuation(text):\n",
        "  for p in string.punctuation:\n",
        "    text = text.replace(p,'')\n",
        "  return text\n",
        "\n",
        "#method for pre-processing\n",
        "def sent_to_words(sentences):\n",
        "    for sentence in sentences:\n",
        "        yield(gensim.utils.simple_preprocess(str(sentence), deacc=True))\n",
        "\n",
        "# Method for stopwords removal\n",
        "def remove_stopwords(texts):\n",
        "    return [[word for word in simple_preprocess(str(doc)) if word not in stop_words] for doc in texts]\n",
        "\n",
        "#Method for text Lemmatization with POS tagging\n",
        "nlp = spacy.load('en', disable=['parser', 'ner'])\n",
        "def lemmatization(texts, allowed_postags=['NOUN', 'ADJ', 'VERB', 'ADV']):\n",
        "    texts_out = []\n",
        "    for sent in texts:\n",
        "        doc = nlp(\" \".join(sent)) \n",
        "        texts_out.append([token.lemma_ for token in doc if token.pos_ in allowed_postags])\n",
        "    return texts_out\n",
        "\n",
        "#Method to remove texts with consecutive characters\n",
        "def remove_pattern(input_txt, pattern):\n",
        "    r = re.findall(pattern, input_txt)\n",
        "    for i in r:\n",
        "        input_txt = re.sub(i, '', input_txt)\n",
        "    return input_txt\n",
        "\n",
        "#Method to convert the cleaned tweets back into string\n",
        "def convert_to_string(df):\n",
        "  for row in range(len(df)):\n",
        "    df.iloc[row].Tweets = ' '.join([str(element) for element in df.iloc[row].Tweets])\n",
        "  return df"
      ],
      "execution_count": 0,
      "outputs": []
    },
    {
      "cell_type": "code",
      "metadata": {
        "id": "Y0vba25fD2aY",
        "colab_type": "code",
        "colab": {}
      },
      "source": [
        "def cleanTweets(df):\n",
        "\t# Convert to list\n",
        "\tdf['Tweets'] = df.Tweets.values.tolist()\n",
        "\n",
        "\t# Remove Emails\n",
        "\tdf['Tweets'] = [re.sub('\\S*@\\S*\\s?', '', sent) for sent in df['Tweets']]\n",
        "\t# Remove new line characters\n",
        "\tdf['Tweets'] = [re.sub('\\s+', ' ', sent) for sent in df['Tweets']]\n",
        "\t# Remove Punctuations\n",
        "\tdf['Tweets'] = df.Tweets.apply(remove_punctuation)\n",
        "\t# Remove distracting single quotes\n",
        "\tdf['Tweets'] = [re.sub(\"\\'\", \"\", sent) for sent in df['Tweets']]\n",
        "\t# Remove consecutive characters\n",
        "\tdf['Tweets'] = np.vectorize(remove_pattern)(df['Tweets'], \"@[\\w]*\")\n",
        "\n",
        "\tdf['Tweets'] = list(sent_to_words(df['Tweets']))\n",
        "\tdf['Tweets'] = remove_stopwords(df['Tweets'])\n",
        "\n",
        "\t# Initialize spacy 'en' model\n",
        "\tdf['Tweets'] = lemmatization(df['Tweets'], allowed_postags=['NOUN','ADJ','VERB','ADV'])\n",
        "\n",
        "\t# remove the stopwords again after lemmatizing the text\n",
        "\tdf['Tweets'] = remove_stopwords(df['Tweets'])\n",
        "\n",
        "\tdf = convert_to_string(df)\n",
        "\tdf = df.drop([0], axis=0)\n",
        "\treturn df"
      ],
      "execution_count": 0,
      "outputs": []
    },
    {
      "cell_type": "code",
      "metadata": {
        "id": "jKQWgzXyK1Tx",
        "colab_type": "code",
        "colab": {}
      },
      "source": [
        "from google.colab import files\n",
        "uploaded = files.upload()"
      ],
      "execution_count": 0,
      "outputs": []
    },
    {
      "cell_type": "code",
      "metadata": {
        "id": "xUxzS5LgLC7D",
        "colab_type": "code",
        "colab": {
          "base_uri": "https://localhost:8080/",
          "height": 51
        },
        "outputId": "a7b58f60-c3e9-4657-ae9b-277bcabbb5bd"
      },
      "source": [
        "import io\n",
        "df_all = pd.read_csv(io.BytesIO(uploaded['All_User_Tweets.csv']))"
      ],
      "execution_count": 13,
      "outputs": [
        {
          "output_type": "stream",
          "text": [
            "/usr/local/lib/python3.6/dist-packages/IPython/core/interactiveshell.py:2718: DtypeWarning: Columns (3,5) have mixed types.Specify dtype option on import or set low_memory=False.\n",
            "  interactivity=interactivity, compiler=compiler, result=result)\n"
          ],
          "name": "stderr"
        }
      ]
    },
    {
      "cell_type": "code",
      "metadata": {
        "id": "1_qOFvAYEGZj",
        "colab_type": "code",
        "colab": {
          "base_uri": "https://localhost:8080/",
          "height": 204
        },
        "outputId": "8b84ec6f-726b-4796-ccb0-e71b3103aa5c"
      },
      "source": [
        "df_all = df_all.rename(columns={'No. of Tweets': 'TweetCount'})\n",
        "df_all.head()"
      ],
      "execution_count": 14,
      "outputs": [
        {
          "output_type": "execute_result",
          "data": {
            "text/html": [
              "<div>\n",
              "<style scoped>\n",
              "    .dataframe tbody tr th:only-of-type {\n",
              "        vertical-align: middle;\n",
              "    }\n",
              "\n",
              "    .dataframe tbody tr th {\n",
              "        vertical-align: top;\n",
              "    }\n",
              "\n",
              "    .dataframe thead th {\n",
              "        text-align: right;\n",
              "    }\n",
              "</style>\n",
              "<table border=\"1\" class=\"dataframe\">\n",
              "  <thead>\n",
              "    <tr style=\"text-align: right;\">\n",
              "      <th></th>\n",
              "      <th>Username</th>\n",
              "      <th>Tweets</th>\n",
              "      <th>Day</th>\n",
              "      <th>Month</th>\n",
              "      <th>Date</th>\n",
              "      <th>Time</th>\n",
              "      <th>Year</th>\n",
              "      <th>Ptsd</th>\n",
              "      <th>Gender</th>\n",
              "      <th>Following</th>\n",
              "      <th>Followers</th>\n",
              "      <th>TweetCount</th>\n",
              "    </tr>\n",
              "  </thead>\n",
              "  <tbody>\n",
              "    <tr>\n",
              "      <th>0</th>\n",
              "      <td>CropxDust</td>\n",
              "      <td>Ask teeps and John legend how many times i’ve ...</td>\n",
              "      <td>Mon</td>\n",
              "      <td>Jun</td>\n",
              "      <td>11.0</td>\n",
              "      <td>5:01:15 PM</td>\n",
              "      <td>2018.0</td>\n",
              "      <td>1</td>\n",
              "      <td>M</td>\n",
              "      <td>432</td>\n",
              "      <td>660</td>\n",
              "      <td>12200</td>\n",
              "    </tr>\n",
              "    <tr>\n",
              "      <th>1</th>\n",
              "      <td>CropxDust</td>\n",
              "      <td>International house of better ingredients, bet...</td>\n",
              "      <td>Mon</td>\n",
              "      <td>Jun</td>\n",
              "      <td>11.0</td>\n",
              "      <td>1:26:14 PM</td>\n",
              "      <td>2018.0</td>\n",
              "      <td>1</td>\n",
              "      <td>M</td>\n",
              "      <td>432</td>\n",
              "      <td>660</td>\n",
              "      <td>12200</td>\n",
              "    </tr>\n",
              "    <tr>\n",
              "      <th>2</th>\n",
              "      <td>CropxDust</td>\n",
              "      <td>Ronda Rousey shoulda been in Skyrim</td>\n",
              "      <td>Sun</td>\n",
              "      <td>Jun</td>\n",
              "      <td>10.0</td>\n",
              "      <td>2:46:04 AM</td>\n",
              "      <td>2018.0</td>\n",
              "      <td>1</td>\n",
              "      <td>M</td>\n",
              "      <td>432</td>\n",
              "      <td>660</td>\n",
              "      <td>12200</td>\n",
              "    </tr>\n",
              "    <tr>\n",
              "      <th>3</th>\n",
              "      <td>CropxDust</td>\n",
              "      <td>I challenge you to come punch me in the face y...</td>\n",
              "      <td>Fri</td>\n",
              "      <td>Jun</td>\n",
              "      <td>8.0</td>\n",
              "      <td>7:07:52 PM</td>\n",
              "      <td>2018.0</td>\n",
              "      <td>1</td>\n",
              "      <td>M</td>\n",
              "      <td>432</td>\n",
              "      <td>660</td>\n",
              "      <td>12200</td>\n",
              "    </tr>\n",
              "    <tr>\n",
              "      <th>4</th>\n",
              "      <td>CropxDust</td>\n",
              "      <td>Come over and make catfish brother</td>\n",
              "      <td>Fri</td>\n",
              "      <td>Jun</td>\n",
              "      <td>8.0</td>\n",
              "      <td>2:18:26 AM</td>\n",
              "      <td>2018.0</td>\n",
              "      <td>1</td>\n",
              "      <td>M</td>\n",
              "      <td>432</td>\n",
              "      <td>660</td>\n",
              "      <td>12200</td>\n",
              "    </tr>\n",
              "  </tbody>\n",
              "</table>\n",
              "</div>"
            ],
            "text/plain": [
              "    Username  ... TweetCount\n",
              "0  CropxDust  ...      12200\n",
              "1  CropxDust  ...      12200\n",
              "2  CropxDust  ...      12200\n",
              "3  CropxDust  ...      12200\n",
              "4  CropxDust  ...      12200\n",
              "\n",
              "[5 rows x 12 columns]"
            ]
          },
          "metadata": {
            "tags": []
          },
          "execution_count": 14
        }
      ]
    },
    {
      "cell_type": "code",
      "metadata": {
        "id": "ZtuUxxXwEGce",
        "colab_type": "code",
        "colab": {}
      },
      "source": [
        "df_all = cleanTweets(df_all)"
      ],
      "execution_count": 0,
      "outputs": []
    },
    {
      "cell_type": "code",
      "metadata": {
        "id": "0GhTRXC8EGfW",
        "colab_type": "code",
        "colab": {
          "base_uri": "https://localhost:8080/",
          "height": 204
        },
        "outputId": "a43c000f-4cd4-4eec-eca3-1310ac7a15f7"
      },
      "source": [
        "#Just in case pandas encounters the SettingWithCopyWarning \n",
        "df_all['Tweets'] = df_all['Tweets'].str.join(\" \")\n",
        "df_all.head()"
      ],
      "execution_count": 18,
      "outputs": [
        {
          "output_type": "execute_result",
          "data": {
            "text/html": [
              "<div>\n",
              "<style scoped>\n",
              "    .dataframe tbody tr th:only-of-type {\n",
              "        vertical-align: middle;\n",
              "    }\n",
              "\n",
              "    .dataframe tbody tr th {\n",
              "        vertical-align: top;\n",
              "    }\n",
              "\n",
              "    .dataframe thead th {\n",
              "        text-align: right;\n",
              "    }\n",
              "</style>\n",
              "<table border=\"1\" class=\"dataframe\">\n",
              "  <thead>\n",
              "    <tr style=\"text-align: right;\">\n",
              "      <th></th>\n",
              "      <th>Username</th>\n",
              "      <th>Tweets</th>\n",
              "      <th>Day</th>\n",
              "      <th>Month</th>\n",
              "      <th>Date</th>\n",
              "      <th>Time</th>\n",
              "      <th>Year</th>\n",
              "      <th>Ptsd</th>\n",
              "      <th>Gender</th>\n",
              "      <th>Following</th>\n",
              "      <th>Followers</th>\n",
              "      <th>TweetCount</th>\n",
              "    </tr>\n",
              "  </thead>\n",
              "  <tbody>\n",
              "    <tr>\n",
              "      <th>1</th>\n",
              "      <td>CropxDust</td>\n",
              "      <td>well ingredient better pizza</td>\n",
              "      <td>Mon</td>\n",
              "      <td>Jun</td>\n",
              "      <td>11.0</td>\n",
              "      <td>1:26:14 PM</td>\n",
              "      <td>2018.0</td>\n",
              "      <td>1</td>\n",
              "      <td>M</td>\n",
              "      <td>432</td>\n",
              "      <td>660</td>\n",
              "      <td>12200</td>\n",
              "    </tr>\n",
              "    <tr>\n",
              "      <th>2</th>\n",
              "      <td>CropxDust</td>\n",
              "      <td></td>\n",
              "      <td>Sun</td>\n",
              "      <td>Jun</td>\n",
              "      <td>10.0</td>\n",
              "      <td>2:46:04 AM</td>\n",
              "      <td>2018.0</td>\n",
              "      <td>1</td>\n",
              "      <td>M</td>\n",
              "      <td>432</td>\n",
              "      <td>660</td>\n",
              "      <td>12200</td>\n",
              "    </tr>\n",
              "    <tr>\n",
              "      <th>3</th>\n",
              "      <td>CropxDust</td>\n",
              "      <td>challenge come punch face fucken coward</td>\n",
              "      <td>Fri</td>\n",
              "      <td>Jun</td>\n",
              "      <td>8.0</td>\n",
              "      <td>7:07:52 PM</td>\n",
              "      <td>2018.0</td>\n",
              "      <td>1</td>\n",
              "      <td>M</td>\n",
              "      <td>432</td>\n",
              "      <td>660</td>\n",
              "      <td>12200</td>\n",
              "    </tr>\n",
              "    <tr>\n",
              "      <th>4</th>\n",
              "      <td>CropxDust</td>\n",
              "      <td>come brother</td>\n",
              "      <td>Fri</td>\n",
              "      <td>Jun</td>\n",
              "      <td>8.0</td>\n",
              "      <td>2:18:26 AM</td>\n",
              "      <td>2018.0</td>\n",
              "      <td>1</td>\n",
              "      <td>M</td>\n",
              "      <td>432</td>\n",
              "      <td>660</td>\n",
              "      <td>12200</td>\n",
              "    </tr>\n",
              "    <tr>\n",
              "      <th>5</th>\n",
              "      <td>CropxDust</td>\n",
              "      <td>celeste texte pm tell leave say prolly able la...</td>\n",
              "      <td>Thu</td>\n",
              "      <td>Jun</td>\n",
              "      <td>7.0</td>\n",
              "      <td>9:59:48 PM</td>\n",
              "      <td>2018.0</td>\n",
              "      <td>1</td>\n",
              "      <td>M</td>\n",
              "      <td>432</td>\n",
              "      <td>660</td>\n",
              "      <td>12200</td>\n",
              "    </tr>\n",
              "  </tbody>\n",
              "</table>\n",
              "</div>"
            ],
            "text/plain": [
              "    Username  ... TweetCount\n",
              "1  CropxDust  ...      12200\n",
              "2  CropxDust  ...      12200\n",
              "3  CropxDust  ...      12200\n",
              "4  CropxDust  ...      12200\n",
              "5  CropxDust  ...      12200\n",
              "\n",
              "[5 rows x 12 columns]"
            ]
          },
          "metadata": {
            "tags": []
          },
          "execution_count": 18
        }
      ]
    },
    {
      "cell_type": "markdown",
      "metadata": {
        "id": "PGOvq6tOg59e",
        "colab_type": "text"
      },
      "source": [
        "**Topic Modeling**"
      ]
    },
    {
      "cell_type": "code",
      "metadata": {
        "id": "diPVxJI9g5Ic",
        "colab_type": "code",
        "colab": {}
      },
      "source": [
        "from sklearn.feature_extraction.text import TfidfVectorizer\n",
        "vectorizer = TfidfVectorizer(\n",
        "    max_df=.5,\n",
        "    min_df=10,\n",
        "    max_features=None,\n",
        "    ngram_range=(1, 2),\n",
        "    norm=None,\n",
        "    binary=True,\n",
        "    use_idf=False,\n",
        "    sublinear_tf=False\n",
        ")"
      ],
      "execution_count": 0,
      "outputs": []
    },
    {
      "cell_type": "code",
      "metadata": {
        "id": "3wD7FC7Cg5LL",
        "colab_type": "code",
        "colab": {}
      },
      "source": [
        "vectorizer = vectorizer.fit(df_all['Tweets'])\n",
        "tfidf = vectorizer.transform(df_all['Tweets'])\n",
        "vocab = vectorizer.get_feature_names()\n",
        "print(len(vocab))"
      ],
      "execution_count": 0,
      "outputs": []
    },
    {
      "cell_type": "code",
      "metadata": {
        "id": "waf_hYWeg5N7",
        "colab_type": "code",
        "colab": {}
      },
      "source": [
        "from corextopic import corextopic as ct\n",
        "#Unsupervised Anchor corex\n",
        "anchors = []\n",
        "unsup_model = ct.Corex(n_hidden=4, seed=42)\n",
        "unsup_model = unsup_model.fit(\n",
        "    tfidf,\n",
        "    words=vocab\n",
        ")"
      ],
      "execution_count": 0,
      "outputs": []
    },
    {
      "cell_type": "code",
      "metadata": {
        "id": "LKUaI1LEg5Qp",
        "colab_type": "code",
        "colab": {
          "base_uri": "https://localhost:8080/",
          "height": 85
        },
        "outputId": "8d430590-86d0-4631-fd58-d0c8cac2f4c6"
      },
      "source": [
        "for i, topic_ngrams in enumerate(unsup_model.get_topics(n_words=10)):\n",
        "    topic_ngrams = [ngram[0] for ngram in topic_ngrams if ngram[1] > 0]\n",
        "    print(\"Topic #{}: {}\".format(i+1, \", \".join(topic_ngrams)))"
      ],
      "execution_count": 29,
      "outputs": [
        {
          "output_type": "stream",
          "text": [
            "Topic #1: say, woman, trump, chinese, call, government, cop, man, country\n",
            "Topic #2: time, take, think, work, come, give, first, use, also, may\n",
            "Topic #3: tell, mental, many, health, hear, pk, never, family, talk, friend\n",
            "Topic #4: people, good, feel, life, help, way, want, could, need, try\n"
          ],
          "name": "stdout"
        }
      ]
    },
    {
      "cell_type": "code",
      "metadata": {
        "id": "tSRjzr5cg5TX",
        "colab_type": "code",
        "colab": {}
      },
      "source": [
        "#Supervised Corex with Anchors provided\n",
        "anchors = [\n",
        "           [\"trauma\",\"accident\",\"assault\",\"disabled\"], #CAUSES\n",
        "           [\"sad\",\"alone\",\"bad\",\"hurt\",\"feel\",\"good\",\"pain\"], #FEELINGS AND EMOTIONS\n",
        "           [\"anxiety\", \"nightmare\",\"sleep\",\"nervous\", \"tired\"], #SYMPTOMS BOTH PHYSICAL & MENTAL\n",
        "           [\"depressed\",\"fuck\",\"shit\",\"lost\",\"mental\",\"die\"] #BEHAVIOUR & STATE OF MIND\n",
        "]\n",
        "sup_model = ct.Corex(n_hidden=4, seed=42)\n",
        "sup_model = sup_model.fit(\n",
        "    tfidf,\n",
        "    words=vocab,\n",
        "    anchors=anchors,\n",
        "    anchor_strength=5\n",
        ")"
      ],
      "execution_count": 0,
      "outputs": []
    },
    {
      "cell_type": "code",
      "metadata": {
        "id": "gNo45H_Gg5V-",
        "colab_type": "code",
        "colab": {
          "base_uri": "https://localhost:8080/",
          "height": 85
        },
        "outputId": "7512d83f-588a-4539-9f7f-bd011075165d"
      },
      "source": [
        "for i, topic_ngrams in enumerate(sup_model.get_topics(n_words=10)):\n",
        "    topic_ngrams = [ngram[0] for ngram in topic_ngrams if ngram[1] > 0]\n",
        "    print(\"Topic #{}: {}\".format(i+1, \", \".join(topic_ngrams)))"
      ],
      "execution_count": 31,
      "outputs": [
        {
          "output_type": "stream",
          "text": [
            "Topic #1: use, assault, trauma, woman, also, disabled, chinese, call, trump, cop\n",
            "Topic #2: good, feel, bad, sad, alone, hurt, pain, good luck, good friend, luck\n",
            "Topic #3: sleep, time, anxiety, tired, take, come, work, try, first, life\n",
            "Topic #4: shit, die, fuck, mental, people, help, say, many, health, need\n"
          ],
          "name": "stdout"
        }
      ]
    },
    {
      "cell_type": "markdown",
      "metadata": {
        "id": "A4JPsV9ZmldZ",
        "colab_type": "text"
      },
      "source": [
        "**Creating dataframe with topics**"
      ]
    },
    {
      "cell_type": "code",
      "metadata": {
        "id": "DXLkLfrig5ay",
        "colab_type": "code",
        "colab": {}
      },
      "source": [
        "topic_df = pd.DataFrame(\n",
        "    sup_model.transform(tfidf), columns=[\"topic_{}\".format(i+1) for i in range(4)]\n",
        "    ).astype(float)"
      ],
      "execution_count": 0,
      "outputs": []
    },
    {
      "cell_type": "code",
      "metadata": {
        "id": "KoWn7T3og5fj",
        "colab_type": "code",
        "colab": {}
      },
      "source": [
        "topic_df.index = df_all.index\n",
        "df_topics = pd.concat([df_all, topic_df], axis=1)\n",
        "df_topics.sample(10, random_state=123)"
      ],
      "execution_count": 0,
      "outputs": []
    },
    {
      "cell_type": "code",
      "metadata": {
        "id": "bzjsFZhLJ8v0",
        "colab_type": "code",
        "colab": {}
      },
      "source": [
        "#Concatenate by username and Ptsd flag variable for the All PTSD dataset\n",
        "data_tweets = df_topics.groupby(['Username','Ptsd','Gender','Following','Followers','TweetCount'], as_index=False).agg({'topic_1':'mean', 'topic_2':'mean',\n",
        "                                                                                                                        'topic_3': 'mean', 'topic_4': 'mean', 'Tweets': ' '.join})"
      ],
      "execution_count": 0,
      "outputs": []
    },
    {
      "cell_type": "code",
      "metadata": {
        "id": "pw1KQCHzLC7p",
        "colab_type": "code",
        "colab": {
          "base_uri": "https://localhost:8080/",
          "height": 204
        },
        "outputId": "852662ba-b6c7-4988-88d1-cc0a9040fef2"
      },
      "source": [
        "data_tweets.head()"
      ],
      "execution_count": 36,
      "outputs": [
        {
          "output_type": "execute_result",
          "data": {
            "text/html": [
              "<div>\n",
              "<style scoped>\n",
              "    .dataframe tbody tr th:only-of-type {\n",
              "        vertical-align: middle;\n",
              "    }\n",
              "\n",
              "    .dataframe tbody tr th {\n",
              "        vertical-align: top;\n",
              "    }\n",
              "\n",
              "    .dataframe thead th {\n",
              "        text-align: right;\n",
              "    }\n",
              "</style>\n",
              "<table border=\"1\" class=\"dataframe\">\n",
              "  <thead>\n",
              "    <tr style=\"text-align: right;\">\n",
              "      <th></th>\n",
              "      <th>Username</th>\n",
              "      <th>Ptsd</th>\n",
              "      <th>Gender</th>\n",
              "      <th>Following</th>\n",
              "      <th>Followers</th>\n",
              "      <th>TweetCount</th>\n",
              "      <th>topic_1</th>\n",
              "      <th>topic_2</th>\n",
              "      <th>topic_3</th>\n",
              "      <th>topic_4</th>\n",
              "      <th>Tweets</th>\n",
              "    </tr>\n",
              "  </thead>\n",
              "  <tbody>\n",
              "    <tr>\n",
              "      <th>0</th>\n",
              "      <td>AFR365</td>\n",
              "      <td>1</td>\n",
              "      <td>F</td>\n",
              "      <td>9828</td>\n",
              "      <td>11500</td>\n",
              "      <td>91200</td>\n",
              "      <td>0.041500</td>\n",
              "      <td>0.093500</td>\n",
              "      <td>0.135000</td>\n",
              "      <td>0.050000</td>\n",
              "      <td>suck ass   need video lift give   duck thank t...</td>\n",
              "    </tr>\n",
              "    <tr>\n",
              "      <th>1</th>\n",
              "      <td>AlishaaHasan</td>\n",
              "      <td>0</td>\n",
              "      <td>F</td>\n",
              "      <td>309</td>\n",
              "      <td>264</td>\n",
              "      <td>3460</td>\n",
              "      <td>0.013500</td>\n",
              "      <td>0.071500</td>\n",
              "      <td>0.092000</td>\n",
              "      <td>0.038500</td>\n",
              "      <td>first ever happen leave sometimes dream take ...</td>\n",
              "    </tr>\n",
              "    <tr>\n",
              "      <th>2</th>\n",
              "      <td>AmyRollitt</td>\n",
              "      <td>1</td>\n",
              "      <td>F</td>\n",
              "      <td>1293</td>\n",
              "      <td>459</td>\n",
              "      <td>3758</td>\n",
              "      <td>0.099656</td>\n",
              "      <td>0.147766</td>\n",
              "      <td>0.381443</td>\n",
              "      <td>0.103093</td>\n",
              "      <td>come usual shame miss opportunity least lovely...</td>\n",
              "    </tr>\n",
              "    <tr>\n",
              "      <th>3</th>\n",
              "      <td>BenBarbossa</td>\n",
              "      <td>1</td>\n",
              "      <td>M</td>\n",
              "      <td>2886</td>\n",
              "      <td>2858</td>\n",
              "      <td>8107</td>\n",
              "      <td>0.101000</td>\n",
              "      <td>0.070000</td>\n",
              "      <td>0.332000</td>\n",
              "      <td>0.051500</td>\n",
              "      <td>maybe maybe lovely wife call smart ass part ne...</td>\n",
              "    </tr>\n",
              "    <tr>\n",
              "      <th>4</th>\n",
              "      <td>BethLynch2020</td>\n",
              "      <td>1</td>\n",
              "      <td>F</td>\n",
              "      <td>2524</td>\n",
              "      <td>47500</td>\n",
              "      <td>156800</td>\n",
              "      <td>0.299000</td>\n",
              "      <td>0.058500</td>\n",
              "      <td>0.118000</td>\n",
              "      <td>0.145000</td>\n",
              "      <td>definitely better claim child medium debate r...</td>\n",
              "    </tr>\n",
              "  </tbody>\n",
              "</table>\n",
              "</div>"
            ],
            "text/plain": [
              "        Username  ...                                             Tweets\n",
              "0         AFR365  ...  suck ass   need video lift give   duck thank t...\n",
              "1   AlishaaHasan  ...   first ever happen leave sometimes dream take ...\n",
              "2     AmyRollitt  ...  come usual shame miss opportunity least lovely...\n",
              "3    BenBarbossa  ...  maybe maybe lovely wife call smart ass part ne...\n",
              "4  BethLynch2020  ...   definitely better claim child medium debate r...\n",
              "\n",
              "[5 rows x 11 columns]"
            ]
          },
          "metadata": {
            "tags": []
          },
          "execution_count": 36
        }
      ]
    },
    {
      "cell_type": "code",
      "metadata": {
        "id": "2C6EXLeJnHQt",
        "colab_type": "code",
        "colab": {}
      },
      "source": [
        "data_tweets= data_tweets.drop(['Gender'], axis=1)"
      ],
      "execution_count": 0,
      "outputs": []
    },
    {
      "cell_type": "code",
      "metadata": {
        "id": "6hPwadrVaxMe",
        "colab_type": "code",
        "colab": {}
      },
      "source": [
        "data_tweets.to_csv('All_Tweets_topic_features.csv')"
      ],
      "execution_count": 0,
      "outputs": []
    },
    {
      "cell_type": "code",
      "metadata": {
        "id": "zRiDrz8CbBax",
        "colab_type": "code",
        "colab": {}
      },
      "source": [
        "files.download('All_Tweets_topic_features.csv')"
      ],
      "execution_count": 0,
      "outputs": []
    },
    {
      "cell_type": "markdown",
      "metadata": {
        "id": "Ad5zx95DKOS8",
        "colab_type": "text"
      },
      "source": [
        "**Train and Test Data split based on 70-30 ratio**"
      ]
    },
    {
      "cell_type": "code",
      "metadata": {
        "id": "rYk2o8sGuLXX",
        "colab_type": "code",
        "colab": {}
      },
      "source": [
        "from sklearn.model_selection import train_test_split\n",
        "X_train, X_test, y_train, y_test = train_test_split(data_tweets.iloc[:,2:9],data_tweets['Ptsd'], test_size=0.3, random_state=1)"
      ],
      "execution_count": 0,
      "outputs": []
    },
    {
      "cell_type": "code",
      "metadata": {
        "id": "eUs8z7ZIHohN",
        "colab_type": "code",
        "colab": {}
      },
      "source": [
        "X_train.shape"
      ],
      "execution_count": 0,
      "outputs": []
    },
    {
      "cell_type": "code",
      "metadata": {
        "id": "zcy2yVXKHokH",
        "colab_type": "code",
        "colab": {}
      },
      "source": [
        "X_test.shape"
      ],
      "execution_count": 0,
      "outputs": []
    },
    {
      "cell_type": "code",
      "metadata": {
        "id": "3F4d69P5Homc",
        "colab_type": "code",
        "colab": {}
      },
      "source": [
        "y_test.shape"
      ],
      "execution_count": 0,
      "outputs": []
    },
    {
      "cell_type": "code",
      "metadata": {
        "id": "AaailvivO7g7",
        "colab_type": "code",
        "colab": {}
      },
      "source": [
        "y_train.shape"
      ],
      "execution_count": 0,
      "outputs": []
    },
    {
      "cell_type": "markdown",
      "metadata": {
        "id": "OUfEblKCnBiZ",
        "colab_type": "text"
      },
      "source": [
        "**LOGISTIC REGRESSION MODEL WITH K-FOLD CROSS VALIDATION**"
      ]
    },
    {
      "cell_type": "code",
      "metadata": {
        "id": "5Z8-6AlqnE6k",
        "colab_type": "code",
        "colab": {}
      },
      "source": [
        "from sklearn.linear_model.logistic import LogisticRegression\n",
        "logReg = LogisticRegression()"
      ],
      "execution_count": 0,
      "outputs": []
    },
    {
      "cell_type": "code",
      "metadata": {
        "id": "J_mfDkTLnJnM",
        "colab_type": "code",
        "colab": {}
      },
      "source": [
        "logReg.fit(X_train,y_train)"
      ],
      "execution_count": 0,
      "outputs": []
    },
    {
      "cell_type": "code",
      "metadata": {
        "id": "JFF9B9eznoiI",
        "colab_type": "code",
        "colab": {}
      },
      "source": [
        "from sklearn.model_selection import train_test_split, cross_val_score"
      ],
      "execution_count": 0,
      "outputs": []
    },
    {
      "cell_type": "markdown",
      "metadata": {
        "id": "Ap9j7DezKb0C",
        "colab_type": "text"
      },
      "source": [
        "**Model Validation on the Test data**"
      ]
    },
    {
      "cell_type": "code",
      "metadata": {
        "id": "xFTo1wlHnZtc",
        "colab_type": "code",
        "colab": {}
      },
      "source": [
        "scores = cross_val_score(logReg, X_test, y_test, cv=5)"
      ],
      "execution_count": 0,
      "outputs": []
    },
    {
      "cell_type": "code",
      "metadata": {
        "id": "HC8gwi8PnwwD",
        "colab_type": "code",
        "colab": {}
      },
      "source": [
        "print(\"Accuracy is\", scores.mean()*100, \"percent\")"
      ],
      "execution_count": 0,
      "outputs": []
    },
    {
      "cell_type": "code",
      "metadata": {
        "id": "Xf1NELEwLDzO",
        "colab_type": "code",
        "colab": {}
      },
      "source": [
        "predictions = logReg.predict(X_test)"
      ],
      "execution_count": 0,
      "outputs": []
    },
    {
      "cell_type": "code",
      "metadata": {
        "id": "aQRoSb-tLGgc",
        "colab_type": "code",
        "colab": {}
      },
      "source": [
        "pred_score = logReg.score(X_test, y_test)\n",
        "print(pred_score*100)"
      ],
      "execution_count": 0,
      "outputs": []
    },
    {
      "cell_type": "markdown",
      "metadata": {
        "id": "0dbsjWE3Kn52",
        "colab_type": "text"
      },
      "source": [
        "**CONFUSION MATRIX**"
      ]
    },
    {
      "cell_type": "code",
      "metadata": {
        "id": "BCu7McOiIgXp",
        "colab_type": "code",
        "colab": {}
      },
      "source": [
        "import matplotlib.pyplot as plt\n",
        "import seaborn as sns\n",
        "from sklearn import metrics"
      ],
      "execution_count": 0,
      "outputs": []
    },
    {
      "cell_type": "code",
      "metadata": {
        "id": "UTfLzH9RMOuW",
        "colab_type": "code",
        "colab": {}
      },
      "source": [
        "conf = metrics.confusion_matrix(y_test, predictions)\n",
        "print(conf)"
      ],
      "execution_count": 0,
      "outputs": []
    },
    {
      "cell_type": "code",
      "metadata": {
        "id": "J5r9_hmCIoAQ",
        "colab_type": "code",
        "colab": {}
      },
      "source": [
        "plt.figure(figsize=(9,9))\n",
        "sns.heatmap(conf, annot=True, fmt=\".3f\", linewidths=.5, square = True, cmap = 'Blues_r');\n",
        "plt.ylabel('Actual label');\n",
        "plt.xlabel('Predicted label');\n",
        "all_sample_title = 'Accuracy Score: {0}'.format(scores)\n",
        "plt.title(all_sample_title, size = 15);"
      ],
      "execution_count": 0,
      "outputs": []
    }
  ]
}