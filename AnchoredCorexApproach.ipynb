{
  "nbformat": 4,
  "nbformat_minor": 0,
  "metadata": {
    "colab": {
      "name": "AnchoredCorexApproach.ipynb",
      "provenance": [],
      "collapsed_sections": [],
      "mount_file_id": "1QFWtkwg1vIMLAyZb1wt8QLboz20jB8wg",
      "authorship_tag": "ABX9TyNWLY1tTCJoVkwH4klWnoOr",
      "include_colab_link": true
    },
    "kernelspec": {
      "name": "python3",
      "display_name": "Python 3"
    }
  },
  "cells": [
    {
      "cell_type": "markdown",
      "metadata": {
        "id": "view-in-github",
        "colab_type": "text"
      },
      "source": [
        "<a href=\"https://colab.research.google.com/github/abhilashhn1993/Sentiment_Analysis_of_Tweets/blob/master/AnchoredCorexApproach.ipynb\" target=\"_parent\"><img src=\"https://colab.research.google.com/assets/colab-badge.svg\" alt=\"Open In Colab\"/></a>"
      ]
    },
    {
      "cell_type": "code",
      "metadata": {
        "id": "acDZsqGGZ2ME",
        "colab_type": "code",
        "colab": {}
      },
      "source": [
        "!pip install spacy\n",
        "!pip install pyLDAvis\n",
        "!pip install corextopic"
      ],
      "execution_count": 0,
      "outputs": []
    },
    {
      "cell_type": "code",
      "metadata": {
        "id": "jgDF073vZ2tK",
        "colab_type": "code",
        "colab": {}
      },
      "source": [
        "import re\n",
        "import numpy as np\n",
        "import pandas as pd\n",
        "import spacy\n",
        "import matplotlib.pyplot as plt\n",
        "%matplotlib inline\n",
        "import logging\n",
        "logging.basicConfig(format='%(asctime)s : %(levelname)s : %(message)s', level=logging.ERROR)\n",
        "import warnings\n",
        "warnings.filterwarnings(\"ignore\",category=DeprecationWarning)"
      ],
      "execution_count": 0,
      "outputs": []
    },
    {
      "cell_type": "code",
      "metadata": {
        "id": "_cWL9tnCwRw2",
        "colab_type": "code",
        "colab": {}
      },
      "source": [
        "from google.colab import files\n",
        "uploaded = files.upload()"
      ],
      "execution_count": 0,
      "outputs": []
    },
    {
      "cell_type": "code",
      "metadata": {
        "id": "8RGHzJzsasmY",
        "colab_type": "code",
        "colab": {}
      },
      "source": [
        "import io\n",
        "df_pre = pd.read_csv(io.BytesIO(uploaded['cleanedPreTweets.csv']))\n",
        "df_post = pd.read_csv(io.BytesIO(uploaded['cleanedPostTweets.csv']))"
      ],
      "execution_count": 0,
      "outputs": []
    },
    {
      "cell_type": "code",
      "metadata": {
        "id": "SIjcXEZmbGAq",
        "colab_type": "code",
        "colab": {}
      },
      "source": [
        "df_pre.head()"
      ],
      "execution_count": 0,
      "outputs": []
    },
    {
      "cell_type": "code",
      "metadata": {
        "id": "gUS5LUpOqxOB",
        "colab_type": "code",
        "colab": {}
      },
      "source": [
        "df_pre = df_pre.dropna()\n",
        "df_post = df_post.dropna()"
      ],
      "execution_count": 0,
      "outputs": []
    },
    {
      "cell_type": "markdown",
      "metadata": {
        "id": "hCgDbIPcr4ls",
        "colab_type": "text"
      },
      "source": [
        "**PTSD Pre diagnosis Topics**"
      ]
    },
    {
      "cell_type": "markdown",
      "metadata": {
        "id": "X8NYNnb8ry_O",
        "colab_type": "text"
      },
      "source": [
        "**Vectorizing the texts**"
      ]
    },
    {
      "cell_type": "code",
      "metadata": {
        "id": "4Ze9rfJpa9R3",
        "colab_type": "code",
        "colab": {}
      },
      "source": [
        "from sklearn.feature_extraction.text import TfidfVectorizer\n",
        "vectorizer = TfidfVectorizer(\n",
        "    max_df=.5,\n",
        "    min_df=10,\n",
        "    max_features=None,\n",
        "    ngram_range=(1, 2),\n",
        "    norm=None,\n",
        "    binary=True,\n",
        "    use_idf=False,\n",
        "    sublinear_tf=False\n",
        ")"
      ],
      "execution_count": 0,
      "outputs": []
    },
    {
      "cell_type": "code",
      "metadata": {
        "id": "4xf4q__ubXiY",
        "colab_type": "code",
        "colab": {}
      },
      "source": [
        "vectorizer = vectorizer.fit(df_pre['Tweets'])\n",
        "tfidf = vectorizer.transform(df_pre['Tweets'])\n",
        "vocab = vectorizer.get_feature_names()\n",
        "print(len(vocab))"
      ],
      "execution_count": 0,
      "outputs": []
    },
    {
      "cell_type": "code",
      "metadata": {
        "id": "vNOkHcQ8b5eG",
        "colab_type": "code",
        "colab": {}
      },
      "source": [
        "from corextopic import corextopic as ct"
      ],
      "execution_count": 0,
      "outputs": []
    },
    {
      "cell_type": "code",
      "metadata": {
        "id": "HQi_6_TZcGJ_",
        "colab_type": "code",
        "colab": {}
      },
      "source": [
        "#Unsupervised Anchor corex\n",
        "anchors = []\n",
        "pre_model = ct.Corex(n_hidden=4, seed=42)\n",
        "pre_model = pre_model.fit(\n",
        "    tfidf,\n",
        "    words=vocab\n",
        ")"
      ],
      "execution_count": 0,
      "outputs": []
    },
    {
      "cell_type": "code",
      "metadata": {
        "id": "FOcqbU5VcNsQ",
        "colab_type": "code",
        "colab": {}
      },
      "source": [
        "for i, topic_ngrams in enumerate(pre_model.get_topics(n_words=10)):\n",
        "    topic_ngrams = [ngram[0] for ngram in topic_ngrams if ngram[1] > 0]\n",
        "    print(\"Topic #{}: {}\".format(i+1, \", \".join(topic_ngrams)))"
      ],
      "execution_count": 0,
      "outputs": []
    },
    {
      "cell_type": "code",
      "metadata": {
        "id": "k9gUORDucWgY",
        "colab_type": "code",
        "colab": {}
      },
      "source": [
        "#Supervised Corex with Anchors provided\n",
        "anchors1 = [\n",
        "           [\"trauma\",\"accident\",\"assault\",\"disabled\"], #CAUSES\n",
        "           [\"sad\",\"alone\",\"bad\",\"hurt\",\"feel\",\"good\",\"pain\"], #FEELINGS AND EMOTIONS\n",
        "           [\"anxiety\", \"nightmare\",\"sleep\",\"nervous\", \"tired\"], #SYMPTOMS BOTH PHYSICAL & MENTAL\n",
        "           [\"depressed\",\"fuck\",\"shit\",\"lost\",\"mental\",\"die\"] #BEHAVIOUR & STATE OF MIND\n",
        "]\n",
        "pre_model2 = ct.Corex(n_hidden=4, seed=42)\n",
        "pre_model2 = pre_model2.fit(\n",
        "    tfidf,\n",
        "    words=vocab,\n",
        "    anchors=anchors1,\n",
        "    anchor_strength=5\n",
        ")"
      ],
      "execution_count": 0,
      "outputs": []
    },
    {
      "cell_type": "code",
      "metadata": {
        "id": "tEudCXi9uNsn",
        "colab_type": "code",
        "colab": {}
      },
      "source": [
        "for i, topic_ngrams in enumerate(pre_model2.get_topics(n_words=10)):\n",
        "    topic_ngrams = [ngram[0] for ngram in topic_ngrams if ngram[1] > 0]\n",
        "    print(\"Topic #{}: {}\".format(i+1, \", \".join(topic_ngrams)))"
      ],
      "execution_count": 0,
      "outputs": []
    },
    {
      "cell_type": "markdown",
      "metadata": {
        "id": "NDXi7TkHsVWU",
        "colab_type": "text"
      },
      "source": [
        "**Creating Dataframe with Topics as features**"
      ]
    },
    {
      "cell_type": "code",
      "metadata": {
        "id": "LJHo_OkruYoV",
        "colab_type": "code",
        "colab": {}
      },
      "source": [
        "topic_df = pd.DataFrame(\n",
        "    pre_model2.transform(tfidf), columns=[\"topic_{}\".format(i+1) for i in range(4)]\n",
        "    ).astype(float)"
      ],
      "execution_count": 0,
      "outputs": []
    },
    {
      "cell_type": "code",
      "metadata": {
        "id": "Fucv9XEkujsS",
        "colab_type": "code",
        "colab": {}
      },
      "source": [
        "topic_df.index = df_pre.index\n",
        "df = pd.concat([df_pre, topic_df], axis=1)\n",
        "df.sample(10, random_state=123)"
      ],
      "execution_count": 0,
      "outputs": []
    },
    {
      "cell_type": "code",
      "metadata": {
        "id": "JrUvp2Mnt2om",
        "colab_type": "code",
        "colab": {}
      },
      "source": [
        "df.to_csv('pre_diagnosis_topicModeled.csv') "
      ],
      "execution_count": 0,
      "outputs": []
    },
    {
      "cell_type": "markdown",
      "metadata": {
        "id": "APuxAeHtNieM",
        "colab_type": "text"
      },
      "source": [
        "**PTSD Post diagnosis Topics**"
      ]
    },
    {
      "cell_type": "code",
      "metadata": {
        "id": "4oQb9r2cNnhb",
        "colab_type": "code",
        "colab": {}
      },
      "source": [
        "from sklearn.feature_extraction.text import TfidfVectorizer\n",
        "vectorizer2 = TfidfVectorizer(\n",
        "    max_df=.5,\n",
        "    min_df=10,\n",
        "    max_features=None,\n",
        "    ngram_range=(1, 2),\n",
        "    norm=None,\n",
        "    binary=True,\n",
        "    use_idf=False,\n",
        "    sublinear_tf=False\n",
        ")"
      ],
      "execution_count": 0,
      "outputs": []
    },
    {
      "cell_type": "code",
      "metadata": {
        "id": "XPvEs8wLN0td",
        "colab_type": "code",
        "colab": {}
      },
      "source": [
        "vectorizer2 = vectorizer2.fit(df_post['Tweets'])\n",
        "tfidf_post = vectorizer2.transform(df_post['Tweets'])\n",
        "vocab_post = vectorizer2.get_feature_names()"
      ],
      "execution_count": 0,
      "outputs": []
    },
    {
      "cell_type": "code",
      "metadata": {
        "id": "DvlMtlewN899",
        "colab_type": "code",
        "colab": {}
      },
      "source": [
        "anchors_post = []\n",
        "post_model = ct.Corex(n_hidden=7, seed=42)\n",
        "post_model = post_model.fit(\n",
        "    tfidf_post,\n",
        "    words=vocab_post\n",
        ")"
      ],
      "execution_count": 0,
      "outputs": []
    },
    {
      "cell_type": "code",
      "metadata": {
        "id": "f33I5NlHOIYF",
        "colab_type": "code",
        "colab": {}
      },
      "source": [
        "for i, topic_ngrams in enumerate(post_model.get_topics(n_words=10)):\n",
        "    topic_ngrams = [ngram[0] for ngram in topic_ngrams if ngram[1] > 0]\n",
        "    print(\"Topic #{}: {}\".format(i+1, \", \".join(topic_ngrams)))"
      ],
      "execution_count": 0,
      "outputs": []
    },
    {
      "cell_type": "code",
      "metadata": {
        "id": "i7beBgP-OPqV",
        "colab_type": "code",
        "colab": {}
      },
      "source": [
        "#Giving Anchors\n",
        "anchors2 = [\n",
        "           [\"no sleep\",\"tired\",\"nightmare\",\"anxiety\",\"chronic\"], #SYMPTOMS\n",
        "           [\"sad\",\"lonely\",\"bad\",\"hurt\",\"feel\",\"anger\",\"pain\"], #FEELINGS AND EMOTIONS\n",
        "           [\"drug\",\"pill\",\"antidepressant\"], #MEDICATIONS AND DRUGS\n",
        "           [\"therapy\",\"community\",\"doctor\",\"support\",\"session\"], #THERAPY AND SUPPORT\n",
        "           [\"help\",\"need\",\"want\",\"love\",\"share\",\"talk\",\"tell\"], #CALL FOR HELP\n",
        "           [\"positive\",\"motivate\",\"glad\",\"accept\",\"self\",\"better\"] #SELF-IMPROVEMENT  \n",
        "]"
      ],
      "execution_count": 0,
      "outputs": []
    },
    {
      "cell_type": "code",
      "metadata": {
        "id": "ixOo3kPpw77S",
        "colab_type": "code",
        "colab": {}
      },
      "source": [
        "post_model2 = ct.Corex(n_hidden=6, seed=42)\n",
        "post_model2 = post_model2.fit(\n",
        "    tfidf,\n",
        "    words=vocab,\n",
        "    anchors=anchors2,\n",
        "    anchor_strength=3\n",
        ")"
      ],
      "execution_count": 0,
      "outputs": []
    },
    {
      "cell_type": "code",
      "metadata": {
        "id": "SbFppSYLyJVk",
        "colab_type": "code",
        "colab": {}
      },
      "source": [
        "for i, topic_ngrams in enumerate(post_model2.get_topics(n_words=10)):\n",
        "    topic_ngrams = [ngram[0] for ngram in topic_ngrams if ngram[1] > 0]\n",
        "    print(\"Topic #{}: {}\".format(i+1, \", \".join(topic_ngrams)))"
      ],
      "execution_count": 0,
      "outputs": []
    },
    {
      "cell_type": "markdown",
      "metadata": {
        "colab_type": "text",
        "id": "xDEaKvjFstKH"
      },
      "source": [
        "**Creating Dataframe with Topics as features**"
      ]
    },
    {
      "cell_type": "code",
      "metadata": {
        "colab_type": "code",
        "id": "LnO4YMFHxyK8",
        "colab": {}
      },
      "source": [
        "topic_df2 = pd.DataFrame(\n",
        "    post_model2.transform(tfidf), columns=[\"topic_{}\".format(i+1) for i in range(6)]\n",
        "    ).astype(float)"
      ],
      "execution_count": 0,
      "outputs": []
    },
    {
      "cell_type": "code",
      "metadata": {
        "id": "95iPfH8tx9Jn",
        "colab_type": "code",
        "colab": {}
      },
      "source": [
        "df2 = pd.concat([df_post, topic_df2], axis=1)\n",
        "df2.sample(10, random_state=123)"
      ],
      "execution_count": 0,
      "outputs": []
    },
    {
      "cell_type": "code",
      "metadata": {
        "id": "hjdFJhrfxWgh",
        "colab_type": "code",
        "colab": {}
      },
      "source": [
        "df2.to_csv('post_diagnosis_topicModeled.csv') "
      ],
      "execution_count": 0,
      "outputs": []
    },
    {
      "cell_type": "code",
      "metadata": {
        "id": "zQ_TNzlIs3I9",
        "colab_type": "code",
        "colab": {}
      },
      "source": [
        "from google.colab import files\n",
        "files.download('pre_diagnosis_topicModeled.csv')\n",
        "files.download('post_diagnosis_topicModeled.csv')"
      ],
      "execution_count": 0,
      "outputs": []
    }
  ]
}