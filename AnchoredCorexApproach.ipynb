{
  "nbformat": 4,
  "nbformat_minor": 0,
  "metadata": {
    "colab": {
      "name": "AnchoredCorexApproach.ipynb",
      "provenance": [],
      "collapsed_sections": [],
      "mount_file_id": "1QFWtkwg1vIMLAyZb1wt8QLboz20jB8wg",
      "authorship_tag": "ABX9TyNWLY1tTCJoVkwH4klWnoOr",
      "include_colab_link": true
    },
    "kernelspec": {
      "name": "python3",
      "display_name": "Python 3"
    }
  },
  "cells": [
    {
      "cell_type": "markdown",
      "metadata": {
        "id": "view-in-github",
        "colab_type": "text"
      },
      "source": [
        "<a href=\"https://colab.research.google.com/github/abhilashhn1993/Sentiment_Analysis_of_Tweets/blob/master/AnchoredCorexApproach.ipynb\" target=\"_parent\"><img src=\"https://colab.research.google.com/assets/colab-badge.svg\" alt=\"Open In Colab\"/></a>"
      ]
    },
    {
      "cell_type": "code",
      "metadata": {
        "id": "acDZsqGGZ2ME",
        "colab_type": "code",
        "colab": {}
      },
      "source": [
        "!pip install spacy\n",
        "!pip install pyLDAvis\n",
        "!pip install corextopic"
      ],
      "execution_count": 0,
      "outputs": []
    },
    {
      "cell_type": "code",
      "metadata": {
        "id": "jgDF073vZ2tK",
        "colab_type": "code",
        "colab": {}
      },
      "source": [
        "import re\n",
        "import numpy as np\n",
        "import pandas as pd\n",
        "import spacy\n",
        "import matplotlib.pyplot as plt\n",
        "%matplotlib inline\n",
        "import logging\n",
        "logging.basicConfig(format='%(asctime)s : %(levelname)s : %(message)s', level=logging.ERROR)\n",
        "import warnings\n",
        "warnings.filterwarnings(\"ignore\",category=DeprecationWarning)"
      ],
      "execution_count": 0,
      "outputs": []
    },
    {
      "cell_type": "code",
      "metadata": {
        "id": "_cWL9tnCwRw2",
        "colab_type": "code",
        "colab": {}
      },
      "source": [
        "from google.colab import files\n",
        "uploaded = files.upload()"
      ],
      "execution_count": 0,
      "outputs": []
    },
    {
      "cell_type": "code",
      "metadata": {
        "id": "8RGHzJzsasmY",
        "colab_type": "code",
        "colab": {}
      },
      "source": [
        "import io\n",
        "df_pre = pd.read_csv(io.BytesIO(uploaded['cleanedPreTweets.csv']))\n",
        "df_post = pd.read_csv(io.BytesIO(uploaded['cleanedPostTweets.csv']))"
      ],
      "execution_count": 0,
      "outputs": []
    },
    {
      "cell_type": "code",
      "metadata": {
        "id": "SIjcXEZmbGAq",
        "colab_type": "code",
        "colab": {}
      },
      "source": [
        "df_pre.head()"
      ],
      "execution_count": 0,
      "outputs": []
    },
    {
      "cell_type": "code",
      "metadata": {
        "id": "gUS5LUpOqxOB",
        "colab_type": "code",
        "colab": {}
      },
      "source": [
        "df_pre = df_pre.dropna()\n",
        "df_post = df_post.dropna()"
      ],
      "execution_count": 0,
      "outputs": []
    },
    {
      "cell_type": "markdown",
      "metadata": {
        "id": "hCgDbIPcr4ls",
        "colab_type": "text"
      },
      "source": [
        "**PTSD Pre diagnosis Topics**"
      ]
    },
    {
      "cell_type": "markdown",
      "metadata": {
        "id": "X8NYNnb8ry_O",
        "colab_type": "text"
      },
      "source": [
        "**Vectorizing the texts**"
      ]
    },
    {
      "cell_type": "code",
      "metadata": {
        "id": "4Ze9rfJpa9R3",
        "colab_type": "code",
        "colab": {}
      },
      "source": [
        "from sklearn.feature_extraction.text import TfidfVectorizer\n",
        "vectorizer = TfidfVectorizer(\n",
        "    max_df=.5,\n",
        "    min_df=10,\n",
        "    max_features=None,\n",
        "    ngram_range=(1, 2),\n",
        "    norm=None,\n",
        "    binary=True,\n",
        "    use_idf=False,\n",
        "    sublinear_tf=False\n",
        ")"
      ],
      "execution_count": 0,
      "outputs": []
    },
    {
      "cell_type": "code",
      "metadata": {
        "id": "4xf4q__ubXiY",
        "colab_type": "code",
        "colab": {}
      },
      "source": [
        "vectorizer = vectorizer.fit(df_pre['Tweets'])\n",
        "tfidf = vectorizer.transform(df_pre['Tweets'])\n",
        "vocab = vectorizer.get_feature_names()\n",
        "print(len(vocab))"
      ],
      "execution_count": 0,
      "outputs": []
    },
    {
      "cell_type": "code",
      "metadata": {
        "id": "vNOkHcQ8b5eG",
        "colab_type": "code",
        "colab": {}
      },
      "source": [
        "from corextopic import corextopic as ct"
      ],
      "execution_count": 0,
      "outputs": []
    },
    {
      "cell_type": "code",
      "metadata": {
        "id": "HQi_6_TZcGJ_",
        "colab_type": "code",
        "colab": {}
      },
      "source": [
        "#Unsupervised Anchor corex\n",
        "anchors = []\n",
        "pre_model = ct.Corex(n_hidden=4, seed=42)\n",
        "pre_model = pre_model.fit(\n",
        "    tfidf,\n",
        "    words=vocab\n",
        ")"
      ],
      "execution_count": 0,
      "outputs": []
    },
    {
      "cell_type": "code",
      "metadata": {
        "id": "FOcqbU5VcNsQ",
        "colab_type": "code",
        "outputId": "c7249b40-790d-4c00-a5ac-aeb6f03543f9",
        "colab": {
          "base_uri": "https://localhost:8080/",
          "height": 85
        }
      },
      "source": [
        "for i, topic_ngrams in enumerate(pre_model.get_topics(n_words=10)):\n",
        "    topic_ngrams = [ngram[0] for ngram in topic_ngrams if ngram[1] > 0]\n",
        "    print(\"Topic #{}: {}\".format(i+1, \", \".join(topic_ngrams)))"
      ],
      "execution_count": 90,
      "outputs": [
        {
          "output_type": "stream",
          "text": [
            "Topic #1: people, disabled, say, folk, disabled people, think, straw, travel, mile, understand\n",
            "Topic #2: time, game, work, take, issue, mental, lot, first, forward, accessibility\n",
            "Topic #3: feel, chroniclife, bad, pain, good friend, sleep, morning, friend, good, hurt\n",
            "Topic #4: new, write, ill, week, read, next, book, hopefully, sure, show\n"
          ],
          "name": "stdout"
        }
      ]
    },
    {
      "cell_type": "code",
      "metadata": {
        "id": "k9gUORDucWgY",
        "colab_type": "code",
        "colab": {}
      },
      "source": [
        "#Supervised Corex with Anchors provided\n",
        "anchors1 = [\n",
        "           [\"trauma\",\"accident\",\"assault\",\"disabled\"], #CAUSES\n",
        "           [\"sad\",\"alone\",\"bad\",\"hurt\",\"feel\",\"good\",\"pain\"], #FEELINGS AND EMOTIONS\n",
        "           [\"anxiety\", \"nightmare\",\"sleep\",\"nervous\", \"tired\"], #SYMPTOMS BOTH PHYSICAL & MENTAL\n",
        "           [\"depressed\",\"fuck\",\"shit\",\"lost\",\"mental\",\"die\"] #BEHAVIOUR & STATE OF MIND\n",
        "]\n",
        "pre_model2 = ct.Corex(n_hidden=4, seed=42)\n",
        "pre_model2 = pre_model2.fit(\n",
        "    tfidf,\n",
        "    words=vocab,\n",
        "    anchors=anchors1,\n",
        "    anchor_strength=5\n",
        ")"
      ],
      "execution_count": 0,
      "outputs": []
    },
    {
      "cell_type": "code",
      "metadata": {
        "id": "tEudCXi9uNsn",
        "colab_type": "code",
        "outputId": "acb86ca3-c899-4e7e-c2d5-29cd3d65f327",
        "colab": {
          "base_uri": "https://localhost:8080/",
          "height": 85
        }
      },
      "source": [
        "for i, topic_ngrams in enumerate(pre_model2.get_topics(n_words=10)):\n",
        "    topic_ngrams = [ngram[0] for ngram in topic_ngrams if ngram[1] > 0]\n",
        "    print(\"Topic #{}: {}\".format(i+1, \", \".join(topic_ngrams)))"
      ],
      "execution_count": 92,
      "outputs": [
        {
          "output_type": "stream",
          "text": [
            "Topic #1: disabled, people, folk, assault, trauma, disabled people, issue, say, accessibility, think\n",
            "Topic #2: feel, good, bad, pain, sad, hurt, alone, good friend, feel bad, look good\n",
            "Topic #3: sleep, tired, anxiety, nervous, nightmare, look forward, forward, social, fall asleep, social medium\n",
            "Topic #4: shit, fuck, die, mental, depressed, illness, mental health, mental illness, health, feel shit\n"
          ],
          "name": "stdout"
        }
      ]
    },
    {
      "cell_type": "markdown",
      "metadata": {
        "id": "NDXi7TkHsVWU",
        "colab_type": "text"
      },
      "source": [
        "**Creating Dataframe with Topics as features**"
      ]
    },
    {
      "cell_type": "code",
      "metadata": {
        "id": "LJHo_OkruYoV",
        "colab_type": "code",
        "colab": {}
      },
      "source": [
        "topic_df = pd.DataFrame(\n",
        "    pre_model2.transform(tfidf), columns=[\"topic_{}\".format(i+1) for i in range(4)]\n",
        "    ).astype(float)"
      ],
      "execution_count": 0,
      "outputs": []
    },
    {
      "cell_type": "code",
      "metadata": {
        "id": "Fucv9XEkujsS",
        "colab_type": "code",
        "colab": {}
      },
      "source": [
        "topic_df.index = df_pre.index\n",
        "df = pd.concat([df_pre, topic_df], axis=1)\n",
        "df.sample(10, random_state=123)"
      ],
      "execution_count": 0,
      "outputs": []
    },
    {
      "cell_type": "code",
      "metadata": {
        "id": "JrUvp2Mnt2om",
        "colab_type": "code",
        "colab": {}
      },
      "source": [
        "df.to_csv('pre_diagnosis_topicModeled.csv') "
      ],
      "execution_count": 0,
      "outputs": []
    },
    {
      "cell_type": "markdown",
      "metadata": {
        "id": "APuxAeHtNieM",
        "colab_type": "text"
      },
      "source": [
        "**PTSD Post diagnosis Topics**"
      ]
    },
    {
      "cell_type": "code",
      "metadata": {
        "id": "4oQb9r2cNnhb",
        "colab_type": "code",
        "colab": {}
      },
      "source": [
        "from sklearn.feature_extraction.text import TfidfVectorizer\n",
        "vectorizer2 = TfidfVectorizer(\n",
        "    max_df=.5,\n",
        "    min_df=10,\n",
        "    max_features=None,\n",
        "    ngram_range=(1, 2),\n",
        "    norm=None,\n",
        "    binary=True,\n",
        "    use_idf=False,\n",
        "    sublinear_tf=False\n",
        ")"
      ],
      "execution_count": 0,
      "outputs": []
    },
    {
      "cell_type": "code",
      "metadata": {
        "id": "XPvEs8wLN0td",
        "colab_type": "code",
        "colab": {}
      },
      "source": [
        "vectorizer2 = vectorizer2.fit(df_post['Tweets'])\n",
        "tfidf_post = vectorizer2.transform(df_post['Tweets'])\n",
        "vocab_post = vectorizer2.get_feature_names()"
      ],
      "execution_count": 0,
      "outputs": []
    },
    {
      "cell_type": "code",
      "metadata": {
        "id": "DvlMtlewN899",
        "colab_type": "code",
        "colab": {}
      },
      "source": [
        "anchors_post = []\n",
        "post_model = ct.Corex(n_hidden=7, seed=42)\n",
        "post_model = post_model.fit(\n",
        "    tfidf_post,\n",
        "    words=vocab_post\n",
        ")"
      ],
      "execution_count": 0,
      "outputs": []
    },
    {
      "cell_type": "code",
      "metadata": {
        "id": "f33I5NlHOIYF",
        "colab_type": "code",
        "outputId": "c07465e6-7362-4a1e-bed7-d30ca2d52847",
        "colab": {
          "base_uri": "https://localhost:8080/",
          "height": 136
        }
      },
      "source": [
        "for i, topic_ngrams in enumerate(post_model.get_topics(n_words=10)):\n",
        "    topic_ngrams = [ngram[0] for ngram in topic_ngrams if ngram[1] > 0]\n",
        "    print(\"Topic #{}: {}\".format(i+1, \", \".join(topic_ngrams)))"
      ],
      "execution_count": 117,
      "outputs": [
        {
          "output_type": "stream",
          "text": [
            "Topic #1: accessibility, folk, could, mental, health, help, issue, also, community, medium\n",
            "Topic #2: people, disabled, forward, next, video, look forward, surf, online, disabled people, surf online\n",
            "Topic #3: feel, game, first, hard, try, work, first time, well, use, sheet\n",
            "Topic #4: think, never, say, tell, want, shit, fuck, give, talk, girl\n",
            "Topic #5: good, time, take, good friend, friend, hour, long, fall, good morning, asleep\n",
            "Topic #6: home, eat, birthday, night, sleep, tomorrow, happy, tonight, happy birthday, come\n",
            "Topic #7: life, abuse, ass, live, pain, whole, chronic, attention, reason, ptsd\n"
          ],
          "name": "stdout"
        }
      ]
    },
    {
      "cell_type": "code",
      "metadata": {
        "id": "i7beBgP-OPqV",
        "colab_type": "code",
        "colab": {}
      },
      "source": [
        "#Giving Anchors\n",
        "anchors2 = [\n",
        "           [\"no sleep\",\"tired\",\"nightmare\",\"anxiety\",\"chronic\"], #SYMPTOMS\n",
        "           [\"sad\",\"lonely\",\"bad\",\"hurt\",\"feel\",\"anger\",\"pain\"], #FEELINGS AND EMOTIONS\n",
        "           [\"drug\",\"pill\",\"antidepressant\"], #MEDICATIONS AND DRUGS\n",
        "           [\"therapy\",\"community\",\"doctor\",\"support\",\"session\"], #THERAPY AND SUPPORT\n",
        "           [\"help\",\"need\",\"want\",\"love\",\"share\",\"talk\",\"tell\"], #CALL FOR HELP\n",
        "           [\"positive\",\"motivate\",\"glad\",\"accept\",\"self\",\"better\"] #SELF-IMPROVEMENT  \n",
        "]"
      ],
      "execution_count": 0,
      "outputs": []
    },
    {
      "cell_type": "code",
      "metadata": {
        "id": "ixOo3kPpw77S",
        "colab_type": "code",
        "colab": {}
      },
      "source": [
        "post_model2 = ct.Corex(n_hidden=6, seed=42)\n",
        "post_model2 = post_model2.fit(\n",
        "    tfidf,\n",
        "    words=vocab,\n",
        "    anchors=anchors2,\n",
        "    anchor_strength=3\n",
        ")"
      ],
      "execution_count": 0,
      "outputs": []
    },
    {
      "cell_type": "code",
      "metadata": {
        "id": "SbFppSYLyJVk",
        "colab_type": "code",
        "outputId": "188d1e0f-5261-4b76-8262-3063a08689e3",
        "colab": {
          "base_uri": "https://localhost:8080/",
          "height": 119
        }
      },
      "source": [
        "for i, topic_ngrams in enumerate(post_model2.get_topics(n_words=10)):\n",
        "    topic_ngrams = [ngram[0] for ngram in topic_ngrams if ngram[1] > 0]\n",
        "    print(\"Topic #{}: {}\".format(i+1, \", \".join(topic_ngrams)))"
      ],
      "execution_count": 120,
      "outputs": [
        {
          "output_type": "stream",
          "text": [
            "Topic #1: tired, anxiety, chroniclife, chronic, mental, game, sleep, illness, nightmare, social\n",
            "Topic #2: feel, bad, pain, sad, hurt, lonely, feel bad, anger, feel good, feel well\n",
            "Topic #3: time, drug, friend, pill, take, good, say, never, good friend, forward\n",
            "Topic #4: support, people, disabled, doctor, community, therapy, folk, disabled people, issue, accessibility\n",
            "Topic #5: love, want, need, tell, help, talk, share, thank love, need new, people tell\n",
            "Topic #6: better, self, glad, accept, positive, lose, come home, weight, wish could, lose weight\n"
          ],
          "name": "stdout"
        }
      ]
    },
    {
      "cell_type": "markdown",
      "metadata": {
        "colab_type": "text",
        "id": "xDEaKvjFstKH"
      },
      "source": [
        "**Creating Dataframe with Topics as features**"
      ]
    },
    {
      "cell_type": "code",
      "metadata": {
        "colab_type": "code",
        "id": "LnO4YMFHxyK8",
        "colab": {}
      },
      "source": [
        "topic_df2 = pd.DataFrame(\n",
        "    post_model2.transform(tfidf), columns=[\"topic_{}\".format(i+1) for i in range(6)]\n",
        "    ).astype(float)"
      ],
      "execution_count": 0,
      "outputs": []
    },
    {
      "cell_type": "code",
      "metadata": {
        "id": "95iPfH8tx9Jn",
        "colab_type": "code",
        "colab": {
          "base_uri": "https://localhost:8080/",
          "height": 359
        },
        "outputId": "b79c1137-a46f-425e-8ce0-98e5a9167462"
      },
      "source": [
        "df2 = pd.concat([df_post, topic_df2], axis=1)\n",
        "df2.sample(10, random_state=123)"
      ],
      "execution_count": 128,
      "outputs": [
        {
          "output_type": "execute_result",
          "data": {
            "text/html": [
              "<div>\n",
              "<style scoped>\n",
              "    .dataframe tbody tr th:only-of-type {\n",
              "        vertical-align: middle;\n",
              "    }\n",
              "\n",
              "    .dataframe tbody tr th {\n",
              "        vertical-align: top;\n",
              "    }\n",
              "\n",
              "    .dataframe thead th {\n",
              "        text-align: right;\n",
              "    }\n",
              "</style>\n",
              "<table border=\"1\" class=\"dataframe\">\n",
              "  <thead>\n",
              "    <tr style=\"text-align: right;\">\n",
              "      <th></th>\n",
              "      <th>Unnamed: 0</th>\n",
              "      <th>Username</th>\n",
              "      <th>Tweets</th>\n",
              "      <th>Length of Tweet</th>\n",
              "      <th>date</th>\n",
              "      <th>topic_1</th>\n",
              "      <th>topic_2</th>\n",
              "      <th>topic_3</th>\n",
              "      <th>topic_4</th>\n",
              "      <th>topic_5</th>\n",
              "      <th>topic_6</th>\n",
              "    </tr>\n",
              "  </thead>\n",
              "  <tbody>\n",
              "    <tr>\n",
              "      <th>23861</th>\n",
              "      <td>23862.0</td>\n",
              "      <td>ActiDermKimbo</td>\n",
              "      <td>ago tell</td>\n",
              "      <td>131</td>\n",
              "      <td>Tue Dec 13 02:02:01 +0000 2016</td>\n",
              "      <td>NaN</td>\n",
              "      <td>NaN</td>\n",
              "      <td>NaN</td>\n",
              "      <td>NaN</td>\n",
              "      <td>NaN</td>\n",
              "      <td>NaN</td>\n",
              "    </tr>\n",
              "    <tr>\n",
              "      <th>16000</th>\n",
              "      <td>16001.0</td>\n",
              "      <td>therapyhotline</td>\n",
              "      <td>kid drink water consume energy drink soda conc...</td>\n",
              "      <td>148</td>\n",
              "      <td>Fri Sep 07 16:00:20 +0000 2018</td>\n",
              "      <td>0.0</td>\n",
              "      <td>0.0</td>\n",
              "      <td>0.0</td>\n",
              "      <td>0.0</td>\n",
              "      <td>0.0</td>\n",
              "      <td>0.0</td>\n",
              "    </tr>\n",
              "    <tr>\n",
              "      <th>30376</th>\n",
              "      <td>30377.0</td>\n",
              "      <td>XoxoModel_B</td>\n",
              "      <td>officially daughter start preschool excited</td>\n",
              "      <td>98</td>\n",
              "      <td>Mon Oct 07 19:31:25 +0000 2019</td>\n",
              "      <td>NaN</td>\n",
              "      <td>NaN</td>\n",
              "      <td>NaN</td>\n",
              "      <td>NaN</td>\n",
              "      <td>NaN</td>\n",
              "      <td>NaN</td>\n",
              "    </tr>\n",
              "    <tr>\n",
              "      <th>16707</th>\n",
              "      <td>16708.0</td>\n",
              "      <td>sheeranazz</td>\n",
              "      <td>yess omg</td>\n",
              "      <td>8</td>\n",
              "      <td>Mon Jul 16 17:53:09 +0000 2018</td>\n",
              "      <td>0.0</td>\n",
              "      <td>0.0</td>\n",
              "      <td>0.0</td>\n",
              "      <td>0.0</td>\n",
              "      <td>0.0</td>\n",
              "      <td>0.0</td>\n",
              "    </tr>\n",
              "    <tr>\n",
              "      <th>4427</th>\n",
              "      <td>4428.0</td>\n",
              "      <td>traapcedes</td>\n",
              "      <td>love watch long</td>\n",
              "      <td>38</td>\n",
              "      <td>Mon Sep 02 22:32:44 +0000 2019</td>\n",
              "      <td>0.0</td>\n",
              "      <td>0.0</td>\n",
              "      <td>0.0</td>\n",
              "      <td>0.0</td>\n",
              "      <td>0.0</td>\n",
              "      <td>0.0</td>\n",
              "    </tr>\n",
              "    <tr>\n",
              "      <th>247</th>\n",
              "      <td>NaN</td>\n",
              "      <td>NaN</td>\n",
              "      <td>NaN</td>\n",
              "      <td>NaN</td>\n",
              "      <td>NaN</td>\n",
              "      <td>0.0</td>\n",
              "      <td>0.0</td>\n",
              "      <td>0.0</td>\n",
              "      <td>0.0</td>\n",
              "      <td>0.0</td>\n",
              "      <td>0.0</td>\n",
              "    </tr>\n",
              "    <tr>\n",
              "      <th>13242</th>\n",
              "      <td>NaN</td>\n",
              "      <td>NaN</td>\n",
              "      <td>NaN</td>\n",
              "      <td>NaN</td>\n",
              "      <td>NaN</td>\n",
              "      <td>0.0</td>\n",
              "      <td>0.0</td>\n",
              "      <td>0.0</td>\n",
              "      <td>0.0</td>\n",
              "      <td>0.0</td>\n",
              "      <td>0.0</td>\n",
              "    </tr>\n",
              "    <tr>\n",
              "      <th>15794</th>\n",
              "      <td>15795.0</td>\n",
              "      <td>therapyhotline</td>\n",
              "      <td>attracted guy look garden twin</td>\n",
              "      <td>63</td>\n",
              "      <td>Tue Oct 30 18:11:31 +0000 2018</td>\n",
              "      <td>0.0</td>\n",
              "      <td>0.0</td>\n",
              "      <td>0.0</td>\n",
              "      <td>0.0</td>\n",
              "      <td>0.0</td>\n",
              "      <td>0.0</td>\n",
              "    </tr>\n",
              "    <tr>\n",
              "      <th>8207</th>\n",
              "      <td>8208.0</td>\n",
              "      <td>TherealIntraKit</td>\n",
              "      <td>lithium dude talk</td>\n",
              "      <td>87</td>\n",
              "      <td>Tue Apr 09 08:57:52 +0000 2019</td>\n",
              "      <td>0.0</td>\n",
              "      <td>0.0</td>\n",
              "      <td>0.0</td>\n",
              "      <td>0.0</td>\n",
              "      <td>0.0</td>\n",
              "      <td>0.0</td>\n",
              "    </tr>\n",
              "    <tr>\n",
              "      <th>1932</th>\n",
              "      <td>1933.0</td>\n",
              "      <td>Daneuntamed</td>\n",
              "      <td>find</td>\n",
              "      <td>36</td>\n",
              "      <td>Mon Sep 02 00:11:01 +0000 2019</td>\n",
              "      <td>1.0</td>\n",
              "      <td>1.0</td>\n",
              "      <td>1.0</td>\n",
              "      <td>0.0</td>\n",
              "      <td>0.0</td>\n",
              "      <td>0.0</td>\n",
              "    </tr>\n",
              "  </tbody>\n",
              "</table>\n",
              "</div>"
            ],
            "text/plain": [
              "       Unnamed: 0         Username  ... topic_5 topic_6\n",
              "23861     23862.0    ActiDermKimbo  ...     NaN     NaN\n",
              "16000     16001.0   therapyhotline  ...     0.0     0.0\n",
              "30376     30377.0      XoxoModel_B  ...     NaN     NaN\n",
              "16707     16708.0       sheeranazz  ...     0.0     0.0\n",
              "4427       4428.0       traapcedes  ...     0.0     0.0\n",
              "247           NaN              NaN  ...     0.0     0.0\n",
              "13242         NaN              NaN  ...     0.0     0.0\n",
              "15794     15795.0   therapyhotline  ...     0.0     0.0\n",
              "8207       8208.0  TherealIntraKit  ...     0.0     0.0\n",
              "1932       1933.0      Daneuntamed  ...     0.0     0.0\n",
              "\n",
              "[10 rows x 11 columns]"
            ]
          },
          "metadata": {
            "tags": []
          },
          "execution_count": 128
        }
      ]
    },
    {
      "cell_type": "code",
      "metadata": {
        "id": "hjdFJhrfxWgh",
        "colab_type": "code",
        "colab": {}
      },
      "source": [
        "df2.to_csv('post_diagnosis_topicModeled.csv') "
      ],
      "execution_count": 0,
      "outputs": []
    },
    {
      "cell_type": "code",
      "metadata": {
        "id": "zQ_TNzlIs3I9",
        "colab_type": "code",
        "colab": {}
      },
      "source": [
        "from google.colab import files\n",
        "files.download('pre_diagnosis_topicModeled.csv')\n",
        "files.download('post_diagnosis_topicModeled.csv')"
      ],
      "execution_count": 0,
      "outputs": []
    }
  ]
}