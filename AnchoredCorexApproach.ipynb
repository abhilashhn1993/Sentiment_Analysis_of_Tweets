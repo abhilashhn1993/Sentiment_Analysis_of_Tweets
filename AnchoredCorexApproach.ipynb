{
  "nbformat": 4,
  "nbformat_minor": 0,
  "metadata": {
    "colab": {
      "name": "AnchoredCorexApproach.ipynb",
      "provenance": [],
      "collapsed_sections": [],
      "mount_file_id": "1QFWtkwg1vIMLAyZb1wt8QLboz20jB8wg",
      "authorship_tag": "ABX9TyNN+X12w926PZ0KwQjekA2M",
      "include_colab_link": true
    },
    "kernelspec": {
      "name": "python3",
      "display_name": "Python 3"
    }
  },
  "cells": [
    {
      "cell_type": "markdown",
      "metadata": {
        "id": "view-in-github",
        "colab_type": "text"
      },
      "source": [
        "<a href=\"https://colab.research.google.com/github/abhilashhn1993/Sentiment_Analysis_of_Tweets/blob/master/AnchoredCorexApproach.ipynb\" target=\"_parent\"><img src=\"https://colab.research.google.com/assets/colab-badge.svg\" alt=\"Open In Colab\"/></a>"
      ]
    },
    {
      "cell_type": "code",
      "metadata": {
        "id": "acDZsqGGZ2ME",
        "colab_type": "code",
        "colab": {}
      },
      "source": [
        "!pip install corextopic"
      ],
      "execution_count": 0,
      "outputs": []
    },
    {
      "cell_type": "code",
      "metadata": {
        "id": "jgDF073vZ2tK",
        "colab_type": "code",
        "colab": {}
      },
      "source": [
        "import re\n",
        "import numpy as np\n",
        "import pandas as pd\n",
        "import matplotlib.pyplot as plt\n",
        "%matplotlib inline\n",
        "import logging\n",
        "logging.basicConfig(format='%(asctime)s : %(levelname)s : %(message)s', level=logging.ERROR)\n",
        "import warnings\n",
        "warnings.filterwarnings(\"ignore\",category=DeprecationWarning)"
      ],
      "execution_count": 0,
      "outputs": []
    },
    {
      "cell_type": "code",
      "metadata": {
        "id": "_cWL9tnCwRw2",
        "colab_type": "code",
        "colab": {}
      },
      "source": [
        "from google.colab import files\n",
        "uploaded = files.upload()"
      ],
      "execution_count": 0,
      "outputs": []
    },
    {
      "cell_type": "code",
      "metadata": {
        "id": "8RGHzJzsasmY",
        "colab_type": "code",
        "colab": {}
      },
      "source": [
        "import io\n",
        "df_pre = pd.read_csv(io.BytesIO(uploaded['cleanedPreTweets.csv']))\n",
        "df_post = pd.read_csv(io.BytesIO(uploaded['cleanedPostTweets.csv']))"
      ],
      "execution_count": 0,
      "outputs": []
    },
    {
      "cell_type": "code",
      "metadata": {
        "id": "SIjcXEZmbGAq",
        "colab_type": "code",
        "colab": {}
      },
      "source": [
        "df_pre.head()"
      ],
      "execution_count": 0,
      "outputs": []
    },
    {
      "cell_type": "code",
      "metadata": {
        "id": "gUS5LUpOqxOB",
        "colab_type": "code",
        "colab": {}
      },
      "source": [
        "df_pre = df_pre.dropna()\n",
        "df_post = df_post.dropna()"
      ],
      "execution_count": 0,
      "outputs": []
    },
    {
      "cell_type": "markdown",
      "metadata": {
        "id": "hCgDbIPcr4ls",
        "colab_type": "text"
      },
      "source": [
        "**PTSD Pre diagnosis Topics**"
      ]
    },
    {
      "cell_type": "markdown",
      "metadata": {
        "id": "X8NYNnb8ry_O",
        "colab_type": "text"
      },
      "source": [
        "**Vectorizing the texts**"
      ]
    },
    {
      "cell_type": "code",
      "metadata": {
        "id": "4Ze9rfJpa9R3",
        "colab_type": "code",
        "colab": {}
      },
      "source": [
        "from sklearn.feature_extraction.text import TfidfVectorizer\n",
        "vectorizer = TfidfVectorizer(\n",
        "    max_df=.5,\n",
        "    min_df=10,\n",
        "    max_features=None,\n",
        "    ngram_range=(1, 2),\n",
        "    norm=None,\n",
        "    binary=True,\n",
        "    use_idf=False,\n",
        "    sublinear_tf=False\n",
        ")"
      ],
      "execution_count": 0,
      "outputs": []
    },
    {
      "cell_type": "code",
      "metadata": {
        "id": "4xf4q__ubXiY",
        "colab_type": "code",
        "colab": {}
      },
      "source": [
        "vectorizer = vectorizer.fit(df_pre['Tweets'])\n",
        "tfidf = vectorizer.transform(df_pre['Tweets'])\n",
        "vocab = vectorizer.get_feature_names()\n",
        "print(len(vocab))"
      ],
      "execution_count": 0,
      "outputs": []
    },
    {
      "cell_type": "code",
      "metadata": {
        "id": "vNOkHcQ8b5eG",
        "colab_type": "code",
        "colab": {}
      },
      "source": [
        "from corextopic import corextopic as ct"
      ],
      "execution_count": 0,
      "outputs": []
    },
    {
      "cell_type": "code",
      "metadata": {
        "id": "HQi_6_TZcGJ_",
        "colab_type": "code",
        "colab": {}
      },
      "source": [
        "#Unsupervised Anchor corex\n",
        "anchors = []\n",
        "pre_model = ct.Corex(n_hidden=4, seed=42)\n",
        "pre_model = pre_model.fit(\n",
        "    tfidf,\n",
        "    words=vocab\n",
        ")"
      ],
      "execution_count": 0,
      "outputs": []
    },
    {
      "cell_type": "code",
      "metadata": {
        "id": "FOcqbU5VcNsQ",
        "colab_type": "code",
        "colab": {
          "base_uri": "https://localhost:8080/",
          "height": 85
        },
        "outputId": "c1622262-5269-4d22-fa78-cdacb9ef5dc4"
      },
      "source": [
        "for i, topic_ngrams in enumerate(pre_model.get_topics(n_words=10)):\n",
        "    topic_ngrams = [ngram[0] for ngram in topic_ngrams if ngram[1] > 0]\n",
        "    print(\"Topic #{}: {}\".format(i+1, \", \".join(topic_ngrams)))"
      ],
      "execution_count": 81,
      "outputs": [
        {
          "output_type": "stream",
          "text": [
            "Topic #1: disabled, folk, disabled people, game, issue, straw, accessibility, disability, mental, community\n",
            "Topic #2: people, say, feel, friend, never, talk, good friend, always, tell, shit\n",
            "Topic #3: time, bad, sleep, home, next, wake, hour, away, forward, week\n",
            "Topic #4: use, think, work, lot, take, start, care, way, also, may\n"
          ],
          "name": "stdout"
        }
      ]
    },
    {
      "cell_type": "code",
      "metadata": {
        "id": "k9gUORDucWgY",
        "colab_type": "code",
        "colab": {}
      },
      "source": [
        "#Supervised Corex with Anchors provided\n",
        "anchors1 = [\n",
        "           [\"trauma\",\"accident\",\"flashbacks\",\"abuse\",\"assault\",\"disabled\",\"break up\",\"sexual assault\",\"harassment\",\"torture\",\"war\",\"battle\"], #CAUSES\n",
        "           [\"sad\",\"alone\",\"bad\",\"hurt\",\"feel\",\"pain\",\"scared\",\"angry\",\"fuck\",\"shit\",\"yell\",\"lost\"], #FEELINGS AND EMOTIONS\n",
        "           [\"nightmare\",\"sleep\",\"nervous\",\"tired\",\"fatigue\",\"disorder\",\"eating\",\"nausea\",\"hunger\",\"lathargic\"], #PHYSICAL SYMPTOMS \n",
        "           [\"depressed\",\"anxiety\",\"insomnia\",\"stress\",\"anxious\",\"cry\",\"suicide\",\"no mood\"] #MENTAL SYMPTOMS\n",
        "]\n",
        "pre_model2 = ct.Corex(n_hidden=4, seed=42)\n",
        "pre_model2 = pre_model2.fit(\n",
        "    tfidf,\n",
        "    words=vocab,\n",
        "    anchors=anchors1,\n",
        "    anchor_strength=5\n",
        ")"
      ],
      "execution_count": 0,
      "outputs": []
    },
    {
      "cell_type": "code",
      "metadata": {
        "id": "tEudCXi9uNsn",
        "colab_type": "code",
        "colab": {
          "base_uri": "https://localhost:8080/",
          "height": 85
        },
        "outputId": "bf788c9d-6473-401f-89b0-abb9575518c6"
      },
      "source": [
        "for i, topic_ngrams in enumerate(pre_model2.get_topics(n_words=10)):\n",
        "    topic_ngrams = [ngram[0] for ngram in topic_ngrams if ngram[1] > 0]\n",
        "    print(\"Topic #{}: {}\".format(i+1, \", \".join(topic_ngrams)))"
      ],
      "execution_count": 79,
      "outputs": [
        {
          "output_type": "stream",
          "text": [
            "Topic #1: disabled, abuse, people, trauma, assault, folk, disabled people, war, issue, sexual assault\n",
            "Topic #2: feel, bad, shit, fuck, pain, sad, hurt, alone, angry, scared\n",
            "Topic #3: sleep, tired, disorder, nervous, nightmare, fall asleep, asleep, eat disorder, fall, want sleep\n",
            "Topic #4: cry, anxiety, stress, suicide, anxious, depressed, good friend, friend, illness, good\n"
          ],
          "name": "stdout"
        }
      ]
    },
    {
      "cell_type": "markdown",
      "metadata": {
        "id": "NDXi7TkHsVWU",
        "colab_type": "text"
      },
      "source": [
        "**Creating Dataframe with Topics as features**"
      ]
    },
    {
      "cell_type": "code",
      "metadata": {
        "id": "LJHo_OkruYoV",
        "colab_type": "code",
        "colab": {}
      },
      "source": [
        "topic_df = pd.DataFrame(\n",
        "    pre_model2.transform(tfidf), columns=[\"topic_{}\".format(i+1) for i in range(4)]\n",
        "    ).astype(float)"
      ],
      "execution_count": 0,
      "outputs": []
    },
    {
      "cell_type": "code",
      "metadata": {
        "id": "Fucv9XEkujsS",
        "colab_type": "code",
        "colab": {}
      },
      "source": [
        "topic_df.index = df_pre.index\n",
        "df = pd.concat([df_pre, topic_df], axis=1)\n",
        "df = df.drop(df.columns[0], axis=1)\n",
        "df.sample(10, random_state=123)"
      ],
      "execution_count": 0,
      "outputs": []
    },
    {
      "cell_type": "code",
      "metadata": {
        "id": "JrUvp2Mnt2om",
        "colab_type": "code",
        "colab": {}
      },
      "source": [
        "df.to_csv('pre_diagnosis_topicModeled.csv')"
      ],
      "execution_count": 0,
      "outputs": []
    },
    {
      "cell_type": "markdown",
      "metadata": {
        "id": "APuxAeHtNieM",
        "colab_type": "text"
      },
      "source": [
        "**PTSD Post diagnosis Topics**"
      ]
    },
    {
      "cell_type": "code",
      "metadata": {
        "id": "4oQb9r2cNnhb",
        "colab_type": "code",
        "colab": {}
      },
      "source": [
        "from sklearn.feature_extraction.text import TfidfVectorizer\n",
        "vectorizer2 = TfidfVectorizer(\n",
        "    max_df=.5,\n",
        "    min_df=10,\n",
        "    max_features=None,\n",
        "    ngram_range=(1, 2),\n",
        "    norm=None,\n",
        "    binary=True,\n",
        "    use_idf=False,\n",
        "    sublinear_tf=False\n",
        ")"
      ],
      "execution_count": 0,
      "outputs": []
    },
    {
      "cell_type": "code",
      "metadata": {
        "id": "XPvEs8wLN0td",
        "colab_type": "code",
        "colab": {}
      },
      "source": [
        "vectorizer2 = vectorizer2.fit(df_post['Tweets'])\n",
        "tfidf_post = vectorizer2.transform(df_post['Tweets'])\n",
        "vocab_post = vectorizer2.get_feature_names()"
      ],
      "execution_count": 0,
      "outputs": []
    },
    {
      "cell_type": "code",
      "metadata": {
        "id": "DvlMtlewN899",
        "colab_type": "code",
        "colab": {}
      },
      "source": [
        "anchors_post = []\n",
        "post_model = ct.Corex(n_hidden=5, seed=42)\n",
        "post_model = post_model.fit(\n",
        "    tfidf_post,\n",
        "    words=vocab_post\n",
        ")"
      ],
      "execution_count": 0,
      "outputs": []
    },
    {
      "cell_type": "code",
      "metadata": {
        "id": "f33I5NlHOIYF",
        "colab_type": "code",
        "colab": {
          "base_uri": "https://localhost:8080/",
          "height": 102
        },
        "outputId": "50ec2ca4-4801-4535-d939-6e9e5ad2f758"
      },
      "source": [
        "for i, topic_ngrams in enumerate(post_model.get_topics(n_words=10)):\n",
        "    topic_ngrams = [ngram[0] for ngram in topic_ngrams if ngram[1] > 0]\n",
        "    print(\"Topic #{}: {}\".format(i+1, \", \".join(topic_ngrams)))"
      ],
      "execution_count": 80,
      "outputs": [
        {
          "output_type": "stream",
          "text": [
            "Topic #1: people, think, take, could, try, accessibility, folk, tell, next, want\n",
            "Topic #2: time, feel, tonight, work, first time, first, ill, home, week, long\n",
            "Topic #3: good, game, disabled, forward, good friend, online, hard, look forward, surf, friend\n",
            "Topic #4: shit, ass, look, fuck, girl, old, talk, little, dumb, hair\n",
            "Topic #5: video, song, music, add, ticket, free\n"
          ],
          "name": "stdout"
        }
      ]
    },
    {
      "cell_type": "code",
      "metadata": {
        "id": "i7beBgP-OPqV",
        "colab_type": "code",
        "colab": {}
      },
      "source": [
        "#Giving Anchors\n",
        "anchors2 = [\n",
        "           [\"no sleep\",\"flashbacks\",\"tired\",\"nightmare\",\"anxiety\",\"chronic\",\"fatigue\",\"hunger\",\"disorder\",\"lathargic\",\"no mood\"], #SYMPTOMS\n",
        "           [\"sad\",\"lonely\",\"bad\",\"hurt\",\"feel\",\"anger\",\"pain\",\"fuck\",\"shit\",\"lost\",\"unhappy\",\"angry\",\"cry\"], #FEELINGS AND EMOTIONS\n",
        "           [\"therapy\",\"community\",\"doctor\",\"support\",\"session\",\"drug\",\"pills\",\"mental health\",\"care\",\"medication\",\"anti-depressants\",\"celexa\",\"Prazosin\"], #THERAPY AND SUPPORT\n",
        "           [\"exercise\",\"meditate\",\"art\",\"feel better\",\"yoga\",\"work out\",\"gym\",\"healthy\",\"food\",\"diet\",\"lose weight\",\"work\",\"music\"], #COPING MECHANISMS             \n",
        "]"
      ],
      "execution_count": 0,
      "outputs": []
    },
    {
      "cell_type": "code",
      "metadata": {
        "id": "ixOo3kPpw77S",
        "colab_type": "code",
        "colab": {}
      },
      "source": [
        "post_model2 = ct.Corex(n_hidden=4, seed=42)\n",
        "post_model2 = post_model2.fit(\n",
        "    tfidf,\n",
        "    words=vocab,\n",
        "    anchors=anchors2,\n",
        "    anchor_strength=5\n",
        ")"
      ],
      "execution_count": 0,
      "outputs": []
    },
    {
      "cell_type": "code",
      "metadata": {
        "id": "SbFppSYLyJVk",
        "colab_type": "code",
        "colab": {
          "base_uri": "https://localhost:8080/",
          "height": 85
        },
        "outputId": "5f919451-1a36-450e-f605-5f202829d753"
      },
      "source": [
        "for i, topic_ngrams in enumerate(post_model2.get_topics(n_words=10)):\n",
        "    topic_ngrams = [ngram[0] for ngram in topic_ngrams if ngram[1] > 0]\n",
        "    print(\"Topic #{}: {}\".format(i+1, \", \".join(topic_ngrams)))"
      ],
      "execution_count": 82,
      "outputs": [
        {
          "output_type": "stream",
          "text": [
            "Topic #1: tired, anxiety, chronic, disorder, time, good friend, forward, good, look forward, first time\n",
            "Topic #2: feel, bad, shit, fuck, cry, pain, sad, hurt, angry, lonely\n",
            "Topic #3: care, support, doctor, community, therapy, people, drug, disabled, mental health, folk\n",
            "Topic #4: work, food, music, art, healthy, lose weight, feel better, exercise, diet, gym\n"
          ],
          "name": "stdout"
        }
      ]
    },
    {
      "cell_type": "markdown",
      "metadata": {
        "colab_type": "text",
        "id": "xDEaKvjFstKH"
      },
      "source": [
        "**Creating Dataframe with Topics as features**"
      ]
    },
    {
      "cell_type": "code",
      "metadata": {
        "colab_type": "code",
        "id": "LnO4YMFHxyK8",
        "colab": {}
      },
      "source": [
        "topic_df2 = pd.DataFrame(\n",
        "    post_model2.transform(tfidf), columns=[\"topic_{}\".format(i+1) for i in range(4)]\n",
        "    ).astype(float)"
      ],
      "execution_count": 0,
      "outputs": []
    },
    {
      "cell_type": "code",
      "metadata": {
        "id": "95iPfH8tx9Jn",
        "colab_type": "code",
        "colab": {}
      },
      "source": [
        "df2 = pd.concat([df_post, topic_df2], axis=1)\n",
        "df2 = df2.drop(df2.columns[0], axis=1)\n",
        "df2.sample(10, random_state=123)"
      ],
      "execution_count": 0,
      "outputs": []
    },
    {
      "cell_type": "code",
      "metadata": {
        "id": "hjdFJhrfxWgh",
        "colab_type": "code",
        "colab": {}
      },
      "source": [
        "df2.to_csv('post_diagnosis_topicModeled.csv') "
      ],
      "execution_count": 0,
      "outputs": []
    },
    {
      "cell_type": "code",
      "metadata": {
        "id": "zQ_TNzlIs3I9",
        "colab_type": "code",
        "colab": {}
      },
      "source": [
        "from google.colab import files\n",
        "files.download('pre_diagnosis_topicModeled.csv')\n",
        "files.download('post_diagnosis_topicModeled.csv')"
      ],
      "execution_count": 0,
      "outputs": []
    }
  ]
}