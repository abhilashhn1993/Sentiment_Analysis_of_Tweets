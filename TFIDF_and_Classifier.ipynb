{
  "nbformat": 4,
  "nbformat_minor": 0,
  "metadata": {
    "colab": {
      "name": "TFIDF and Classifier.ipynb",
      "provenance": [],
      "collapsed_sections": [],
      "machine_shape": "hm",
      "include_colab_link": true
    },
    "kernelspec": {
      "name": "python3",
      "display_name": "Python 3"
    },
    "accelerator": "TPU"
  },
  "cells": [
    {
      "cell_type": "markdown",
      "metadata": {
        "id": "view-in-github",
        "colab_type": "text"
      },
      "source": [
        "<a href=\"https://colab.research.google.com/github/abhilashhn1993/Sentiment_Analysis_of_Tweets/blob/master/TFIDF_and_Classifier.ipynb\" target=\"_parent\"><img src=\"https://colab.research.google.com/assets/colab-badge.svg\" alt=\"Open In Colab\"/></a>"
      ]
    },
    {
      "cell_type": "code",
      "metadata": {
        "id": "uwmDAHAdJ2xh",
        "colab_type": "code",
        "colab": {}
      },
      "source": [
        "import nltk; \n",
        "nltk.download('stopwords')"
      ],
      "execution_count": 0,
      "outputs": []
    },
    {
      "cell_type": "code",
      "metadata": {
        "id": "tD602dH7KV9I",
        "colab_type": "code",
        "colab": {}
      },
      "source": [
        "!pip install spacy\n",
        "!pip install pyLDAvis"
      ],
      "execution_count": 0,
      "outputs": []
    },
    {
      "cell_type": "code",
      "metadata": {
        "id": "LQXdMnw2KXJz",
        "colab_type": "code",
        "colab": {}
      },
      "source": [
        "import re\n",
        "import numpy as np\n",
        "import pandas as pd\n",
        "from pprint import pprint\n",
        "import gensim\n",
        "import gensim.corpora as corpora\n",
        "from gensim.utils import simple_preprocess\n",
        "from gensim.models import CoherenceModel\n",
        "import spacy\n",
        "import pyLDAvis\n",
        "import pyLDAvis.gensim\n",
        "import matplotlib.pyplot as plt\n",
        "%matplotlib inline\n",
        "import logging\n",
        "logging.basicConfig(format='%(asctime)s : %(levelname)s : %(message)s', level=logging.ERROR)\n",
        "import warnings\n",
        "warnings.filterwarnings(\"ignore\",category=DeprecationWarning)"
      ],
      "execution_count": 0,
      "outputs": []
    },
    {
      "cell_type": "code",
      "metadata": {
        "id": "BBa8g6yjVdiK",
        "colab_type": "code",
        "colab": {}
      },
      "source": [
        "from nltk.corpus import stopwords\n",
        "stop_words = stopwords.words('english')"
      ],
      "execution_count": 0,
      "outputs": []
    },
    {
      "cell_type": "code",
      "metadata": {
        "id": "aOcQZG-6F9Mh",
        "colab_type": "code",
        "colab": {}
      },
      "source": [
        "print(stop_words)"
      ],
      "execution_count": 0,
      "outputs": []
    },
    {
      "cell_type": "code",
      "metadata": {
        "id": "-g4P8RyAawi6",
        "colab_type": "code",
        "colab": {}
      },
      "source": [
        "#remove been, being, haven't, don't, couldn't, didn't\n",
        "stop_words.remove(\"i\")\n",
        "stop_words.remove(\"me\")\n",
        "stop_words.remove(\"my\")\n",
        "stop_words.remove(\"don't\")\n",
        "stop_words.remove(\"been\")\n",
        "stop_words.remove(\"being\")\n",
        "stop_words.remove(\"haven't\")\n",
        "stop_words.remove(\"couldn't\")\n",
        "stop_words.remove(\"didn't\")"
      ],
      "execution_count": 0,
      "outputs": []
    },
    {
      "cell_type": "code",
      "metadata": {
        "id": "eBwLKdpri4T2",
        "colab_type": "code",
        "colab": {}
      },
      "source": [
        "#Adding Extra Stopwords to be removed from the dataset\n",
        "stop_words.extend(['http', 'https', 'twitter', 'www', 'instagram', 'zsgdbw', 'tmblr', 'co', 'twitch','facebook', 'snapchat'])"
      ],
      "execution_count": 0,
      "outputs": []
    },
    {
      "cell_type": "code",
      "metadata": {
        "id": "BbkSuluWFy1I",
        "colab_type": "code",
        "colab": {}
      },
      "source": [
        "len(stop_words)"
      ],
      "execution_count": 0,
      "outputs": []
    },
    {
      "cell_type": "code",
      "metadata": {
        "id": "FhTelWhw-wMX",
        "colab_type": "code",
        "colab": {}
      },
      "source": [
        "stop_words.extend(['make','really','see','go','would','even','get','com','be','year','still','do','know','actually','much', 'let','s','have','name','photo'])\n",
        "stop_words.extend(['back','today','day','last','thing','kit','stream','amp'])\n",
        "stop_words.extend(['trinawolfy','trinawolfy','riyenrootsmusic','straw'])"
      ],
      "execution_count": 0,
      "outputs": []
    },
    {
      "cell_type": "code",
      "metadata": {
        "id": "Yon56v-oWPQq",
        "colab_type": "code",
        "colab": {}
      },
      "source": [
        "len(stop_words)"
      ],
      "execution_count": 0,
      "outputs": []
    },
    {
      "cell_type": "code",
      "metadata": {
        "id": "jKQWgzXyK1Tx",
        "colab_type": "code",
        "colab": {}
      },
      "source": [
        "from google.colab import files\n",
        "uploaded = files.upload()"
      ],
      "execution_count": 0,
      "outputs": []
    },
    {
      "cell_type": "code",
      "metadata": {
        "id": "xUxzS5LgLC7D",
        "colab_type": "code",
        "colab": {}
      },
      "source": [
        "import io\n",
        "df = pd.read_csv(io.BytesIO(uploaded['All_PTSD_tweets_Flagged.csv']))"
      ],
      "execution_count": 0,
      "outputs": []
    },
    {
      "cell_type": "code",
      "metadata": {
        "id": "OBiPaYMXlOj-",
        "colab_type": "code",
        "colab": {}
      },
      "source": [
        "df.Ptsd.value_counts()"
      ],
      "execution_count": 0,
      "outputs": []
    },
    {
      "cell_type": "code",
      "metadata": {
        "id": "7M-o27Jfek0N",
        "colab_type": "code",
        "colab": {}
      },
      "source": [
        "#Concatenate by username and Ptsd flag variable\n",
        "df = df[['Username', 'Tweets','Ptsd']]\n",
        "df1 = df.groupby(['Username','Ptsd'])['Tweets'].agg(' '.join).reset_index(name='Tweets')"
      ],
      "execution_count": 0,
      "outputs": []
    },
    {
      "cell_type": "code",
      "metadata": {
        "id": "5ZI8Zg6cXMVm",
        "colab_type": "code",
        "colab": {}
      },
      "source": [
        "df1.iloc[0].Tweets"
      ],
      "execution_count": 0,
      "outputs": []
    },
    {
      "cell_type": "code",
      "metadata": {
        "id": "Yxo_HZINLpTN",
        "colab_type": "code",
        "colab": {}
      },
      "source": [
        "# Convert to list\n",
        "df1.Tweets = df1.Tweets.values.tolist()\n",
        "# Remove Emails\n",
        "df1.Tweets = [re.sub('\\S*@\\S*\\s?', '', sent) for sent in df1.Tweets]\n",
        "# Remove new line characters\n",
        "df1.Tweets = [re.sub('\\s+', ' ', sent) for sent in df1.Tweets]\n",
        "# Remove distracting single quotes\n",
        "df1.Tweets = [re.sub(\"\\'\", \"\", sent) for sent in df1.Tweets]\n",
        "pprint(df1.Tweets[:1])"
      ],
      "execution_count": 0,
      "outputs": []
    },
    {
      "cell_type": "code",
      "metadata": {
        "id": "aTIRiGC-L5F2",
        "colab_type": "code",
        "colab": {}
      },
      "source": [
        "def sent_to_words(sentences):\n",
        "    for sentence in sentences:\n",
        "        yield(gensim.utils.simple_preprocess(str(sentence), deacc=True))"
      ],
      "execution_count": 0,
      "outputs": []
    },
    {
      "cell_type": "code",
      "metadata": {
        "id": "hGUVtLkbMIoi",
        "colab_type": "code",
        "colab": {}
      },
      "source": [
        "df1.Tweets = list(sent_to_words(df1.Tweets))\n",
        "print(df1.Tweets[:1])"
      ],
      "execution_count": 0,
      "outputs": []
    },
    {
      "cell_type": "code",
      "metadata": {
        "id": "S8lGBmdQeHUA",
        "colab_type": "code",
        "colab": {}
      },
      "source": [
        "len(df1.Tweets[0])"
      ],
      "execution_count": 0,
      "outputs": []
    },
    {
      "cell_type": "code",
      "metadata": {
        "id": "S7G_3848MKES",
        "colab_type": "code",
        "colab": {}
      },
      "source": [
        "# Define functions for stopwords, bigrams, trigrams and lemmatization\n",
        "def remove_stopwords(texts):\n",
        "    return [[word for word in simple_preprocess(str(doc)) if word not in stop_words] for doc in texts]"
      ],
      "execution_count": 0,
      "outputs": []
    },
    {
      "cell_type": "code",
      "metadata": {
        "id": "ksW4_Qa6M4DR",
        "colab_type": "code",
        "colab": {}
      },
      "source": [
        "def lemmatization(texts, allowed_postags=['NOUN', 'ADJ', 'VERB', 'ADV']):\n",
        "    texts_out = []\n",
        "    for sent in texts:\n",
        "        doc = nlp(\" \".join(sent)) \n",
        "        texts_out.append([token.lemma_ for token in doc if token.pos_ in allowed_postags])\n",
        "    return texts_out"
      ],
      "execution_count": 0,
      "outputs": []
    },
    {
      "cell_type": "code",
      "metadata": {
        "id": "soeJqnMa7iri",
        "colab_type": "code",
        "colab": {}
      },
      "source": [
        "len(df1.Tweets[13])"
      ],
      "execution_count": 0,
      "outputs": []
    },
    {
      "cell_type": "code",
      "metadata": {
        "id": "SIeFUaLVM-6x",
        "colab_type": "code",
        "colab": {}
      },
      "source": [
        "# Remove Stop Words\n",
        "df1.Tweets = remove_stopwords(df1.Tweets)"
      ],
      "execution_count": 0,
      "outputs": []
    },
    {
      "cell_type": "code",
      "metadata": {
        "id": "DT6k8Q9k8y4M",
        "colab_type": "code",
        "colab": {}
      },
      "source": [
        "len(df1.Tweets[13])"
      ],
      "execution_count": 0,
      "outputs": []
    },
    {
      "cell_type": "code",
      "metadata": {
        "id": "b1YetproONB8",
        "colab_type": "code",
        "colab": {}
      },
      "source": [
        "# Initialize spacy 'en' model, keeping only tagger component (for efficiency)\n",
        "# python3 -m spacy download en\n",
        "nlp = spacy.load('en', disable=['parser', 'ner'])"
      ],
      "execution_count": 0,
      "outputs": []
    },
    {
      "cell_type": "code",
      "metadata": {
        "id": "BGYZjADgNBKx",
        "colab_type": "code",
        "colab": {}
      },
      "source": [
        "# Do lemmatization keeping only noun, adj, vb, adv\n",
        "df1.Tweets = lemmatization(df1.Tweets, allowed_postags=['NOUN','ADJ','VERB','ADV'])\n",
        "len(df1['Tweets'])"
      ],
      "execution_count": 0,
      "outputs": []
    },
    {
      "cell_type": "code",
      "metadata": {
        "id": "zv1iDKJ97KFx",
        "colab_type": "code",
        "colab": {}
      },
      "source": [
        "df1.Tweets = remove_stopwords(df1.Tweets)"
      ],
      "execution_count": 0,
      "outputs": []
    },
    {
      "cell_type": "code",
      "metadata": {
        "id": "dvlbqh4Qfvdv",
        "colab_type": "code",
        "colab": {}
      },
      "source": [
        "#Write the Lammetized data into a CSV file\n",
        "df1.to_csv('Final_lammetized.csv')"
      ],
      "execution_count": 0,
      "outputs": []
    },
    {
      "cell_type": "markdown",
      "metadata": {
        "id": "UkRrn8olJbzS",
        "colab_type": "text"
      },
      "source": [
        "**Creating strlist for tfidf Vectorizer**"
      ]
    },
    {
      "cell_type": "code",
      "metadata": {
        "id": "f-rDaGtoxKCg",
        "colab_type": "code",
        "colab": {}
      },
      "source": [
        "#Creating a strlist for tf-idf vectorizer\n",
        "tweetsList =[]\n",
        "def listToString(s):\n",
        "    str1 = \" \"    \n",
        "    return (str1.join(s))"
      ],
      "execution_count": 0,
      "outputs": []
    },
    {
      "cell_type": "code",
      "metadata": {
        "id": "CT5OqffyxKFJ",
        "colab_type": "code",
        "colab": {}
      },
      "source": [
        "for strlist in df1.Tweets:\n",
        "    strg = listToString(strlist)\n",
        "    tweetsList.append(strg)\n",
        "print(tweetsList[0:50])"
      ],
      "execution_count": 0,
      "outputs": []
    },
    {
      "cell_type": "code",
      "metadata": {
        "id": "D45f83n0yfc6",
        "colab_type": "code",
        "colab": {}
      },
      "source": [
        "from sklearn.feature_extraction.text import TfidfVectorizer"
      ],
      "execution_count": 0,
      "outputs": []
    },
    {
      "cell_type": "code",
      "metadata": {
        "id": "UNwPFrBFyYrX",
        "colab_type": "code",
        "colab": {}
      },
      "source": [
        "vec = TfidfVectorizer(max_features=10000)"
      ],
      "execution_count": 0,
      "outputs": []
    },
    {
      "cell_type": "code",
      "metadata": {
        "id": "RPLsfz5Kyb3V",
        "colab_type": "code",
        "colab": {}
      },
      "source": [
        "#Putting the tfidf matrix into a pandas dataframe\n",
        "tfidf_df = pd.DataFrame(data=vec.fit_transform(tweetsList).todense(), columns=vec.get_feature_names())"
      ],
      "execution_count": 0,
      "outputs": []
    },
    {
      "cell_type": "code",
      "metadata": {
        "id": "ZeDYEbKjHUp5",
        "colab_type": "code",
        "colab": {}
      },
      "source": [
        "#Concatenating the original dataset and the tfidf vector matrix for classifier\n",
        "df2=df1.iloc[:,[0,1]]\n",
        "df_res = pd.concat([tfidf_df, df2], axis=1, sort=False)"
      ],
      "execution_count": 0,
      "outputs": []
    },
    {
      "cell_type": "code",
      "metadata": {
        "id": "6-DH9DKmHWjS",
        "colab_type": "code",
        "colab": {}
      },
      "source": [
        "df_res.shape"
      ],
      "execution_count": 0,
      "outputs": []
    },
    {
      "cell_type": "code",
      "metadata": {
        "id": "_Mwp2503QF6t",
        "colab_type": "code",
        "colab": {}
      },
      "source": [
        "df_res[:-1]"
      ],
      "execution_count": 0,
      "outputs": []
    },
    {
      "cell_type": "code",
      "metadata": {
        "id": "jKaBP5wePMAJ",
        "colab_type": "code",
        "colab": {}
      },
      "source": [
        "df_res.iloc[:,10000]"
      ],
      "execution_count": 0,
      "outputs": []
    },
    {
      "cell_type": "markdown",
      "metadata": {
        "id": "Ad5zx95DKOS8",
        "colab_type": "text"
      },
      "source": [
        "**Train and Test Data split based on 70-30 ratio**"
      ]
    },
    {
      "cell_type": "code",
      "metadata": {
        "id": "rYk2o8sGuLXX",
        "colab_type": "code",
        "colab": {}
      },
      "source": [
        "from sklearn.model_selection import train_test_split\n",
        "X_train, X_test, y_train, y_test = train_test_split(df_res.iloc[:,0:9999],df_res['Ptsd'], test_size=0.3, random_state=1)"
      ],
      "execution_count": 0,
      "outputs": []
    },
    {
      "cell_type": "code",
      "metadata": {
        "id": "eUs8z7ZIHohN",
        "colab_type": "code",
        "outputId": "edfcb07b-31ca-4073-8d7d-65b75367226e",
        "colab": {
          "base_uri": "https://localhost:8080/",
          "height": 34
        }
      },
      "source": [
        "X_train.shape"
      ],
      "execution_count": 0,
      "outputs": [
        {
          "output_type": "execute_result",
          "data": {
            "text/plain": [
              "(78, 9999)"
            ]
          },
          "metadata": {
            "tags": []
          },
          "execution_count": 113
        }
      ]
    },
    {
      "cell_type": "code",
      "metadata": {
        "id": "zcy2yVXKHokH",
        "colab_type": "code",
        "outputId": "2ecf59c4-8658-4399-c883-d62eb3ea996d",
        "colab": {
          "base_uri": "https://localhost:8080/",
          "height": 34
        }
      },
      "source": [
        "X_test.shape"
      ],
      "execution_count": 0,
      "outputs": [
        {
          "output_type": "execute_result",
          "data": {
            "text/plain": [
              "(34, 9999)"
            ]
          },
          "metadata": {
            "tags": []
          },
          "execution_count": 114
        }
      ]
    },
    {
      "cell_type": "code",
      "metadata": {
        "id": "3F4d69P5Homc",
        "colab_type": "code",
        "outputId": "c2a16fc5-ae83-4c0e-b3f3-a7c44b4f424d",
        "colab": {
          "base_uri": "https://localhost:8080/",
          "height": 34
        }
      },
      "source": [
        "y_test.shape"
      ],
      "execution_count": 0,
      "outputs": [
        {
          "output_type": "execute_result",
          "data": {
            "text/plain": [
              "(34,)"
            ]
          },
          "metadata": {
            "tags": []
          },
          "execution_count": 115
        }
      ]
    },
    {
      "cell_type": "code",
      "metadata": {
        "id": "AaailvivO7g7",
        "colab_type": "code",
        "outputId": "a7d0763a-0894-4262-c57b-d8c88db4ae33",
        "colab": {
          "base_uri": "https://localhost:8080/",
          "height": 34
        }
      },
      "source": [
        "y_train.shape"
      ],
      "execution_count": 0,
      "outputs": [
        {
          "output_type": "execute_result",
          "data": {
            "text/plain": [
              "(78,)"
            ]
          },
          "metadata": {
            "tags": []
          },
          "execution_count": 116
        }
      ]
    },
    {
      "cell_type": "markdown",
      "metadata": {
        "id": "OUfEblKCnBiZ",
        "colab_type": "text"
      },
      "source": [
        "**LOGISTIC REGRESSION MODEL WITH K-FOLD CROSS VALIDATION**"
      ]
    },
    {
      "cell_type": "code",
      "metadata": {
        "id": "5Z8-6AlqnE6k",
        "colab_type": "code",
        "colab": {}
      },
      "source": [
        "from sklearn.linear_model.logistic import LogisticRegression\n",
        "logReg = LogisticRegression()"
      ],
      "execution_count": 0,
      "outputs": []
    },
    {
      "cell_type": "code",
      "metadata": {
        "id": "J_mfDkTLnJnM",
        "colab_type": "code",
        "outputId": "162fa93a-3ae0-467a-9368-4310fcb4f098",
        "colab": {
          "base_uri": "https://localhost:8080/",
          "height": 102
        }
      },
      "source": [
        "logReg.fit(X_train,y_train)"
      ],
      "execution_count": 0,
      "outputs": [
        {
          "output_type": "execute_result",
          "data": {
            "text/plain": [
              "LogisticRegression(C=1.0, class_weight=None, dual=False, fit_intercept=True,\n",
              "                   intercept_scaling=1, l1_ratio=None, max_iter=100,\n",
              "                   multi_class='auto', n_jobs=None, penalty='l2',\n",
              "                   random_state=None, solver='lbfgs', tol=0.0001, verbose=0,\n",
              "                   warm_start=False)"
            ]
          },
          "metadata": {
            "tags": []
          },
          "execution_count": 63
        }
      ]
    },
    {
      "cell_type": "code",
      "metadata": {
        "id": "JFF9B9eznoiI",
        "colab_type": "code",
        "colab": {}
      },
      "source": [
        "from sklearn.model_selection import train_test_split, cross_val_score"
      ],
      "execution_count": 0,
      "outputs": []
    },
    {
      "cell_type": "markdown",
      "metadata": {
        "id": "Ap9j7DezKb0C",
        "colab_type": "text"
      },
      "source": [
        "**Model Validation on the Test data**"
      ]
    },
    {
      "cell_type": "code",
      "metadata": {
        "id": "xFTo1wlHnZtc",
        "colab_type": "code",
        "colab": {}
      },
      "source": [
        "scores = cross_val_score(logReg, X_test, y_test, cv=5)"
      ],
      "execution_count": 0,
      "outputs": []
    },
    {
      "cell_type": "code",
      "metadata": {
        "id": "HC8gwi8PnwwD",
        "colab_type": "code",
        "outputId": "e376e9e1-58cf-4dd0-94c9-44ba1f16db40",
        "colab": {
          "base_uri": "https://localhost:8080/",
          "height": 34
        }
      },
      "source": [
        "print(\"Accuracy is\", scores.mean()*100, \"percent\")"
      ],
      "execution_count": 0,
      "outputs": [
        {
          "output_type": "stream",
          "text": [
            "Accuracy is 70.47619047619047 percent\n"
          ],
          "name": "stdout"
        }
      ]
    },
    {
      "cell_type": "code",
      "metadata": {
        "id": "Xf1NELEwLDzO",
        "colab_type": "code",
        "colab": {}
      },
      "source": [
        "predictions = logReg.predict(X_test)"
      ],
      "execution_count": 0,
      "outputs": []
    },
    {
      "cell_type": "code",
      "metadata": {
        "id": "aQRoSb-tLGgc",
        "colab_type": "code",
        "colab": {}
      },
      "source": [
        "pred_score = logReg.score(X_test, y_test)\n",
        "print(pred_score*100)"
      ],
      "execution_count": 0,
      "outputs": []
    },
    {
      "cell_type": "markdown",
      "metadata": {
        "id": "0dbsjWE3Kn52",
        "colab_type": "text"
      },
      "source": [
        "**CONFUSION MATRIX**"
      ]
    },
    {
      "cell_type": "code",
      "metadata": {
        "id": "BCu7McOiIgXp",
        "colab_type": "code",
        "colab": {}
      },
      "source": [
        "import matplotlib.pyplot as plt\n",
        "import seaborn as sns\n",
        "from sklearn import metrics"
      ],
      "execution_count": 0,
      "outputs": []
    },
    {
      "cell_type": "code",
      "metadata": {
        "id": "UTfLzH9RMOuW",
        "colab_type": "code",
        "outputId": "e658485c-fd56-46f9-e7d3-37840c2c8d09",
        "colab": {
          "base_uri": "https://localhost:8080/",
          "height": 51
        }
      },
      "source": [
        "conf = metrics.confusion_matrix(y_test, predictions)\n",
        "print(conf)"
      ],
      "execution_count": 0,
      "outputs": [
        {
          "output_type": "stream",
          "text": [
            "[[ 4  6]\n",
            " [ 0 24]]\n"
          ],
          "name": "stdout"
        }
      ]
    },
    {
      "cell_type": "code",
      "metadata": {
        "id": "J5r9_hmCIoAQ",
        "colab_type": "code",
        "outputId": "497f0958-f2c5-4b46-cac0-3e3c22f26557",
        "colab": {
          "base_uri": "https://localhost:8080/",
          "height": 526
        }
      },
      "source": [
        "plt.figure(figsize=(9,9))\n",
        "sns.heatmap(conf, annot=True, fmt=\".3f\", linewidths=.5, square = True, cmap = 'Blues_r');\n",
        "plt.ylabel('Actual label');\n",
        "plt.xlabel('Predicted label');\n",
        "all_sample_title = 'Accuracy Score: {0}'.format(score)\n",
        "plt.title(all_sample_title, size = 15);"
      ],
      "execution_count": 0,
      "outputs": [
        {
          "output_type": "display_data",
          "data": {
            "image/png": "[encoded data removed]",
            "text/plain": [
              "<Figure size 648x648 with 2 Axes>"
            ]
          },
          "metadata": {
            "tags": [],
            "needs_background": "light"
          }
        }
      ]
    }
  ]
}